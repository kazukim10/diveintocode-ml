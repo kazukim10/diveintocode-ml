{
 "cells": [
  {
   "cell_type": "markdown",
   "metadata": {},
   "source": [
    "# Sprint 深層学習スクラッチ ディープニューラルネットワーク"
   ]
  },
  {
   "cell_type": "markdown",
   "metadata": {
    "toc": true
   },
   "source": [
    "<h1>目次<span class=\"tocSkip\"></span></h1>\n",
    "<div class=\"toc\"><ul class=\"toc-item\"><li><span><a href=\"#このSprintについて\" data-toc-modified-id=\"このSprintについて-1\"><span class=\"toc-item-num\">1&nbsp;&nbsp;</span>このSprintについて</a></span><ul class=\"toc-item\"><li><span><a href=\"#Sprintの目的\" data-toc-modified-id=\"Sprintの目的-1.1\"><span class=\"toc-item-num\">1.1&nbsp;&nbsp;</span>Sprintの目的</a></span></li><li><span><a href=\"#どのように学ぶか\" data-toc-modified-id=\"どのように学ぶか-1.2\"><span class=\"toc-item-num\">1.2&nbsp;&nbsp;</span>どのように学ぶか</a></span></li></ul></li><li><span><a href=\"#ディープニューラルネットワークスクラッチ\" data-toc-modified-id=\"ディープニューラルネットワークスクラッチ-2\"><span class=\"toc-item-num\">2&nbsp;&nbsp;</span>ディープニューラルネットワークスクラッチ</a></span><ul class=\"toc-item\"><li><span><a href=\"#層などのクラス化\" data-toc-modified-id=\"層などのクラス化-2.1\"><span class=\"toc-item-num\">2.1&nbsp;&nbsp;</span>層などのクラス化</a></span><ul class=\"toc-item\"><li><span><a href=\"#手を加える箇所\" data-toc-modified-id=\"手を加える箇所-2.1.1\"><span class=\"toc-item-num\">2.1.1&nbsp;&nbsp;</span>手を加える箇所</a></span></li></ul></li><li><span><a href=\"#【問題1】全結合層のクラス化\" data-toc-modified-id=\"【問題1】全結合層のクラス化-2.2\"><span class=\"toc-item-num\">2.2&nbsp;&nbsp;</span>【問題1】全結合層のクラス化</a></span></li><li><span><a href=\"#【問題2】初期化方法のクラス化\" data-toc-modified-id=\"【問題2】初期化方法のクラス化-2.3\"><span class=\"toc-item-num\">2.3&nbsp;&nbsp;</span>【問題2】初期化方法のクラス化</a></span></li><li><span><a href=\"#【問題3】最適化手法のクラス化\" data-toc-modified-id=\"【問題3】最適化手法のクラス化-2.4\"><span class=\"toc-item-num\">2.4&nbsp;&nbsp;</span>【問題3】最適化手法のクラス化</a></span></li><li><span><a href=\"#【問題4】活性化関数のクラス化\" data-toc-modified-id=\"【問題4】活性化関数のクラス化-2.5\"><span class=\"toc-item-num\">2.5&nbsp;&nbsp;</span>【問題4】活性化関数のクラス化</a></span></li><li><span><a href=\"#【問題5】ReLUクラスの作成\" data-toc-modified-id=\"【問題5】ReLUクラスの作成-2.6\"><span class=\"toc-item-num\">2.6&nbsp;&nbsp;</span>【問題5】ReLUクラスの作成</a></span></li><li><span><a href=\"#【問題6】重みの初期値\" data-toc-modified-id=\"【問題6】重みの初期値-2.7\"><span class=\"toc-item-num\">2.7&nbsp;&nbsp;</span>【問題6】重みの初期値</a></span></li><li><span><a href=\"#【問題7】最適化手法\" data-toc-modified-id=\"【問題7】最適化手法-2.8\"><span class=\"toc-item-num\">2.8&nbsp;&nbsp;</span>【問題7】最適化手法</a></span></li><li><span><a href=\"#【問題8】クラスの完成\" data-toc-modified-id=\"【問題8】クラスの完成-2.9\"><span class=\"toc-item-num\">2.9&nbsp;&nbsp;</span>【問題8】クラスの完成</a></span></li><li><span><a href=\"#【問題9】学習と推定\" data-toc-modified-id=\"【問題9】学習と推定-2.10\"><span class=\"toc-item-num\">2.10&nbsp;&nbsp;</span>【問題9】学習と推定</a></span><ul class=\"toc-item\"><li><span><a href=\"#検証１　\" data-toc-modified-id=\"検証１　-2.10.1\"><span class=\"toc-item-num\">2.10.1&nbsp;&nbsp;</span>検証１　</a></span></li><li><span><a href=\"#検証２\" data-toc-modified-id=\"検証２-2.10.2\"><span class=\"toc-item-num\">2.10.2&nbsp;&nbsp;</span>検証２</a></span></li><li><span><a href=\"#検証３\" data-toc-modified-id=\"検証３-2.10.3\"><span class=\"toc-item-num\">2.10.3&nbsp;&nbsp;</span>検証３</a></span></li></ul></li><li><span><a href=\"#検証４\" data-toc-modified-id=\"検証４-2.11\"><span class=\"toc-item-num\">2.11&nbsp;&nbsp;</span>検証４</a></span></li><li><span><a href=\"#検証（インスタンスのコピー）\" data-toc-modified-id=\"検証（インスタンスのコピー）-2.12\"><span class=\"toc-item-num\">2.12&nbsp;&nbsp;</span>検証（インスタンスのコピー）</a></span></li></ul></li></ul></div>"
   ]
  },
  {
   "cell_type": "markdown",
   "metadata": {},
   "source": [
    "## このSprintについて\n",
    "### Sprintの目的\n",
    "* スクラッチを通してニューラルネットワークの発展的内容を理解する\n",
    "\n",
    "### どのように学ぶか\n",
    "スクラッチで作成したニューラルネットワークの実装を拡張していきます。"
   ]
  },
  {
   "cell_type": "markdown",
   "metadata": {},
   "source": [
    "## ディープニューラルネットワークスクラッチ\n",
    "前回は3層のニューラルネットワークを作成しましたが、今回はこれを任意の層数に拡張しやすいものに書き換えていきます。その上で、活性化関数や初期値、最適化手法について発展的なものを扱えるようにしていきます。\n",
    "  \n",
    "このようなスクラッチを行うことで、今後各種フレームワークを利用していくにあたり、内部の動きが想像できることを目指します。\n",
    "\n",
    "名前は新しくScratchDeepNeuralNetworkClassifierクラスとしてください。\n",
    "\n",
    "### 層などのクラス化\n",
    "クラスにまとめて行くことで、構成を変更しやすい実装にしていきます。\n",
    "\n",
    "#### 手を加える箇所\n",
    "\n",
    "* 層の数\n",
    "* 層の種類（今後畳み込み層など他のタイプの層が登場する）\n",
    "* 活性化関数の種類\n",
    "* 重みやバイアスの初期化方法\n",
    "* 最適化手法\n",
    "\n",
    "そのために、全結合層、各種活性化関数、重みやバイアスの初期化、最適化手法それぞれのクラスを作成します。\n",
    "\n",
    "実装方法は自由ですが、簡単な例を紹介します。サンプルコード1のように全結合層と活性化関数のインスタンスを作成し、サンプルコード2,3のようにして使用します。それぞれのクラスについてはこのあと解説します。"
   ]
  },
  {
   "cell_type": "code",
   "execution_count": 92,
   "metadata": {},
   "outputs": [],
   "source": [
    "# インポート\n",
    "import numpy as np\n",
    "import matplotlib.pyplot as plt"
   ]
  },
  {
   "cell_type": "code",
   "execution_count": 93,
   "metadata": {},
   "outputs": [],
   "source": [
    "# 評価指標\n",
    "from sklearn.metrics import accuracy_score\n",
    "from sklearn.metrics import precision_score\n",
    "from sklearn.metrics import recall_score\n",
    "from sklearn.metrics import f1_score"
   ]
  },
  {
   "cell_type": "code",
   "execution_count": 94,
   "metadata": {},
   "outputs": [],
   "source": [
    "# データセットをダウンロード\n",
    "from keras.datasets import mnist\n",
    "(X, y), (X_test, y_test) = mnist.load_data()"
   ]
  },
  {
   "cell_type": "code",
   "execution_count": 95,
   "metadata": {},
   "outputs": [
    {
     "name": "stdout",
     "output_type": "stream",
     "text": [
      "(60000, 28, 28)\n",
      "(60000, 28, 28)\n",
      "uint8\n"
     ]
    }
   ],
   "source": [
    "# データの確認\n",
    "print(X.shape) # (60000, 28, 28)\n",
    "print(X.shape) # (10000, 28, 28)\n",
    "print(X[0].dtype) # uint8"
   ]
  },
  {
   "cell_type": "code",
   "execution_count": 96,
   "metadata": {},
   "outputs": [
    {
     "name": "stdout",
     "output_type": "stream",
     "text": [
      "(60000, 784)\n",
      "(10000, 784)\n"
     ]
    }
   ],
   "source": [
    "# 平滑化\n",
    "X_flat = X.reshape(-1, 784)\n",
    "X_test_flat = X_test.reshape(-1, 784)\n",
    "print(X_flat.shape)\n",
    "print(X_test_flat.shape)"
   ]
  },
  {
   "cell_type": "code",
   "execution_count": 97,
   "metadata": {},
   "outputs": [
    {
     "name": "stdout",
     "output_type": "stream",
     "text": [
      "1.0\n",
      "0.0\n"
     ]
    }
   ],
   "source": [
    "# 型変換、正規化\n",
    "X_flat = X_flat.astype(np.float)\n",
    "X_test_flat = X_test_flat.astype(np.float)\n",
    "X_flat /= 255\n",
    "X_test_flat /= 255\n",
    "print(X_flat.max()) # 1.0\n",
    "print(X_flat.min()) # 0.0"
   ]
  },
  {
   "cell_type": "code",
   "execution_count": 98,
   "metadata": {},
   "outputs": [
    {
     "name": "stdout",
     "output_type": "stream",
     "text": [
      "(60000,)\n",
      "(60000, 10)\n",
      "float64\n"
     ]
    }
   ],
   "source": [
    "# 正解ラベル値をone-hotエンコーディング\n",
    "from sklearn.preprocessing import OneHotEncoder\n",
    "\n",
    "enc = OneHotEncoder(handle_unknown='ignore', sparse=False)\n",
    "y_one_hot = enc.fit_transform(y[:, np.newaxis])\n",
    "y_test_one_hot = enc.transform(y_test[:, np.newaxis])\n",
    "print(y.shape) # (60000,)\n",
    "print(y_one_hot.shape) # (60000, 10)\n",
    "print(y_one_hot.dtype) # float64"
   ]
  },
  {
   "cell_type": "code",
   "execution_count": 99,
   "metadata": {},
   "outputs": [
    {
     "name": "stdout",
     "output_type": "stream",
     "text": [
      "(48000, 784)\n",
      "(12000, 784)\n",
      "(48000, 10)\n",
      "(12000, 10)\n"
     ]
    }
   ],
   "source": [
    "# 訓練データと、検証データに分割\n",
    "from sklearn.model_selection import train_test_split\n",
    "\n",
    "X_train, X_valid, y_train, y_valid = train_test_split(X_flat, y_one_hot, test_size=0.2)\n",
    "print(X_train.shape)\n",
    "print(X_valid.shape)\n",
    "print(y_train.shape)\n",
    "print(y_valid.shape)"
   ]
  },
  {
   "cell_type": "code",
   "execution_count": 100,
   "metadata": {},
   "outputs": [],
   "source": [
    "# スクラッチ　ディープニューラルネットワーク（とりあえず,3層 NN）\n",
    "class ScratchDeepNeuralNetworkClassifier():\n",
    "    \"\"\"\n",
    "    N層ニューラルネットワーク分類器\n",
    "    Parameters\n",
    "    ----------\n",
    "    self.sigma : ガウス分布の標準偏差\n",
    "    self.lr : 学習率\n",
    "    self.n_nodes1 : 1層目のノード数\n",
    "    self.n_nodes2 : 2層目のノード数\n",
    "    self.n_output : 出力層のノード数\n",
    "    \n",
    "    self.n_epoch : エポック数\n",
    "    self.n_batch : バッチ数\n",
    "    self.verbose : 学習過程を可視化\n",
    "    Attributes\n",
    "    ----------\n",
    "    \"\"\"\n",
    "    def __init__(self, n_features, n_nodes1, n_nodes2, n_output,\n",
    "                 sigma, n_epoch, n_batch, lr, verbose = False):\n",
    "        #　パラメータ\n",
    "        self.n_features = n_features\n",
    "        self.n_nodes1 = n_nodes1\n",
    "        self.n_nodes2 = n_nodes2\n",
    "        self.n_output = n_output\n",
    "        self.sigma = sigma\n",
    "        self.n_epoch = n_epoch\n",
    "        self.n_batch = n_batch\n",
    "        self.lr = lr\n",
    "        self.verbose = verbose\n",
    "        self.log_loss = np.zeros(self.n_epoch)\n",
    "        \n",
    "    def loss_function(self,y,yt):\n",
    "        delta = 1e-7\n",
    "        return -np.mean(yt*np.log(y+delta))\n",
    "                \n",
    "    def fit(self, X, y, X_val=False, y_val=False):\n",
    "        \"\"\"\n",
    "        ニューラルネットワーク分類器を学習する。\n",
    "\n",
    "        Parameters\n",
    "        ----------\n",
    "        X : 次の形のndarray, shape (n_samples, n_features)\n",
    "            訓練データの特徴量\n",
    "        y : 次の形のndarray, shape (n_samples, )\n",
    "            訓練データの正解値\n",
    "        X_val : 次の形のndarray, shape (n_samples, n_features)\n",
    "            検証データの特徴量\n",
    "        y_val : 次の形のndarray, shape (n_samples, )\n",
    "            検証データの正解値\n",
    "        \"\"\"\n",
    "        \n",
    "        optimizer1 = AdaGrad(self.lr)\n",
    "        optimizer2 = AdaGrad(self.lr)\n",
    "        optimizer3 = AdaGrad(self.lr)\n",
    "        \n",
    "        initializer1 = XavierInitializer()\n",
    "        initializer2 = XavierInitializer()\n",
    "        initializer3 = SimpleInitializer(self.sigma)\n",
    "        \n",
    "        self.FC1 = FC(self.n_features, self.n_nodes1, initializer1, optimizer1, Tanh())\n",
    "        self.FC2 = FC(self.n_nodes1, self.n_nodes2, initializer2, optimizer2, Tanh())\n",
    "        self.FC3 = FC(self.n_nodes2, self.n_output, initializer3, optimizer3, Softmax())\n",
    "        \n",
    "        for epoch in range(self.n_epoch):\n",
    "            # ミニバッチ処理\n",
    "            get_mini_batch = GetMiniBatch(X, y, batch_size=self.n_batch)\n",
    "            \n",
    "            self.loss = 0\n",
    "            for mini_X_train, mini_y_train in get_mini_batch:\n",
    "                \n",
    "                # 順伝播\n",
    "                self.Z1 = self.FC1.forward(mini_X_train)\n",
    "                self.Z2 = self.FC2.forward(self.Z1)\n",
    "                self.Z3 = self.FC3.forward(self.Z2)    \n",
    "                \n",
    "                # 逆伝播\n",
    "                self.dA3 = (self.Z3 - mini_y_train)/self.n_batch\n",
    "                self.dZ2 = self.FC3.backward(self.dA3)\n",
    "                self.dZ1 = self.FC2.backward(self.dZ2)\n",
    "                self.dZ0 = self.FC1.backward(self.dZ1)\n",
    "                \n",
    "                # 損失関数\n",
    "                self.loss += self.loss_function(self.Z3,mini_y_train)\n",
    "                \n",
    "            self.log_loss[epoch] = self.loss/len(get_mini_batch)\n",
    "            \n",
    "    def predict(self, X):\n",
    "        \"\"\"\n",
    "        ニューラルネットワーク分類器を使い推定する。\n",
    "\n",
    "        Parameters\n",
    "        ----------\n",
    "        X : 次の形のndarray, shape (n_samples, n_features)\n",
    "            サンプル\n",
    "\n",
    "        Returns\n",
    "        -------\n",
    "            次の形のndarray, shape (n_samples, 1)\n",
    "            推定結果\n",
    "        \"\"\"\n",
    "        pred_Z1 = self.FC1.forward(X)\n",
    "        pred_Z2 = self.FC2.forward(pred_Z1)\n",
    "        return np.argmax(self.FC3.forward(pred_Z2),axis=1)"
   ]
  },
  {
   "cell_type": "code",
   "execution_count": 101,
   "metadata": {},
   "outputs": [],
   "source": [
    "# ミニバッチ処理のクラス\n",
    "class GetMiniBatch:\n",
    "    \"\"\"\n",
    "    ミニバッチを取得するイテレータ\n",
    "\n",
    "    Parameters\n",
    "    ----------\n",
    "    X : 次の形のndarray, shape (n_samples, n_features)\n",
    "      訓練データ\n",
    "    y : 次の形のndarray, shape (n_samples, 1)\n",
    "      正解値\n",
    "    batch_size : int\n",
    "      バッチサイズ\n",
    "    seed : int\n",
    "      NumPyの乱数のシード\n",
    "    \"\"\"\n",
    "    def __init__(self, X, y, batch_size = 20, seed=None):\n",
    "        self.batch_size = batch_size\n",
    "        np.random.seed(seed)\n",
    "        shuffle_index = np.random.permutation(np.arange(X.shape[0]))\n",
    "        self._X = X[shuffle_index]\n",
    "        self._y = y[shuffle_index]\n",
    "        self._stop = np.ceil(X.shape[0]/self.batch_size).astype(np.int)\n",
    "        \n",
    "    def __len__(self):\n",
    "        return self._stop\n",
    "    \n",
    "    def __getitem__(self,item):\n",
    "        p0 = item*self.batch_size\n",
    "        p1 = item*self.batch_size + self.batch_size\n",
    "        return self._X[p0:p1], self._y[p0:p1] \n",
    "    \n",
    "    def __iter__(self):\n",
    "        self._counter = 0\n",
    "        return self\n",
    "    \n",
    "    def __next__(self):\n",
    "        if self._counter >= self._stop:\n",
    "            raise StopIteration()\n",
    "        p0 = self._counter*self.batch_size\n",
    "        p1 = self._counter*self.batch_size + self.batch_size\n",
    "        self._counter += 1\n",
    "        return self._X[p0:p1], self._y[p0:p1]"
   ]
  },
  {
   "cell_type": "markdown",
   "metadata": {},
   "source": [
    "### 【問題1】全結合層のクラス化\n",
    "全結合層のクラス化を行なってください。\n",
    "  \n",
    "以下に雛形を載せました。コンストラクタで重みやバイアスの初期化をして、あとはフォワードとバックワードのメソッドを用意します。重みW、バイアスB、およびフォワード時の入力Xをインスタンス変数として保持しておくことで、煩雑な入出力は不要になります。\n",
    "  \n",
    "なお、インスタンスも引数として渡すことができます。そのため、初期化方法のインスタンスinitializerをコンストラクタで受け取れば、それにより初期化が行われます。渡すインスタンスを変えれば、初期化方法が変えられます。  \n",
    "  \n",
    "また、引数として自身のインスタンスselfを渡すこともできます。これを利用してself.optimizer.update(self)という風に層の重みの更新が可能です。更新に必要な値は複数ありますが、全て全結合層が持つインスタンス変数にすることができます。\n",
    "\n",
    "初期化方法と最適化手法のクラスについては後述します。"
   ]
  },
  {
   "cell_type": "code",
   "execution_count": 102,
   "metadata": {},
   "outputs": [],
   "source": [
    "class FC:\n",
    "    \"\"\"\n",
    "    ノード数n_nodes1からn_nodes2への全結合層\n",
    "    Parameters\n",
    "    ----------\n",
    "    n_nodes1 : int\n",
    "      前の層のノード数\n",
    "    n_nodes2 : int\n",
    "      後の層のノード数\n",
    "    initializer : 初期化方法のインスタンス\n",
    "    optimizer : 最適化手法のインスタンス\n",
    "    \"\"\"\n",
    "    def __init__(self, n_nodes1, n_nodes2, initializer, optimizer, activation):\n",
    "        \n",
    "        self.n_nodes1 = n_nodes1\n",
    "        self.n_nodes2 = n_nodes2\n",
    "        self.initializer = initializer\n",
    "        self.optimizer = optimizer\n",
    "        self.activation = activation\n",
    "        # 初期化\n",
    "        # initializerのメソッドを使い、self.Wとself.Bを初期化する\n",
    "        self.W = self.initializer.W(self.n_nodes1,self.n_nodes2)\n",
    "        self.B = self.initializer.B(self.n_nodes2)\n",
    "        \n",
    "    def forward(self, X):\n",
    "        \"\"\"\n",
    "        フォワード\n",
    "        Parameters\n",
    "        ----------\n",
    "        X : 次の形のndarray, shape (batch_size, n_nodes1)\n",
    "            入力\n",
    "        Returns\n",
    "        ----------\n",
    "        A : 次の形のndarray, shape (batch_size, n_nodes2)\n",
    "            出力\n",
    "        \"\"\"\n",
    "        self.X = X\n",
    "        self.A = np.dot(self.X,self.W) + self.B\n",
    "        \n",
    "        return self.activation.forward(self.A)\n",
    "    \n",
    "    def backward(self, dZ):\n",
    "        \"\"\"\n",
    "        バックワード\n",
    "        Parameters\n",
    "        ----------\n",
    "        dA : 次の形のndarray, shape (batch_size, n_nodes2)\n",
    "            後ろから流れてきた勾配\n",
    "        Returns\n",
    "        ----------\n",
    "        dZ : 次の形のndarray, shape (batch_size, n_nodes1)\n",
    "            前に流す勾配\n",
    "        \"\"\"\n",
    "        dA = self.activation.backward(dZ)\n",
    "        self.dB = np.mean(dA,axis=0)\n",
    "        self.dW = np.dot(self.X.T,dA)/len(self.X)\n",
    "        dZ = np.dot(dA,self.W.T)\n",
    "        \n",
    "        # 更新\n",
    "        self = self.optimizer.update(self)\n",
    "        \n",
    "        return dZ"
   ]
  },
  {
   "cell_type": "markdown",
   "metadata": {},
   "source": [
    "### 【問題2】初期化方法のクラス化\n",
    "初期化を行うコードをクラス化してください。\n",
    "\n",
    "前述のように、全結合層のコンストラクタに初期化方法のインスタンスを渡せるようにします。以下の雛形に必要なコードを書き加えていってください。標準偏差の値（sigma）はコンストラクタで受け取るようにすることで、全結合層のクラス内にこの値（sigma）を渡さなくてすむようになります。\n",
    "\n",
    "これまで扱ってきた初期化方法はSimpleInitializerクラスと名付けることにします。"
   ]
  },
  {
   "cell_type": "code",
   "execution_count": 103,
   "metadata": {},
   "outputs": [],
   "source": [
    "class SimpleInitializer:\n",
    "    \"\"\"\n",
    "    ガウス分布によるシンプルな初期化\n",
    "    Parameters\n",
    "    ----------\n",
    "    sigma : float\n",
    "      ガウス分布の標準偏差\n",
    "    \"\"\"\n",
    "    def __init__(self, sigma):\n",
    "        self.sigma = sigma\n",
    "        \n",
    "    def W(self, n_nodes1, n_nodes2):\n",
    "        \"\"\"\n",
    "        重みの初期化\n",
    "        Parameters\n",
    "        ----------\n",
    "        n_nodes1 : int\n",
    "          前の層のノード数\n",
    "        n_nodes2 : int\n",
    "          後の層のノード数\n",
    "\n",
    "        Returns\n",
    "        ----------\n",
    "        W : 重み\n",
    "        \"\"\"\n",
    "        return self.sigma * np.random.randn(n_nodes1, n_nodes2)\n",
    "    \n",
    "    def B(self, n_nodes2):\n",
    "        \"\"\"\n",
    "        バイアスの初期化\n",
    "        Parameters\n",
    "        ----------\n",
    "        n_nodes2 : int\n",
    "          後の層のノード数\n",
    "\n",
    "        Returns\n",
    "        ----------\n",
    "        B : バイアス\n",
    "        \"\"\"\n",
    "        return np.zeros(n_nodes2)"
   ]
  },
  {
   "cell_type": "markdown",
   "metadata": {},
   "source": [
    "### 【問題3】最適化手法のクラス化\n",
    "最適化手法のクラス化を行なってください。\n",
    "\n",
    "最適化手法に関しても初期化方法同様に全結合層にインスタンスとして渡します。バックワードのときにself.optimizer.update(self)のように更新できるようにします。以下の雛形に必要なコードを書き加えていってください。\n",
    "\n",
    "これまで扱ってきた最適化手法はSGDクラス（Stochastic Gradient Descent、確率的勾配降下法）として作成します。"
   ]
  },
  {
   "cell_type": "code",
   "execution_count": 104,
   "metadata": {},
   "outputs": [],
   "source": [
    "class SGD:\n",
    "    \"\"\"\n",
    "    確率的勾配降下法\n",
    "    Parameters\n",
    "    ----------\n",
    "    lr : 学習率\n",
    "    \"\"\"\n",
    "    def __init__(self, lr):\n",
    "        self.lr = lr\n",
    "        \n",
    "    def update(self, layer):\n",
    "        \"\"\"\n",
    "        ある層の重みやバイアスの更新\n",
    "        Parameters\n",
    "        ----------\n",
    "        layer : 更新前の層のインスタンス\n",
    "        \"\"\"\n",
    "        layer.W -= self.lr*layer.dW\n",
    "        layer.B -= self.lr*layer.dB\n",
    "        \n",
    "        return layer"
   ]
  },
  {
   "cell_type": "markdown",
   "metadata": {},
   "source": [
    "### 【問題4】活性化関数のクラス化\n",
    "活性化関数のクラス化を行なってください。\n",
    "\n",
    "ソフトマックス関数のバックプロパゲーションには交差エントロピー誤差の計算も含む実装を行うことで計算が簡略化されます。"
   ]
  },
  {
   "cell_type": "code",
   "execution_count": 105,
   "metadata": {},
   "outputs": [],
   "source": [
    "class Tanh():\n",
    "    \"\"\"\n",
    "    活性化関数 : ハイパボリックタンジェント関数\n",
    "    \"\"\"\n",
    "    def __init__(self):\n",
    "        pass\n",
    "        \n",
    "    def forward(self,A):\n",
    "        self.A = A\n",
    "        self.Z = np.tanh(self.A)\n",
    "        return self.Z\n",
    "    \n",
    "    def backward(self,dZ):\n",
    "        return dZ*(1-self.Z**2)"
   ]
  },
  {
   "cell_type": "code",
   "execution_count": 106,
   "metadata": {},
   "outputs": [],
   "source": [
    "class Sigmoid():\n",
    "    \"\"\"\n",
    "    活性化関数 : シグモイド関数\n",
    "    \"\"\"\n",
    "    def __init__(self):\n",
    "        pass\n",
    "        \n",
    "    def forward(self,A):\n",
    "        self.A = A\n",
    "        self.Z = 1/(1+np.exp(-self.A))\n",
    "        \n",
    "        return self.Z\n",
    "    \n",
    "    def backward(self,dZ):\n",
    "        return dZ*(1-self.Z)*self.Z"
   ]
  },
  {
   "cell_type": "code",
   "execution_count": 107,
   "metadata": {},
   "outputs": [],
   "source": [
    "class Softmax():\n",
    "    \"\"\"\n",
    "    活性化関数 : ソフトマックス関数\n",
    "    \"\"\"\n",
    "    def __init__(self):\n",
    "        pass\n",
    "        \n",
    "    def forward(self,A):\n",
    "        \n",
    "        return np.exp(A-np.max(A))/np.sum(np.exp(A-np.max(A)),axis=1,keepdims=True)\n",
    "    \n",
    "    def backward(self,dZ):\n",
    "        return dZ"
   ]
  },
  {
   "cell_type": "markdown",
   "metadata": {},
   "source": [
    "### 【問題5】ReLUクラスの作成\n",
    "現在一般的に使われている活性化関数であるReLU（Rectified Linear Unit）をReLUクラスとして実装してください。\n",
    "\n",
    "ReLUは以下の数式です。  \n",
    "$f(x) = ReLU(x) = \\begin{cases}\n",
    "x  & \\text{if $x>0$,}\\\\\n",
    "0 & \\text{if $x\\leqq0$.}\n",
    "\\end{cases}$"
   ]
  },
  {
   "cell_type": "code",
   "execution_count": 108,
   "metadata": {},
   "outputs": [],
   "source": [
    "class ReLU():\n",
    "    \"\"\"\n",
    "    活性化関数 : ReLU関数\n",
    "    \"\"\"\n",
    "    def __init__(self):\n",
    "        pass\n",
    "        \n",
    "    def forward(self,A):\n",
    "        self.A = A\n",
    "        return np.maximum(self.A,0)\n",
    "    \n",
    "    def backward(self,dZ):\n",
    "        \n",
    "        return np.where(self.A>0,dZ,0)"
   ]
  },
  {
   "cell_type": "code",
   "execution_count": 109,
   "metadata": {},
   "outputs": [
    {
     "name": "stdout",
     "output_type": "stream",
     "text": [
      "[ 0  0 -1  9  0]\n"
     ]
    }
   ],
   "source": [
    "a = np.array([-1,0,1,9,-1])\n",
    "b = np.array([1,0,-1,9,-1])\n",
    "\n",
    "print(np.where(a<0,0,b))"
   ]
  },
  {
   "cell_type": "markdown",
   "metadata": {},
   "source": [
    "### 【問題6】重みの初期値\n",
    "ここまでは重みやバイアスの初期値は単純にガウス分布で、標準偏差をハイパーパラメータとして扱ってきました。しかし、どのような値にすると良いかが知られています。シグモイド関数やハイパボリックタンジェント関数のときは Xavierの初期値 （またはGlorotの初期値）、ReLUのときは Heの初期値 が使われます。\n",
    "\n",
    "XavierInitializerクラスと、HeInitializerクラスを作成してください。"
   ]
  },
  {
   "cell_type": "code",
   "execution_count": 110,
   "metadata": {},
   "outputs": [],
   "source": [
    "class XavierInitializer():\n",
    "    \"\"\"\n",
    "    Xavierによる重みの初期化\n",
    "    \"\"\"\n",
    "    def __init__(self):\n",
    "        pass\n",
    "        \n",
    "    def W(self, n_nodes1, n_nodes2):\n",
    "        \"\"\"\n",
    "        重みの初期化\n",
    "        Parameters\n",
    "        ----------\n",
    "        n_nodes1 : int\n",
    "          前の層のノード数\n",
    "        n_nodes2 : int\n",
    "          後の層のノード数\n",
    "\n",
    "        Returns\n",
    "        ----------\n",
    "        W : 重み\n",
    "        \"\"\"\n",
    "        return np.random.randn(n_nodes1, n_nodes2)/np.sqrt(n_nodes1)\n",
    "    \n",
    "    def B(self, n_nodes2):\n",
    "        \"\"\"\n",
    "        バイアスの初期化\n",
    "        Parameters\n",
    "        ----------\n",
    "        n_nodes2 : int\n",
    "          後の層のノード数\n",
    "\n",
    "        Returns\n",
    "        ----------\n",
    "        B : バイアス\n",
    "        \"\"\"\n",
    "        return np.zeros(n_nodes2)"
   ]
  },
  {
   "cell_type": "code",
   "execution_count": 111,
   "metadata": {},
   "outputs": [],
   "source": [
    "class HeInitializer():\n",
    "    \"\"\"\n",
    "    Heによる重みの初期化\n",
    "    \"\"\"\n",
    "    def __init__(self):\n",
    "        pass\n",
    "        \n",
    "    def W(self, n_nodes1, n_nodes2):\n",
    "        \"\"\"\n",
    "        重みの初期化\n",
    "        Parameters\n",
    "        ----------\n",
    "        n_nodes1 : int\n",
    "          前の層のノード数\n",
    "        n_nodes2 : int\n",
    "          後の層のノード数\n",
    "\n",
    "        Returns\n",
    "        ----------\n",
    "        W : 重み\n",
    "        \"\"\"\n",
    "        return np.random.randn(n_nodes1, n_nodes2)*np.sqrt(2/n_nodes1)\n",
    "    \n",
    "    def B(self, n_nodes2):\n",
    "        \"\"\"\n",
    "        バイアスの初期化\n",
    "        Parameters\n",
    "        ----------\n",
    "        n_nodes2 : int\n",
    "          後の層のノード数\n",
    "\n",
    "        Returns\n",
    "        ----------\n",
    "        B : バイアス\n",
    "        \"\"\"\n",
    "        return np.zeros(n_nodes2)"
   ]
  },
  {
   "cell_type": "markdown",
   "metadata": {},
   "source": [
    "### 【問題7】最適化手法\n",
    "学習率は学習過程で変化させていく方法が一般的です。  \n",
    "基本的な手法である AdaGrad のクラスを作成してください。"
   ]
  },
  {
   "cell_type": "code",
   "execution_count": 112,
   "metadata": {},
   "outputs": [],
   "source": [
    "class AdaGrad:\n",
    "    \"\"\"\n",
    "    確率的勾配降下法\n",
    "    Parameters\n",
    "    ----------\n",
    "    lr : 学習率\n",
    "    \"\"\"\n",
    "    def __init__(self, lr):\n",
    "        self.lr = lr\n",
    "        self.hW = 0\n",
    "        self.hB = 0\n",
    "        \n",
    "    def update(self, layer):\n",
    "        \"\"\"\n",
    "        ある層の重みやバイアスの更新\n",
    "        Parameters\n",
    "        ----------\n",
    "        layer : 更新前の層のインスタンス\n",
    "        \"\"\"\n",
    "        self.hW += layer.dW*layer.dW\n",
    "        self.hB = layer.dB*layer.dB\n",
    "    \n",
    "        layer.W -= self.lr*layer.dW/(np.sqrt(self.hW) +1e-7)\n",
    "        layer.B -= self.lr*layer.dB/(np.sqrt(self.hB) +1e-7)\n",
    "        \n",
    "        return layer"
   ]
  },
  {
   "cell_type": "markdown",
   "metadata": {},
   "source": [
    "### 【問題8】クラスの完成\n",
    "任意の構成で学習と推定が行えるScratchDeepNeuralNetworkClassifierクラスを完成させてください。"
   ]
  },
  {
   "cell_type": "code",
   "execution_count": 113,
   "metadata": {},
   "outputs": [],
   "source": [
    "clf = ScratchDeepNeuralNetworkClassifier(n_epoch=5, n_features=784,\n",
    "                                         n_nodes1=400, n_nodes2=200, n_output=10,\n",
    "                                         sigma=0.01, n_batch=100,\n",
    "                                         lr = 0.01, verbose = False)\n",
    "\n",
    "clf.fit(X_train,y_train)\n",
    "y_pred = clf.predict(X_valid)"
   ]
  },
  {
   "cell_type": "code",
   "execution_count": 114,
   "metadata": {},
   "outputs": [
    {
     "name": "stdout",
     "output_type": "stream",
     "text": [
      "[9 2 9 ... 8 7 5]\n",
      "accuracy:0.967\n"
     ]
    }
   ],
   "source": [
    "print(y_pred)\n",
    "\n",
    "accuracy = accuracy_score(np.argmax(y_valid,axis=1), y_pred)\n",
    "print('accuracy:{:.3f}'.format(accuracy))"
   ]
  },
  {
   "cell_type": "code",
   "execution_count": 115,
   "metadata": {
    "scrolled": false
   },
   "outputs": [
    {
     "data": {
      "image/png": "[encoded data removed]",
      "text/plain": [
       "<Figure size 864x576 with 1 Axes>"
      ]
     },
     "metadata": {
      "needs_background": "light"
     },
     "output_type": "display_data"
    }
   ],
   "source": [
    "# epochごとの損失関数の可視化\n",
    "fig = plt.subplots(figsize=(12,8))\n",
    "plt.rcParams[\"font.size\"] = 20\n",
    "\n",
    "plt.title('LOSS')\n",
    "plt.plot(clf.log_loss,'rs--');"
   ]
  },
  {
   "cell_type": "markdown",
   "metadata": {},
   "source": [
    "### 【問題9】学習と推定\n",
    "層の数や活性化関数を変えたいくつかのネットワークを作成してください。\n",
    "そして、MNISTのデータを学習・推定し、Accuracyを計算してください。"
   ]
  },
  {
   "cell_type": "code",
   "execution_count": 116,
   "metadata": {},
   "outputs": [],
   "source": [
    "# スクラッチ　ディープニューラルネットワーク（任意の層にできる方）\n",
    "class ScratchDNNClassifier():\n",
    "    \"\"\"\n",
    "    N層ニューラルネットワーク分類器\n",
    "    \n",
    "    Parameters\n",
    "    ----------\n",
    "    self.n_epoch : エポック数\n",
    "    self.n_batch : バッチ数\n",
    "    self.verbose : 学習過程を可視化\n",
    "    Attributes\n",
    "    ----------\n",
    "    \"\"\"\n",
    "    def __init__(self, NN, n_epoch, n_batch, verbose = False):\n",
    "        #　パラメータ\n",
    "        self.n_epoch = n_epoch\n",
    "        self.n_batch = n_batch\n",
    "        self.verbose = verbose\n",
    "        self.log_loss = np.zeros(self.n_epoch)\n",
    "        self.log_acc = np.zeros(self.n_epoch)\n",
    "        self.NN = NN\n",
    "        \n",
    "    def loss_function(self,y,yt):\n",
    "        delta = 1e-7\n",
    "        return -np.mean(yt*np.log(y+delta))\n",
    "    \n",
    "    def accuracy(self,Z,Y):\n",
    "        return accuracy_score(Y,Z)\n",
    "                \n",
    "    def fit(self, X, y, X_val=False, y_val=False):\n",
    "        \"\"\"\n",
    "        ニューラルネットワーク分類器を学習する。\n",
    "\n",
    "        Parameters\n",
    "        ----------\n",
    "        X : 次の形のndarray, shape (n_samples, n_features)\n",
    "            訓練データの特徴量\n",
    "        y : 次の形のndarray, shape (n_samples, )\n",
    "            訓練データの正解値\n",
    "        X_val : 次の形のndarray, shape (n_samples, n_features)\n",
    "            検証データの特徴量\n",
    "        y_val : 次の形のndarray, shape (n_samples, )\n",
    "            検証データの正解値\n",
    "        \"\"\"\n",
    "        for epoch in range(self.n_epoch):\n",
    "            # ミニバッチ処理\n",
    "            get_mini_batch = GetMiniBatch(X, y, batch_size=self.n_batch)\n",
    "            \n",
    "            self.loss = 0\n",
    "            for mini_X_train, mini_y_train in get_mini_batch:\n",
    "                \n",
    "                # 順伝播\n",
    "                forward_data = mini_X_train\n",
    "                for layer in range(len(self.NN)):\n",
    "                    forward_data = self.NN[layer].forward(forward_data)\n",
    "                # 予測値\n",
    "                Z = forward_data\n",
    "                \n",
    "                # 逆伝播\n",
    "                backward_data = (Z - mini_y_train)/self.n_batch\n",
    "                for layer in range(len(self.NN)-1,-1,-1):\n",
    "                    backward_data = self.NN[layer].backward(backward_data)\n",
    "                \n",
    "                # 損失関数\n",
    "                self.loss += self.loss_function(Z,mini_y_train)\n",
    "                \n",
    "            self.log_loss[epoch] = self.loss/len(get_mini_batch)\n",
    "            self.log_acc[epoch] = self.accuracy(self.predict(X),np.argmax(y,axis=1))\n",
    "            \n",
    "    def predict(self, X):\n",
    "        \"\"\"\n",
    "        ニューラルネットワーク分類器を使い推定する。\n",
    "\n",
    "        Parameters\n",
    "        ----------\n",
    "        X : 次の形のndarray, shape (n_samples, n_features)\n",
    "            サンプル\n",
    "\n",
    "        Returns\n",
    "        -------\n",
    "            次の形のndarray, shape (n_samples, 1)\n",
    "            推定結果\n",
    "        \"\"\"\n",
    "        pred_data = X\n",
    "        \n",
    "        for layer in range(len(self.NN)):\n",
    "            pred_data = self.NN[layer].forward(pred_data)\n",
    "            \n",
    "        return np.argmax(pred_data,axis=1)"
   ]
  },
  {
   "cell_type": "markdown",
   "metadata": {},
   "source": [
    "#### 検証１　\n",
    "* ３層(784 → 400 → 200 → 10)\n",
    "* 1層の活性化関数：ReLU関数\n",
    "* 2層の活性化関数：ReLU関数\n",
    "* 3層の活性化関数：ソフトマックス関数\n",
    "* 最適化手法：AdaGrad"
   ]
  },
  {
   "cell_type": "code",
   "execution_count": 138,
   "metadata": {},
   "outputs": [],
   "source": [
    "NN2 = {0:FC(784, 400, HeInitializer(), AdaGrad(0.01), ReLU()),\n",
    "       1:FC(400, 200, HeInitializer(), AdaGrad(0.01), ReLU()),\n",
    "       2:FC(200, 10, SimpleInitializer(0.01), AdaGrad(0.01), Softmax()),\n",
    "       }"
   ]
  },
  {
   "cell_type": "code",
   "execution_count": 139,
   "metadata": {},
   "outputs": [],
   "source": [
    "clf2 = ScratchDNNClassifier(NN=NN2,n_epoch=30,n_batch=20,verbose = False)\n",
    "\n",
    "clf2.fit(X_train,y_train)\n",
    "y_pred2 = clf2.predict(X_valid)"
   ]
  },
  {
   "cell_type": "code",
   "execution_count": 140,
   "metadata": {},
   "outputs": [
    {
     "name": "stdout",
     "output_type": "stream",
     "text": [
      "[9 2 9 ... 8 7 5]\n",
      "accuracy:0.971\n"
     ]
    }
   ],
   "source": [
    "print(y_pred2)\n",
    "\n",
    "accuracy = accuracy_score(np.argmax(y_valid,axis=1), y_pred2)\n",
    "print('accuracy:{:.3f}'.format(accuracy))"
   ]
  },
  {
   "cell_type": "code",
   "execution_count": 141,
   "metadata": {},
   "outputs": [
    {
     "data": {
      "image/png": "[encoded data removed]",
      "text/plain": [
       "<Figure size 1152x432 with 2 Axes>"
      ]
     },
     "metadata": {
      "needs_background": "light"
     },
     "output_type": "display_data"
    }
   ],
   "source": [
    "# epochごとの損失関数の可視化\n",
    "plt.rcParams[\"font.size\"] = 20\n",
    "fig=plt.subplots(figsize=(16,6))\n",
    "plt.subplot(1,2,1)\n",
    "plt.title('LOSS')\n",
    "plt.plot(clf2.log_loss,'bo--')\n",
    "\n",
    "plt.subplot(1,2,2)\n",
    "plt.title('ACC')\n",
    "plt.plot(clf2.log_acc,'rs--');"
   ]
  },
  {
   "cell_type": "markdown",
   "metadata": {},
   "source": [
    "#### 検証２\n",
    "* ４層（784,400,600,300,10）\n",
    "* 1層目：ReLU\n",
    "* 2層目：ReLU\n",
    "* 3層目：ReLU\n",
    "* 4層目：Softmax\n",
    "* 最適化手法：Adagrad"
   ]
  },
  {
   "cell_type": "code",
   "execution_count": 121,
   "metadata": {},
   "outputs": [],
   "source": [
    "NN3 = {0:FC(784, 400, HeInitializer(), AdaGrad(0.01), ReLU()),\n",
    "       1:FC(400, 600, HeInitializer(), AdaGrad(0.01), ReLU()),\n",
    "       2:FC(600, 300, HeInitializer(), AdaGrad(0.01), ReLU()),\n",
    "       3:FC(300, 10, SimpleInitializer(0.01), AdaGrad(0.01), Softmax()),\n",
    "       }"
   ]
  },
  {
   "cell_type": "code",
   "execution_count": 135,
   "metadata": {},
   "outputs": [],
   "source": [
    "clf3 = ScratchDNNClassifier(NN=NN3,n_epoch=30,n_batch=20,verbose = False)\n",
    "\n",
    "clf3.fit(X_train,y_train)\n",
    "y_pred3 = clf3.predict(X_valid)"
   ]
  },
  {
   "cell_type": "code",
   "execution_count": 136,
   "metadata": {},
   "outputs": [
    {
     "name": "stdout",
     "output_type": "stream",
     "text": [
      "[9 2 9 ... 8 7 5]\n",
      "accuracy:0.978\n"
     ]
    }
   ],
   "source": [
    "print(y_pred3)\n",
    "\n",
    "accuracy = accuracy_score(np.argmax(y_valid,axis=1), y_pred3)\n",
    "print('accuracy:{:.3f}'.format(accuracy))"
   ]
  },
  {
   "cell_type": "code",
   "execution_count": 137,
   "metadata": {},
   "outputs": [
    {
     "data": {
      "image/png": "[encoded data removed]",
      "text/plain": [
       "<Figure size 1152x432 with 2 Axes>"
      ]
     },
     "metadata": {
      "needs_background": "light"
     },
     "output_type": "display_data"
    }
   ],
   "source": [
    "# epochごとの損失関数の可視化\n",
    "plt.rcParams[\"font.size\"] = 20\n",
    "fig=plt.subplots(figsize=(16,6))\n",
    "plt.subplot(1,2,1)\n",
    "plt.title('LOSS')\n",
    "plt.plot(clf3.log_loss,'bo--')\n",
    "\n",
    "plt.subplot(1,2,2)\n",
    "plt.title('ACC')\n",
    "plt.plot(clf3.log_acc,'rs--');"
   ]
  },
  {
   "cell_type": "markdown",
   "metadata": {},
   "source": [
    "#### 検証３\n",
    "* 5層(784,400,300,200,100,10)\n",
    "* 1層目：Tanh\n",
    "* 2層目：Sigomoid\n",
    "* 3層目：ReLU\n",
    "* 4層目：ReLU\n",
    "* 5層目：Softmax\n",
    "* 最適化手法：Adagrad"
   ]
  },
  {
   "cell_type": "code",
   "execution_count": 142,
   "metadata": {},
   "outputs": [],
   "source": [
    "NN4 = {0:FC(784, 400, XavierInitializer(), AdaGrad(0.01), Tanh()),\n",
    "       1:FC(400, 300, XavierInitializer(), AdaGrad(0.01), Sigmoid()),\n",
    "       2:FC(300, 200, HeInitializer(), AdaGrad(0.01), ReLU()),\n",
    "       3:FC(200, 100, HeInitializer(), AdaGrad(0.01), ReLU()),\n",
    "       4:FC(100, 10, SimpleInitializer(0.01), AdaGrad(0.01), Softmax()),\n",
    "       }"
   ]
  },
  {
   "cell_type": "code",
   "execution_count": 143,
   "metadata": {},
   "outputs": [],
   "source": [
    "clf4 = ScratchDNNClassifier(NN=NN4,n_epoch=30,n_batch=20,verbose = False)\n",
    "\n",
    "clf4.fit(X_train,y_train)\n",
    "y_pred4 = clf4.predict(X_valid)"
   ]
  },
  {
   "cell_type": "code",
   "execution_count": 144,
   "metadata": {},
   "outputs": [
    {
     "name": "stdout",
     "output_type": "stream",
     "text": [
      "[9 2 9 ... 8 7 5]\n",
      "accuracy:0.968\n"
     ]
    }
   ],
   "source": [
    "print(y_pred4)\n",
    "\n",
    "accuracy = accuracy_score(np.argmax(y_valid,axis=1), y_pred4)\n",
    "print('accuracy:{:.3f}'.format(accuracy))"
   ]
  },
  {
   "cell_type": "code",
   "execution_count": 145,
   "metadata": {},
   "outputs": [
    {
     "data": {
      "image/png": "[encoded data removed]",
      "text/plain": [
       "<Figure size 1152x432 with 2 Axes>"
      ]
     },
     "metadata": {
      "needs_background": "light"
     },
     "output_type": "display_data"
    }
   ],
   "source": [
    "# epochごとの損失関数の可視化\n",
    "plt.rcParams[\"font.size\"] = 20\n",
    "fig=plt.subplots(figsize=(16,6))\n",
    "plt.subplot(1,2,1)\n",
    "plt.title('LOSS')\n",
    "plt.plot(clf4.log_loss,'bo--')\n",
    "\n",
    "plt.subplot(1,2,2)\n",
    "plt.title('ACC')\n",
    "plt.plot(clf4.log_acc,'rs--');"
   ]
  },
  {
   "cell_type": "markdown",
   "metadata": {},
   "source": [
    "### 検証４\n"
   ]
  },
  {
   "cell_type": "code",
   "execution_count": 129,
   "metadata": {},
   "outputs": [],
   "source": [
    "NN5 = {0:FC(784, 400, XavierInitializer(), AdaGrad(0.01), Tanh()),\n",
    "       1:FC(400, 300, HeInitializer(), AdaGrad(0.01), ReLU()),\n",
    "       2:FC(300, 200, HeInitializer(), AdaGrad(0.01), ReLU()),\n",
    "       3:FC(200, 100, HeInitializer(), AdaGrad(0.01), ReLU()),\n",
    "       4:FC(100, 10, SimpleInitializer(0.01), AdaGrad(0.01), Softmax()),\n",
    "       }"
   ]
  },
  {
   "cell_type": "code",
   "execution_count": 146,
   "metadata": {},
   "outputs": [],
   "source": [
    "clf5 = ScratchDNNClassifier(NN=NN5,n_epoch=30,n_batch=20,verbose = False)\n",
    "\n",
    "clf5.fit(X_train,y_train)\n",
    "y_pred5 = clf5.predict(X_valid)"
   ]
  },
  {
   "cell_type": "code",
   "execution_count": 147,
   "metadata": {},
   "outputs": [
    {
     "name": "stdout",
     "output_type": "stream",
     "text": [
      "[9 2 9 ... 8 7 5]\n",
      "accuracy:0.973\n"
     ]
    }
   ],
   "source": [
    "print(y_pred5)\n",
    "\n",
    "accuracy = accuracy_score(np.argmax(y_valid,axis=1), y_pred5)\n",
    "print('accuracy:{:.3f}'.format(accuracy))"
   ]
  },
  {
   "cell_type": "code",
   "execution_count": 148,
   "metadata": {},
   "outputs": [
    {
     "data": {
      "image/png": "[encoded data removed]",
      "text/plain": [
       "<Figure size 1152x432 with 2 Axes>"
      ]
     },
     "metadata": {
      "needs_background": "light"
     },
     "output_type": "display_data"
    }
   ],
   "source": [
    "# epochごとの損失関数の可視化\n",
    "plt.rcParams[\"font.size\"] = 20\n",
    "fig=plt.subplots(figsize=(16,6))\n",
    "plt.subplot(1,2,1)\n",
    "plt.title('LOSS')\n",
    "plt.plot(clf5.log_loss,'bo--')\n",
    "\n",
    "plt.subplot(1,2,2)\n",
    "plt.title('ACC')\n",
    "plt.plot(clf5.log_acc,'rs--');"
   ]
  },
  {
   "cell_type": "markdown",
   "metadata": {},
   "source": [
    "* やはり層を深くすれば良いわけではないようだ"
   ]
  },
  {
   "cell_type": "markdown",
   "metadata": {},
   "source": [
    "### 検証（インスタンスのコピー）"
   ]
  },
  {
   "cell_type": "code",
   "execution_count": 133,
   "metadata": {},
   "outputs": [],
   "source": [
    "# Adagradのインスタンス化は、1つで良いのか？\n",
    "class TestScratchDeepNeuralNetworkClassifier():\n",
    "    \"\"\"\n",
    "    N層ニューラルネットワーク分類器\n",
    "    Parameters\n",
    "    ----------\n",
    "    self.sigma : ガウス分布の標準偏差\n",
    "    self.lr : 学習率\n",
    "    self.n_nodes1 : 1層目のノード数\n",
    "    self.n_nodes2 : 2層目のノード数\n",
    "    self.n_output : 出力層のノード数\n",
    "    \n",
    "    self.n_epoch : エポック数\n",
    "    self.n_batch : バッチ数\n",
    "    self.verbose : 学習過程を可視化\n",
    "    Attributes\n",
    "    ----------\n",
    "    \"\"\"\n",
    "    def __init__(self, n_features, n_nodes1, n_nodes2, n_output,\n",
    "                 sigma, n_epoch, n_batch, lr, verbose = False):\n",
    "        #　パラメータ\n",
    "        self.n_features = n_features\n",
    "        self.n_nodes1 = n_nodes1\n",
    "        self.n_nodes2 = n_nodes2\n",
    "        self.n_output = n_output\n",
    "        self.sigma = sigma\n",
    "        self.n_epoch = n_epoch\n",
    "        self.n_batch = n_batch\n",
    "        self.lr = lr\n",
    "        self.verbose = verbose\n",
    "        self.log_loss = np.zeros(self.n_epoch)\n",
    "        \n",
    "    def loss_function(self,y,yt):\n",
    "        delta = 1e-7\n",
    "        return -np.mean(yt*np.log(y+delta))\n",
    "                \n",
    "    def fit(self, X, y, X_val=False, y_val=False):\n",
    "        \"\"\"\n",
    "        ニューラルネットワーク分類器を学習する。\n",
    "\n",
    "        Parameters\n",
    "        ----------\n",
    "        X : 次の形のndarray, shape (n_samples, n_features)\n",
    "            訓練データの特徴量\n",
    "        y : 次の形のndarray, shape (n_samples, )\n",
    "            訓練データの正解値\n",
    "        X_val : 次の形のndarray, shape (n_samples, n_features)\n",
    "            検証データの特徴量\n",
    "        y_val : 次の形のndarray, shape (n_samples, )\n",
    "            検証データの正解値\n",
    "        \"\"\"\n",
    "        \n",
    "        optimizer = AdaGrad(self.lr)\n",
    "    \n",
    "        initializer1 = XavierInitializer()\n",
    "        initializer2 = XavierInitializer()\n",
    "        initializer3 = SimpleInitializer(self.sigma)\n",
    "        \n",
    "        self.FC1 = FC(self.n_features, self.n_nodes1, initializer1, optimizer, Tanh())\n",
    "        self.FC2 = FC(self.n_nodes1, self.n_nodes2, initializer2, optimizer, Tanh())\n",
    "        self.FC3 = FC(self.n_nodes2, self.n_output, initializer3, optimizer, Softmax())\n",
    "        \n",
    "        for epoch in range(self.n_epoch):\n",
    "            # ミニバッチ処理\n",
    "            get_mini_batch = GetMiniBatch(X, y, batch_size=self.n_batch)\n",
    "            \n",
    "            self.loss = 0\n",
    "            for mini_X_train, mini_y_train in get_mini_batch:\n",
    "                \n",
    "                # 順伝播\n",
    "                self.Z1 = self.FC1.forward(mini_X_train)\n",
    "                self.Z2 = self.FC2.forward(self.Z1)\n",
    "                self.Z3 = self.FC3.forward(self.Z2)    \n",
    "                \n",
    "                # 逆伝播\n",
    "                self.dA3 = self.Z3 - mini_y_train\n",
    "                self.dZ2 = self.FC3.backward(self.dA3)\n",
    "                self.dZ1 = self.FC2.backward(self.dZ2)\n",
    "                self.dZ0 = self.FC1.backward(self.dZ1)\n",
    "                \n",
    "                # 損失関数\n",
    "                self.loss += self.loss_function(self.Z3,mini_y_train)\n",
    "                \n",
    "            self.log_loss[epoch] = self.loss/self.n_batch\n",
    "            \n",
    "    def predict(self, X):\n",
    "        \"\"\"\n",
    "        ニューラルネットワーク分類器を使い推定する。\n",
    "\n",
    "        Parameters\n",
    "        ----------\n",
    "        X : 次の形のndarray, shape (n_samples, n_features)\n",
    "            サンプル\n",
    "\n",
    "        Returns\n",
    "        -------\n",
    "            次の形のndarray, shape (n_samples, 1)\n",
    "            推定結果\n",
    "        \"\"\"\n",
    "        pred_Z1 = self.FC1.forward(X)\n",
    "        pred_Z2 = self.FC2.forward(pred_Z1)\n",
    "        return np.argmax(self.FC3.forward(pred_Z2),axis=1)"
   ]
  },
  {
   "cell_type": "code",
   "execution_count": 134,
   "metadata": {},
   "outputs": [
    {
     "ename": "ValueError",
     "evalue": "operands could not be broadcast together with shapes (200,10) (400,200) (200,10) ",
     "output_type": "error",
     "traceback": [
      "\u001b[0;31m---------------------------------------------------------------------------\u001b[0m",
      "\u001b[0;31mValueError\u001b[0m                                Traceback (most recent call last)",
      "\u001b[0;32m<ipython-input-134-453f3ae52f92>\u001b[0m in \u001b[0;36m<module>\u001b[0;34m\u001b[0m\n\u001b[1;32m      4\u001b[0m                                              lr = 0.01, verbose = False)\n\u001b[1;32m      5\u001b[0m \u001b[0;34m\u001b[0m\u001b[0m\n\u001b[0;32m----> 6\u001b[0;31m \u001b[0mtst\u001b[0m\u001b[0;34m.\u001b[0m\u001b[0mfit\u001b[0m\u001b[0;34m(\u001b[0m\u001b[0mX_train\u001b[0m\u001b[0;34m,\u001b[0m\u001b[0my_train\u001b[0m\u001b[0;34m)\u001b[0m\u001b[0;34m\u001b[0m\u001b[0;34m\u001b[0m\u001b[0m\n\u001b[0m\u001b[1;32m      7\u001b[0m \u001b[0my_pred\u001b[0m \u001b[0;34m=\u001b[0m \u001b[0mtst\u001b[0m\u001b[0;34m.\u001b[0m\u001b[0mpredict\u001b[0m\u001b[0;34m(\u001b[0m\u001b[0mX_valid\u001b[0m\u001b[0;34m)\u001b[0m\u001b[0;34m\u001b[0m\u001b[0;34m\u001b[0m\u001b[0m\n",
      "\u001b[0;32m<ipython-input-133-ef50cbb66b37>\u001b[0m in \u001b[0;36mfit\u001b[0;34m(self, X, y, X_val, y_val)\u001b[0m\n\u001b[1;32m     76\u001b[0m                 \u001b[0mself\u001b[0m\u001b[0;34m.\u001b[0m\u001b[0mdA3\u001b[0m \u001b[0;34m=\u001b[0m \u001b[0mself\u001b[0m\u001b[0;34m.\u001b[0m\u001b[0mZ3\u001b[0m \u001b[0;34m-\u001b[0m \u001b[0mmini_y_train\u001b[0m\u001b[0;34m\u001b[0m\u001b[0;34m\u001b[0m\u001b[0m\n\u001b[1;32m     77\u001b[0m                 \u001b[0mself\u001b[0m\u001b[0;34m.\u001b[0m\u001b[0mdZ2\u001b[0m \u001b[0;34m=\u001b[0m \u001b[0mself\u001b[0m\u001b[0;34m.\u001b[0m\u001b[0mFC3\u001b[0m\u001b[0;34m.\u001b[0m\u001b[0mbackward\u001b[0m\u001b[0;34m(\u001b[0m\u001b[0mself\u001b[0m\u001b[0;34m.\u001b[0m\u001b[0mdA3\u001b[0m\u001b[0;34m)\u001b[0m\u001b[0;34m\u001b[0m\u001b[0;34m\u001b[0m\u001b[0m\n\u001b[0;32m---> 78\u001b[0;31m                 \u001b[0mself\u001b[0m\u001b[0;34m.\u001b[0m\u001b[0mdZ1\u001b[0m \u001b[0;34m=\u001b[0m \u001b[0mself\u001b[0m\u001b[0;34m.\u001b[0m\u001b[0mFC2\u001b[0m\u001b[0;34m.\u001b[0m\u001b[0mbackward\u001b[0m\u001b[0;34m(\u001b[0m\u001b[0mself\u001b[0m\u001b[0;34m.\u001b[0m\u001b[0mdZ2\u001b[0m\u001b[0;34m)\u001b[0m\u001b[0;34m\u001b[0m\u001b[0;34m\u001b[0m\u001b[0m\n\u001b[0m\u001b[1;32m     79\u001b[0m                 \u001b[0mself\u001b[0m\u001b[0;34m.\u001b[0m\u001b[0mdZ0\u001b[0m \u001b[0;34m=\u001b[0m \u001b[0mself\u001b[0m\u001b[0;34m.\u001b[0m\u001b[0mFC1\u001b[0m\u001b[0;34m.\u001b[0m\u001b[0mbackward\u001b[0m\u001b[0;34m(\u001b[0m\u001b[0mself\u001b[0m\u001b[0;34m.\u001b[0m\u001b[0mdZ1\u001b[0m\u001b[0;34m)\u001b[0m\u001b[0;34m\u001b[0m\u001b[0;34m\u001b[0m\u001b[0m\n\u001b[1;32m     80\u001b[0m \u001b[0;34m\u001b[0m\u001b[0m\n",
      "\u001b[0;32m<ipython-input-102-6ce488de5891>\u001b[0m in \u001b[0;36mbackward\u001b[0;34m(self, dZ)\u001b[0m\n\u001b[1;32m     58\u001b[0m \u001b[0;34m\u001b[0m\u001b[0m\n\u001b[1;32m     59\u001b[0m         \u001b[0;31m# 更新\u001b[0m\u001b[0;34m\u001b[0m\u001b[0;34m\u001b[0m\u001b[0;34m\u001b[0m\u001b[0m\n\u001b[0;32m---> 60\u001b[0;31m         \u001b[0mself\u001b[0m \u001b[0;34m=\u001b[0m \u001b[0mself\u001b[0m\u001b[0;34m.\u001b[0m\u001b[0moptimizer\u001b[0m\u001b[0;34m.\u001b[0m\u001b[0mupdate\u001b[0m\u001b[0;34m(\u001b[0m\u001b[0mself\u001b[0m\u001b[0;34m)\u001b[0m\u001b[0;34m\u001b[0m\u001b[0;34m\u001b[0m\u001b[0m\n\u001b[0m\u001b[1;32m     61\u001b[0m \u001b[0;34m\u001b[0m\u001b[0m\n\u001b[1;32m     62\u001b[0m         \u001b[0;32mreturn\u001b[0m \u001b[0mdZ\u001b[0m\u001b[0;34m\u001b[0m\u001b[0;34m\u001b[0m\u001b[0m\n",
      "\u001b[0;32m<ipython-input-112-bd1cb47c9ed8>\u001b[0m in \u001b[0;36mupdate\u001b[0;34m(self, layer)\u001b[0m\n\u001b[1;32m     18\u001b[0m         \u001b[0mlayer\u001b[0m \u001b[0;34m:\u001b[0m \u001b[0m更新前の層のインスタンス\u001b[0m\u001b[0;34m\u001b[0m\u001b[0;34m\u001b[0m\u001b[0m\n\u001b[1;32m     19\u001b[0m         \"\"\"\n\u001b[0;32m---> 20\u001b[0;31m         \u001b[0mself\u001b[0m\u001b[0;34m.\u001b[0m\u001b[0mhW\u001b[0m \u001b[0;34m+=\u001b[0m \u001b[0mlayer\u001b[0m\u001b[0;34m.\u001b[0m\u001b[0mdW\u001b[0m\u001b[0;34m*\u001b[0m\u001b[0mlayer\u001b[0m\u001b[0;34m.\u001b[0m\u001b[0mdW\u001b[0m\u001b[0;34m\u001b[0m\u001b[0;34m\u001b[0m\u001b[0m\n\u001b[0m\u001b[1;32m     21\u001b[0m         \u001b[0mself\u001b[0m\u001b[0;34m.\u001b[0m\u001b[0mhB\u001b[0m \u001b[0;34m=\u001b[0m \u001b[0mlayer\u001b[0m\u001b[0;34m.\u001b[0m\u001b[0mdB\u001b[0m\u001b[0;34m*\u001b[0m\u001b[0mlayer\u001b[0m\u001b[0;34m.\u001b[0m\u001b[0mdB\u001b[0m\u001b[0;34m\u001b[0m\u001b[0;34m\u001b[0m\u001b[0m\n\u001b[1;32m     22\u001b[0m \u001b[0;34m\u001b[0m\u001b[0m\n",
      "\u001b[0;31mValueError\u001b[0m: operands could not be broadcast together with shapes (200,10) (400,200) (200,10) "
     ]
    }
   ],
   "source": [
    "tst = TestScratchDeepNeuralNetworkClassifier(n_epoch=2, n_features=784,\n",
    "                                             n_nodes1=400, n_nodes2=200,\n",
    "                                             n_output=10, sigma=0.01, n_batch=100,\n",
    "                                             lr = 0.01, verbose = False)\n",
    "\n",
    "tst.fit(X_train,y_train)\n",
    "y_pred = tst.predict(X_valid)"
   ]
  },
  {
   "cell_type": "markdown",
   "metadata": {},
   "source": [
    "* 検証したところ、Optimizerのインスタンス変数が、複数になってしまい計算不能になっている"
   ]
  }
 ],
 "metadata": {
  "kernelspec": {
   "display_name": "Python 3",
   "language": "python",
   "name": "python3"
  },
  "language_info": {
   "codemirror_mode": {
    "name": "ipython",
    "version": 3
   },
   "file_extension": ".py",
   "mimetype": "text/x-python",
   "name": "python",
   "nbconvert_exporter": "python",
   "pygments_lexer": "ipython3",
   "version": "3.8.2"
  },
  "toc": {
   "base_numbering": 1,
   "nav_menu": {},
   "number_sections": true,
   "sideBar": true,
   "skip_h1_title": true,
   "title_cell": "目次",
   "title_sidebar": "Contents",
   "toc_cell": true,
   "toc_position": {},
   "toc_section_display": true,
   "toc_window_display": true
  }
 },
 "nbformat": 4,
 "nbformat_minor": 4
}
