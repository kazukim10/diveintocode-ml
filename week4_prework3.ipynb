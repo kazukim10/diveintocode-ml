{
 "cells": [
  {
   "cell_type": "markdown",
   "metadata": {},
   "source": [
    "# Week4授業前課題3 オブジェクト指向の活用"
   ]
  },
  {
   "cell_type": "markdown",
   "metadata": {
    "toc": true
   },
   "source": [
    "<h1>目次<span class=\"tocSkip\"></span></h1>\n",
    "<div class=\"toc\"><ul class=\"toc-item\"><li><span><a href=\"#このテキストについて\" data-toc-modified-id=\"このテキストについて-1\"><span class=\"toc-item-num\">1&nbsp;&nbsp;</span>このテキストについて</a></span><ul class=\"toc-item\"><li><span><a href=\"#テキストの目的\" data-toc-modified-id=\"テキストの目的-1.1\"><span class=\"toc-item-num\">1.1&nbsp;&nbsp;</span>テキストの目的</a></span></li><li><span><a href=\"#どのように学ぶか\" data-toc-modified-id=\"どのように学ぶか-1.2\"><span class=\"toc-item-num\">1.2&nbsp;&nbsp;</span>どのように学ぶか</a></span></li></ul></li><li><span><a href=\"#オブジェクト指向\" data-toc-modified-id=\"オブジェクト指向-2\"><span class=\"toc-item-num\">2&nbsp;&nbsp;</span>オブジェクト指向</a></span></li><li><span><a href=\"#scikit-learnの標準化クラス\" data-toc-modified-id=\"scikit-learnの標準化クラス-3\"><span class=\"toc-item-num\">3&nbsp;&nbsp;</span>scikit-learnの標準化クラス</a></span><ul class=\"toc-item\"><li><span><a href=\"#インスタンス化\" data-toc-modified-id=\"インスタンス化-3.1\"><span class=\"toc-item-num\">3.1&nbsp;&nbsp;</span>インスタンス化</a></span></li><li><span><a href=\"#【問題1】これまで利用してきたクラスの列挙\" data-toc-modified-id=\"【問題1】これまで利用してきたクラスの列挙-3.2\"><span class=\"toc-item-num\">3.2&nbsp;&nbsp;</span>【問題1】これまで利用してきたクラスの列挙</a></span></li><li><span><a href=\"#メソッド\" data-toc-modified-id=\"メソッド-3.3\"><span class=\"toc-item-num\">3.3&nbsp;&nbsp;</span>メソッド</a></span></li><li><span><a href=\"#インスタンス変数（アトリビュート）\" data-toc-modified-id=\"インスタンス変数（アトリビュート）-3.4\"><span class=\"toc-item-num\">3.4&nbsp;&nbsp;</span>インスタンス変数（アトリビュート）</a></span></li><li><span><a href=\"#【問題2】これまで利用してきたメソッドやインスタンス変数の列挙\" data-toc-modified-id=\"【問題2】これまで利用してきたメソッドやインスタンス変数の列挙-3.5\"><span class=\"toc-item-num\">3.5&nbsp;&nbsp;</span>【問題2】これまで利用してきたメソッドやインスタンス変数の列挙</a></span></li><li><span><a href=\"#インスタンス変数をメソッドが利用\" data-toc-modified-id=\"インスタンス変数をメソッドが利用-3.6\"><span class=\"toc-item-num\">3.6&nbsp;&nbsp;</span>インスタンス変数をメソッドが利用</a></span></li><li><span><a href=\"#【問題3】標準化クラスをスクラッチで作成\" data-toc-modified-id=\"【問題3】標準化クラスをスクラッチで作成-3.7\"><span class=\"toc-item-num\">3.7&nbsp;&nbsp;</span>【問題3】標準化クラスをスクラッチで作成</a></span></li><li><span><a href=\"#ライブラリのソースコードを確認\" data-toc-modified-id=\"ライブラリのソースコードを確認-3.8\"><span class=\"toc-item-num\">3.8&nbsp;&nbsp;</span>ライブラリのソースコードを確認</a></span></li><li><span><a href=\"#特殊メソッド\" data-toc-modified-id=\"特殊メソッド-3.9\"><span class=\"toc-item-num\">3.9&nbsp;&nbsp;</span>特殊メソッド</a></span></li><li><span><a href=\"#【問題4】-四則演算を行うクラスの作成\" data-toc-modified-id=\"【問題4】-四則演算を行うクラスの作成-3.10\"><span class=\"toc-item-num\">3.10&nbsp;&nbsp;</span>【問題4】 四則演算を行うクラスの作成</a></span></li></ul></li></ul></div>"
   ]
  },
  {
   "cell_type": "markdown",
   "metadata": {},
   "source": [
    "## このテキストについて"
   ]
  },
  {
   "cell_type": "markdown",
   "metadata": {},
   "source": [
    "### テキストの目的\n",
    "* クラスを利用したコードを読み書きできるようにする"
   ]
  },
  {
   "cell_type": "markdown",
   "metadata": {},
   "source": [
    "### どのように学ぶか\n",
    "* これまで使用してきたクラスを元にしてオブジェクト指向を理解していきます。"
   ]
  },
  {
   "cell_type": "markdown",
   "metadata": {},
   "source": [
    "## オブジェクト指向"
   ]
  },
  {
   "cell_type": "markdown",
   "metadata": {},
   "source": [
    "これまでの課題では触れてきませんでしたが、StandardScalerやLinearRegressionのようなクラスと呼ばれるものがPythonなどのプログラム言語では利用できます。  \n",
    "\n",
    "クラスの構文は、オブジェクト指向と呼ばれる考え方を利用したプログラミングの基本的な道具になります。\n",
    "\n",
    "この課題ではこれまでに既に登場していたクラスを例に、クラスを活用することでどのようなことができるのかを見て学んでいきます。そして課題の後半ではStandardScalerのクラスをスクラッチで自作します。"
   ]
  },
  {
   "cell_type": "markdown",
   "metadata": {},
   "source": [
    "## scikit-learnの標準化クラス\n",
    "scikit-learnに用意されている標準化を行うためのクラスStandardScalerを例に見ていきます。  \n",
    "サンプルコードを用意しましたので、これを利用しながら理解していきます。  \n",
    "  \n",
    "sklearn.preprocessing.StandardScaler — scikit-learn 0.21.3 documentation  \n",
    "http://scikit-learn.org/stable/modules/generated/sklearn.preprocessing.StandardScaler.html"
   ]
  },
  {
   "cell_type": "code",
   "execution_count": 68,
   "metadata": {},
   "outputs": [
    {
     "name": "stdout",
     "output_type": "stream",
     "text": [
      "平均 : [4.86 3.31 1.45 0.22]\n",
      "分散 : [0.0764 0.0849 0.0105 0.0056]\n"
     ]
    }
   ],
   "source": [
    "# 《サンプルコード》\n",
    "\n",
    "import numpy as np\n",
    "from sklearn.preprocessing import StandardScaler\n",
    "from sklearn.datasets import load_iris\n",
    "\n",
    "data = load_iris()\n",
    "X = data.data[:10]\n",
    "scaler = StandardScaler()\n",
    "scaler.fit(X)\n",
    "print(\"平均 :\", scaler.mean_)\n",
    "print(\"分散 :\", scaler.var_)\n",
    "X_std = scaler.transform(X)"
   ]
  },
  {
   "cell_type": "markdown",
   "metadata": {},
   "source": [
    "### インスタンス化\n",
    "クラスを使う際はまず以下のようなコードを書きますが、これをインスタンス化と呼びます。\n",
    "\n",
    "scaler = StandardScaler()\n",
    "\n",
    "StandardScalerというクラスオブジェクトから、scalerと名前をつけたインスタンスオブジェクトが作られました。\n",
    "\n",
    "《クラスの命名法》\n",
    "\n",
    "Pythonではクラス名は頭文字が大文字、他は小文字という命名法がPEP8により定められています。  \n",
    "単語間にアンダースコアは入れません。これを CapWords方式と呼びます。\n",
    "\n",
    "はじめに — pep8-ja 1.0 ドキュメント クラスの名前  \n",
    "https://pep8-ja.readthedocs.io/ja/latest/#id31\n",
    "\n",
    "こういった形式のものはクラスだと判断することができます。\n",
    "\n",
    "《インスタンスは複数作れる》\n",
    "\n",
    "あるクラスオブジェクトからは複数のインスタンスオブジェクトを作成することが可能です。\n",
    "1. scaler0 = StandardScaler()\n",
    "2. scaler1 = StandardScaler()\n",
    "3. scaler2 = StandardScaler()"
   ]
  },
  {
   "cell_type": "markdown",
   "metadata": {},
   "source": [
    "### 【問題1】これまで利用してきたクラスの列挙\n",
    "クラスを使う際はインスタンス化を行うことと、クラスの命名法がわかりました。  \n",
    "この情報を元に、これまでの課題で利用してきたコードの中でどのようなクラスがあったかを答えてください。  \n",
    "  \n",
    "Pandas、matplotlib、scikit-learnからそれぞれ1つ以上見つけてください。"
   ]
  },
  {
   "cell_type": "markdown",
   "metadata": {},
   "source": [
    "* Pandas・・・DataFrame()\n",
    "* matplotlib・・・Circle()\n",
    "* scikit-learn・・・LogisticRegression()"
   ]
  },
  {
   "cell_type": "markdown",
   "metadata": {},
   "source": [
    "### メソッド\n",
    "インスタンス化を行った後には、scaler.fit(X)のようなメソッドの実行ができます。  \n",
    "StandardScalerのfitメソッドは後でスケーリングに使われる平均と標準偏差を計算する機能があります。"
   ]
  },
  {
   "cell_type": "markdown",
   "metadata": {},
   "source": [
    "### インスタンス変数（アトリビュート）\n",
    "fitメソッドにより平均と標準偏差が計算されましたが、見た目には変化があるわけではありません。  \n",
    "しかし、scalerインスタンスの内部では計算結果が保存されています。  \n",
    "  \n",
    "こういったインスタンスの中で値を保存するものをインスタンス変数やアトリビュート（属性）と呼びます。  \n",
    "ここで平均がscaler.mean_、標準偏差の2乗した値である分散がscaler.var_に保存されています。\n",
    "\n",
    "以下のようにprint文で出力させることができます。\n",
    "1. print(\"平均 : {}\".format(scaler.mean_)) # 平均 : [4.86 3.31 1.45 0.22]  \n",
    "2. print(\"分散 : {}\".format(scaler.var_)) # 分散 : [0.0764 0.0849 0.0105 0.0056]  \n",
    "\n",
    "《メソッドとインスタンス変数の命名法》\n",
    "\n",
    "メソッドやインスタンス変数の命名は関数と同様に、全て小文字で行います。  \n",
    "単語をつなぐときにはアンダースコアを入れます。  \n",
    "  \n",
    "はじめに — pep8-ja 1.0 ドキュメント メソッド名とインスタンス変数  \n",
    "https://pep8-ja.readthedocs.io/ja/latest/#id37"
   ]
  },
  {
   "cell_type": "markdown",
   "metadata": {},
   "source": [
    "### 【問題2】これまで利用してきたメソッドやインスタンス変数の列挙\n",
    "これまでの課題で利用してきたコードの中でどのようなメソッドやインスタンス変数があったかを答えてください。\n",
    "最低でもそれぞれ5つ以上答えてください。\n",
    "  \n",
    "＜回答＞  \n",
    "メソッド\n",
    "* format()\n",
    "* append()\n",
    "* int()\n",
    "* info()\n",
    "* sort()\n",
    "* items()\n",
    "\n",
    "インスタンス変数\n",
    "* shape\n",
    "* columns\n",
    "* size\n",
    "* T\n",
    "* coef_\n",
    "  \n",
    "《ndarrayやstrもインスタンス》\n",
    "\n",
    "ドットをつけるというと、NumPyのndarrayに対してndarray.shapeやndarray.sum()のような使い方は何度も利用してきたかと思います。これは、ndarrayもインスタンスオブジェクトであり、shapeはインスタンス変数、sumはメソッドだったということです。\n",
    "\n",
    "Pythonのコードに登場するデータはどれもインスタンスオブジェクトであり、listやstrもメソッドを持ちます。\n",
    "\n",
    "（例）  \n",
    "5. データ構造 — Python 3.7.4 ドキュメント 5.1. リスト型についてもう少し  \n",
    "https://docs.python.jp/3/tutorial/datastructures.html#more-on-lists  \n",
    "\n",
    "* l = ['a']\n",
    "* l.append('b') # listのappendメソッド\n",
    "  \n",
    "4. 組み込み型 — Python 3.7.4 ドキュメント 文字列メソッド  \n",
    "https://docs.python.jp/3/library/stdtypes.html#string-methods\n",
    "\n",
    "* s = 'Hello, World!'\n",
    "* s.find('W') # strのfindメソッド"
   ]
  },
  {
   "cell_type": "markdown",
   "metadata": {},
   "source": [
    "### インスタンス変数をメソッドが利用\n",
    "最終的に以下のようにして標準化を行います。  \n",
    "  \n",
    "X_std = scaler.transform(X)  \n",
    "  \n",
    "これはfitメソッドで計算したことでインスタンス変数mean_やvar_に保存されていた値を使い、  \n",
    "Xを変換したということです。\n",
    "  \n",
    "このようにクラスには複数のメソッドやインスタンス変数が存在し、これらを組み合わせていろいろな機能を実現します。  "
   ]
  },
  {
   "cell_type": "markdown",
   "metadata": {},
   "source": [
    "### 【問題3】標準化クラスをスクラッチで作成\n",
    "理解をより深めるため、StandardScalerをスクラッチで作成しましょう。  \n",
    "scikit-learnは使わず、NumPyなどを活用して標準化の計算を記述します。  \n",
    "具体的にはfitメソッドとtransformメソッドを作ります。  \n",
    "  \n",
    "今回は雛形を用意しました。クラスの作成方法は関数に近いです。  \n",
    "メソッドはクラスの中にさらにインデントを一段下げて記述します。  \n",
    "\n",
    "インスタンス変数を作成する際はself.mean_のようにselfを付けます。  \n",
    "クラスの外からscaler.mean_と書いていたscalerの部分が自分自身を表すselfになっています。"
   ]
  },
  {
   "cell_type": "code",
   "execution_count": 69,
   "metadata": {},
   "outputs": [],
   "source": [
    "# スクラッチする\n",
    "class ScratchStandardScaler():\n",
    "    '''\n",
    "    標準化のためのクラス\n",
    "    \n",
    "    Attributes\n",
    "    ----------\n",
    "    mean_ : 次の形のndarray, shape(n_features,), 平均\n",
    "    var_ : 次の形のndarray, shape(n_features,), 分散\n",
    "    '''\n",
    "    \n",
    "    def fit(self,X):\n",
    "        \"\"\"\n",
    "        標準化のために平均と標準偏差を計算する。\n",
    "\n",
    "        Parameters\n",
    "        ----------\n",
    "        X : 次の形のndarray, shape (n_samples, n_features), 訓練データ\n",
    "        \"\"\"\n",
    "        \n",
    "        self.mean_ = np.mean(X,axis=0)\n",
    "        \n",
    "        self.var_ = np.var(X,axis=0)\n",
    "        pass\n",
    "        \n",
    "    def transform(self,X):\n",
    "        \"\"\"\n",
    "        fitで求めた値を使い標準化を行う。\n",
    "\n",
    "        Parameters\n",
    "        ----------\n",
    "        X : 次の形のndarray, shape (n_samples, n_features)\n",
    "            特徴量\n",
    "\n",
    "        Returns\n",
    "        ----------\n",
    "        X_scaled : 次の形のndarray, shape (n_samples, n_features)\n",
    "            標準化された特徴量\n",
    "        \"\"\"\n",
    "        \n",
    "        X_scaled = (X - self.mean_)/np.sqrt(self.var_)\n",
    "        \n",
    "        pass\n",
    "        return X_scaled"
   ]
  },
  {
   "cell_type": "code",
   "execution_count": 78,
   "metadata": {
    "scrolled": false
   },
   "outputs": [
    {
     "name": "stdout",
     "output_type": "stream",
     "text": [
      "ndarray : X  \n",
      " [[5.1 3.5 1.4 0.2]\n",
      " [4.9 3.  1.4 0.2]\n",
      " [4.7 3.2 1.3 0.2]\n",
      " [4.6 3.1 1.5 0.2]\n",
      " [5.  3.6 1.4 0.2]\n",
      " [5.4 3.9 1.7 0.4]\n",
      " [4.6 3.4 1.4 0.3]\n",
      " [5.  3.4 1.5 0.2]\n",
      " [4.4 2.9 1.4 0.2]\n",
      " [4.9 3.1 1.5 0.1]]\n",
      "(X - X.mean)  \n",
      " [[ 0.24  0.19 -0.05 -0.02]\n",
      " [ 0.04 -0.31 -0.05 -0.02]\n",
      " [-0.16 -0.11 -0.15 -0.02]\n",
      " [-0.26 -0.21  0.05 -0.02]\n",
      " [ 0.14  0.29 -0.05 -0.02]\n",
      " [ 0.54  0.59  0.25  0.18]\n",
      " [-0.26  0.09 -0.05  0.08]\n",
      " [ 0.14  0.09  0.05 -0.02]\n",
      " [-0.46 -0.41 -0.05 -0.02]\n",
      " [ 0.04 -0.21  0.05 -0.12]]\n",
      "(X - X.mean)/X.std  \n",
      " [[ 0.86828953  0.65207831 -0.48795004 -0.26726124]\n",
      " [ 0.14471492 -1.06391725 -0.48795004 -0.26726124]\n",
      " [-0.57885968 -0.37751902 -1.46385011 -0.26726124]\n",
      " [-0.94064699 -0.72071813  0.48795004 -0.26726124]\n",
      " [ 0.50650222  0.99527742 -0.48795004 -0.26726124]\n",
      " [ 1.95365143  2.02487476  2.43975018  2.40535118]\n",
      " [-0.94064699  0.3088792  -0.48795004  1.06904497]\n",
      " [ 0.50650222  0.3088792   0.48795004 -0.26726124]\n",
      " [-1.66422159 -1.40711636 -0.48795004 -0.26726124]\n",
      " [ 0.14471492 -0.72071813  0.48795004 -1.60356745]]\n"
     ]
    }
   ],
   "source": [
    "# 標準化の計算過程を表示\n",
    "print('ndarray : X  \\n',X)\n",
    "\n",
    "print('(X - X.mean)  \\n',(X - scaler.mean_))\n",
    "\n",
    "print('(X - X.mean)/X.std  \\n',(X - scaler.mean_)/np.sqrt(scaler.var_))"
   ]
  },
  {
   "cell_type": "code",
   "execution_count": 73,
   "metadata": {},
   "outputs": [
    {
     "name": "stdout",
     "output_type": "stream",
     "text": [
      "平均 : [4.86 3.31 1.45 0.22]\n",
      "分散 : [0.0764 0.0849 0.0105 0.0056]\n",
      "[[ 0.86828953  0.65207831 -0.48795004 -0.26726124]\n",
      " [ 0.14471492 -1.06391725 -0.48795004 -0.26726124]\n",
      " [-0.57885968 -0.37751902 -1.46385011 -0.26726124]\n",
      " [-0.94064699 -0.72071813  0.48795004 -0.26726124]\n",
      " [ 0.50650222  0.99527742 -0.48795004 -0.26726124]\n",
      " [ 1.95365143  2.02487476  2.43975018  2.40535118]\n",
      " [-0.94064699  0.3088792  -0.48795004  1.06904497]\n",
      " [ 0.50650222  0.3088792   0.48795004 -0.26726124]\n",
      " [-1.66422159 -1.40711636 -0.48795004 -0.26726124]\n",
      " [ 0.14471492 -0.72071813  0.48795004 -1.60356745]]\n"
     ]
    }
   ],
   "source": [
    "ScratchScaler = ScratchStandardScaler()\n",
    "\n",
    "ScratchScaler.fit(X)\n",
    "print(\"平均 :\", ScratchScaler.mean_)\n",
    "print(\"分散 :\", ScratchScaler.var_)\n",
    "\n",
    "Scratch_X_std = ScratchScaler.transform(X)\n",
    "print(Scratch_X_std)"
   ]
  },
  {
   "cell_type": "code",
   "execution_count": 74,
   "metadata": {
    "scrolled": true
   },
   "outputs": [
    {
     "name": "stdout",
     "output_type": "stream",
     "text": [
      "平均 : [4.86 3.31 1.45 0.22]\n",
      "分散 : [0.0764 0.0849 0.0105 0.0056]\n",
      "[[ 0.86828953  0.65207831 -0.48795004 -0.26726124]\n",
      " [ 0.14471492 -1.06391725 -0.48795004 -0.26726124]\n",
      " [-0.57885968 -0.37751902 -1.46385011 -0.26726124]\n",
      " [-0.94064699 -0.72071813  0.48795004 -0.26726124]\n",
      " [ 0.50650222  0.99527742 -0.48795004 -0.26726124]\n",
      " [ 1.95365143  2.02487476  2.43975018  2.40535118]\n",
      " [-0.94064699  0.3088792  -0.48795004  1.06904497]\n",
      " [ 0.50650222  0.3088792   0.48795004 -0.26726124]\n",
      " [-1.66422159 -1.40711636 -0.48795004 -0.26726124]\n",
      " [ 0.14471492 -0.72071813  0.48795004 -1.60356745]]\n"
     ]
    }
   ],
   "source": [
    "scaler = StandardScaler()\n",
    "scaler.fit(X)\n",
    "print(\"平均 :\", scaler.mean_)\n",
    "print(\"分散 :\", scaler.var_)\n",
    "X_std = scaler.transform(X)\n",
    "print(X_std)"
   ]
  },
  {
   "cell_type": "markdown",
   "metadata": {},
   "source": [
    "### ライブラリのソースコードを確認\n",
    "scikit-learnの場合は公式ドキュメントの右上にソースコードへのリンクがあります。\n",
    "\n",
    "https://github.com/scikit-learn/scikit-learn/blob/7389dba/sklearn/preprocessing/data.py#L480"
   ]
  },
  {
   "cell_type": "markdown",
   "metadata": {},
   "source": [
    "どのようなコードになっていたかを確認してみましょう。（問題3に取り組んだ後に見ることを推奨します）  \n",
    "スクラッチで作成したものよりも全体的にコードが長いのではないかと思います。  \n",
    "inverse_transformメソッドのように作成しなかったものもありますが、それだけではありません。  \n",
    "例えば以下のように、warning文が記述されているなどします。"
   ]
  },
  {
   "cell_type": "markdown",
   "metadata": {},
   "source": [
    "しかし、特に今注目したいのは次の特殊メソッドについてです。"
   ]
  },
  {
   "cell_type": "markdown",
   "metadata": {},
   "source": [
    "### 特殊メソッド\n",
    "ソースコードの中に含まれる、まだ説明していない重要な部分が以下です。  \n",
    "このような__init__というメソッドは、どのクラスにも共通して置かれるコンストラクタと呼ばれるメソッドです。  \n",
    "\n",
    "def __init__(self, copy=True, with_mean=True, with_std=True):  \n",
    "    self.with_mean = with_mean  \n",
    "    self.with_std = with_std  \n",
    "    self.copy = copy  \n",
    "\n",
    "今回のスクラッチではcopy、with_mean、with_stdなどのパラメータを省略しましたが、このようにインスタンス化の際にパラメータを指定して保存しておくということはよくある使い方です。\n",
    "\n",
    "コンストラクタの動作を確認するためのサンプルコードを用意しました。コンストラクタは、インスタンス化が行われる時に自動的に実行されるという働きがあります。こういった特殊な動作をするメソッドを、 特殊メソッド と呼びます。"
   ]
  },
  {
   "cell_type": "markdown",
   "metadata": {},
   "source": [
    "《サンプルコード》\n",
    "\n",
    "class ExampleClass():\n",
    "    \"\"\"\n",
    "    説明用の簡単なクラス\n",
    "\n",
    "    Parameters\n",
    "    ----------\n",
    "    value : float or int\n",
    "        初期値\n",
    "\n",
    "    Attributes\n",
    "    ----------\n",
    "    value : float or int\n",
    "        計算結果\n",
    "    \"\"\"\n",
    "    def __init__(self, value):\n",
    "        self.value = value\n",
    "        print(\"初期値{}が設定されました\".format(self.value))\n",
    "    def add(self, value2):\n",
    "        \"\"\"\n",
    "        受け取った引数をself.valueに加える\n",
    "        \"\"\"\n",
    "        self.value += value2\n",
    "example = ExampleClass(5)  \n",
    "print(\"value : {}\".format(example.value))  \n",
    "example.add(3)  \n",
    "print(\"value : {}\".format(example.value))  "
   ]
  },
  {
   "cell_type": "markdown",
   "metadata": {},
   "source": [
    "### 【問題4】 四則演算を行うクラスの作成\n",
    "上記ExampleClassは足し算のメソッドを持っていますが、これに引き算、掛け算、割り算のメソッドを加えてください。\n",
    "\n",
    "コンストラクタに入力されたvalueが文字列や配列など数値以外だった場合にはエラーを出すようにしてください。\n",
    "\n",
    "クラス名や説明文も適切に書き換えてください。"
   ]
  },
  {
   "cell_type": "code",
   "execution_count": 137,
   "metadata": {},
   "outputs": [
    {
     "name": "stdout",
     "output_type": "stream",
     "text": [
      "初期値1が設定されました\n",
      "value : 1\n",
      "value : 4\n",
      "value : -96\n",
      "value : -288\n",
      "value : -3.2\n"
     ]
    }
   ],
   "source": [
    "class FourArithmeticOperations():\n",
    "    \"\"\"\n",
    "    説明用の簡単なクラス\n",
    "\n",
    "    Parameters\n",
    "    ----------\n",
    "    value : float or int\n",
    "        初期値\n",
    "\n",
    "    Attributes\n",
    "    ----------\n",
    "    value : float or int\n",
    "        計算結果\n",
    "    \"\"\"\n",
    "    \n",
    "    def __init__(self, value):\n",
    "        self.value = value\n",
    "        \n",
    "        assert type(self.value) == (int or float),\\\n",
    "        'Can not calcuration, Please input int or float'\n",
    "        \n",
    "        print(\"初期値{}が設定されました\".format(self.value))\n",
    "                \n",
    "    def add(self, value2):\n",
    "        \"\"\"\n",
    "        受け取った引数をself.valueに加える\n",
    "        \"\"\"\n",
    "        assert type(value2) == (int or float),\\\n",
    "        'Can not calcuration, Please input int or float'\n",
    "        \n",
    "        self.value += value2\n",
    "        \n",
    "    def sub(self, value2):\n",
    "        \"\"\"\n",
    "        受け取った引数をself.valueから引く\n",
    "        \"\"\"\n",
    "        assert type(value2) == (int or float),\\\n",
    "        'Can not calcuration, Please input int or float'\n",
    "        \n",
    "        self.value -= value2\n",
    "        \n",
    "    def mult(self, value2):\n",
    "        \"\"\"\n",
    "        受け取った引数をself.valueに掛ける\n",
    "        \"\"\"\n",
    "        assert type(value2) == (int or float),\\\n",
    "        'Can not calcuration, Please input int or float'\n",
    "        \n",
    "        self.value *= value2\n",
    "        \n",
    "    def divi(self, value2):\n",
    "        \"\"\"\n",
    "        受け取った引数でself.valueを割る\n",
    "        \"\"\"\n",
    "        assert type(value2) == (int or float),\\\n",
    "        'Can not calcuration, Please input int or float'\n",
    "        \n",
    "        self.value /= value2\n",
    "        \n",
    "            \n",
    "initial = 1\n",
    "            \n",
    "cal = FourArithmeticOperations(initial)\n",
    "print(\"value : {}\".format(cal.value))\n",
    "cal.add(3)\n",
    "print(\"value : {}\".format(cal.value))\n",
    "cal.sub(100)\n",
    "print(\"value : {}\".format(cal.value))\n",
    "cal.mult(3)\n",
    "print(\"value : {}\".format(cal.value))\n",
    "cal.divi(90)\n",
    "print(\"value : {}\".format(cal.value))"
   ]
  }
 ],
 "metadata": {
  "kernelspec": {
   "display_name": "Python 3",
   "language": "python",
   "name": "python3"
  },
  "language_info": {
   "codemirror_mode": {
    "name": "ipython",
    "version": 3
   },
   "file_extension": ".py",
   "mimetype": "text/x-python",
   "name": "python",
   "nbconvert_exporter": "python",
   "pygments_lexer": "ipython3",
   "version": "3.8.5"
  },
  "toc": {
   "base_numbering": 1,
   "nav_menu": {},
   "number_sections": true,
   "sideBar": true,
   "skip_h1_title": true,
   "title_cell": "目次",
   "title_sidebar": "Contents",
   "toc_cell": true,
   "toc_position": {},
   "toc_section_display": true,
   "toc_window_display": true
  }
 },
 "nbformat": 4,
 "nbformat_minor": 4
}
