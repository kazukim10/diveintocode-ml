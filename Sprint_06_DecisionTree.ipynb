{
 "cells": [
  {
   "cell_type": "markdown",
   "metadata": {},
   "source": [
    "# Sprint 機械学習スクラッチ 決定木"
   ]
  },
  {
   "cell_type": "markdown",
   "metadata": {
    "toc": true
   },
   "source": [
    "<h1>目次<span class=\"tocSkip\"></span></h1>\n",
    "<div class=\"toc\"><ul class=\"toc-item\"><li><span><a href=\"#このSprintについて\" data-toc-modified-id=\"このSprintについて-1\"><span class=\"toc-item-num\">1&nbsp;&nbsp;</span>このSprintについて</a></span><ul class=\"toc-item\"><li><span><a href=\"#Sprintの目的\" data-toc-modified-id=\"Sprintの目的-1.1\"><span class=\"toc-item-num\">1.1&nbsp;&nbsp;</span>Sprintの目的</a></span></li><li><span><a href=\"#どのように学ぶか\" data-toc-modified-id=\"どのように学ぶか-1.2\"><span class=\"toc-item-num\">1.2&nbsp;&nbsp;</span>どのように学ぶか</a></span></li></ul></li><li><span><a href=\"#決定木学習とは\" data-toc-modified-id=\"決定木学習とは-2\"><span class=\"toc-item-num\">2&nbsp;&nbsp;</span>決定木学習とは</a></span><ul class=\"toc-item\"><li><span><a href=\"#決定木とは\" data-toc-modified-id=\"決定木とは-2.1\"><span class=\"toc-item-num\">2.1&nbsp;&nbsp;</span>決定木とは</a></span></li><li><span><a href=\"#各種用語\" data-toc-modified-id=\"各種用語-2.2\"><span class=\"toc-item-num\">2.2&nbsp;&nbsp;</span>各種用語</a></span></li><li><span><a href=\"#どう決定木を作るか\" data-toc-modified-id=\"どう決定木を作るか-2.3\"><span class=\"toc-item-num\">2.3&nbsp;&nbsp;</span>どう決定木を作るか</a></span></li><li><span><a href=\"#推定を考える\" data-toc-modified-id=\"推定を考える-2.4\"><span class=\"toc-item-num\">2.4&nbsp;&nbsp;</span>推定を考える</a></span></li><li><span><a href=\"#扱える特徴量\" data-toc-modified-id=\"扱える特徴量-2.5\"><span class=\"toc-item-num\">2.5&nbsp;&nbsp;</span>扱える特徴量</a></span></li></ul></li><li><span><a href=\"#決定木スクラッチ\" data-toc-modified-id=\"決定木スクラッチ-3\"><span class=\"toc-item-num\">3&nbsp;&nbsp;</span>決定木スクラッチ</a></span><ul class=\"toc-item\"><li><span><a href=\"#分割の条件を学習で求める\" data-toc-modified-id=\"分割の条件を学習で求める-3.1\"><span class=\"toc-item-num\">3.1&nbsp;&nbsp;</span>分割の条件を学習で求める</a></span></li><li><span><a href=\"#【問題1】不純度を求める関数\" data-toc-modified-id=\"【問題1】不純度を求める関数-3.2\"><span class=\"toc-item-num\">3.2&nbsp;&nbsp;</span>【問題1】不純度を求める関数</a></span></li><li><span><a href=\"#【問題2】情報利得を求める関数\" data-toc-modified-id=\"【問題2】情報利得を求める関数-3.3\"><span class=\"toc-item-num\">3.3&nbsp;&nbsp;</span>【問題2】情報利得を求める関数</a></span></li><li><span><a href=\"#【問題3】学習\" data-toc-modified-id=\"【問題3】学習-3.4\"><span class=\"toc-item-num\">3.4&nbsp;&nbsp;</span>【問題3】学習</a></span></li><li><span><a href=\"#【問題4】推定\" data-toc-modified-id=\"【問題4】推定-3.5\"><span class=\"toc-item-num\">3.5&nbsp;&nbsp;</span>【問題4】推定</a></span></li></ul></li><li><span><a href=\"#検証\" data-toc-modified-id=\"検証-4\"><span class=\"toc-item-num\">4&nbsp;&nbsp;</span>検証</a></span><ul class=\"toc-item\"><li><span><a href=\"#【問題5】学習と推定\" data-toc-modified-id=\"【問題5】学習と推定-4.1\"><span class=\"toc-item-num\">4.1&nbsp;&nbsp;</span>【問題5】学習と推定</a></span></li><li><span><a href=\"#【問題6】決定領域の可視化\" data-toc-modified-id=\"【問題6】決定領域の可視化-4.2\"><span class=\"toc-item-num\">4.2&nbsp;&nbsp;</span>【問題6】決定領域の可視化</a></span></li></ul></li><li><span><a href=\"#より深い決定木\" data-toc-modified-id=\"より深い決定木-5\"><span class=\"toc-item-num\">5&nbsp;&nbsp;</span>より深い決定木</a></span><ul class=\"toc-item\"><li><span><a href=\"#【問題7】（アドバンス課題）深さ2の決定木分類器クラスの作成\" data-toc-modified-id=\"【問題7】（アドバンス課題）深さ2の決定木分類器クラスの作成-5.1\"><span class=\"toc-item-num\">5.1&nbsp;&nbsp;</span>【問題7】（アドバンス課題）深さ2の決定木分類器クラスの作成</a></span></li><li><span><a href=\"#【問題8】（アドバンス課題）深さに制限のない決定木分類器クラスの作成\" data-toc-modified-id=\"【問題8】（アドバンス課題）深さに制限のない決定木分類器クラスの作成-5.2\"><span class=\"toc-item-num\">5.2&nbsp;&nbsp;</span>【問題8】（アドバンス課題）深さに制限のない決定木分類器クラスの作成</a></span></li></ul></li><li><span><a href=\"#Practice_クラス、インスタンス、再帰\" data-toc-modified-id=\"Practice_クラス、インスタンス、再帰-6\"><span class=\"toc-item-num\">6&nbsp;&nbsp;</span>Practice_クラス、インスタンス、再帰</a></span></li></ul></div>"
   ]
  },
  {
   "cell_type": "markdown",
   "metadata": {},
   "source": [
    "## このSprintについて"
   ]
  },
  {
   "cell_type": "markdown",
   "metadata": {},
   "source": [
    "### Sprintの目的"
   ]
  },
  {
   "cell_type": "markdown",
   "metadata": {},
   "source": [
    "* スクラッチを通して決定木を理解する\n",
    "* 複雑なアルゴリズムの実装に慣れる"
   ]
  },
  {
   "cell_type": "markdown",
   "metadata": {},
   "source": [
    "### どのように学ぶか"
   ]
  },
  {
   "cell_type": "markdown",
   "metadata": {},
   "source": [
    "スクラッチで決定木を実装した後、学習と検証を行なっていきます。"
   ]
  },
  {
   "cell_type": "markdown",
   "metadata": {},
   "source": [
    "## 決定木学習とは"
   ]
  },
  {
   "cell_type": "markdown",
   "metadata": {},
   "source": [
    "決定木学習は決定木と呼ばれる木構造のグラフを作る機械学習手法です。  \n",
    "機械学習の分野では学習手法も単に「決定木」と呼ばれます。\n",
    "  \n",
    "分類にも回帰にも使え、分類の場合3クラス以上の多値分類が可能です。  \n",
    "ここでは基本となる分類のみを扱います。"
   ]
  },
  {
   "cell_type": "markdown",
   "metadata": {},
   "source": [
    "### 決定木とは"
   ]
  },
  {
   "cell_type": "markdown",
   "metadata": {},
   "source": [
    "決定木は、属性と値の組｛属性1：値1，属性2：値2, 属性3：値3,…，属性n：値n｝によって  \n",
    "表現されたデータを、条件分岐を繰り返すことであるクラスに割り当てることができる木構造のグラフです。  \n",
    "  \n",
    "以下の例は会場の気温という属性の値によって、開催と中止のクラスに割り当てるグラフです。  \n",
    "「会場の気温という属性の値は35以上かどうか」という条件分岐1回による決定木による分類が行えます。  \n",
    "例えば36度がこの決定木にインプットされれば、中止というアウトプット（判断）ができます。"
   ]
  },
  {
   "cell_type": "markdown",
   "metadata": {},
   "source": [
    "https://t.gyazo.com/teams/diveintocode/ca1760b9db2eff08bc82102db1bf7eea.png"
   ]
  },
  {
   "cell_type": "markdown",
   "metadata": {},
   "source": [
    "なお、「属性と値」は機械学習の分野では「特徴量の名前と特徴量の値」のことです。  \n",
    "これ以降は単に特徴量という呼びます。"
   ]
  },
  {
   "cell_type": "markdown",
   "metadata": {},
   "source": [
    "### 各種用語"
   ]
  },
  {
   "cell_type": "markdown",
   "metadata": {},
   "source": [
    "もう少し複雑な例で決定木で重要な用語を確認します。  \n",
    "特徴量が「雨量」,「屋内かどうか」,「風の強さ」の3種類で、  \n",
    "イベントの開催か中止かを分類する場合で考えてみます。  \n",
    "訓練データを学習することで、以下のような決定木が作れます。"
   ]
  },
  {
   "cell_type": "markdown",
   "metadata": {},
   "source": [
    "https://t.gyazo.com/teams/diveintocode/c927a798dc2292cc05663301dde78632.png"
   ]
  },
  {
   "cell_type": "markdown",
   "metadata": {},
   "source": [
    "丸で囲われたひとつひとつをノードと呼びます。  \n",
    "ノードには親子関係を考えることができ、例えば(0)のノードは(1)(2)(3)のノードの 親ノード と呼びます。  \n",
    "逆に、(1)(2)(3)のノードは(0)のノードの 子ノード と呼びます。  \n",
    "  \n",
    "一番上の(0)は根ノード、末端の(1)(4)(5)(7)(8)(9)のような分類結果を表すノードは葉ノードと呼びます。  \n",
    "  \n",
    "条件分岐の矢印はエッジと呼びます。  \n",
    "あるノードから根ノードまでのエッジの数が深さです。  \n",
    "(3)の深さは1、(6)の深さは2、(9)の深さは3という風になります。  \n",
    "この決定木の最大の深さは3です。  \n",
    "  \n",
    "これは(0)に対して(1)(2)(3)の3つのノードが分かれている多岐分岐の決定木ですが、  \n",
    "機械学習では2つにしか分かれないものが一般的です。学習時の複雑さを減らすためです。"
   ]
  },
  {
   "cell_type": "markdown",
   "metadata": {},
   "source": [
    "### どう決定木を作るか"
   ]
  },
  {
   "cell_type": "markdown",
   "metadata": {},
   "source": [
    "決定木の学習には様々なやり方が存在しますが、  \n",
    "その中のある方法についてスクラッチを行いながら見ていきます。  \n",
    "  \n",
    "学習方法やハイパーパラメータ、訓練データ次第で作られる決定木は異なってきます。"
   ]
  },
  {
   "cell_type": "markdown",
   "metadata": {},
   "source": [
    "### 推定を考える"
   ]
  },
  {
   "cell_type": "markdown",
   "metadata": {},
   "source": [
    "以下の場合、イベントは開催されるでしょうか。決定木を使って判断してください。"
   ]
  },
  {
   "cell_type": "markdown",
   "metadata": {},
   "source": [
    "https://t.gyazo.com/teams/diveintocode/3abf4302fd28b9c58e9c4f86e5878661.png"
   ]
  },
  {
   "cell_type": "markdown",
   "metadata": {},
   "source": [
    "答えは「開催」です。以下の赤線の順でたどっていきます。"
   ]
  },
  {
   "cell_type": "markdown",
   "metadata": {},
   "source": [
    "### 扱える特徴量"
   ]
  },
  {
   "cell_type": "markdown",
   "metadata": {},
   "source": [
    "決定木は理論上は量的変数だけでなく、カテゴリ変数も扱えます。  \n",
    "しかし、scikit-learnの実装では量的変数のみに対応していますので、  \n",
    "スクラッチ実装もそのように作成します。  \n",
    "上記の例ですと「会場の種類」で「屋内と屋外」ですとカテゴリ変数ですが、  \n",
    "「屋内かどうか」で「0と1」と量的変数にすることで扱えるようにしています。"
   ]
  },
  {
   "cell_type": "markdown",
   "metadata": {},
   "source": [
    "## 決定木スクラッチ"
   ]
  },
  {
   "cell_type": "markdown",
   "metadata": {},
   "source": [
    "分類のための決定木のクラスをスクラッチで作成していきます。  \n",
    "NumPyなど最低限のライブラリのみを使いアルゴリズムを実装していきます。  \n",
    "  \n",
    "決定木の学習には何回まで条件分岐を繰り返すかを表す （最大の）深さというハイパーパラメータが登場しますが、深さ1の実装を必須課題とします。深さが2以上のものはアドバンス課題とします。\n",
    "\n",
    "学習の仕方には様々な方法がありますが、ここではscikit-learnでも使用されている CART法 をベースとした実装を行います。この方法では学習の複雑さを減らすために、 分岐は2つに分かれるのみ になります。\n",
    "\n",
    "以下に雛形を用意してあります。このScratchDecesionTreeClassifierDepth1クラスにコードを書き加えていってください。"
   ]
  },
  {
   "cell_type": "code",
   "execution_count": 4,
   "metadata": {},
   "outputs": [],
   "source": [
    "# インポート\n",
    "import numpy as np\n",
    "import matplotlib.pyplot as plt\n",
    "import statistics"
   ]
  },
  {
   "cell_type": "code",
   "execution_count": 308,
   "metadata": {},
   "outputs": [],
   "source": [
    "# 決定木(深さ1)スクラッチ\n",
    "class ScratchDecesionTreeClassifierDepth1():\n",
    "    \"\"\"\n",
    "    深さ1の決定木分類器のスクラッチ実装\n",
    "    Parameters\n",
    "    ----------\n",
    "    verbose : bool\n",
    "      学習過程を出力する場合はTrue\n",
    "    \"\"\"\n",
    "    \n",
    "    def __init__(self, verbose=False):\n",
    "        # ハイパーパラメータを属性として記録\n",
    "        self.verbose = verbose\n",
    "    \n",
    "    def _gini(self,X):\n",
    "        \"\"\"\n",
    "        ジニ不純度を計算する\n",
    "        Parameters\n",
    "        ----------\n",
    "        X : 次の形のndarray, shape (n_samples,)\n",
    "            訓練データのラベル値\n",
    "        \"\"\"\n",
    "        unique,count = np.unique(X,return_counts=True)\n",
    "        tmp = 0\n",
    "        \n",
    "        for i in unique:\n",
    "            tmp += (count[unique==i]/np.sum(count))**2\n",
    "        \n",
    "        return 1-tmp\n",
    "        \n",
    "    def fit(self, X, y):\n",
    "        \"\"\"\n",
    "        決定木分類器を学習する\n",
    "        Parameters\n",
    "        ----------\n",
    "        X : 次の形のndarray, shape (n_samples, n_features)\n",
    "            訓練データの特徴量\n",
    "        y : 次の形のndarray, shape (n_samples, )\n",
    "            訓練データの正解値\n",
    "        \"\"\"\n",
    "        \n",
    "        feature_num = X.shape[1]\n",
    "        \n",
    "        self.gain = 0\n",
    "        for i in range(feature_num):\n",
    "            self.threshold = np.unique(X[:,i])\n",
    "            \n",
    "            for j in self.threshold[1:]:\n",
    "                l = y[X[:,i] < j]\n",
    "                r = y[X[:,i] >=j]\n",
    "                \n",
    "                gini_l = len(l)/(len(l)+len(r))*self._gini(l)\n",
    "                gini_r = len(r)/(len(l)+len(r))*self._gini(r)\n",
    "                \n",
    "                tmp = self._gini(y) -gini_l -gini_r\n",
    "                \n",
    "                if tmp > self.gain:\n",
    "                    self.l_label = statistics.mode(l)\n",
    "                    self.r_label = statistics.mode(r)\n",
    "                    self.feature = i\n",
    "                    self.threshold = j\n",
    "                    self.gain = tmp\n",
    "                    \n",
    "                    #verboseをTrueにした際は学習過程を出力\n",
    "                    if self.verbose:\n",
    "                        print('feature',self.feature,\n",
    "                              'threshold',self.threshold,\n",
    "                              'gain',self.gain)\n",
    "            \n",
    "    def predict(self, X):\n",
    "        \"\"\"\n",
    "        決定木分類器を使いラベルを推定する\n",
    "        \"\"\"\n",
    "        \n",
    "        return np.where(X[:,self.feature] < self.threshold,self.l_label,self.r_label)"
   ]
  },
  {
   "cell_type": "code",
   "execution_count": 309,
   "metadata": {},
   "outputs": [],
   "source": [
    "# 決定領域の可視化\n",
    "from matplotlib.colors import ListedColormap\n",
    "import matplotlib.patches as mpatches\n",
    "\n",
    "def decision_region(X,y,model,step=0.01,\n",
    "                    title='decision region', xlabel='xlabel', ylabel='ylabel',\n",
    "                    target_names=['versicolor', 'virginica']\n",
    "                   ):\n",
    "    \n",
    "    # setting\n",
    "    scatter_color = ['red', 'blue']\n",
    "    contourf_color = ['pink', 'skyblue']\n",
    "    n_class = 2\n",
    "    \n",
    "    # pred\n",
    "    mesh_f0, mesh_f1  = np.meshgrid(np.arange(np.min(X[:,0])-0.5, np.max(X[:,0])+0.5, step), np.arange(np.min(X[:,1])-0.5, np.max(X[:,1])+0.5, step))\n",
    "    mesh = np.c_[np.ravel(mesh_f0),np.ravel(mesh_f1)]\n",
    "    y_pred = model.predict(mesh).reshape(mesh_f0.shape)\n",
    "    \n",
    "    # plot\n",
    "    plt.title(title)\n",
    "    plt.xlabel(xlabel)\n",
    "    plt.ylabel(ylabel)\n",
    "    plt.contourf(mesh_f0, mesh_f1, y_pred, n_class-1, cmap=ListedColormap(contourf_color))\n",
    "    plt.contour(mesh_f0, mesh_f1, y_pred, n_class-1, colors='y', linewidths=3, alpha=0.5)\n",
    "    for i, target in enumerate(set(y)):\n",
    "        plt.scatter(X[y==target][:, 0], X[y==target][:, 1], s=80, color=scatter_color[i], label=target_names[i], marker='o')\n",
    "    patches = [mpatches.Patch(color=scatter_color[i], label=target_names[i]) for i in range(n_class)]\n",
    "    plt.legend(handles=patches)\n",
    "    plt.legend()\n",
    "    plt.show()"
   ]
  },
  {
   "cell_type": "markdown",
   "metadata": {},
   "source": [
    "### 分割の条件を学習で求める\n",
    "学習によって、ノードをどういった条件で分割すると、うまく分けられるかということを求めます。  \n",
    "  \n",
    "うまく分けられていることを判定するためにノードに対してジニ不純度と情報利得という値を計算します。"
   ]
  },
  {
   "cell_type": "markdown",
   "metadata": {},
   "source": [
    "### 【問題1】不純度を求める関数"
   ]
  },
  {
   "cell_type": "markdown",
   "metadata": {},
   "source": [
    "ノード の ジニ不純度 を計算する関数を作成してください。  \n",
    "ノードtに対するジニ不純度I(t)は以下の数式で求まります。  \n",
    "クラスが混じり合っているほどジニ不純度は高くなります。"
   ]
  },
  {
   "cell_type": "markdown",
   "metadata": {},
   "source": [
    "$I(t) = 1-\\sum_{i=1}^{K}P^2(C_i|t) = 1-\\sum_{i=1}^{K}(\\frac{N_{t,i}}{N_{t,all}})^{2}$"
   ]
  },
  {
   "cell_type": "code",
   "execution_count": 7,
   "metadata": {},
   "outputs": [],
   "source": [
    "# テストデータでチェック\n",
    "\n",
    "X = np.array([0,2,1,-1,4])\n",
    "y = np.array([0,0,0,1,1])"
   ]
  },
  {
   "cell_type": "code",
   "execution_count": 8,
   "metadata": {
    "scrolled": true
   },
   "outputs": [
    {
     "name": "stdout",
     "output_type": "stream",
     "text": [
      "threshold_value [-1  0  1  2  4]\n"
     ]
    }
   ],
   "source": [
    "threshold_value = np.unique(X)\n",
    "print('threshold_value',threshold_value)"
   ]
  },
  {
   "cell_type": "code",
   "execution_count": 9,
   "metadata": {},
   "outputs": [
    {
     "name": "stdout",
     "output_type": "stream",
     "text": [
      "unique [0 1] unique_counts [3 2]\n"
     ]
    }
   ],
   "source": [
    "# ラベル値で分類\n",
    "u,counts = np.unique(y,return_counts=True)\n",
    "print('unique',u,'unique_counts',counts)"
   ]
  },
  {
   "cell_type": "code",
   "execution_count": 10,
   "metadata": {},
   "outputs": [],
   "source": [
    "# ジニ不純度の計算\n",
    "def _gini(X):\n",
    "    unique,count = np.unique(X,return_counts=True)\n",
    "    \n",
    "    tmp = 0\n",
    "    for i in unique:\n",
    "        tmp += (count[unique==i]/np.sum(count))**2\n",
    "    \n",
    "    return 1-tmp"
   ]
  },
  {
   "cell_type": "code",
   "execution_count": 11,
   "metadata": {},
   "outputs": [
    {
     "name": "stdout",
     "output_type": "stream",
     "text": [
      "0 c1 [1] c2 [0 0 0 1]\n",
      "0 gini_left: [0.] gini_right: [0.375]\n",
      "1 c1 [0 1] c2 [0 0 1]\n",
      "1 gini_left: [0.5] gini_right: [0.44444444]\n",
      "2 c1 [0 0 1] c2 [0 1]\n",
      "2 gini_left: [0.44444444] gini_right: [0.5]\n",
      "4 c1 [0 0 0 1] c2 [1]\n",
      "4 gini_left: [0.375] gini_right: [0.]\n"
     ]
    }
   ],
   "source": [
    "# 各閾値でのジニ不純度の計算\n",
    "for i in threshold_value[1:]:\n",
    "    c1 = y[X < i]\n",
    "    c2 = y[X >=i]\n",
    "    \n",
    "    print(i,'c1',c1,'c2',c2)\n",
    "    print(i,'gini_left:',_gini(c1),'gini_right:',_gini(c2))"
   ]
  },
  {
   "cell_type": "markdown",
   "metadata": {},
   "source": [
    "### 【問題2】情報利得を求める関数"
   ]
  },
  {
   "cell_type": "code",
   "execution_count": 12,
   "metadata": {},
   "outputs": [
    {
     "name": "stdout",
     "output_type": "stream",
     "text": [
      "0 [0.5]\n",
      "1 [0.33333333]\n",
      "2 [0.33333333]\n",
      "4 [0.5]\n"
     ]
    }
   ],
   "source": [
    "# 各閾値での情報利得を計算\n",
    "for i in threshold_value[1:]:\n",
    "    c1 = y[X < i]\n",
    "    c2 = y[X >=i]\n",
    "    \n",
    "    left = len(c1)/(len(c1)+len(c2))*_gini(c1)\n",
    "    right = len(c2)/(len(c1)+len(c2))*_gini(c2)\n",
    "    \n",
    "    gain = _gini(X) -left -right\n",
    "    print(i,gain)"
   ]
  },
  {
   "cell_type": "markdown",
   "metadata": {},
   "source": [
    "### 【問題3】学習"
   ]
  },
  {
   "cell_type": "code",
   "execution_count": 13,
   "metadata": {},
   "outputs": [],
   "source": [
    "# サンプルデータ2\n",
    "X = np.array([[-0.44699 , -2.8073  ],[-1.4621  , -2.4586  ],\n",
    "              [ 0.10645 ,  1.9242  ],[-3.5944  , -4.0112  ],\n",
    "              [-0.9888  ,  4.5718  ],[-3.1625  , -3.9606  ],\n",
    "              [ 0.56421 ,  0.72888 ],[-0.60216 ,  8.4636  ],\n",
    "              [-0.61251 , -0.75345 ],[-0.73535 , -2.2718  ],\n",
    "              [-0.80647 , -2.2135  ],[ 0.86291 ,  2.3946  ],\n",
    "              [-3.1108  ,  0.15394 ],[-2.9362  ,  2.5462  ],\n",
    "              [-0.57242 , -2.9915  ],[ 1.4771  ,  3.4896  ],\n",
    "              [ 0.58619 ,  0.37158 ],[ 0.6017  ,  4.3439  ],\n",
    "              [-2.1086  ,  8.3428  ],[-4.1013  , -4.353   ],\n",
    "              [-1.9948  , -1.3927  ],[ 0.35084 , -0.031994],\n",
    "              [ 0.96765 ,  7.8929  ],[-1.281   , 15.6824  ],\n",
    "              [ 0.96765 , 10.083   ],[ 1.3763  ,  1.3347  ],\n",
    "              [-2.234   , -2.5323  ],[-2.9452  , -1.8219  ],\n",
    "              [ 0.14654 , -0.28733 ],[ 0.5461  ,  5.8245  ],\n",
    "              [-0.65259 ,  9.3444  ],[ 0.59912 ,  5.3524  ],\n",
    "              [ 0.50214 , -0.31818 ],[-3.0603  , -3.6461  ],\n",
    "              [-6.6797  ,  0.67661 ],[-2.353   , -0.72261 ],\n",
    "              [ 1.1319  ,  2.4023  ],[-0.12243 ,  9.0162  ],\n",
    "              [-2.5677  , 13.1779  ],[ 0.057313,  5.4681  ]])\n",
    "\n",
    "y = np.array([0, 0, 0, 0, 0, 0, 0, 0, 0, 0, 0, 0, 0, 0, 0, 0, 0, 0, 0, 0,\n",
    "              1, 1,1, 1, 1, 1, 1, 1, 1, 1, 1, 1, 1, 1, 1, 1, 1, 1, 1, 1])"
   ]
  },
  {
   "cell_type": "code",
   "execution_count": 14,
   "metadata": {},
   "outputs": [
    {
     "data": {
      "image/png": "[encoded data removed]",
      "text/plain": [
       "<Figure size 864x576 with 1 Axes>"
      ]
     },
     "metadata": {
      "needs_background": "light"
     },
     "output_type": "display_data"
    }
   ],
   "source": [
    "# シンプルデータ2を可視化\n",
    "fig = plt.subplots(figsize=(12,8))\n",
    "plt.rcParams[\"font.size\"] = 20\n",
    "plt.scatter(X[y==1,0],X[y==1,1],s=80,label='y=1')\n",
    "plt.scatter(X[y==0,0],X[y==0,1],s=80,label='y=0')\n",
    "plt.legend();"
   ]
  },
  {
   "cell_type": "code",
   "execution_count": 15,
   "metadata": {},
   "outputs": [
    {
     "name": "stdout",
     "output_type": "stream",
     "text": [
      "(32, 2)\n",
      "(32,)\n",
      "(8, 2)\n",
      "(8,)\n"
     ]
    }
   ],
   "source": [
    "# 訓練データ、検証データに分割\n",
    "from sklearn.model_selection import train_test_split\n",
    "X_train, X_valid, y_train, y_valid = \\\n",
    "train_test_split(X,y,train_size=0.8,random_state=None)\n",
    "\n",
    "print(X_train.shape)\n",
    "print(y_train.shape)\n",
    "print(X_valid.shape)\n",
    "print(y_valid.shape)"
   ]
  },
  {
   "cell_type": "code",
   "execution_count": 16,
   "metadata": {},
   "outputs": [
    {
     "name": "stdout",
     "output_type": "stream",
     "text": [
      "feature 0 threshold -3.5944 gain [0.01234879]\n",
      "feature 0 threshold -3.1625 gain [0.02552083]\n",
      "feature 0 threshold -3.1108 gain [0.03960129]\n",
      "feature 0 threshold -3.0603 gain [0.0546875]\n",
      "feature 1 threshold 5.3524 gain [0.06510417]\n",
      "feature 1 threshold 9.0162 gain [0.09040179]\n"
     ]
    }
   ],
   "source": [
    "# スクラッチ決定木での学習過程可視化\n",
    "clf1 = ScratchDecesionTreeClassifierDepth1(verbose=True)\n",
    "clf1.fit(X_train,y_train)"
   ]
  },
  {
   "cell_type": "markdown",
   "metadata": {},
   "source": [
    "### 【問題4】推定"
   ]
  },
  {
   "cell_type": "code",
   "execution_count": 17,
   "metadata": {},
   "outputs": [],
   "source": [
    "y_pred = clf1.predict(X_valid)"
   ]
  },
  {
   "cell_type": "code",
   "execution_count": 18,
   "metadata": {
    "scrolled": true
   },
   "outputs": [
    {
     "name": "stdout",
     "output_type": "stream",
     "text": [
      "[0 0 0 0 0 1 0 0]\n",
      "[1 1 0 1 1 1 0 1]\n"
     ]
    }
   ],
   "source": [
    "print(y_pred)\n",
    "print(y_valid)"
   ]
  },
  {
   "cell_type": "markdown",
   "metadata": {},
   "source": [
    "## 検証"
   ]
  },
  {
   "cell_type": "markdown",
   "metadata": {},
   "source": [
    "### 【問題5】学習と推定"
   ]
  },
  {
   "cell_type": "code",
   "execution_count": 19,
   "metadata": {},
   "outputs": [
    {
     "name": "stdout",
     "output_type": "stream",
     "text": [
      "accuracy 0.375\n",
      "precision 1.0\n",
      "recall 0.16666666666666666\n",
      "f1 0.2857142857142857\n"
     ]
    }
   ],
   "source": [
    "# 評価指標\n",
    "from sklearn.metrics import accuracy_score\n",
    "from sklearn.metrics import precision_score\n",
    "from sklearn.metrics import recall_score\n",
    "from sklearn.metrics import f1_score\n",
    "\n",
    "accuracy = accuracy_score(y_valid, y_pred)\n",
    "precision = precision_score(y_valid, y_pred)\n",
    "recall = recall_score(y_valid, y_pred)\n",
    "f1 = f1_score(y_valid, y_pred)\n",
    "\n",
    "print('accuracy',accuracy)\n",
    "print('precision',precision)\n",
    "print('recall',recall)\n",
    "print('f1',f1)"
   ]
  },
  {
   "cell_type": "code",
   "execution_count": 20,
   "metadata": {},
   "outputs": [],
   "source": [
    "# 決定木\n",
    "from sklearn.tree import DecisionTreeClassifier\n",
    "\n",
    "clf2 = DecisionTreeClassifier(max_depth=1)\n",
    "\n",
    "clf2.fit(X_train,y_train)\n",
    "\n",
    "y_pred = clf2.predict(X_valid)"
   ]
  },
  {
   "cell_type": "code",
   "execution_count": 21,
   "metadata": {
    "scrolled": true
   },
   "outputs": [
    {
     "name": "stdout",
     "output_type": "stream",
     "text": [
      "[0 0 0 0 0 1 0 0]\n",
      "[1 1 0 1 1 1 0 1]\n"
     ]
    }
   ],
   "source": [
    "print(y_pred)\n",
    "print(y_valid)"
   ]
  },
  {
   "cell_type": "code",
   "execution_count": 22,
   "metadata": {},
   "outputs": [
    {
     "name": "stdout",
     "output_type": "stream",
     "text": [
      "accuracy 0.375\n",
      "precision 1.0\n",
      "recall 0.16666666666666666\n",
      "f1 0.2857142857142857\n"
     ]
    }
   ],
   "source": [
    "# 評価指標\n",
    "accuracy = accuracy_score(y_valid, y_pred)\n",
    "precision = precision_score(y_valid, y_pred)\n",
    "recall = recall_score(y_valid, y_pred)\n",
    "f1 = f1_score(y_valid, y_pred)\n",
    "\n",
    "print('accuracy',accuracy)\n",
    "print('precision',precision)\n",
    "print('recall',recall)\n",
    "print('f1',f1)"
   ]
  },
  {
   "cell_type": "markdown",
   "metadata": {},
   "source": [
    "* スクラッチ実装した予測と、深さ1のsklearnの予測結果は、同じとなった\n",
    "* 次は、決定領域を可視化し、sklearnの閾値と比較してみる"
   ]
  },
  {
   "cell_type": "markdown",
   "metadata": {},
   "source": [
    "### 【問題6】決定領域の可視化"
   ]
  },
  {
   "cell_type": "code",
   "execution_count": 23,
   "metadata": {},
   "outputs": [
    {
     "data": {
      "image/png": "[encoded data removed]",
      "text/plain": [
       "<Figure size 864x864 with 1 Axes>"
      ]
     },
     "metadata": {
      "needs_background": "light"
     },
     "output_type": "display_data"
    }
   ],
   "source": [
    "# スクラッチの決定木の分類結果\n",
    "fit,ax = plt.subplots(figsize=(12,12))\n",
    "plt.rcParams[\"font.size\"] = 20\n",
    "decision_region(X_train,y_train,clf1,target_names=['0', '1'],title='TRAIN')"
   ]
  },
  {
   "cell_type": "code",
   "execution_count": 24,
   "metadata": {},
   "outputs": [
    {
     "data": {
      "image/png": "[encoded data removed]",
      "text/plain": [
       "<Figure size 864x864 with 1 Axes>"
      ]
     },
     "metadata": {
      "needs_background": "light"
     },
     "output_type": "display_data"
    }
   ],
   "source": [
    "# scikit-learnの決定木の分類結果\n",
    "fit,ax = plt.subplots(figsize=(12,12))\n",
    "plt.rcParams[\"font.size\"] = 20\n",
    "decision_region(X_train,y_train,clf2,target_names=['0', '1'],title='TRAIN')"
   ]
  },
  {
   "cell_type": "markdown",
   "metadata": {},
   "source": [
    "* 概ね同じところで分けている"
   ]
  },
  {
   "cell_type": "markdown",
   "metadata": {},
   "source": [
    "## より深い決定木"
   ]
  },
  {
   "cell_type": "markdown",
   "metadata": {},
   "source": [
    "### 【問題7】（アドバンス課題）深さ2の決定木分類器クラスの作成"
   ]
  },
  {
   "cell_type": "markdown",
   "metadata": {},
   "source": [
    "深さが2の決定木分類器のクラスScratchDecesionTreeClassifierDepth2を作成してください。\n",
    "深さ2とは空間の分割を2回行うことを指します。  \n",
    "  \n",
    "《ヒント》  \n",
    "各ノードをインスタンスとして扱うと、任意の深さへの拡張が行いやすくなります。  "
   ]
  },
  {
   "cell_type": "code",
   "execution_count": 66,
   "metadata": {},
   "outputs": [
    {
     "name": "stdout",
     "output_type": "stream",
     "text": [
      "(32, 2)\n",
      "(32,)\n",
      "(8, 2)\n",
      "(8,)\n"
     ]
    }
   ],
   "source": [
    "# 訓練データ、検証データの再生成\n",
    "X_train, X_valid, y_train, y_valid = \\\n",
    "train_test_split(X,y,train_size=0.8,random_state=None)\n",
    "\n",
    "print(X_train.shape)\n",
    "print(y_train.shape)\n",
    "print(X_valid.shape)\n",
    "print(y_valid.shape)"
   ]
  },
  {
   "cell_type": "markdown",
   "metadata": {},
   "source": [
    "* ノードクラスを作成し、各ノードの変数を保持、追跡できるようにすることで、任意の深さに対応する。"
   ]
  },
  {
   "cell_type": "code",
   "execution_count": 342,
   "metadata": {},
   "outputs": [],
   "source": [
    "# ノードクラス\n",
    "class Node():\n",
    "    \"\"\"\n",
    "    決定木のノードを構成、分離するクラス\n",
    "    Parameters\n",
    "    ----------\n",
    "    verbose : bool\n",
    "      学習過程を出力する場合はTrue\n",
    "    max_depth : int\n",
    "      決定木の最大学習深度\n",
    "    \"\"\"\n",
    "    def __init__(self, max_depth=None, verbose=False):\n",
    "        # ハイパーパラメータを属性として記録\n",
    "        self.verbose = verbose\n",
    "        self.max_depth = max_depth\n",
    "        self.feature = None\n",
    "        \n",
    "    def _separate(self,X,y,depth):\n",
    "        \"\"\"\n",
    "        ノードをCART法で分割する\n",
    "        Parameters\n",
    "        ----------\n",
    "        X : 次の形のndarray, shape (n_samples, n_features)\n",
    "            訓練データの特徴量\n",
    "        y : 次の形のndarray, shape (n_samples,)\n",
    "            訓練データのラベル値\n",
    "        depth : int\n",
    "            このノードの深さ\n",
    "        \"\"\"\n",
    "        self.depth = depth\n",
    "        features = X.shape[1]\n",
    "        \n",
    "        # 分岐後、ジニ不純度0なら分岐終了\n",
    "        if len(np.unique(y))==1:\n",
    "            self.label = np.unique(y)[0]\n",
    "            return\n",
    "        \n",
    "        # 最大深さ到達なら分岐終了\n",
    "        if self.depth == self.max_depth:\n",
    "            self.label = statistics.mode(y)\n",
    "            return\n",
    "        \n",
    "        self.gain = 0\n",
    "        for feature_number in range(features):\n",
    "\n",
    "            thresholds = np.unique(X[:,feature_number])\n",
    "            \n",
    "            for threshold_value in thresholds[1:]:\n",
    "                l = y[X[:,feature_number] < threshold_value]\n",
    "                r = y[X[:,feature_number] >=threshold_value]\n",
    "                \n",
    "                gini_l = len(l)/(len(l)+len(r))*self._gini(l)\n",
    "                gini_r = len(r)/(len(l)+len(r))*self._gini(r)\n",
    "                \n",
    "                gain_tmp = self._gini(y) -gini_l -gini_r\n",
    "                \n",
    "                if gain_tmp > self.gain:\n",
    "                    self.feature = feature_number\n",
    "                    self.threshold = threshold_value\n",
    "                    self.gain = gain_tmp\n",
    "                    \n",
    "        #verboseをTrueにした際は学習過程を出力\n",
    "        if self.verbose:\n",
    "            print('depth',self.depth,\n",
    "                  'feature',self.feature,\n",
    "                  'threshold',self.threshold,\n",
    "                  'gain',self.gain)\n",
    "        \n",
    "        # 子ノード（左）の分岐\n",
    "        l_X = X[X[:,self.feature] < self.threshold]\n",
    "        l_y = y[X[:,self.feature] < self.threshold]\n",
    "        self.left = Node(self.max_depth,self.verbose)\n",
    "        self.left._separate(l_X,l_y,depth+1)\n",
    "        \n",
    "        # 子ノード（右）の分岐\n",
    "        r_X = X[X[:,self.feature] >=self.threshold]\n",
    "        r_y = y[X[:,self.feature] >=self.threshold]\n",
    "        self.right = Node(self.max_depth,self.verbose)\n",
    "        self.right._separate(r_X,r_y,depth+1)\n",
    "    \n",
    "    def _gini(self,X):\n",
    "        \"\"\"\n",
    "        ジニ不純度を計算する\n",
    "        Parameters\n",
    "        ----------\n",
    "        X : 次の形のndarray, shape (n_samples,)\n",
    "            訓練データのラベル値\n",
    "        \"\"\"\n",
    "        unique,count = np.unique(X,return_counts=True)\n",
    "        \n",
    "        impure = 0\n",
    "        for i in unique:\n",
    "            impure += (count[unique==i]/np.sum(count))**2\n",
    "        \n",
    "        return 1-impure\n",
    "    \n",
    "    def _predict(self,X):\n",
    "        \"\"\"\n",
    "        学習した決定木分類器を使いラベルを推定する\n",
    "        \"\"\"\n",
    "        if self.feature == None or self.depth == self.max_depth:\n",
    "            return self.label\n",
    "        \n",
    "        else:\n",
    "            if X[self.feature] < self.threshold:\n",
    "                return self.left._predict(X)\n",
    "            else:\n",
    "                return self.right._predict(X)"
   ]
  },
  {
   "cell_type": "code",
   "execution_count": 341,
   "metadata": {},
   "outputs": [],
   "source": [
    "# 決定木スクラッチ\n",
    "class ScratchDecesionTreeClassifier():\n",
    "    \"\"\"\n",
    "    深さnの決定木分類器のスクラッチ実装\n",
    "    Parameters\n",
    "    ----------\n",
    "    verbose : bool\n",
    "      学習過程を出力する場合はTrue\n",
    "    max_depth : int\n",
    "      決定木の学習最大深度\n",
    "    \"\"\"\n",
    "    \n",
    "    def __init__(self, max_depth=1,verbose=False):\n",
    "        # ハイパーパラメータを属性として記録\n",
    "        self.verbose = verbose\n",
    "        self.max_depth = max_depth\n",
    "        \n",
    "    def fit(self, X, y):\n",
    "        \"\"\"\n",
    "        決定木分類器を学習する\n",
    "        Parameters\n",
    "        ----------\n",
    "        X : 次の形のndarray, shape (n_samples, n_features)\n",
    "            訓練データの特徴量\n",
    "        y : 次の形のndarray, shape (n_samples, )\n",
    "            訓練データの正解値\n",
    "        \"\"\"\n",
    "        self.depth=0\n",
    "        self.root = Node(self.max_depth,self.verbose)\n",
    "        self.root._separate(X,y,self.depth)\n",
    "        \n",
    "    def predict(self, X):\n",
    "        \"\"\"\n",
    "        決定木分類器を使いラベルを推定する\n",
    "        \"\"\"\n",
    "        y_pred = np.zeros(len(X))\n",
    "        \n",
    "        for i,x in enumerate(X):\n",
    "            y_pred[i] = self.root._predict(x)\n",
    "        return y_pred"
   ]
  },
  {
   "cell_type": "code",
   "execution_count": 332,
   "metadata": {
    "scrolled": false
   },
   "outputs": [],
   "source": [
    "# スクラッチ決定木で深さ2の学習\n",
    "clf3 = ScratchDecesionTreeClassifier(max_depth=2,verbose=False)\n",
    "clf3.fit(X_train,y_train)"
   ]
  },
  {
   "cell_type": "code",
   "execution_count": 333,
   "metadata": {},
   "outputs": [
    {
     "name": "stdout",
     "output_type": "stream",
     "text": [
      "[0. 0. 0. 0. 0. 0. 0. 0.]\n"
     ]
    }
   ],
   "source": [
    "y_pred3 = clf3.predict(X_valid)\n",
    "print(y_pred3)"
   ]
  },
  {
   "cell_type": "code",
   "execution_count": 334,
   "metadata": {},
   "outputs": [
    {
     "data": {
      "image/png": "[encoded data removed]",
      "text/plain": [
       "<Figure size 864x864 with 1 Axes>"
      ]
     },
     "metadata": {
      "needs_background": "light"
     },
     "output_type": "display_data"
    }
   ],
   "source": [
    "# スクラッチの決定木（深さ２）の決定領域\n",
    "fit,ax = plt.subplots(figsize=(12,12))\n",
    "plt.rcParams[\"font.size\"] = 20\n",
    "decision_region(X_train,y_train,clf3,target_names=['0', '1'],title='TRAIN')"
   ]
  },
  {
   "cell_type": "markdown",
   "metadata": {},
   "source": [
    "### 【問題8】（アドバンス課題）深さに制限のない決定木分類器クラスの作成"
   ]
  },
  {
   "cell_type": "markdown",
   "metadata": {},
   "source": [
    "深さに制限のない決定木分類器のクラスScratchDecesionTreeClassifierDepthInfを作成してください。\n",
    "\n",
    "任意の深さを指定できるようにするとともに、指定しない場合は全ての葉ノードがジニ不純度0となるまで続けられるようにもしてください。"
   ]
  },
  {
   "cell_type": "code",
   "execution_count": 335,
   "metadata": {
    "scrolled": true
   },
   "outputs": [],
   "source": [
    "# スクラッチ決定木(深さn)の学習\n",
    "clf5 = ScratchDecesionTreeClassifier(max_depth=None,verbose=False)\n",
    "clf5.fit(X_train,y_train)"
   ]
  },
  {
   "cell_type": "code",
   "execution_count": 336,
   "metadata": {},
   "outputs": [
    {
     "name": "stdout",
     "output_type": "stream",
     "text": [
      "[0. 1. 0. 0. 0. 0. 0. 0.]\n"
     ]
    }
   ],
   "source": [
    "y_pred5 = clf5.predict(X_valid)\n",
    "print(y_pred5)"
   ]
  },
  {
   "cell_type": "code",
   "execution_count": 337,
   "metadata": {},
   "outputs": [
    {
     "name": "stdout",
     "output_type": "stream",
     "text": [
      "accuracy 0.375\n",
      "precision 1.0\n",
      "recall 0.16666666666666666\n",
      "f1 0.2857142857142857\n"
     ]
    }
   ],
   "source": [
    "accuracy = accuracy_score(y_valid, y_pred5)\n",
    "precision = precision_score(y_valid, y_pred5)\n",
    "recall = recall_score(y_valid, y_pred5)\n",
    "f1 = f1_score(y_valid, y_pred5)\n",
    "\n",
    "print('accuracy',accuracy)\n",
    "print('precision',precision)\n",
    "print('recall',recall)\n",
    "print('f1',f1)"
   ]
  },
  {
   "cell_type": "code",
   "execution_count": 339,
   "metadata": {
    "scrolled": false
   },
   "outputs": [
    {
     "data": {
      "image/png": "[encoded data removed]",
      "text/plain": [
       "<Figure size 864x864 with 1 Axes>"
      ]
     },
     "metadata": {
      "needs_background": "light"
     },
     "output_type": "display_data"
    }
   ],
   "source": [
    "# スクラッチ決定木（深さn）の決定領域\n",
    "fit,ax = plt.subplots(figsize=(12,12))\n",
    "plt.rcParams[\"font.size\"] = 20\n",
    "decision_region(X_train,y_train,clf5,target_names=['0', '1'],title='TRAIN')"
   ]
  },
  {
   "cell_type": "code",
   "execution_count": 321,
   "metadata": {},
   "outputs": [
    {
     "data": {
      "image/png": "[encoded data removed]",
      "text/plain": [
       "<Figure size 864x864 with 1 Axes>"
      ]
     },
     "metadata": {
      "needs_background": "light"
     },
     "output_type": "display_data"
    }
   ],
   "source": [
    "# sklearn決定木（深さn）の決定領域\n",
    "clf_sk = DecisionTreeClassifier(max_depth=None,random_state=None)\n",
    "clf_sk.fit(X_train,y_train)\n",
    "\n",
    "\n",
    "fit,ax = plt.subplots(figsize=(12,12))\n",
    "plt.rcParams[\"font.size\"] = 20\n",
    "decision_region(X_train,y_train,clf_sk,target_names=['0', '1'],title='TRAIN')"
   ]
  },
  {
   "cell_type": "markdown",
   "metadata": {},
   "source": [
    "## Practice_クラス、インスタンス、再帰"
   ]
  },
  {
   "cell_type": "code",
   "execution_count": 304,
   "metadata": {},
   "outputs": [],
   "source": [
    "# 深さnまでノードを生成するクラス\n",
    "class Test():\n",
    "    def __init__(self,max_depth,lr=None):\n",
    "        self.max_depth = max_depth\n",
    "        self.lr = lr\n",
    "        \n",
    "    def separate(self,depth):\n",
    "        self.depth = depth\n",
    "        \n",
    "        print('Depth',self.depth,'Node',self.lr)\n",
    "        \n",
    "        if self.depth < self.max_depth:\n",
    "            \n",
    "            self.lr += ' left'\n",
    "            self.left = Test(self.max_depth,self.lr)\n",
    "            self.left.separate(depth+1)\n",
    "            \n",
    "            self.lr += ' right'\n",
    "            self.right = Test(self.max_depth,self.lr)\n",
    "            self.right.separate(depth+1)\n",
    "    \n",
    "    def trace(self):\n",
    "        \n",
    "        if self.depth == self.max_depth:\n",
    "            return print('Depth',self.depth,'Reach max_depth')\n",
    "        \n",
    "        else:\n",
    "            print('Depth',self.depth,'Next Left Node')\n",
    "            self.left.trace()\n",
    "            print('Depth',self.depth,'Next Right Node')\n",
    "            self.right.trace()"
   ]
  },
  {
   "cell_type": "code",
   "execution_count": 305,
   "metadata": {},
   "outputs": [
    {
     "name": "stdout",
     "output_type": "stream",
     "text": [
      "Depth 0 Node Root\n",
      "Depth 1 Node Root left\n",
      "Depth 2 Node Root left left\n",
      "Depth 3 Node Root left left left\n",
      "Depth 4 Node Root left left left left\n",
      "Depth 4 Node Root left left left left right\n",
      "Depth 3 Node Root left left left right\n",
      "Depth 4 Node Root left left left right left\n",
      "Depth 4 Node Root left left left right left right\n",
      "Depth 2 Node Root left left right\n",
      "Depth 3 Node Root left left right left\n",
      "Depth 4 Node Root left left right left left\n",
      "Depth 4 Node Root left left right left left right\n",
      "Depth 3 Node Root left left right left right\n",
      "Depth 4 Node Root left left right left right left\n",
      "Depth 4 Node Root left left right left right left right\n",
      "Depth 1 Node Root left right\n",
      "Depth 2 Node Root left right left\n",
      "Depth 3 Node Root left right left left\n",
      "Depth 4 Node Root left right left left left\n",
      "Depth 4 Node Root left right left left left right\n",
      "Depth 3 Node Root left right left left right\n",
      "Depth 4 Node Root left right left left right left\n",
      "Depth 4 Node Root left right left left right left right\n",
      "Depth 2 Node Root left right left right\n",
      "Depth 3 Node Root left right left right left\n",
      "Depth 4 Node Root left right left right left left\n",
      "Depth 4 Node Root left right left right left left right\n",
      "Depth 3 Node Root left right left right left right\n",
      "Depth 4 Node Root left right left right left right left\n",
      "Depth 4 Node Root left right left right left right left right\n"
     ]
    }
   ],
   "source": [
    "# ノードの分割\n",
    "test = Test(max_depth=4,lr='Root')\n",
    "test.separate(depth=0)"
   ]
  },
  {
   "cell_type": "code",
   "execution_count": 307,
   "metadata": {},
   "outputs": [
    {
     "name": "stdout",
     "output_type": "stream",
     "text": [
      "Depth 0 Next Left Node\n",
      "Depth 1 Next Left Node\n",
      "Depth 2 Next Left Node\n",
      "Depth 3 Next Left Node\n",
      "Depth 4 Reach max_depth\n",
      "Depth 3 Next Right Node\n",
      "Depth 4 Reach max_depth\n",
      "Depth 2 Next Right Node\n",
      "Depth 3 Next Left Node\n",
      "Depth 4 Reach max_depth\n",
      "Depth 3 Next Right Node\n",
      "Depth 4 Reach max_depth\n",
      "Depth 1 Next Right Node\n",
      "Depth 2 Next Left Node\n",
      "Depth 3 Next Left Node\n",
      "Depth 4 Reach max_depth\n",
      "Depth 3 Next Right Node\n",
      "Depth 4 Reach max_depth\n",
      "Depth 2 Next Right Node\n",
      "Depth 3 Next Left Node\n",
      "Depth 4 Reach max_depth\n",
      "Depth 3 Next Right Node\n",
      "Depth 4 Reach max_depth\n",
      "Depth 0 Next Right Node\n",
      "Depth 1 Next Left Node\n",
      "Depth 2 Next Left Node\n",
      "Depth 3 Next Left Node\n",
      "Depth 4 Reach max_depth\n",
      "Depth 3 Next Right Node\n",
      "Depth 4 Reach max_depth\n",
      "Depth 2 Next Right Node\n",
      "Depth 3 Next Left Node\n",
      "Depth 4 Reach max_depth\n",
      "Depth 3 Next Right Node\n",
      "Depth 4 Reach max_depth\n",
      "Depth 1 Next Right Node\n",
      "Depth 2 Next Left Node\n",
      "Depth 3 Next Left Node\n",
      "Depth 4 Reach max_depth\n",
      "Depth 3 Next Right Node\n",
      "Depth 4 Reach max_depth\n",
      "Depth 2 Next Right Node\n",
      "Depth 3 Next Left Node\n",
      "Depth 4 Reach max_depth\n",
      "Depth 3 Next Right Node\n",
      "Depth 4 Reach max_depth\n"
     ]
    }
   ],
   "source": [
    "# 生成したノードのトレース\n",
    "test.trace()"
   ]
  },
  {
   "cell_type": "code",
   "execution_count": 234,
   "metadata": {},
   "outputs": [],
   "source": [
    "class Test2():\n",
    "    def __init__(self,i_var='Hello'):\n",
    "        self.i_var = i_var\n",
    "        \n",
    "    def __str__(self):\n",
    "        return self.i_var"
   ]
  },
  {
   "cell_type": "code",
   "execution_count": 200,
   "metadata": {},
   "outputs": [
    {
     "name": "stdout",
     "output_type": "stream",
     "text": [
      "Rooo\n"
     ]
    }
   ],
   "source": [
    "print(Test2('Rooo'))"
   ]
  }
 ],
 "metadata": {
  "kernelspec": {
   "display_name": "Python 3",
   "language": "python",
   "name": "python3"
  },
  "language_info": {
   "codemirror_mode": {
    "name": "ipython",
    "version": 3
   },
   "file_extension": ".py",
   "mimetype": "text/x-python",
   "name": "python",
   "nbconvert_exporter": "python",
   "pygments_lexer": "ipython3",
   "version": "3.8.2"
  },
  "toc": {
   "base_numbering": 1,
   "nav_menu": {},
   "number_sections": true,
   "sideBar": true,
   "skip_h1_title": true,
   "title_cell": "目次",
   "title_sidebar": "Contents",
   "toc_cell": true,
   "toc_position": {},
   "toc_section_display": true,
   "toc_window_display": true
  }
 },
 "nbformat": 4,
 "nbformat_minor": 4
}
