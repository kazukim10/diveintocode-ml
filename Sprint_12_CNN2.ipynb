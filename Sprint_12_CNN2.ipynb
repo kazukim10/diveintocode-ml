{
 "cells": [
  {
   "cell_type": "markdown",
   "metadata": {},
   "source": [
    "# Sprint 深層学習スクラッチ 畳み込みニューラルネットワーク２"
   ]
  },
  {
   "cell_type": "markdown",
   "metadata": {
    "toc": true
   },
   "source": [
    "<h1>目次<span class=\"tocSkip\"></span></h1>\n",
    "<div class=\"toc\"><ul class=\"toc-item\"><li><span><a href=\"#このSprintについて\" data-toc-modified-id=\"このSprintについて-1\"><span class=\"toc-item-num\">1&nbsp;&nbsp;</span>このSprintについて</a></span><ul class=\"toc-item\"><li><span><a href=\"#Sprintの目的\" data-toc-modified-id=\"Sprintの目的-1.1\"><span class=\"toc-item-num\">1.1&nbsp;&nbsp;</span>Sprintの目的</a></span></li><li><span><a href=\"#どのように学ぶか\" data-toc-modified-id=\"どのように学ぶか-1.2\"><span class=\"toc-item-num\">1.2&nbsp;&nbsp;</span>どのように学ぶか</a></span></li></ul></li><li><span><a href=\"#2次元の畳み込みニューラルネットワークスクラッチ\" data-toc-modified-id=\"2次元の畳み込みニューラルネットワークスクラッチ-2\"><span class=\"toc-item-num\">2&nbsp;&nbsp;</span>2次元の畳み込みニューラルネットワークスクラッチ</a></span><ul class=\"toc-item\"><li><span><a href=\"#データセットの用意\" data-toc-modified-id=\"データセットの用意-2.1\"><span class=\"toc-item-num\">2.1&nbsp;&nbsp;</span>データセットの用意</a></span></li><li><span><a href=\"#これまでのNNクラスなどの準備\" data-toc-modified-id=\"これまでのNNクラスなどの準備-2.2\"><span class=\"toc-item-num\">2.2&nbsp;&nbsp;</span>これまでのNNクラスなどの準備</a></span><ul class=\"toc-item\"><li><span><a href=\"#全結合層\" data-toc-modified-id=\"全結合層-2.2.1\"><span class=\"toc-item-num\">2.2.1&nbsp;&nbsp;</span>全結合層</a></span></li><li><span><a href=\"#初期化\" data-toc-modified-id=\"初期化-2.2.2\"><span class=\"toc-item-num\">2.2.2&nbsp;&nbsp;</span>初期化</a></span></li><li><span><a href=\"#最適化\" data-toc-modified-id=\"最適化-2.2.3\"><span class=\"toc-item-num\">2.2.3&nbsp;&nbsp;</span>最適化</a></span></li><li><span><a href=\"#活性化関数\" data-toc-modified-id=\"活性化関数-2.2.4\"><span class=\"toc-item-num\">2.2.4&nbsp;&nbsp;</span>活性化関数</a></span></li><li><span><a href=\"#ミニバッチ\" data-toc-modified-id=\"ミニバッチ-2.2.5\"><span class=\"toc-item-num\">2.2.5&nbsp;&nbsp;</span>ミニバッチ</a></span></li></ul></li><li><span><a href=\"#【問題1】2次元畳み込み層の作成\" data-toc-modified-id=\"【問題1】2次元畳み込み層の作成-2.3\"><span class=\"toc-item-num\">2.3&nbsp;&nbsp;</span>【問題1】2次元畳み込み層の作成</a></span><ul class=\"toc-item\"><li><span><a href=\"#畳み込み層クラス\" data-toc-modified-id=\"畳み込み層クラス-2.3.1\"><span class=\"toc-item-num\">2.3.1&nbsp;&nbsp;</span>畳み込み層クラス</a></span></li><li><span><a href=\"#2次元畳み込みの実験\" data-toc-modified-id=\"2次元畳み込みの実験-2.3.2\"><span class=\"toc-item-num\">2.3.2&nbsp;&nbsp;</span>2次元畳み込みの実験</a></span></li></ul></li><li><span><a href=\"#【問題2】2次元畳み込み後の出力サイズ\" data-toc-modified-id=\"【問題2】2次元畳み込み後の出力サイズ-2.4\"><span class=\"toc-item-num\">2.4&nbsp;&nbsp;</span>【問題2】2次元畳み込み後の出力サイズ</a></span></li><li><span><a href=\"#【問題3】最大プーリング層の作成\" data-toc-modified-id=\"【問題3】最大プーリング層の作成-2.5\"><span class=\"toc-item-num\">2.5&nbsp;&nbsp;</span>【問題3】最大プーリング層の作成</a></span></li><li><span><a href=\"#【問題4】（アドバンス課題）平均プーリングの作成\" data-toc-modified-id=\"【問題4】（アドバンス課題）平均プーリングの作成-2.6\"><span class=\"toc-item-num\">2.6&nbsp;&nbsp;</span>【問題4】（アドバンス課題）平均プーリングの作成</a></span></li><li><span><a href=\"#【問題5】平滑化\" data-toc-modified-id=\"【問題5】平滑化-2.7\"><span class=\"toc-item-num\">2.7&nbsp;&nbsp;</span>【問題5】平滑化</a></span></li><li><span><a href=\"#【問題6】学習と推定\" data-toc-modified-id=\"【問題6】学習と推定-2.8\"><span class=\"toc-item-num\">2.8&nbsp;&nbsp;</span>【問題6】学習と推定</a></span></li><li><span><a href=\"#【問題7】（アドバンス課題）LeNet\" data-toc-modified-id=\"【問題7】（アドバンス課題）LeNet-2.9\"><span class=\"toc-item-num\">2.9&nbsp;&nbsp;</span>【問題7】（アドバンス課題）LeNet</a></span></li><li><span><a href=\"#【問題8】（アドバンス課題）有名な画像認識モデルの調査\" data-toc-modified-id=\"【問題8】（アドバンス課題）有名な画像認識モデルの調査-2.10\"><span class=\"toc-item-num\">2.10&nbsp;&nbsp;</span>【問題8】（アドバンス課題）有名な画像認識モデルの調査</a></span></li><li><span><a href=\"#【問題9】出力サイズとパラメータ数の計算\" data-toc-modified-id=\"【問題9】出力サイズとパラメータ数の計算-2.11\"><span class=\"toc-item-num\">2.11&nbsp;&nbsp;</span>【問題9】出力サイズとパラメータ数の計算</a></span></li><li><span><a href=\"#【問題10】（アドバンス課題）フィルタサイズに関する調査\" data-toc-modified-id=\"【問題10】（アドバンス課題）フィルタサイズに関する調査-2.12\"><span class=\"toc-item-num\">2.12&nbsp;&nbsp;</span>【問題10】（アドバンス課題）フィルタサイズに関する調査</a></span></li></ul></li></ul></div>"
   ]
  },
  {
   "cell_type": "markdown",
   "metadata": {},
   "source": [
    "## このSprintについて\n",
    "### Sprintの目的\n",
    "* スクラッチを通してCNNの基礎を理解する\n",
    "\n",
    "### どのように学ぶか\n",
    "スクラッチで2次元用畳み込みニューラルネットワークを実装した後、学習と検証を行なっていきます。"
   ]
  },
  {
   "cell_type": "markdown",
   "metadata": {},
   "source": [
    "## 2次元の畳み込みニューラルネットワークスクラッチ\n",
    "2次元に対応した畳み込みニューラルネットワーク（CNN）のクラスをスクラッチで作成していきます。  \n",
    "NumPyなど最低限のライブラリのみを使いアルゴリズムを実装していきます。  \n",
    "  \n",
    "プーリング層なども作成することで、CNNの基本形を完成させます。  \n",
    "クラスの名前はScratch2dCNNClassifierとしてください。\n",
    "\n",
    "### データセットの用意\n",
    "引き続きMNISTデータセットを使用します。2次元畳み込み層へは、28×28の状態で入力します。\n",
    "\n",
    "今回は白黒画像ですからチャンネルは1つしかありませんが、チャンネル方向の軸は用意しておく必要があります。\n",
    "\n",
    "(n_samples, n_channels, height, width)のNCHWまたは(n_samples, height, width, n_channels)のNHWCどちらかの形にしてください。"
   ]
  },
  {
   "cell_type": "code",
   "execution_count": 122,
   "metadata": {},
   "outputs": [],
   "source": [
    "# インポート\n",
    "import numpy as np\n",
    "import matplotlib.pyplot as plt\n",
    "\n",
    "# 評価指標\n",
    "from sklearn.metrics import accuracy_score"
   ]
  },
  {
   "cell_type": "code",
   "execution_count": 123,
   "metadata": {},
   "outputs": [],
   "source": [
    "# MNISTデータセットのダウンロード\n",
    "from keras.datasets import mnist\n",
    "(X, y), (X_test, y_test) = mnist.load_data()"
   ]
  },
  {
   "cell_type": "code",
   "execution_count": 124,
   "metadata": {},
   "outputs": [
    {
     "name": "stdout",
     "output_type": "stream",
     "text": [
      "(60000, 28, 28)\n",
      "(60000, 28, 28)\n",
      "uint8\n"
     ]
    }
   ],
   "source": [
    "# データの確認\n",
    "print(X.shape) # (60000, 28, 28)\n",
    "print(X.shape) # (10000, 28, 28)\n",
    "print(X[0].dtype) # uint8"
   ]
  },
  {
   "cell_type": "code",
   "execution_count": 125,
   "metadata": {},
   "outputs": [
    {
     "name": "stdout",
     "output_type": "stream",
     "text": [
      "1.0\n",
      "0.0\n"
     ]
    }
   ],
   "source": [
    "# 型変換、正規化\n",
    "X = X.astype(np.float)\n",
    "X_test = X_test.astype(np.float)\n",
    "X /= 255\n",
    "X_test /= 255\n",
    "print(X.max()) # 1.0\n",
    "print(X.min()) # 0.0"
   ]
  },
  {
   "cell_type": "code",
   "execution_count": 126,
   "metadata": {},
   "outputs": [
    {
     "name": "stdout",
     "output_type": "stream",
     "text": [
      "(60000,)\n",
      "(60000, 10)\n",
      "float64\n"
     ]
    }
   ],
   "source": [
    "# 正解ラベル値をone-hotエンコーディング\n",
    "from sklearn.preprocessing import OneHotEncoder\n",
    "\n",
    "enc = OneHotEncoder(handle_unknown='ignore', sparse=False)\n",
    "y_one_hot = enc.fit_transform(y[:, np.newaxis])\n",
    "y_test_one_hot = enc.transform(y_test[:, np.newaxis])\n",
    "print(y.shape) # (60000,)\n",
    "print(y_one_hot.shape) # (60000, 10)\n",
    "print(y_one_hot.dtype) # float64"
   ]
  },
  {
   "cell_type": "code",
   "execution_count": 127,
   "metadata": {},
   "outputs": [
    {
     "name": "stdout",
     "output_type": "stream",
     "text": [
      "(48000, 28, 28)\n",
      "(12000, 28, 28)\n",
      "(48000, 10)\n",
      "(12000, 10)\n"
     ]
    }
   ],
   "source": [
    "# 訓練データと、検証データに分割\n",
    "from sklearn.model_selection import train_test_split\n",
    "\n",
    "X_train, X_valid, y_train, y_valid = train_test_split(X, y_one_hot, test_size=0.2)\n",
    "print(X_train.shape)\n",
    "print(X_valid.shape)\n",
    "print(y_train.shape)\n",
    "print(y_valid.shape)"
   ]
  },
  {
   "cell_type": "markdown",
   "metadata": {},
   "source": [
    "### これまでのNNクラスなどの準備"
   ]
  },
  {
   "cell_type": "markdown",
   "metadata": {},
   "source": [
    "#### 全結合層"
   ]
  },
  {
   "cell_type": "code",
   "execution_count": 128,
   "metadata": {},
   "outputs": [],
   "source": [
    "class FC:\n",
    "    \"\"\"\n",
    "    ノード数n_nodes1からn_nodes2への全結合層\n",
    "    Parameters\n",
    "    ----------\n",
    "    n_nodes1 : int\n",
    "      前の層のノード数\n",
    "    n_nodes2 : int\n",
    "      後の層のノード数\n",
    "    initializer : 初期化方法のインスタンス\n",
    "    optimizer : 最適化手法のインスタンス\n",
    "    \"\"\"\n",
    "    def __init__(self, n_nodes1, n_nodes2, initializer, optimizer, activation):\n",
    "        \n",
    "        self.n_nodes1 = n_nodes1\n",
    "        self.n_nodes2 = n_nodes2\n",
    "        self.initializer = initializer\n",
    "        self.optimizer = optimizer\n",
    "        self.activation = activation\n",
    "        # 初期化\n",
    "        # initializerのメソッドを使い、self.Wとself.Bを初期化する\n",
    "        self.W = self.initializer.W(self.n_nodes1,self.n_nodes2)\n",
    "        self.B = self.initializer.B(self.n_nodes2)\n",
    "        \n",
    "    def forward(self, X):\n",
    "        \"\"\"\n",
    "        フォワード\n",
    "        Parameters\n",
    "        ----------\n",
    "        X : 次の形のndarray, shape (batch_size, n_nodes1)\n",
    "            入力\n",
    "        Returns\n",
    "        ----------\n",
    "        A : 次の形のndarray, shape (batch_size, n_nodes2)\n",
    "            出力\n",
    "        \"\"\"\n",
    "        self.X = X\n",
    "        self.A = np.dot(self.X,self.W) + self.B\n",
    "        \n",
    "        return self.activation.forward(self.A)\n",
    "    \n",
    "    def backward(self, dZ):\n",
    "        \"\"\"\n",
    "        バックワード\n",
    "        Parameters\n",
    "        ----------\n",
    "        dA : 次の形のndarray, shape (batch_size, n_nodes2)\n",
    "            後ろから流れてきた勾配\n",
    "        Returns\n",
    "        ----------\n",
    "        dZ : 次の形のndarray, shape (batch_size, n_nodes1)\n",
    "            前に流す勾配\n",
    "        \"\"\"\n",
    "        dA = self.activation.backward(dZ)\n",
    "        self.dB = np.mean(dA,axis=0)\n",
    "        self.dW = np.dot(self.X.T,dA)/len(self.X)\n",
    "        dZ = np.dot(dA,self.W.T)\n",
    "        \n",
    "        # 更新\n",
    "        self = self.optimizer.update(self)\n",
    "        \n",
    "        return dZ"
   ]
  },
  {
   "cell_type": "markdown",
   "metadata": {},
   "source": [
    "#### 初期化"
   ]
  },
  {
   "cell_type": "code",
   "execution_count": 129,
   "metadata": {},
   "outputs": [],
   "source": [
    "class SimpleInitializerConv2d:\n",
    "    \"\"\"\n",
    "    ガウス分布によるシンプルな初期化\n",
    "    Parameters\n",
    "    ----------\n",
    "    sigma : float\n",
    "      ガウス分布の標準偏差\n",
    "    \"\"\"\n",
    "    def __init__(self, sigma=0.01):\n",
    "        self.sigma = sigma\n",
    "        \n",
    "    def W(self, F, C, FH, FW):\n",
    "        \"\"\"\n",
    "        重みの初期化\n",
    "        Parameters\n",
    "        ----------\n",
    "        \n",
    "        Returns\n",
    "        ----------\n",
    "        W : 重み\n",
    "        \"\"\"\n",
    "        return self.sigma * np.random.randn(F,C,FH,FW)\n",
    "    \n",
    "    def B(self, F):\n",
    "        \"\"\"\n",
    "        バイアスの初期化\n",
    "        Parameters\n",
    "        ----------\n",
    "\n",
    "        Returns\n",
    "        ----------\n",
    "        B : バイアス\n",
    "        \"\"\"\n",
    "        return np.zeros(F)"
   ]
  },
  {
   "cell_type": "code",
   "execution_count": 130,
   "metadata": {},
   "outputs": [],
   "source": [
    "class SimpleInitializer:\n",
    "    \"\"\"\n",
    "    ガウス分布によるシンプルな初期化\n",
    "    Parameters\n",
    "    ----------\n",
    "    sigma : float\n",
    "      ガウス分布の標準偏差\n",
    "    \"\"\"\n",
    "    def __init__(self, sigma):\n",
    "        self.sigma = sigma\n",
    "        \n",
    "    def W(self, n_nodes1, n_nodes2):\n",
    "        \"\"\"\n",
    "        重みの初期化\n",
    "        Parameters\n",
    "        ----------\n",
    "        n_nodes1 : int\n",
    "          前の層のノード数\n",
    "        n_nodes2 : int\n",
    "          後の層のノード数\n",
    "\n",
    "        Returns\n",
    "        ----------\n",
    "        W : 重み\n",
    "        \"\"\"\n",
    "        return self.sigma * np.random.randn(n_nodes1, n_nodes2)\n",
    "    \n",
    "    def B(self, n_nodes2):\n",
    "        \"\"\"\n",
    "        バイアスの初期化\n",
    "        Parameters\n",
    "        ----------\n",
    "        n_nodes2 : int\n",
    "          後の層のノード数\n",
    "\n",
    "        Returns\n",
    "        ----------\n",
    "        B : バイアス\n",
    "        \"\"\"\n",
    "        return np.zeros(n_nodes2)"
   ]
  },
  {
   "cell_type": "code",
   "execution_count": 131,
   "metadata": {},
   "outputs": [],
   "source": [
    "class HeInitializer():\n",
    "    \"\"\"\n",
    "    Heによる重みの初期化\n",
    "    \"\"\"\n",
    "    def __init__(self):\n",
    "        pass\n",
    "        \n",
    "    def W(self, n_nodes1, n_nodes2):\n",
    "        \"\"\"\n",
    "        重みの初期化\n",
    "        Parameters\n",
    "        ----------\n",
    "        n_nodes1 : int\n",
    "          前の層のノード数\n",
    "        n_nodes2 : int\n",
    "          後の層のノード数\n",
    "\n",
    "        Returns\n",
    "        ----------\n",
    "        W : 重み\n",
    "        \"\"\"\n",
    "        return np.random.randn(n_nodes1, n_nodes2)*np.sqrt(2/n_nodes1)\n",
    "    \n",
    "    def B(self, n_nodes2):\n",
    "        \"\"\"\n",
    "        バイアスの初期化\n",
    "        Parameters\n",
    "        ----------\n",
    "        n_nodes2 : int\n",
    "          後の層のノード数\n",
    "\n",
    "        Returns\n",
    "        ----------\n",
    "        B : バイアス\n",
    "        \"\"\"\n",
    "        return np.zeros(n_nodes2)"
   ]
  },
  {
   "cell_type": "markdown",
   "metadata": {},
   "source": [
    "#### 最適化"
   ]
  },
  {
   "cell_type": "code",
   "execution_count": 132,
   "metadata": {},
   "outputs": [],
   "source": [
    "class SGD:\n",
    "    \"\"\"\n",
    "    確率的勾配降下法\n",
    "    Parameters\n",
    "    ----------\n",
    "    lr : 学習率\n",
    "    \"\"\"\n",
    "    def __init__(self, lr=0.01):\n",
    "        self.lr = lr\n",
    "        \n",
    "    def update(self, layer):\n",
    "        \"\"\"\n",
    "        ある層の重みやバイアスの更新\n",
    "        Parameters\n",
    "        ----------\n",
    "        layer : 更新前の層のインスタンス\n",
    "        \"\"\"\n",
    "        layer.W -= self.lr*layer.dW\n",
    "        layer.B -= self.lr*layer.dB\n",
    "        \n",
    "        return layer"
   ]
  },
  {
   "cell_type": "code",
   "execution_count": 133,
   "metadata": {},
   "outputs": [],
   "source": [
    "class AdaGrad:\n",
    "    \"\"\"\n",
    "    確率的勾配降下法\n",
    "    Parameters\n",
    "    ----------\n",
    "    lr : 学習率\n",
    "    \"\"\"\n",
    "    def __init__(self, lr):\n",
    "        self.lr = lr\n",
    "        self.hW = 0\n",
    "        self.hB = 0\n",
    "        \n",
    "    def update(self, layer):\n",
    "        \"\"\"\n",
    "        ある層の重みやバイアスの更新\n",
    "        Parameters\n",
    "        ----------\n",
    "        layer : 更新前の層のインスタンス\n",
    "        \"\"\"\n",
    "        self.hW += layer.dW*layer.dW\n",
    "        self.hB = layer.dB*layer.dB\n",
    "    \n",
    "        layer.W -= self.lr*layer.dW/(np.sqrt(self.hW) +1e-7)\n",
    "        layer.B -= self.lr*layer.dB/(np.sqrt(self.hB) +1e-7)\n",
    "        \n",
    "        return layer"
   ]
  },
  {
   "cell_type": "markdown",
   "metadata": {},
   "source": [
    "#### 活性化関数"
   ]
  },
  {
   "cell_type": "code",
   "execution_count": 134,
   "metadata": {},
   "outputs": [],
   "source": [
    "class ReLU():\n",
    "    \"\"\"\n",
    "    活性化関数 : ReLU関数\n",
    "    \"\"\"\n",
    "    def __init__(self):\n",
    "        pass\n",
    "        \n",
    "    def forward(self,A):\n",
    "        self.A = A\n",
    "        return np.maximum(self.A,0)\n",
    "    \n",
    "    def backward(self,dZ):\n",
    "        \n",
    "        return np.where(self.A>0,dZ,0)"
   ]
  },
  {
   "cell_type": "code",
   "execution_count": 135,
   "metadata": {},
   "outputs": [],
   "source": [
    "class Softmax():\n",
    "    \"\"\"\n",
    "    活性化関数 : ソフトマックス関数\n",
    "    \"\"\"\n",
    "    def __init__(self):\n",
    "        pass\n",
    "        \n",
    "    def forward(self,A):\n",
    "        \n",
    "        return np.exp(A-np.max(A))/np.sum(np.exp(A-np.max(A)),axis=1,keepdims=True)\n",
    "    \n",
    "    def backward(self,dZ):\n",
    "        return dZ"
   ]
  },
  {
   "cell_type": "markdown",
   "metadata": {},
   "source": [
    "#### ミニバッチ"
   ]
  },
  {
   "cell_type": "code",
   "execution_count": 136,
   "metadata": {},
   "outputs": [],
   "source": [
    "# ミニバッチ処理のクラス\n",
    "class GetMiniBatch:\n",
    "    \"\"\"\n",
    "    ミニバッチを取得するイテレータ\n",
    "\n",
    "    Parameters\n",
    "    ----------\n",
    "    X : 次の形のndarray, shape (n_samples, n_features)\n",
    "      訓練データ\n",
    "    y : 次の形のndarray, shape (n_samples, 1)\n",
    "      正解値\n",
    "    batch_size : int\n",
    "      バッチサイズ\n",
    "    seed : int\n",
    "      NumPyの乱数のシード\n",
    "    \"\"\"\n",
    "    def __init__(self, X, y, batch_size = 20, seed=None):\n",
    "        self.batch_size = batch_size\n",
    "        np.random.seed(seed)\n",
    "        shuffle_index = np.random.permutation(np.arange(X.shape[0]))\n",
    "        self._X = X[shuffle_index]\n",
    "        self._y = y[shuffle_index]\n",
    "        self._stop = np.ceil(X.shape[0]/self.batch_size).astype(np.int)\n",
    "        \n",
    "    def __len__(self):\n",
    "        return self._stop\n",
    "    \n",
    "    def __getitem__(self,item):\n",
    "        p0 = item*self.batch_size\n",
    "        p1 = item*self.batch_size + self.batch_size\n",
    "        return self._X[p0:p1], self._y[p0:p1] \n",
    "    \n",
    "    def __iter__(self):\n",
    "        self._counter = 0\n",
    "        return self\n",
    "    \n",
    "    def __next__(self):\n",
    "        if self._counter >= self._stop:\n",
    "            raise StopIteration()\n",
    "        p0 = self._counter*self.batch_size\n",
    "        p1 = self._counter*self.batch_size + self.batch_size\n",
    "        self._counter += 1\n",
    "        return self._X[p0:p1], self._y[p0:p1]"
   ]
  },
  {
   "cell_type": "markdown",
   "metadata": {},
   "source": [
    "### 【問題1】2次元畳み込み層の作成\n",
    "1次元畳み込み層のクラスConv1dを発展させ、2次元畳み込み層のクラスConv2dを作成してください。\n",
    "\n",
    "フォワードプロパゲーションの数式は以下のようになります。"
   ]
  },
  {
   "cell_type": "markdown",
   "metadata": {},
   "source": [
    "$$a_{i,j,m} = \\sum_{k=0}^{K-1}\\sum_{s=0}^{F_{h}-1}\\sum_{t=0}^{F_{w}-1}x_{(i+s),(j+t),k}w_{s,t,k,m}+b_{m}$$"
   ]
  },
  {
   "cell_type": "markdown",
   "metadata": {},
   "source": [
    "#### 畳み込み層クラス"
   ]
  },
  {
   "cell_type": "code",
   "execution_count": 137,
   "metadata": {},
   "outputs": [],
   "source": [
    "# 2次元畳み込み層クラス\n",
    "class SimpleConv2d():\n",
    "    \"\"\"\n",
    "    2次元畳み込み層\n",
    "    Parameters\n",
    "    ----------\n",
    "    initializer : 初期化方法のインスタンス\n",
    "    optimizer : 最適化手法のインスタンス\n",
    "    \"\"\"\n",
    "    def __init__(self, F, C, FH, FW, P, S,\n",
    "                 initializer=None,optimizer=None,activation=None):\n",
    "        self.P = P\n",
    "        self.S = S\n",
    "        self.initializer = initializer\n",
    "        self.optimizer = optimizer\n",
    "        self.activation = activation\n",
    "        \n",
    "        # 初期化\n",
    "        # initializerのメソッドを使い、self.Wとself.Bを初期化する\n",
    "        self.W = self.initializer.W(F,C,FH,FW)\n",
    "        self.B = self.initializer.B(F)\n",
    "        \n",
    "    def output_shape2d(self,H,W,PH,PW,FH,FW,SH,SW):\n",
    "        OH = (H +2*PH -FH)/SH +1\n",
    "        OW = (W +2*PW -FW)/SW +1\n",
    "        return int(OH),int(OW)\n",
    "    \n",
    "    def forward(self, X):\n",
    "        \"\"\"\n",
    "        フォワード\n",
    "        Parameters\n",
    "        ----------\n",
    "        X : 次の形のndarray, shape (batch_size, n_nodes1)\n",
    "            入力\n",
    "        Returns\n",
    "        ----------\n",
    "        A : 次の形のndarray, shape (batch_size, n_nodes2)\n",
    "            出力\n",
    "        \"\"\"\n",
    "        self.X = X\n",
    "        N,C,H,W = self.X.shape\n",
    "        F,C,FH,FW = self.W.shape\n",
    "        \n",
    "        OH,OW = self.output_shape2d(H,W,self.P,self.P,FH,FW,self.S,self.S)\n",
    "        \n",
    "        self.params = N,C,H,W,F,FH,FW,OH,OW\n",
    "\n",
    "        A = np.zeros([N,F,OH,OW])\n",
    "\n",
    "        self.X_pad = np.pad(self.X,((0,0),(0,0),(self.P,self.P),(self.P,self.P)))\n",
    "\n",
    "        # バッチ\n",
    "        for n in range(N):\n",
    "            # 出力チャンネル\n",
    "            for ch in range(F):\n",
    "                # 縦方向のスライド\n",
    "                for row in range(0,H,self.S):\n",
    "                    # 横方向のスライド\n",
    "                    for col in range(0,W,self.S):\n",
    "                        A[n,ch,row,col] = \\\n",
    "                        np.sum(self.X_pad[n,:,row:row+FH,col:col+FW]\n",
    "                               *self.W[ch,:,:,:]) \\\n",
    "                        +self.B[ch]\n",
    "        \n",
    "        return  self.activation.forward(A)\n",
    "    \n",
    "    def backward(self, dZ):\n",
    "        \"\"\"\n",
    "        バックワード\n",
    "        Parameters\n",
    "        ----------\n",
    "        dA : 次の形のndarray, shape (batch_size, n_nodes2)\n",
    "            後ろから流れてきた勾配\n",
    "        Returns\n",
    "        ----------\n",
    "        dZ : 次の形のndarray, shape (batch_size, n_nodes1)\n",
    "            前に流す勾配\n",
    "        \"\"\"\n",
    "        \n",
    "        dA = self.activation.backward(dZ)\n",
    "        N,C,H,W,F,FH,FW,OH,OW = self.params\n",
    "        \n",
    "        dZ = np.zeros(self.X_pad.shape)\n",
    "        self.dW = np.zeros(self.W.shape)\n",
    "        self.dB = np.zeros(self.B.shape)\n",
    "        \n",
    "        # dZ\n",
    "        # バッチ\n",
    "        for n in range(N):\n",
    "            # 出力チャンネル\n",
    "            for ch in range(F):\n",
    "                # 縦方向のスライド\n",
    "                for row in range(0,H,self.S):\n",
    "                    # 横方向のスライド\n",
    "                    for col in range(0,W,self.S):\n",
    "                        dZ[n,:,row:row+FH,col:col+FW] += dA[n,ch,row,col]*self.W[ch,:,:,:]\n",
    "                \n",
    "        dl_rows = range(self.P),range(H+self.P,H+2*self.P,1)\n",
    "        dl_cols = range(self.P),range(W+self.P,W+2*self.P,1)\n",
    "\n",
    "        dZ = np.delete(dZ,dl_rows,axis=2)\n",
    "        dZ = np.delete(dZ,dl_cols,axis=3)\n",
    "                \n",
    "        # dW\n",
    "        # バッチ\n",
    "        for n in range(N):\n",
    "            # 出力チャンネル\n",
    "            for ch in range(F):\n",
    "                # 縦方向のスライド\n",
    "                for row in range(OH):\n",
    "                    # 横方向のスライド\n",
    "                    for col in range(OW):\n",
    "                        self.dW[ch,:,:,:] += dA[n,ch,row,col]*self.X_pad[n,:,row:row+FH,col:col+FW]\n",
    "        \n",
    "        # dB\n",
    "        # 出力チャンネル\n",
    "        for ch in range(F):\n",
    "            self.dB[ch] = np.sum(dA[:,ch,:,:])\n",
    "        \n",
    "        # 更新\n",
    "        self = self.optimizer.update(self)\n",
    "        \n",
    "        return dZ"
   ]
  },
  {
   "cell_type": "markdown",
   "metadata": {},
   "source": [
    "#### 2次元畳み込みの実験"
   ]
  },
  {
   "cell_type": "code",
   "execution_count": 138,
   "metadata": {
    "scrolled": false
   },
   "outputs": [
    {
     "name": "stdout",
     "output_type": "stream",
     "text": [
      "A.shape: (5, 4, 28, 28)\n"
     ]
    }
   ],
   "source": [
    "N,C,H,W = (5,1,28,28)\n",
    "F,C,FH,FW = (4,1,3,3)\n",
    "\n",
    "S = 1 #とりあえず固定\n",
    "P = 1\n",
    "\n",
    "OH,OW = output_shape2d(H,W,P,P,FH,FW,S,S)\n",
    "\n",
    "A = np.zeros([N,F,OH,OW])\n",
    "\n",
    "X_sample = X[0:N].reshape(N,C,H,W)\n",
    "X_pad = np.pad(X_sample,((0,0),(0,0),(P,P),(P,P)))\n",
    "w = np.ones([F,C,FH,FW])\n",
    "B = np.ones(F)\n",
    "\n",
    "# フォワード\n",
    "\n",
    "# バッチ\n",
    "for n in range(N):\n",
    "    # 出力チャンネル\n",
    "    for ch in range(F):\n",
    "        # 縦方向のスライド\n",
    "        for row in range(0,H,S):\n",
    "            # 横方向のスライド\n",
    "            for col in range(0,W,S):\n",
    "                A[n,ch,row,col] = \\\n",
    "                np.sum(X_pad[n,:,row:row+FH,col:col+FW]*w[ch,:,:,:]) +B[ch]\n",
    "                \n",
    "print('A.shape:',A.shape)"
   ]
  },
  {
   "cell_type": "code",
   "execution_count": 139,
   "metadata": {},
   "outputs": [
    {
     "name": "stdout",
     "output_type": "stream",
     "text": [
      "dZ.shape: (5, 1, 28, 28)\n",
      "dW.shape: (4, 1, 3, 3)\n",
      "dB.shape: (4,)\n"
     ]
    }
   ],
   "source": [
    "# バックワード\n",
    "dA = np.ones(A.shape)\n",
    "\n",
    "dZ = np.zeros(X_pad.shape)\n",
    "dW = np.zeros(w.shape)\n",
    "dB = np.zeros(B.shape)\n",
    "\n",
    "# dZ\n",
    "# バッチ\n",
    "for n in range(N):\n",
    "    # 出力チャンネル\n",
    "    for ch in range(F):\n",
    "        # 縦方向のスライド\n",
    "        for row in range(0,H,S):\n",
    "            # 横方向のスライド\n",
    "            for col in range(0,W,S):\n",
    "                dZ[n,:,row:row+FH,col:col+FW] += dA[n,ch,row,col]*w[ch,:,:,:]\n",
    "                \n",
    "dl_rows = range(P),range(H+P,H+2*P,1)\n",
    "dl_cols = range(P),range(W+P,W+2*P,1)\n",
    "\n",
    "dZ = np.delete(dZ,dl_rows,axis=2)\n",
    "dZ = np.delete(dZ,dl_cols,axis=3)\n",
    "                \n",
    "# dW\n",
    "# バッチ\n",
    "for n in range(N):\n",
    "    # 出力チャンネル\n",
    "    for ch in range(F):\n",
    "        # 縦方向のスライド\n",
    "        for row in range(OH):\n",
    "            # 横方向のスライド\n",
    "            for col in range(OW):\n",
    "                dW[ch,:,:,:] += dA[n,ch,row,col]*X_pad[n,:,row:row+FH,col:col+FW]\n",
    "                \n",
    "# dB\n",
    "# 出力チャンネル\n",
    "for ch in range(F):\n",
    "    dB[ch] = np.sum(dA[:,ch,:,:])\n",
    "                \n",
    "print('dZ.shape:',dZ.shape)\n",
    "print('dW.shape:',dW.shape)\n",
    "print('dB.shape:',dB.shape)"
   ]
  },
  {
   "cell_type": "markdown",
   "metadata": {},
   "source": [
    "### 【問題2】2次元畳み込み後の出力サイズ\n",
    "畳み込みを行うと特徴マップのサイズが変化します。  \n",
    "どのように変化するかは以下の数式から求められます。  \n",
    "この計算を行う関数を作成してください。"
   ]
  },
  {
   "cell_type": "code",
   "execution_count": 140,
   "metadata": {},
   "outputs": [],
   "source": [
    "def output_shape2d(IH=5,IW=5,PH=0,PW=0,FH=3,FW=3,SH=1,SW=1):\n",
    "    OH = (IH +2*PH -FH)/SH +1\n",
    "    OW = (IW +2*PW -FW)/SW +1\n",
    "    return int(OH),int(OW)"
   ]
  },
  {
   "cell_type": "code",
   "execution_count": 141,
   "metadata": {
    "scrolled": false
   },
   "outputs": [
    {
     "name": "stdout",
     "output_type": "stream",
     "text": [
      "(4, 4)\n"
     ]
    }
   ],
   "source": [
    "print(output_shape2d(IH=6,IW=6,PH=0,PW=0,FH=3,FW=3,SH=1,SW=1))"
   ]
  },
  {
   "cell_type": "markdown",
   "metadata": {},
   "source": [
    "### 【問題3】最大プーリング層の作成\n",
    "最大プーリング層のクラスMaxPool2Dを作成してください。  \n",
    "プーリング層は数式で表さない方が分かりやすい部分もありますが、数式で表すとフォワードプロパゲーションは以下のようになります。"
   ]
  },
  {
   "cell_type": "code",
   "execution_count": 142,
   "metadata": {},
   "outputs": [],
   "source": [
    "class MaxPool2D():\n",
    "    \n",
    "    def __init__(self,P):\n",
    "        self.P = P\n",
    "        self.PA = None\n",
    "        self.Pindex = None\n",
    "        \n",
    "    def forward(self,A):\n",
    "        N,F,OH,OW = A.shape\n",
    "        PS = self.P\n",
    "        PH,PW = int(OH/PS),int(OW/PS)\n",
    "        \n",
    "        self.params = N,F,OH,OW,PS,PH,PW\n",
    "        \n",
    "        # プーリングフィルター\n",
    "        self.PA = np.zeros([N,F,PH,PW])\n",
    "        self.Pindex = np.zeros([N,F,PH,PW])\n",
    "        \n",
    "        for n in range(N):\n",
    "            # 出力チャンネル\n",
    "            for ch in range(F):\n",
    "                # 縦方向のスライド\n",
    "                for row in range(PH):\n",
    "                    # 横方向のスライド\n",
    "                    for col in range(PW):\n",
    "                        self.PA[n,ch,row,col] = \\\n",
    "                        np.max(A[n,ch,row*PS:row*PS+PS,col*PS:col*PS+PS])\n",
    "                        \n",
    "                        self.Pindex[n,ch,row,col] = \\\n",
    "                        np.argmax(A[n,ch,row*PS:row*PS+PS,col*PS:col*PS+PS])\n",
    "                        \n",
    "        return self.PA\n",
    "    \n",
    "    def backward(self,dA):\n",
    "        \n",
    "        N,F,OH,OW,PS,PH,PW = self.params\n",
    "        dP = np.zeros([N,F,OH,OW])\n",
    "        \n",
    "        for n in range(N):\n",
    "            # 出力チャンネル\n",
    "            for ch in range(F):\n",
    "                # 縦方向のスライド\n",
    "                for row in range(PH):\n",
    "                    # 横方向のスライド\n",
    "                    for col in range(PW):\n",
    "                        idx = self.Pindex[n,ch,row,col]\n",
    "                        tmp = np.zeros((PS*PS))\n",
    "                        for i in range(PS*PS):\n",
    "                            if i == idx:\n",
    "                                tmp[i] = dA[n,ch,row,col]\n",
    "                            else:\n",
    "                                tmp[i] = 0\n",
    "                        dP[n,ch,row*PS:row*PS+PS,col*PS:col*PS+PS] = tmp.reshape(PS,PS)\n",
    "        \n",
    "        return dP"
   ]
  },
  {
   "cell_type": "code",
   "execution_count": 143,
   "metadata": {
    "scrolled": false
   },
   "outputs": [
    {
     "name": "stdout",
     "output_type": "stream",
     "text": [
      "[[[[3 2 5 5 5 2]\n",
      "   [1 1 3 4 5 2]\n",
      "   [1 4 5 4 1 1]\n",
      "   [4 0 4 3 0 8]\n",
      "   [0 2 5 0 1 5]\n",
      "   [6 6 4 7 7 1]]]]\n"
     ]
    }
   ],
   "source": [
    "X = np.random.randint(0,9,36).reshape(1,1,6,6)\n",
    "print(X)"
   ]
  },
  {
   "cell_type": "code",
   "execution_count": 144,
   "metadata": {
    "scrolled": true
   },
   "outputs": [
    {
     "name": "stdout",
     "output_type": "stream",
     "text": [
      "(1, 1, 3, 3)\n",
      "[[[[3. 5. 5.]\n",
      "   [4. 5. 8.]\n",
      "   [6. 7. 7.]]]]\n"
     ]
    }
   ],
   "source": [
    "Pooling = MaxPool2D(P=2)\n",
    "A = Pooling.forward(X)\n",
    "\n",
    "print(A.shape)\n",
    "print(A)"
   ]
  },
  {
   "cell_type": "code",
   "execution_count": 145,
   "metadata": {},
   "outputs": [
    {
     "data": {
      "text/plain": [
       "array([[[[0., 0., 0.],\n",
       "         [1., 0., 3.],\n",
       "         [2., 3., 2.]]]])"
      ]
     },
     "execution_count": 145,
     "metadata": {},
     "output_type": "execute_result"
    }
   ],
   "source": [
    "Pooling.Pindex"
   ]
  },
  {
   "cell_type": "code",
   "execution_count": 146,
   "metadata": {},
   "outputs": [
    {
     "name": "stdout",
     "output_type": "stream",
     "text": [
      "[[[[3 0 7]\n",
      "   [7 7 8]\n",
      "   [5 7 4]]]]\n"
     ]
    }
   ],
   "source": [
    "dA = np.random.randint(0,9,9).reshape(A.shape)\n",
    "print(dA)"
   ]
  },
  {
   "cell_type": "code",
   "execution_count": 147,
   "metadata": {},
   "outputs": [
    {
     "name": "stdout",
     "output_type": "stream",
     "text": [
      "[[[[3. 0. 0. 0. 7. 0.]\n",
      "   [0. 0. 0. 0. 0. 0.]\n",
      "   [0. 7. 7. 0. 0. 0.]\n",
      "   [0. 0. 0. 0. 0. 8.]\n",
      "   [0. 0. 0. 0. 0. 0.]\n",
      "   [5. 0. 0. 7. 4. 0.]]]]\n"
     ]
    }
   ],
   "source": [
    "dZ = Pooling.backward(dA)\n",
    "\n",
    "print(dZ)"
   ]
  },
  {
   "cell_type": "markdown",
   "metadata": {},
   "source": [
    "### 【問題4】（アドバンス課題）平均プーリングの作成\n",
    "平均プーリング層のクラスAveragePool2Dを作成してください。\n",
    "\n",
    "範囲内の最大値ではなく、平均値を出力とするプーリング層です。\n",
    "\n",
    "画像認識関係では最大プーリング層が一般的で、平均プーリングはあまり使われません。"
   ]
  },
  {
   "cell_type": "code",
   "execution_count": 159,
   "metadata": {},
   "outputs": [],
   "source": [
    "class AveragePool2D():\n",
    "    \n",
    "    def __init__(self,P):\n",
    "        self.P = P\n",
    "        self.PA = None\n",
    "        self.Pindex = None\n",
    "        \n",
    "    def forward(self,A):\n",
    "        N,F,OH,OW = A.shape\n",
    "        PS = self.P\n",
    "        PH,PW = int(OH/PS),int(OW/PS)\n",
    "        \n",
    "        self.params = N,F,OH,OW,PS,PH,PW\n",
    "        \n",
    "        # プーリングフィルター\n",
    "        self.PA = np.zeros([N,F,PH,PW])\n",
    "        \n",
    "        for n in range(N):\n",
    "            # 出力チャンネル\n",
    "            for ch in range(F):\n",
    "                # 縦方向のスライド\n",
    "                for row in range(PH):\n",
    "                    # 横方向のスライド\n",
    "                    for col in range(PW):\n",
    "                        self.PA[n,ch,row,col] = \\\n",
    "                        np.mean(A[n,ch,row*PS:row*PS+PS,col*PS:col*PS+PS])\n",
    "                        \n",
    "        return self.PA\n",
    "    \n",
    "    def backward(self,dA):\n",
    "        \n",
    "        N,F,OH,OW,PS,PH,PW = self.params\n",
    "        dP = np.zeros([N,F,OH,OW])\n",
    "        \n",
    "        for n in range(N):\n",
    "            # 出力チャンネル\n",
    "            for ch in range(F):\n",
    "                # 縦方向のスライド\n",
    "                for row in range(PH):\n",
    "                    # 横方向のスライド\n",
    "                    for col in range(PW):\n",
    "                        tmp = np.zeros((PS*PS))\n",
    "                        for i in range(PS*PS):\n",
    "                            tmp[i] = dA[n,ch,row,col]/(PS*PS)\n",
    "\n",
    "                        dP[n,ch,row*PS:row*PS+PS,col*PS:col*PS+PS] = tmp.reshape(PS,PS)\n",
    "        \n",
    "        return dP"
   ]
  },
  {
   "cell_type": "code",
   "execution_count": 160,
   "metadata": {},
   "outputs": [
    {
     "name": "stdout",
     "output_type": "stream",
     "text": [
      "[[[[1 4 4 3 2 1]\n",
      "   [6 4 1 1 3 2]\n",
      "   [7 6 7 6 5 6]\n",
      "   [1 5 0 2 3 8]\n",
      "   [3 0 2 1 5 1]\n",
      "   [1 3 7 8 3 0]]]]\n"
     ]
    }
   ],
   "source": [
    "X = np.random.randint(0,9,36).reshape(1,1,6,6)\n",
    "print(X)"
   ]
  },
  {
   "cell_type": "code",
   "execution_count": 161,
   "metadata": {},
   "outputs": [
    {
     "name": "stdout",
     "output_type": "stream",
     "text": [
      "(1, 1, 3, 3)\n",
      "[[[[3.75 2.25 2.  ]\n",
      "   [4.75 3.75 5.5 ]\n",
      "   [1.75 4.5  2.25]]]]\n"
     ]
    }
   ],
   "source": [
    "Pooling = MeanPool2D(P=2)\n",
    "A = Pooling.forward(X)\n",
    "\n",
    "print(A.shape)\n",
    "print(A)"
   ]
  },
  {
   "cell_type": "code",
   "execution_count": 162,
   "metadata": {},
   "outputs": [
    {
     "name": "stdout",
     "output_type": "stream",
     "text": [
      "[[[[1 7 1]\n",
      "   [2 0 7]\n",
      "   [1 2 0]]]]\n"
     ]
    }
   ],
   "source": [
    "dA = np.random.randint(0,9,9).reshape(A.shape)\n",
    "print(dA)"
   ]
  },
  {
   "cell_type": "code",
   "execution_count": 163,
   "metadata": {},
   "outputs": [
    {
     "name": "stdout",
     "output_type": "stream",
     "text": [
      "[[[[0.25 0.25 1.75 1.75 0.25 0.25]\n",
      "   [0.25 0.25 1.75 1.75 0.25 0.25]\n",
      "   [0.5  0.5  0.   0.   1.75 1.75]\n",
      "   [0.5  0.5  0.   0.   1.75 1.75]\n",
      "   [0.25 0.25 0.5  0.5  0.   0.  ]\n",
      "   [0.25 0.25 0.5  0.5  0.   0.  ]]]]\n"
     ]
    }
   ],
   "source": [
    "dZ = Pooling.backward(dA)\n",
    "\n",
    "print(dZ)"
   ]
  },
  {
   "cell_type": "markdown",
   "metadata": {},
   "source": [
    "### 【問題5】平滑化\n",
    "平滑化するためのFlattenクラスを作成してください。\n",
    "\n",
    "フォワードのときはチャンネル、高さ、幅の3次元を1次元にreshapeします。その値は記録しておき、バックワードのときに再びreshapeによって形を戻します。\n",
    "\n",
    "この平滑化のクラスを挟むことで出力前の全結合層に適した配列を作ることができます。"
   ]
  },
  {
   "cell_type": "code",
   "execution_count": 149,
   "metadata": {},
   "outputs": [],
   "source": [
    "class Flatten:\n",
    "    def __ini__(self,):\n",
    "        pass\n",
    "    def forward(self,X):\n",
    "        self.shape = X.shape\n",
    "        return X.reshape(len(X),-1)\n",
    "\n",
    "    def backward(self,X):\n",
    "        return X.reshape(self.shape)        "
   ]
  },
  {
   "cell_type": "code",
   "execution_count": 150,
   "metadata": {},
   "outputs": [
    {
     "name": "stdout",
     "output_type": "stream",
     "text": [
      "Forward_shape: (20, 50)\n",
      "Backward_shape: (20, 2, 5, 5)\n"
     ]
    }
   ],
   "source": [
    "TEST = np.zeros([20,2,5,5])\n",
    "flt = Flatten()\n",
    "flat_forward = flt.forward(TEST)\n",
    "print('Forward_shape:',flat_forward.shape)\n",
    "print('Backward_shape:',flt.backward(flat_forward).shape)"
   ]
  },
  {
   "cell_type": "markdown",
   "metadata": {},
   "source": [
    "### 【問題6】学習と推定\n",
    "作成したConv2dを使用してMNISTを学習・推定し、Accuracyを計算してください。\n",
    "\n",
    "精度は低くともまずは動くことを目指してください。"
   ]
  },
  {
   "cell_type": "code",
   "execution_count": 68,
   "metadata": {},
   "outputs": [],
   "source": [
    "# スクラッチ　CNN\n",
    "class Scratch2dCNNClassifier():\n",
    "    \"\"\"\n",
    "    N層の畳み込みニューラルネットワーク分類器\n",
    "    \n",
    "    Parameters\n",
    "    ----------\n",
    "    self.n_epoch : エポック数\n",
    "    self.n_batch : バッチ数\n",
    "    self.verbose : 学習過程を可視化\n",
    "    Attributes\n",
    "    ----------\n",
    "    \"\"\"\n",
    "    def __init__(self, NN, CNN, n_epoch=5, n_batch=1, verbose = False):\n",
    "        #　パラメータ\n",
    "        self.n_epoch = n_epoch\n",
    "        self.n_batch = n_batch\n",
    "        self.verbose = verbose\n",
    "        self.log_loss = np.zeros(self.n_epoch)\n",
    "        self.log_acc = np.zeros(self.n_epoch)\n",
    "        self.NN = NN\n",
    "        self.CNN = CNN\n",
    "        \n",
    "    def loss_function(self,y,yt):\n",
    "        delta = 1e-7\n",
    "        return -np.mean(yt*np.log(y+delta))\n",
    "    \n",
    "    def accuracy(self,Z,Y):\n",
    "        return accuracy_score(Y,Z)\n",
    "                \n",
    "    def fit(self, X, y, X_val=False, y_val=False):\n",
    "        \"\"\"\n",
    "        ニューラルネットワーク分類器を学習する。\n",
    "\n",
    "        Parameters\n",
    "        ----------\n",
    "        X : 次の形のndarray, shape (n_samples, n_features)\n",
    "            訓練データの特徴量\n",
    "        y : 次の形のndarray, shape (n_samples, )\n",
    "            訓練データの正解値\n",
    "        X_val : 次の形のndarray, shape (n_samples, n_features)\n",
    "            検証データの特徴量\n",
    "        y_val : 次の形のndarray, shape (n_samples, )\n",
    "            検証データの正解値\n",
    "        \"\"\"\n",
    "        for epoch in range(self.n_epoch):\n",
    "            # ミニバッチ処理\n",
    "            get_mini_batch = GetMiniBatch(X, y, batch_size=self.n_batch)\n",
    "            \n",
    "            self.loss = 0\n",
    "            for mini_X_train, mini_y_train in get_mini_batch:\n",
    "                                \n",
    "                # 順伝播\n",
    "                forward_data = mini_X_train[:,np.newaxis,:,:]\n",
    "                \n",
    "                # Conv\n",
    "                for layer in range(len(self.CNN)):\n",
    "                    forward_data = self.CNN[layer].forward(forward_data)\n",
    "                \n",
    "                # 平滑化\n",
    "                flt = Flatten()\n",
    "                forward_data = flt.forward(forward_data)\n",
    "                \n",
    "                # NN\n",
    "                for layer in range(len(self.NN)):\n",
    "                    forward_data = self.NN[layer].forward(forward_data)\n",
    "                    \n",
    "                # 予測値\n",
    "                Z = forward_data\n",
    "                \n",
    "                # 逆伝播\n",
    "                backward_data = (Z - mini_y_train)/self.n_batch\n",
    "                for layer in range(len(self.NN)-1,-1,-1):\n",
    "                    backward_data = self.NN[layer].backward(backward_data)\n",
    "                    \n",
    "                backward_data = flt.backward(backward_data)\n",
    "                \n",
    "                for layer in range(len(self.CNN)-1,-1,-1):\n",
    "                    backward_data = self.CNN[layer].backward(backward_data)\n",
    "                \n",
    "                # 損失関数\n",
    "                self.loss += self.loss_function(Z,mini_y_train)\n",
    "                \n",
    "            self.log_loss[epoch] = self.loss/len(get_mini_batch)\n",
    "            self.log_acc[epoch] = self.accuracy(self.predict(X),np.argmax(y,axis=1))\n",
    "            \n",
    "    def predict(self, X):\n",
    "        \"\"\"\n",
    "        ニューラルネットワーク分類器を使い推定する。\n",
    "\n",
    "        Parameters\n",
    "        ----------\n",
    "        X : 次の形のndarray, shape (n_samples, n_features)\n",
    "            サンプル\n",
    "\n",
    "        Returns\n",
    "        -------\n",
    "            次の形のndarray, shape (n_samples, 1)\n",
    "            推定結果\n",
    "        \"\"\"\n",
    "        pred_data = X[:,np.newaxis,:,:]\n",
    "        \n",
    "        # Conv\n",
    "        for layer in range(len(self.CNN)):\n",
    "            pred_data = self.CNN[layer].forward(pred_data)\n",
    "                \n",
    "        pred_data = flt.forward(pred_data)\n",
    "        \n",
    "        # NN\n",
    "        for layer in range(len(self.NN)):\n",
    "            pred_data = self.NN[layer].forward(pred_data)\n",
    "            \n",
    "        return np.argmax(pred_data,axis=1)"
   ]
  },
  {
   "cell_type": "code",
   "execution_count": 110,
   "metadata": {},
   "outputs": [],
   "source": [
    "# 全結合層\n",
    "NN = {0:FC(7840, 400, HeInitializer(), AdaGrad(0.01), ReLU()),\n",
    "      1:FC(400, 200, HeInitializer(), AdaGrad(0.01), ReLU()),\n",
    "      2:FC(200, 10, SimpleInitializer(0.01), AdaGrad(0.01), Softmax()),\n",
    "     }"
   ]
  },
  {
   "cell_type": "code",
   "execution_count": 111,
   "metadata": {},
   "outputs": [],
   "source": [
    "# 畳み込み層\n",
    "CNN = {0:SimpleConv2d(F=10, C=1, FH=3, FW=3, P=1, S=1,\n",
    "                      initializer=SimpleInitializerConv2d(),\n",
    "                      optimizer=SGD(),\n",
    "                      activation=ReLU())}"
   ]
  },
  {
   "cell_type": "code",
   "execution_count": 112,
   "metadata": {},
   "outputs": [],
   "source": [
    "# 学習\n",
    "cnn1 = Scratch2dCNNClassifier(NN=NN,CNN=CNN,n_epoch=10,n_batch=200,verbose=False)\n",
    "\n",
    "cnn1.fit(X_train[0:1000],y_train[0:1000])"
   ]
  },
  {
   "cell_type": "code",
   "execution_count": 113,
   "metadata": {},
   "outputs": [
    {
     "name": "stdout",
     "output_type": "stream",
     "text": [
      "accuracy:0.870\n"
     ]
    }
   ],
   "source": [
    "# 推定\n",
    "y_pred = cnn1.predict(X_valid[0:100])\n",
    "\n",
    "# 正解率\n",
    "accuracy = accuracy_score(np.argmax(y_valid[0:100],axis=1), y_pred)\n",
    "print('accuracy:{:.3f}'.format(accuracy))"
   ]
  },
  {
   "cell_type": "code",
   "execution_count": 114,
   "metadata": {
    "scrolled": true
   },
   "outputs": [
    {
     "data": {
      "image/png": "[encoded data removed]",
      "text/plain": [
       "<Figure size 1152x432 with 2 Axes>"
      ]
     },
     "metadata": {
      "needs_background": "light"
     },
     "output_type": "display_data"
    }
   ],
   "source": [
    "# epochごとの損失関数の可視化\n",
    "plt.rcParams[\"font.size\"] = 20\n",
    "fig=plt.subplots(figsize=(16,6))\n",
    "plt.subplot(1,2,1)\n",
    "plt.title('LOSS')\n",
    "plt.plot(cnn1.log_loss,'bo--')\n",
    "\n",
    "plt.subplot(1,2,2)\n",
    "plt.title('ACC')\n",
    "plt.plot(cnn1.log_acc,'rs--');"
   ]
  },
  {
   "cell_type": "markdown",
   "metadata": {},
   "source": [
    "* ミニデータで動かした結果、LOSSは下がってきている、正解率も、それなりになった。"
   ]
  },
  {
   "cell_type": "markdown",
   "metadata": {},
   "source": [
    "### 【問題7】（アドバンス課題）LeNet\n",
    "CNNで画像認識を行う際は、フィルタサイズや層の数などを１から考えるのではなく、有名な構造を利用することが一般的です。現在では実用的に使われることはありませんが、歴史的に重要なのは1998年の LeNet です。この構造を再現してMNISTに対して動かし、Accuracyを計算してください。"
   ]
  },
  {
   "cell_type": "code",
   "execution_count": 156,
   "metadata": {},
   "outputs": [],
   "source": [
    "# LeNet構造\n",
    "# 畳み込み層\n",
    "LeNetCNN = {0:SimpleConv2d(F=6, C=1, FH=5, FW=5, P=2, S=1,\n",
    "                           initializer=SimpleInitializerConv2d(),\n",
    "                           optimizer=SGD(),\n",
    "                           activation=ReLU()),\n",
    "            1:MaxPool2D(P=2),\n",
    "            2:SimpleConv2d(F=16, C=6, FH=5, FW=5, P=2, S=1,\n",
    "                           initializer=SimpleInitializerConv2d(),\n",
    "                           optimizer=SGD(),\n",
    "                           activation=ReLU()),\n",
    "            3:MaxPool2D(P=2),}\n",
    "\n",
    "# 全結合層\n",
    "LeNetNN = {0:FC(784, 120, HeInitializer(), AdaGrad(0.01), ReLU()),\n",
    "           1:FC(120, 84, HeInitializer(), AdaGrad(0.01), ReLU()),\n",
    "           2:FC(84, 10, SimpleInitializer(0.01), AdaGrad(0.01), Softmax()),}\n",
    "\n",
    "# 学習\n",
    "LeNet = Scratch2dCNNClassifier(NN=LeNetNN,CNN=LeNetCNN,\n",
    "                               n_epoch=10,n_batch=200,verbose=False)\n",
    "\n",
    "LeNet.fit(X_train[0:1000],y_train[0:1000])"
   ]
  },
  {
   "cell_type": "code",
   "execution_count": 157,
   "metadata": {},
   "outputs": [
    {
     "name": "stdout",
     "output_type": "stream",
     "text": [
      "accuracy:0.496\n"
     ]
    }
   ],
   "source": [
    "# 推定\n",
    "y_pred_LeNet = LeNet.predict(X_valid[0:500])\n",
    "\n",
    "# 正解率\n",
    "accuracy = accuracy_score(np.argmax(y_valid[0:500],axis=1), y_pred_LeNet)\n",
    "print('accuracy:{:.3f}'.format(accuracy))"
   ]
  },
  {
   "cell_type": "code",
   "execution_count": 158,
   "metadata": {},
   "outputs": [
    {
     "data": {
      "image/png": "[encoded data removed]",
      "text/plain": [
       "<Figure size 1152x432 with 2 Axes>"
      ]
     },
     "metadata": {
      "needs_background": "light"
     },
     "output_type": "display_data"
    }
   ],
   "source": [
    "# epochごとの損失関数の可視化\n",
    "plt.rcParams[\"font.size\"] = 20\n",
    "fig=plt.subplots(figsize=(16,6))\n",
    "plt.subplot(1,2,1)\n",
    "plt.title('LOSS')\n",
    "plt.plot(LeNet.log_loss,'bo--')\n",
    "\n",
    "plt.subplot(1,2,2)\n",
    "plt.title('ACC')\n",
    "plt.plot(LeNet.log_acc,'rs--');"
   ]
  },
  {
   "cell_type": "markdown",
   "metadata": {},
   "source": [
    "### 【問題8】（アドバンス課題）有名な画像認識モデルの調査\n",
    "CNNの代表的な構造としてははAlexNet(2012)、VGG16(2014)などがあります。  \n",
    "こういったものはフレームワークで既に用意されていることも多いです。\n",
    "\n",
    "どういったものがあるか簡単に調べてまとめてください。名前だけでも見ておくと良いでしょう。"
   ]
  },
  {
   "cell_type": "markdown",
   "metadata": {},
   "source": [
    "有名なCNN構造\n",
    "* AlexNet(2012)\n",
    "* ZFNet(2013)\n",
    "* GoogleNet(2014)\n",
    "* VGGNet(2014)\n",
    "* ResNet(2015)\n",
    "* SENet(2017)"
   ]
  },
  {
   "cell_type": "markdown",
   "metadata": {},
   "source": [
    "### 【問題9】出力サイズとパラメータ数の計算\n",
    "CNNモデルを構築する際には、全結合層に入力する段階で特徴量がいくつになっているかを事前に計算する必要があります。\n",
    "\n",
    "また、巨大なモデルを扱うようになると、メモリや計算速度の関係でパラメータ数の計算は必須になってきます。フレームワークでは各層のパラメータ数を表示させることが可能ですが、意味を理解していなくては適切な調整が行えません。\n",
    "\n",
    "以下の3つの畳み込み層の出力サイズとパラメータ数を計算してください。パラメータ数についてはバイアス項も考えてください。\n",
    "\n",
    "1.\n",
    "\n",
    "* 入力サイズ : 144×144, 3チャンネル\n",
    "* フィルタサイズ : 3×3, 6チャンネル\n",
    "* ストライド : 1\n",
    "* パディング : なし\n",
    "\n",
    "→ 出力サイズ : 6×142×142, パラメータ数 : 168(重み162,バイアス6)\n",
    "\n",
    "2.\n",
    "\n",
    "* 入力サイズ : 60×60, 24チャンネル\n",
    "* フィルタサイズ : 3×3, 48チャンネル\n",
    "* ストライド　: 1\n",
    "* パディング : なし\n",
    "\n",
    "→ 出力サイズ : 48×58×58, パラメータ数 : 10416(重み10368,バイアス48)\n",
    "\n",
    "3.\n",
    "\n",
    "* 入力サイズ : 20×20, 10チャンネル\n",
    "* フィルタサイズ: 3×3, 20チャンネル\n",
    "* ストライド : 2\n",
    "* パディング : なし\n",
    "\n",
    "→ 出力サイズ : 20×9×9, パラメータ数 : 1820(重み1800,バイアス20)\n",
    "\n",
    "＊ 最後の例は丁度良く畳み込みをすることができない場合です。フレームワークでは余ったピクセルを見ないという処理が行われることがあるので、その場合を考えて計算してください。端が欠けてしまうので、こういった設定は好ましくないという例です。"
   ]
  },
  {
   "cell_type": "markdown",
   "metadata": {},
   "source": [
    "### 【問題10】（アドバンス課題）フィルタサイズに関する調査\n",
    "畳み込み層にはフィルタサイズというハイパーパラメータがありますが、2次元畳み込み層において現在では3×3と1×1の使用が大半です。以下のそれぞれを調べたり、自分なりに考えて説明してください。\n",
    "\n",
    "* 7×7などの大きめのものではなく、3×3のフィルタが一般的に使われる理由  \n",
    "  → パラメータの数が膨大になるから。(サイズの2乗)  \n",
    "    畳み込みを行う目的が、入力パラメータ間の（位置関係なども含む）特徴の抽出のため、\n",
    "    フィルタサイズを大きくすることは、目的に反している、、、\n",
    "  \n",
    "  \n",
    "* 高さや幅方向を持たない1×1のフィルタの効果  \n",
    "  → 入力チャンネルより出力チャンネルを減らすことで、パラメータを減らすことができる。\n",
    "  \n",
    "\n",
    "* （おまけ）フィルタサイズは、奇数が推奨される。  \n",
    "  → 奇数だとフィルタの中心が定めるが、偶数だと中心が定まらない。"
   ]
  }
 ],
 "metadata": {
  "kernelspec": {
   "display_name": "Python 3",
   "language": "python",
   "name": "python3"
  },
  "language_info": {
   "codemirror_mode": {
    "name": "ipython",
    "version": 3
   },
   "file_extension": ".py",
   "mimetype": "text/x-python",
   "name": "python",
   "nbconvert_exporter": "python",
   "pygments_lexer": "ipython3",
   "version": "3.8.2"
  },
  "toc": {
   "base_numbering": 1,
   "nav_menu": {},
   "number_sections": true,
   "sideBar": true,
   "skip_h1_title": true,
   "title_cell": "目次",
   "title_sidebar": "Contents",
   "toc_cell": true,
   "toc_position": {
    "height": "calc(100% - 180px)",
    "left": "10px",
    "top": "150px",
    "width": "428px"
   },
   "toc_section_display": true,
   "toc_window_display": true
  }
 },
 "nbformat": 4,
 "nbformat_minor": 4
}
