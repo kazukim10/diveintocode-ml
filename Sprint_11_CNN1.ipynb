{
 "cells": [
  {
   "cell_type": "markdown",
   "metadata": {},
   "source": [
    "# Sprint 深層学習スクラッチ 畳み込みニューラルネットワーク１"
   ]
  },
  {
   "cell_type": "markdown",
   "metadata": {
    "toc": true
   },
   "source": [
    "<h1>目次<span class=\"tocSkip\"></span></h1>\n",
    "<div class=\"toc\"><ul class=\"toc-item\"><li><span><a href=\"#このSprintについて\" data-toc-modified-id=\"このSprintについて-1\"><span class=\"toc-item-num\">1&nbsp;&nbsp;</span>このSprintについて</a></span><ul class=\"toc-item\"><li><span><a href=\"#Sprintの目的\" data-toc-modified-id=\"Sprintの目的-1.1\"><span class=\"toc-item-num\">1.1&nbsp;&nbsp;</span>Sprintの目的</a></span></li><li><span><a href=\"#どのように学ぶか\" data-toc-modified-id=\"どのように学ぶか-1.2\"><span class=\"toc-item-num\">1.2&nbsp;&nbsp;</span>どのように学ぶか</a></span></li></ul></li><li><span><a href=\"#1次元の畳み込みニューラルネットワークスクラッチ\" data-toc-modified-id=\"1次元の畳み込みニューラルネットワークスクラッチ-2\"><span class=\"toc-item-num\">2&nbsp;&nbsp;</span>1次元の畳み込みニューラルネットワークスクラッチ</a></span><ul class=\"toc-item\"><li><span><a href=\"#1次元畳み込み層とは\" data-toc-modified-id=\"1次元畳み込み層とは-2.1\"><span class=\"toc-item-num\">2.1&nbsp;&nbsp;</span>1次元畳み込み層とは</a></span></li><li><span><a href=\"#データセットの用意\" data-toc-modified-id=\"データセットの用意-2.2\"><span class=\"toc-item-num\">2.2&nbsp;&nbsp;</span>データセットの用意</a></span><ul class=\"toc-item\"><li><span><a href=\"#全結合層\" data-toc-modified-id=\"全結合層-2.2.1\"><span class=\"toc-item-num\">2.2.1&nbsp;&nbsp;</span>全結合層</a></span></li><li><span><a href=\"#活性化関数\" data-toc-modified-id=\"活性化関数-2.2.2\"><span class=\"toc-item-num\">2.2.2&nbsp;&nbsp;</span>活性化関数</a></span></li></ul></li><li><span><a href=\"#【問題1】チャンネル数を1に限定した1次元畳み込み層クラスの作成\" data-toc-modified-id=\"【問題1】チャンネル数を1に限定した1次元畳み込み層クラスの作成-2.3\"><span class=\"toc-item-num\">2.3&nbsp;&nbsp;</span>【問題1】チャンネル数を1に限定した1次元畳み込み層クラスの作成</a></span><ul class=\"toc-item\"><li><span><a href=\"#畳み込み層\" data-toc-modified-id=\"畳み込み層-2.3.1\"><span class=\"toc-item-num\">2.3.1&nbsp;&nbsp;</span>畳み込み層</a></span></li></ul></li><li><span><a href=\"#【問題2】1次元畳み込み後の出力サイズの計算\" data-toc-modified-id=\"【問題2】1次元畳み込み後の出力サイズの計算-2.4\"><span class=\"toc-item-num\">2.4&nbsp;&nbsp;</span>【問題2】1次元畳み込み後の出力サイズの計算</a></span></li><li><span><a href=\"#【問題3】小さな配列での1次元畳み込み層の実験\" data-toc-modified-id=\"【問題3】小さな配列での1次元畳み込み層の実験-2.5\"><span class=\"toc-item-num\">2.5&nbsp;&nbsp;</span>【問題3】小さな配列での1次元畳み込み層の実験</a></span></li><li><span><a href=\"#実装上の工夫\" data-toc-modified-id=\"実装上の工夫-2.6\"><span class=\"toc-item-num\">2.6&nbsp;&nbsp;</span>実装上の工夫</a></span></li><li><span><a href=\"#【問題4】チャンネル数を限定しない1次元畳み込み層クラスの作成\" data-toc-modified-id=\"【問題4】チャンネル数を限定しない1次元畳み込み層クラスの作成-2.7\"><span class=\"toc-item-num\">2.7&nbsp;&nbsp;</span>【問題4】チャンネル数を限定しない1次元畳み込み層クラスの作成</a></span></li><li><span><a href=\"#【問題6】（アドバンス課題）ミニバッチへの対応\" data-toc-modified-id=\"【問題6】（アドバンス課題）ミニバッチへの対応-2.8\"><span class=\"toc-item-num\">2.8&nbsp;&nbsp;</span>【問題6】（アドバンス課題）ミニバッチへの対応</a></span></li><li><span><a href=\"#【問題8】学習と推定\" data-toc-modified-id=\"【問題8】学習と推定-2.9\"><span class=\"toc-item-num\">2.9&nbsp;&nbsp;</span>【問題8】学習と推定</a></span></li></ul></li></ul></div>"
   ]
  },
  {
   "cell_type": "markdown",
   "metadata": {},
   "source": [
    "## このSprintについて\n",
    "### Sprintの目的\n",
    "* スクラッチを通してCNNの基礎を理解する\n",
    "\n",
    "### どのように学ぶか\n",
    "スクラッチで1次元用畳み込みニューラルネットワークを実装した後、学習と検証を行なっていきます。"
   ]
  },
  {
   "cell_type": "markdown",
   "metadata": {},
   "source": [
    "## 1次元の畳み込みニューラルネットワークスクラッチ\n",
    "畳み込みニューラルネットワーク（CNN）のクラスをスクラッチで作成していきます。  \n",
    "NumPyなど最低限のライブラリのみを使いアルゴリズムを実装していきます。  \n",
    "  \n",
    "このSprintでは1次元の畳み込み層を作成し、畳み込みの基礎を理解することを目指します。  \n",
    "次のSprintでは2次元畳み込み層とプーリング層を作成することで、  \n",
    "一般的に画像に対して利用されるCNNを完成させます。\n",
    "\n",
    "クラスの名前はScratch1dCNNClassifierとしてください。  \n",
    "クラスの構造などは前のSprintで作成したScratchDeepNeuralNetrowkClassifierを参考にしてください。\n",
    "\n",
    "### 1次元畳み込み層とは\n",
    "CNNでは画像に対しての2次元畳み込み層が定番ですが、ここでは理解しやすくするためにまずは1次元畳み込み層を実装します。1次元畳み込みは実用上は自然言語や波形データなどの 系列データ で使われることが多いです。\n",
    "\n",
    "畳み込みは任意の次元に対して考えることができ、立体データに対しての3次元畳み込みまではフレームワークで一般的に用意されています。\n",
    "\n",
    "### データセットの用意\n",
    "検証には引き続きMNISTデータセットを使用します。1次元畳み込みでは全結合のニューラルネットワークと同様に平滑化されたものを入力します。"
   ]
  },
  {
   "cell_type": "code",
   "execution_count": 957,
   "metadata": {},
   "outputs": [],
   "source": [
    "# ミニバッチ処理のクラス\n",
    "class GetMiniBatch:\n",
    "    \"\"\"\n",
    "    ミニバッチを取得するイテレータ\n",
    "\n",
    "    Parameters\n",
    "    ----------\n",
    "    X : 次の形のndarray, shape (n_samples, n_features)\n",
    "      訓練データ\n",
    "    y : 次の形のndarray, shape (n_samples, 1)\n",
    "      正解値\n",
    "    batch_size : int\n",
    "      バッチサイズ\n",
    "    seed : int\n",
    "      NumPyの乱数のシード\n",
    "    \"\"\"\n",
    "    def __init__(self, X, y, batch_size = 20, seed=None):\n",
    "        self.batch_size = batch_size\n",
    "        np.random.seed(seed)\n",
    "        shuffle_index = np.random.permutation(np.arange(X.shape[0]))\n",
    "        self._X = X[shuffle_index]\n",
    "        self._y = y[shuffle_index]\n",
    "        self._stop = np.ceil(X.shape[0]/self.batch_size).astype(np.int)\n",
    "        \n",
    "    def __len__(self):\n",
    "        return self._stop\n",
    "    \n",
    "    def __getitem__(self,item):\n",
    "        p0 = item*self.batch_size\n",
    "        p1 = item*self.batch_size + self.batch_size\n",
    "        return self._X[p0:p1], self._y[p0:p1] \n",
    "    \n",
    "    def __iter__(self):\n",
    "        self._counter = 0\n",
    "        return self\n",
    "    \n",
    "    def __next__(self):\n",
    "        if self._counter >= self._stop:\n",
    "            raise StopIteration()\n",
    "        p0 = self._counter*self.batch_size\n",
    "        p1 = self._counter*self.batch_size + self.batch_size\n",
    "        self._counter += 1\n",
    "        return self._X[p0:p1], self._y[p0:p1]"
   ]
  },
  {
   "cell_type": "markdown",
   "metadata": {},
   "source": [
    "#### 全結合層"
   ]
  },
  {
   "cell_type": "code",
   "execution_count": 958,
   "metadata": {},
   "outputs": [],
   "source": [
    "class FC:\n",
    "    \"\"\"\n",
    "    ノード数n_nodes1からn_nodes2への全結合層\n",
    "    Parameters\n",
    "    ----------\n",
    "    n_nodes1 : int\n",
    "      前の層のノード数\n",
    "    n_nodes2 : int\n",
    "      後の層のノード数\n",
    "    initializer : 初期化方法のインスタンス\n",
    "    optimizer : 最適化手法のインスタンス\n",
    "    \"\"\"\n",
    "    def __init__(self, n_nodes1, n_nodes2, initializer, optimizer, activation):\n",
    "        \n",
    "        self.n_nodes1 = n_nodes1\n",
    "        self.n_nodes2 = n_nodes2\n",
    "        self.initializer = initializer\n",
    "        self.optimizer = optimizer\n",
    "        self.activation = activation\n",
    "        # 初期化\n",
    "        # initializerのメソッドを使い、self.Wとself.Bを初期化する\n",
    "        self.W = self.initializer.W(self.n_nodes1,self.n_nodes2)\n",
    "        self.B = self.initializer.B(self.n_nodes2)\n",
    "        \n",
    "    def forward(self, X):\n",
    "        \"\"\"\n",
    "        フォワード\n",
    "        Parameters\n",
    "        ----------\n",
    "        X : 次の形のndarray, shape (batch_size, n_nodes1)\n",
    "            入力\n",
    "        Returns\n",
    "        ----------\n",
    "        A : 次の形のndarray, shape (batch_size, n_nodes2)\n",
    "            出力\n",
    "        \"\"\"\n",
    "        self.X = X\n",
    "        self.A = np.dot(self.X,self.W) + self.B\n",
    "        \n",
    "        return self.activation.forward(self.A)\n",
    "    \n",
    "    def backward(self, dZ):\n",
    "        \"\"\"\n",
    "        バックワード\n",
    "        Parameters\n",
    "        ----------\n",
    "        dA : 次の形のndarray, shape (batch_size, n_nodes2)\n",
    "            後ろから流れてきた勾配\n",
    "        Returns\n",
    "        ----------\n",
    "        dZ : 次の形のndarray, shape (batch_size, n_nodes1)\n",
    "            前に流す勾配\n",
    "        \"\"\"\n",
    "        dA = self.activation.backward(dZ)\n",
    "        self.dB = np.mean(dA,axis=0)\n",
    "        self.dW = np.dot(self.X.T,dA)/len(self.X)\n",
    "        dZ = np.dot(dA,self.W.T)\n",
    "        \n",
    "        # 更新\n",
    "        self = self.optimizer.update(self)\n",
    "        \n",
    "        return dZ"
   ]
  },
  {
   "cell_type": "code",
   "execution_count": 959,
   "metadata": {},
   "outputs": [],
   "source": [
    "class SimpleInitializer:\n",
    "    \"\"\"\n",
    "    ガウス分布によるシンプルな初期化\n",
    "    Parameters\n",
    "    ----------\n",
    "    sigma : float\n",
    "      ガウス分布の標準偏差\n",
    "    \"\"\"\n",
    "    def __init__(self, sigma):\n",
    "        self.sigma = sigma\n",
    "        \n",
    "    def W(self, n_nodes1, n_nodes2):\n",
    "        \"\"\"\n",
    "        重みの初期化\n",
    "        Parameters\n",
    "        ----------\n",
    "        n_nodes1 : int\n",
    "          前の層のノード数\n",
    "        n_nodes2 : int\n",
    "          後の層のノード数\n",
    "\n",
    "        Returns\n",
    "        ----------\n",
    "        W : 重み\n",
    "        \"\"\"\n",
    "        return self.sigma * np.random.randn(n_nodes1, n_nodes2)\n",
    "    \n",
    "    def B(self, n_nodes2):\n",
    "        \"\"\"\n",
    "        バイアスの初期化\n",
    "        Parameters\n",
    "        ----------\n",
    "        n_nodes2 : int\n",
    "          後の層のノード数\n",
    "\n",
    "        Returns\n",
    "        ----------\n",
    "        B : バイアス\n",
    "        \"\"\"\n",
    "        return np.zeros(n_nodes2)"
   ]
  },
  {
   "cell_type": "code",
   "execution_count": 960,
   "metadata": {},
   "outputs": [],
   "source": [
    "class HeInitializer():\n",
    "    \"\"\"\n",
    "    Heによる重みの初期化\n",
    "    \"\"\"\n",
    "    def __init__(self):\n",
    "        pass\n",
    "        \n",
    "    def W(self, n_nodes1, n_nodes2):\n",
    "        \"\"\"\n",
    "        重みの初期化\n",
    "        Parameters\n",
    "        ----------\n",
    "        n_nodes1 : int\n",
    "          前の層のノード数\n",
    "        n_nodes2 : int\n",
    "          後の層のノード数\n",
    "\n",
    "        Returns\n",
    "        ----------\n",
    "        W : 重み\n",
    "        \"\"\"\n",
    "        return np.random.randn(n_nodes1, n_nodes2)*np.sqrt(2/n_nodes1)\n",
    "    \n",
    "    def B(self, n_nodes2):\n",
    "        \"\"\"\n",
    "        バイアスの初期化\n",
    "        Parameters\n",
    "        ----------\n",
    "        n_nodes2 : int\n",
    "          後の層のノード数\n",
    "\n",
    "        Returns\n",
    "        ----------\n",
    "        B : バイアス\n",
    "        \"\"\"\n",
    "        return np.zeros(n_nodes2)"
   ]
  },
  {
   "cell_type": "code",
   "execution_count": 961,
   "metadata": {},
   "outputs": [],
   "source": [
    "class SGD:\n",
    "    \"\"\"\n",
    "    確率的勾配降下法\n",
    "    Parameters\n",
    "    ----------\n",
    "    lr : 学習率\n",
    "    \"\"\"\n",
    "    def __init__(self, lr):\n",
    "        self.lr = lr\n",
    "        \n",
    "    def update(self, layer):\n",
    "        \"\"\"\n",
    "        ある層の重みやバイアスの更新\n",
    "        Parameters\n",
    "        ----------\n",
    "        layer : 更新前の層のインスタンス\n",
    "        \"\"\"\n",
    "        layer.W -= self.lr*layer.dW\n",
    "        layer.B -= self.lr*layer.dB\n",
    "        \n",
    "        return layer"
   ]
  },
  {
   "cell_type": "code",
   "execution_count": 962,
   "metadata": {},
   "outputs": [],
   "source": [
    "class AdaGrad:\n",
    "    \"\"\"\n",
    "    確率的勾配降下法\n",
    "    Parameters\n",
    "    ----------\n",
    "    lr : 学習率\n",
    "    \"\"\"\n",
    "    def __init__(self, lr):\n",
    "        self.lr = lr\n",
    "        self.hW = 0\n",
    "        self.hB = 0\n",
    "        \n",
    "    def update(self, layer):\n",
    "        \"\"\"\n",
    "        ある層の重みやバイアスの更新\n",
    "        Parameters\n",
    "        ----------\n",
    "        layer : 更新前の層のインスタンス\n",
    "        \"\"\"\n",
    "        self.hW += layer.dW*layer.dW\n",
    "        self.hB = layer.dB*layer.dB\n",
    "    \n",
    "        layer.W -= self.lr*layer.dW/(np.sqrt(self.hW) +1e-7)\n",
    "        layer.B -= self.lr*layer.dB/(np.sqrt(self.hB) +1e-7)\n",
    "        \n",
    "        return layer"
   ]
  },
  {
   "cell_type": "markdown",
   "metadata": {},
   "source": [
    "#### 活性化関数"
   ]
  },
  {
   "cell_type": "code",
   "execution_count": 963,
   "metadata": {},
   "outputs": [],
   "source": [
    "class ReLU():\n",
    "    \"\"\"\n",
    "    活性化関数 : ReLU関数\n",
    "    \"\"\"\n",
    "    def __init__(self):\n",
    "        pass\n",
    "        \n",
    "    def forward(self,A):\n",
    "        self.A = A\n",
    "        return np.maximum(self.A,0)\n",
    "    \n",
    "    def backward(self,dZ):\n",
    "        \n",
    "        return np.where(self.A>0,dZ,0)"
   ]
  },
  {
   "cell_type": "code",
   "execution_count": 964,
   "metadata": {},
   "outputs": [],
   "source": [
    "class Softmax():\n",
    "    \"\"\"\n",
    "    活性化関数 : ソフトマックス関数\n",
    "    \"\"\"\n",
    "    def __init__(self):\n",
    "        pass\n",
    "        \n",
    "    def forward(self,A):\n",
    "        \n",
    "        return np.exp(A-np.max(A))/np.sum(np.exp(A-np.max(A)),axis=1,keepdims=True)\n",
    "    \n",
    "    def backward(self,dZ):\n",
    "        return dZ"
   ]
  },
  {
   "cell_type": "markdown",
   "metadata": {},
   "source": [
    "### 【問題1】チャンネル数を1に限定した1次元畳み込み層クラスの作成\n",
    "チャンネル数を1に限定した1次元畳み込み層のクラスSimpleConv1dを作成してください。  \n",
    "基本構造は前のSprintで作成した全結合層のFCクラスと同じになります。  \n",
    "なお、重みの初期化に関するクラスは必要に応じて作り変えてください。  \n",
    "Xavierの初期値などを使う点は全結合層と同様です。  \n",
    "\n",
    "ここでは パディング は考えず、ストライド も1に固定します。  \n",
    "また、複数のデータを同時に処理することも考えなくて良く、バッチサイズは1のみに対応してください。  \n",
    "この部分の拡張はアドバンス課題とします。  "
   ]
  },
  {
   "cell_type": "code",
   "execution_count": 965,
   "metadata": {},
   "outputs": [],
   "source": [
    "# インポート\n",
    "import numpy as np\n",
    "import matplotlib.pyplot as plt\n",
    "# 評価指標\n",
    "from sklearn.metrics import accuracy_score"
   ]
  },
  {
   "cell_type": "markdown",
   "metadata": {},
   "source": [
    "#### 畳み込み層"
   ]
  },
  {
   "cell_type": "code",
   "execution_count": 1054,
   "metadata": {},
   "outputs": [],
   "source": [
    "# 1次元畳み込み層クラス\n",
    "class SimpleConv1d():\n",
    "    \"\"\"\n",
    "    1次元の畳み込み層\n",
    "    Parameters\n",
    "    ----------\n",
    "    n_nodes1 : int\n",
    "      前の層のノード数\n",
    "    n_nodes2 : int\n",
    "      後の層のノード数\n",
    "    initializer : 初期化方法のインスタンス\n",
    "    optimizer : 最適化手法のインスタンス\n",
    "    \"\"\"\n",
    "    def __init__(self, out_channel, in_channel, filter_size, \n",
    "                 padding_size=0,stride_size=1,\n",
    "                 initializer=None,optimizer=None,activation=None):\n",
    "        \n",
    "        self.initializer = initializer\n",
    "        self.optimizer = optimizer\n",
    "        self.activation = activation\n",
    "        \n",
    "        # 初期化\n",
    "        # initializerのメソッドを使い、self.Wとself.Bを初期化する\n",
    "        self.W = self.initializer.W(out_channel,in_channel,filter_size)\n",
    "        self.B = self.initializer.B(out_channel)\n",
    "        \n",
    "    def output_shape(self,n_feature,filter_size,padding=0,stride=1):\n",
    "        \n",
    "        return int((n_feature +2*padding -filter_size)/stride +1)\n",
    "    \n",
    "    def forward(self, X):\n",
    "        \"\"\"\n",
    "        フォワード\n",
    "        Parameters\n",
    "        ----------\n",
    "        X : 次の形のndarray, shape (batch_size, n_nodes1)\n",
    "            入力\n",
    "        Returns\n",
    "        ----------\n",
    "        A : 次の形のndarray, shape (batch_size, n_nodes2)\n",
    "            出力\n",
    "        \"\"\"\n",
    "        self.X = X\n",
    "        # サイズ\n",
    "        N,INC,Feature = X.shape\n",
    "        OCH,INC,FS = self.W.shape\n",
    "        OUT = self.output_shape(Feature,FS,0,1)\n",
    "        \n",
    "        self.size = N,INC,OCH,FS,OUT\n",
    "        \n",
    "        A = np.zeros([N,OCH,OUT])\n",
    "\n",
    "        for n in range(N):\n",
    "            for och in range(OCH):\n",
    "                for ich in range(INC):\n",
    "                    for m in range(OUT):\n",
    "                        A[n,och,m] += np.sum(X[n,ich,m:m+FS]*self.W[och,ich,:])\n",
    "                                   \n",
    "        A += self.B[:,None]\n",
    "        \n",
    "        return self.activation.forward(A)\n",
    "    \n",
    "    def backward(self, dZ):\n",
    "        \"\"\"\n",
    "        バックワード\n",
    "        Parameters\n",
    "        ----------\n",
    "        dA : 次の形のndarray, shape (batch_size, n_nodes2)\n",
    "            後ろから流れてきた勾配\n",
    "        Returns\n",
    "        ----------\n",
    "        dZ : 次の形のndarray, shape (batch_size, n_nodes1)\n",
    "            前に流す勾配\n",
    "        \"\"\"\n",
    "        dA = self.activation.backward(dZ)\n",
    "        \n",
    "        # バイアス\n",
    "        self.dB = np.mean(np.sum(dA,axis=2),axis=0)\n",
    "        \n",
    "        # 重み、流す勾配\n",
    "        self.dW = np.zeros(self.W.shape)\n",
    "        dZ = np.zeros(self.X.shape)\n",
    "        \n",
    "        N,INC,OCH,FS,OUT = self.size \n",
    "\n",
    "        for n in range(N):\n",
    "            for och in range(OCH):\n",
    "                for ich in range(INC):\n",
    "                    for fs in range(FS):\n",
    "                        for m in range(OUT):\n",
    "                            self.dW[och,ich,fs] += self.X[n,ich,fs+m]*dA[n,och,m]\n",
    "                            dZ[n,ich,fs+m] += self.W[och,ich,fs]*dA[n,och,m]\n",
    "        \n",
    "        # 更新\n",
    "        self = self.optimizer.update(self)\n",
    "        \n",
    "        return dZ"
   ]
  },
  {
   "cell_type": "code",
   "execution_count": 967,
   "metadata": {},
   "outputs": [],
   "source": [
    "class SimpleInitializerConv1d:\n",
    "    \"\"\"\n",
    "    ガウス分布によるシンプルな初期化\n",
    "    Parameters\n",
    "    ----------\n",
    "    sigma : float\n",
    "      ガウス分布の標準偏差\n",
    "    \"\"\"\n",
    "    def __init__(self, sigma=0.01):\n",
    "        self.sigma = sigma\n",
    "        \n",
    "    def W(self, out_channel, in_channel, filter_size):\n",
    "        \"\"\"\n",
    "        重みの初期化\n",
    "        Parameters\n",
    "        ----------\n",
    "        n_nodes1 : int\n",
    "          前の層のノード数\n",
    "        n_nodes2 : int\n",
    "          後の層のノード数\n",
    "\n",
    "        Returns\n",
    "        ----------\n",
    "        W : 重み\n",
    "        \"\"\"\n",
    "        return self.sigma * np.random.randn(out_channel, in_channel, filter_size)\n",
    "    \n",
    "    def B(self, out_channel):\n",
    "        \"\"\"\n",
    "        バイアスの初期化\n",
    "        Parameters\n",
    "        ----------\n",
    "        n_nodes2 : int\n",
    "          後の層のノード数\n",
    "\n",
    "        Returns\n",
    "        ----------\n",
    "        B : バイアス\n",
    "        \"\"\"\n",
    "        return np.zeros(out_channel)"
   ]
  },
  {
   "cell_type": "code",
   "execution_count": 1058,
   "metadata": {},
   "outputs": [],
   "source": [
    "# スクラッチ　CNN\n",
    "class Scratch1dCNNClassifier():\n",
    "    \"\"\"\n",
    "    N層の畳み込みニューラルネットワーク分類器\n",
    "    \n",
    "    Parameters\n",
    "    ----------\n",
    "    self.n_epoch : エポック数\n",
    "    self.n_batch : バッチ数\n",
    "    self.verbose : 学習過程を可視化\n",
    "    Attributes\n",
    "    ----------\n",
    "    \"\"\"\n",
    "    def __init__(self, NN, CNN, n_epoch=5, n_batch=1, verbose = False):\n",
    "        #　パラメータ\n",
    "        self.n_epoch = n_epoch\n",
    "        self.n_batch = n_batch\n",
    "        self.verbose = verbose\n",
    "        self.log_loss = np.zeros(self.n_epoch)\n",
    "        self.log_acc = np.zeros(self.n_epoch)\n",
    "        self.NN = NN\n",
    "        self.CNN = CNN\n",
    "        \n",
    "    def loss_function(self,y,yt):\n",
    "        delta = 1e-7\n",
    "        return -np.mean(yt*np.log(y+delta))\n",
    "    \n",
    "    def accuracy(self,Z,Y):\n",
    "        return accuracy_score(Y,Z)\n",
    "                \n",
    "    def fit(self, X, y, X_val=False, y_val=False):\n",
    "        \"\"\"\n",
    "        ニューラルネットワーク分類器を学習する。\n",
    "\n",
    "        Parameters\n",
    "        ----------\n",
    "        X : 次の形のndarray, shape (n_samples, n_features)\n",
    "            訓練データの特徴量\n",
    "        y : 次の形のndarray, shape (n_samples, )\n",
    "            訓練データの正解値\n",
    "        X_val : 次の形のndarray, shape (n_samples, n_features)\n",
    "            検証データの特徴量\n",
    "        y_val : 次の形のndarray, shape (n_samples, )\n",
    "            検証データの正解値\n",
    "        \"\"\"\n",
    "        for epoch in range(self.n_epoch):\n",
    "            # ミニバッチ処理\n",
    "            get_mini_batch = GetMiniBatch(X, y, batch_size=self.n_batch)\n",
    "            \n",
    "            self.loss = 0\n",
    "            for mini_X_train, mini_y_train in get_mini_batch:\n",
    "                \n",
    "                # 順伝播\n",
    "                forward_data = mini_X_train.reshape(self.n_batch,1,-1)\n",
    "                \n",
    "                # Conv\n",
    "                for layer in range(len(self.CNN)):\n",
    "                    forward_data = self.CNN[layer].forward(forward_data)\n",
    "                \n",
    "                record_shape = forward_data.shape\n",
    "                forward_data = forward_data.reshape(self.n_batch,-1)\n",
    "                \n",
    "                for layer in range(len(self.NN)):\n",
    "                    forward_data = self.NN[layer].forward(forward_data)\n",
    "                    \n",
    "                # 予測値\n",
    "                Z = forward_data\n",
    "                \n",
    "                # 逆伝播\n",
    "                backward_data = (Z - mini_y_train)/self.n_batch\n",
    "                for layer in range(len(self.NN)-1,-1,-1):\n",
    "                    backward_data = self.NN[layer].backward(backward_data)\n",
    "                \n",
    "                backward_data = backward_data.reshape(record_shape)\n",
    "                \n",
    "                for layer in range(len(self.CNN)-1,-1,-1):\n",
    "                    backward_data = self.CNN[layer].backward(backward_data)\n",
    "                \n",
    "                # 損失関数\n",
    "                self.loss += self.loss_function(Z,mini_y_train)\n",
    "                \n",
    "            self.log_loss[epoch] = self.loss/len(get_mini_batch)\n",
    "            self.log_acc[epoch] = self.accuracy(self.predict(X),np.argmax(y,axis=1))\n",
    "            \n",
    "    def predict(self, X):\n",
    "        \"\"\"\n",
    "        ニューラルネットワーク分類器を使い推定する。\n",
    "\n",
    "        Parameters\n",
    "        ----------\n",
    "        X : 次の形のndarray, shape (n_samples, n_features)\n",
    "            サンプル\n",
    "\n",
    "        Returns\n",
    "        -------\n",
    "            次の形のndarray, shape (n_samples, 1)\n",
    "            推定結果\n",
    "        \"\"\"\n",
    "        pred_data = X[:,np.newaxis,:]\n",
    "        \n",
    "        # Conv\n",
    "        for layer in range(len(self.CNN)):\n",
    "            pred_data = self.CNN[layer].forward(pred_data)\n",
    "                \n",
    "        pred_data = pred_data.reshape(len(X),-1)\n",
    "                \n",
    "        for layer in range(len(self.NN)):\n",
    "            pred_data = self.NN[layer].forward(pred_data)\n",
    "            \n",
    "        return np.argmax(pred_data,axis=1)"
   ]
  },
  {
   "cell_type": "markdown",
   "metadata": {},
   "source": [
    "### 【問題2】1次元畳み込み後の出力サイズの計算\n",
    "畳み込みを行うと特徴量の数が変化します。\n",
    "どのように変化するかは以下の数式から求められます。パディングやストライドも含めています。\n",
    "この計算を行う関数を作成してください。"
   ]
  },
  {
   "cell_type": "code",
   "execution_count": 969,
   "metadata": {},
   "outputs": [],
   "source": [
    "def output_shape(X_features, filter_size, padding_size=0, stride_size=1):\n",
    "    return int((X_features +2*padding_size -filter_size)/stride_size +1)"
   ]
  },
  {
   "cell_type": "code",
   "execution_count": 970,
   "metadata": {},
   "outputs": [
    {
     "data": {
      "text/plain": [
       "2"
      ]
     },
     "execution_count": 970,
     "metadata": {},
     "output_type": "execute_result"
    }
   ],
   "source": [
    "output_shape(4,3,0,1)"
   ]
  },
  {
   "cell_type": "markdown",
   "metadata": {},
   "source": [
    "### 【問題3】小さな配列での1次元畳み込み層の実験\n",
    "次に示す小さな配列でフォワードプロパゲーションとバックプロパゲーションが  \n",
    "正しく行えているか確認してください。"
   ]
  },
  {
   "cell_type": "markdown",
   "metadata": {},
   "source": [
    "* 入力チャンネル数を１としたとき"
   ]
  },
  {
   "cell_type": "code",
   "execution_count": 971,
   "metadata": {},
   "outputs": [],
   "source": [
    "# 入力\n",
    "x = np.array([1,2,3,4])\n",
    "w = np.array([3, 5, 7])\n",
    "b = np.array([1])\n",
    "\n",
    "# 誤差\n",
    "delta_a = np.array([10, 20])"
   ]
  },
  {
   "cell_type": "code",
   "execution_count": 972,
   "metadata": {},
   "outputs": [
    {
     "name": "stdout",
     "output_type": "stream",
     "text": [
      "[35. 50.]\n"
     ]
    }
   ],
   "source": [
    "# フォワード\n",
    "a = np.zeros(output_shape(4,3,0,1))\n",
    "for i in range(len(a)):\n",
    "    x_tmp = x[i:i+len(w)]\n",
    "    a[i] = np.sum(x_tmp*w)+b\n",
    "print(a)"
   ]
  },
  {
   "cell_type": "code",
   "execution_count": 973,
   "metadata": {},
   "outputs": [
    {
     "name": "stdout",
     "output_type": "stream",
     "text": [
      "30\n"
     ]
    }
   ],
   "source": [
    "# バックワード バイアス\n",
    "delta_b = np.sum(delta_a)\n",
    "print(delta_b)"
   ]
  },
  {
   "cell_type": "code",
   "execution_count": 974,
   "metadata": {},
   "outputs": [
    {
     "name": "stdout",
     "output_type": "stream",
     "text": [
      "[ 50.  80. 110.]\n"
     ]
    }
   ],
   "source": [
    "# バックワード　フィルター\n",
    "delta_w = np.zeros(len(w))\n",
    "for i in range(len(w)):\n",
    "    x_tmp = x[i:i+len(delta_a)]\n",
    "    delta_w[i] = np.sum(x_tmp*delta_a)\n",
    "print(delta_w)"
   ]
  },
  {
   "cell_type": "code",
   "execution_count": 975,
   "metadata": {},
   "outputs": [
    {
     "name": "stdout",
     "output_type": "stream",
     "text": [
      "[ 30. 110. 170. 140.]\n"
     ]
    }
   ],
   "source": [
    "# バックワード　次の層に伝える誤差\n",
    "delta_x = np.zeros(len(x))\n",
    "for i in range(len(x)):\n",
    "    zero = np.zeros(len(delta_a)-1)\n",
    "    w_padded = np.concatenate([zero,w,zero],axis=0)\n",
    "    w_tmp = w_padded[i:i+len(delta_a)]\n",
    "    # print(w_tmp)\n",
    "    delta_x[i] = np.sum(w_tmp*delta_a[::-1])\n",
    "print(delta_x)"
   ]
  },
  {
   "cell_type": "markdown",
   "metadata": {},
   "source": [
    "### 実装上の工夫\n",
    "畳み込みを実装する場合は、まずはfor文を重ねていく形で構いません。  \n",
    "しかし、できるだけ計算は効率化させたいため、以下の式を一度に計算する方法を考えることにします。\n",
    "  \n",
    "これは、xの一部を取り出した配列とwの配列の内積です。  \n",
    "具体的な状況を考えると、以下のようなコードで計算できます。  \n",
    "この例では流れを分かりやすくするために、各要素同士でアダマール積を計算してから合計を計算しています。  \n",
    "これは結果的に内積と同様です。  "
   ]
  },
  {
   "cell_type": "code",
   "execution_count": 976,
   "metadata": {},
   "outputs": [
    {
     "name": "stdout",
     "output_type": "stream",
     "text": [
      "[ 3. 10. 21.]\n",
      "[ 6. 15. 28.]\n",
      "[34. 49.]\n"
     ]
    }
   ],
   "source": [
    "x = np.array([1, 2, 3, 4])\n",
    "w = np.array([3, 5, 7])\n",
    "a = np.empty((2, 3))\n",
    "indexes0 = np.array([0, 1, 2]).astype(np.int)\n",
    "indexes1 = np.array([1, 2, 3]).astype(np.int)\n",
    "a[0] = x[indexes0]*w # x[indexes0]は([1, 2, 3])である\n",
    "print(a[0])\n",
    "a[1] = x[indexes1]*w # x[indexes1]は([2, 3, 4])である\n",
    "print(a[1])\n",
    "a = a.sum(axis=1)\n",
    "print(a)"
   ]
  },
  {
   "cell_type": "markdown",
   "metadata": {},
   "source": [
    "### 【問題4】チャンネル数を限定しない1次元畳み込み層クラスの作成\n",
    "チャンネル数を1に限定しない1次元畳み込み層のクラスConv1dを作成してください。"
   ]
  },
  {
   "cell_type": "code",
   "execution_count": 1091,
   "metadata": {},
   "outputs": [
    {
     "name": "stdout",
     "output_type": "stream",
     "text": [
      "x.shape: (2, 4)\n",
      "w.shape: (3, 2, 3)\n",
      "b.shape: (3,)\n"
     ]
    }
   ],
   "source": [
    "x = np.array([[1, 2, 3, 4],\n",
    "              [2, 3, 4, 5]])\n",
    "\n",
    "w = np.array([[[1, 1, 2],\n",
    "               [2, 1, 1]],\n",
    "              [[2, 1, 1],\n",
    "               [1, 1, 1]],\n",
    "              [[1, 1, 1],\n",
    "               [1, 1, 1]],])\n",
    "\n",
    "b = np.array([1, 2, 3])\n",
    "print('x.shape:',x.shape)\n",
    "print('w.shape:',w.shape)\n",
    "print('b.shape:',b.shape)"
   ]
  },
  {
   "cell_type": "code",
   "execution_count": 1104,
   "metadata": {
    "scrolled": true
   },
   "outputs": [
    {
     "name": "stdout",
     "output_type": "stream",
     "text": [
      "[[21. 29.]\n",
      " [18. 25.]\n",
      " [18. 24.]]\n"
     ]
    }
   ],
   "source": [
    "# フォワード\n",
    "a = np.zeros([3,output_shape(4,3,0,1)])\n",
    "\n",
    "for och in range(w.shape[0]):\n",
    "    for ch in range(w.shape[1]):\n",
    "            for m in range(a.shape[1]):\n",
    "                a[och,m] += np.sum(x[ch,m:m+w.shape[2]]*w[och,ch,:]) \n",
    "a += b[:,None]\n",
    "print(a)"
   ]
  },
  {
   "cell_type": "code",
   "execution_count": 1084,
   "metadata": {},
   "outputs": [
    {
     "name": "stdout",
     "output_type": "stream",
     "text": [
      "delta_a:\n",
      " [[ 9 11]\n",
      " [32 35]\n",
      " [52 56]]\n",
      "delta_a.shape:\n",
      " (3, 2)\n"
     ]
    }
   ],
   "source": [
    "# バックワード\n",
    "delta_a = np.array([[9, 11],\n",
    "                    [32,35],\n",
    "                    [52,56]])\n",
    "print('delta_a:\\n',delta_a)\n",
    "print('delta_a.shape:\\n',delta_a.shape)"
   ]
  },
  {
   "cell_type": "code",
   "execution_count": 980,
   "metadata": {},
   "outputs": [
    {
     "name": "stdout",
     "output_type": "stream",
     "text": [
      "delta_b:\n",
      " [ 20  67 108]\n"
     ]
    }
   ],
   "source": [
    "# バックワード バイアス\n",
    "delta_b = np.sum(delta_a,axis=1)\n",
    "print('delta_b:\\n',delta_b)"
   ]
  },
  {
   "cell_type": "code",
   "execution_count": 981,
   "metadata": {
    "scrolled": false
   },
   "outputs": [
    {
     "name": "stdout",
     "output_type": "stream",
     "text": [
      "delta_w:\n",
      " [[[ 31.  51.  71.]\n",
      "  [ 51.  71.  91.]]\n",
      "\n",
      " [[102. 169. 236.]\n",
      "  [169. 236. 303.]]\n",
      "\n",
      " [[164. 272. 380.]\n",
      "  [272. 380. 488.]]]\n"
     ]
    }
   ],
   "source": [
    "# バックワード　フィルター\n",
    "delta_w = np.zeros([3,2,3])\n",
    "\n",
    "for och in range(w.shape[0]):\n",
    "    for ich in range(w.shape[1]):\n",
    "        for fs in range(w.shape[2]):\n",
    "            for m in range(2):\n",
    "                #print(x[ich,fs+m])\n",
    "                #print(delta_a[och,m])\n",
    "                #print(x[ich,fs+m]*delta_a[och,m])\n",
    "                delta_w[och,ich,fs] += (x[ich,fs+m]*delta_a[och,m])\n",
    "print('delta_w:\\n',delta_w)"
   ]
  },
  {
   "cell_type": "code",
   "execution_count": 982,
   "metadata": {},
   "outputs": [
    {
     "name": "stdout",
     "output_type": "stream",
     "text": [
      "delta_x:\n",
      " [[125. 230. 204. 113.]\n",
      " [102. 206. 195. 102.]]\n"
     ]
    }
   ],
   "source": [
    "# バックワード　次の層に伝える誤差\n",
    "delta_x = np.zeros([2,4])\n",
    "\n",
    "for och in range(w.shape[0]):\n",
    "    for ich in range(w.shape[1]):\n",
    "        for fs in range(w.shape[2]):\n",
    "            for m in range(2):\n",
    "                #print(w[och,ich,fs])\n",
    "                #print(delta_a[och,m])\n",
    "                #print(w[och,ich,fs]*delta_a[och,m])\n",
    "                delta_x[ich,fs+m] += w[och,ich,fs]*delta_a[och,m]\n",
    "\n",
    "print('delta_x:\\n',delta_x)"
   ]
  },
  {
   "cell_type": "markdown",
   "metadata": {},
   "source": [
    "### 【問題6】（アドバンス課題）ミニバッチへの対応\n",
    "ここまでの課題はバッチサイズ1で良いとしてきました。  \n",
    "しかし、実際は全結合層同様にミニバッチ学習が行われます。  \n",
    "Conv1dクラスを複数のデータが同時に計算できるように変更してください。"
   ]
  },
  {
   "cell_type": "code",
   "execution_count": 983,
   "metadata": {},
   "outputs": [
    {
     "name": "stdout",
     "output_type": "stream",
     "text": [
      "x.shape: (2, 2, 4)\n",
      "w.shape: (3, 2, 3)\n",
      "b.shape: (3,)\n"
     ]
    }
   ],
   "source": [
    "# ミニバッチ対応\n",
    "x = np.array([[1, 2, 3, 4],\n",
    "              [2, 3, 4, 5]]*2).reshape(2,2,4)\n",
    "\n",
    "w = np.array([[[1, 1, 2],\n",
    "               [2, 1, 1]],\n",
    "              [[2, 1, 1],\n",
    "               [1, 1, 1]],\n",
    "              [[1, 1, 1],\n",
    "               [1, 1, 1]],])\n",
    "\n",
    "b = np.array([1, 2, 3])\n",
    "print('x.shape:',x.shape)\n",
    "print('w.shape:',w.shape)\n",
    "print('b.shape:',b.shape)"
   ]
  },
  {
   "cell_type": "code",
   "execution_count": 984,
   "metadata": {},
   "outputs": [
    {
     "name": "stdout",
     "output_type": "stream",
     "text": [
      "delta_a:\n",
      " [[[ 9 11]\n",
      "  [32 35]\n",
      "  [52 56]]\n",
      "\n",
      " [[ 9 11]\n",
      "  [32 35]\n",
      "  [52 56]]]\n",
      "delta_a.shape:\n",
      " (2, 3, 2)\n"
     ]
    }
   ],
   "source": [
    "# バックワード\n",
    "delta_a = np.array([[9, 11],\n",
    "                    [32,35],\n",
    "                    [52,56]]*2).reshape(2,3,2)\n",
    "print('delta_a:\\n',delta_a)\n",
    "print('delta_a.shape:\\n',delta_a.shape)"
   ]
  },
  {
   "cell_type": "code",
   "execution_count": 985,
   "metadata": {},
   "outputs": [],
   "source": [
    "# サイズ\n",
    "N,INC,Feature = x.shape\n",
    "OCH,INC,FS = w.shape\n",
    "A = output_shape(Feature,FS,0,1)"
   ]
  },
  {
   "cell_type": "code",
   "execution_count": 986,
   "metadata": {},
   "outputs": [
    {
     "name": "stdout",
     "output_type": "stream",
     "text": [
      "(2, 3, 2)\n",
      "[[[21. 29.]\n",
      "  [18. 25.]\n",
      "  [18. 24.]]\n",
      "\n",
      " [[21. 29.]\n",
      "  [18. 25.]\n",
      "  [18. 24.]]]\n"
     ]
    }
   ],
   "source": [
    "# フォワード\n",
    "a = np.zeros([N,OCH,A])\n",
    "\n",
    "for n in range(N):\n",
    "    for och in range(OCH):\n",
    "        for ich in range(INC):\n",
    "            for m in range(A):\n",
    "                a[n,och,m] += np.sum(x[n,ich,m:m+FS]*w[och,ich,:])\n",
    "                                   \n",
    "a += b[:,None]\n",
    "print(a.shape)\n",
    "print(a)"
   ]
  },
  {
   "cell_type": "code",
   "execution_count": 1053,
   "metadata": {},
   "outputs": [
    {
     "name": "stdout",
     "output_type": "stream",
     "text": [
      "delta_b:\n",
      " [ 20.  67. 108.]\n"
     ]
    }
   ],
   "source": [
    "# バックワード バイアス\n",
    "delta_b = np.mean(np.sum(delta_a,axis=2),axis=0)\n",
    "print('delta_b:\\n',delta_b)"
   ]
  },
  {
   "cell_type": "code",
   "execution_count": 988,
   "metadata": {
    "scrolled": false
   },
   "outputs": [
    {
     "name": "stdout",
     "output_type": "stream",
     "text": [
      "delta_w:\n",
      " [[[ 62. 102. 142.]\n",
      "  [102. 142. 182.]]\n",
      "\n",
      " [[204. 338. 472.]\n",
      "  [338. 472. 606.]]\n",
      "\n",
      " [[328. 544. 760.]\n",
      "  [544. 760. 976.]]]\n"
     ]
    }
   ],
   "source": [
    "# バックワード　フィルター\n",
    "delta_w = np.zeros([3,2,3])\n",
    "\n",
    "for n in range(N):\n",
    "    for och in range(OCH):\n",
    "        for ich in range(INC):\n",
    "            for fs in range(FS):\n",
    "                for m in range(A):\n",
    "                    delta_w[och,ich,fs] += x[n,ich,fs+m]*delta_a[n,och,m]\n",
    "print('delta_w:\\n',delta_w)"
   ]
  },
  {
   "cell_type": "code",
   "execution_count": 989,
   "metadata": {},
   "outputs": [
    {
     "name": "stdout",
     "output_type": "stream",
     "text": [
      "delta_x:\n",
      " [[[125. 230. 204. 113.]\n",
      "  [102. 206. 195. 102.]]\n",
      "\n",
      " [[125. 230. 204. 113.]\n",
      "  [102. 206. 195. 102.]]]\n"
     ]
    }
   ],
   "source": [
    "# バックワード　次の層に伝える誤差\n",
    "delta_x = np.zeros(x.shape)\n",
    "\n",
    "for n in range(N):\n",
    "    for och in range(OCH):\n",
    "        for ich in range(INC):\n",
    "            for fs in range(FS):\n",
    "                for m in range(A):\n",
    "                    delta_x[n,ich,fs+m] += w[och,ich,fs]*delta_a[n,och,m]\n",
    "        \n",
    "print('delta_x:\\n',delta_x)"
   ]
  },
  {
   "cell_type": "markdown",
   "metadata": {},
   "source": [
    "### 【問題8】学習と推定\n",
    "これまで使ってきたニューラルネットワークの全結合層の一部をConv1dに置き換えて  \n",
    "MNISTを学習・推定し、Accuracyを計算してください。\n",
    "\n",
    "出力層だけは全結合層をそのまま使ってください。ただし、チャンネルが複数ある状態では全結合層への入力は行えません。その段階でのチャンネルは1になるようにするか、 平滑化 を行なってください。\n",
    "\n",
    "画像に対しての1次元畳み込みは実用上は行わないことのため、精度は問いません。"
   ]
  },
  {
   "cell_type": "code",
   "execution_count": 990,
   "metadata": {},
   "outputs": [],
   "source": [
    "# MNISTデータセットのダウンロード\n",
    "from keras.datasets import mnist\n",
    "(X, y), (X_test, y_test) = mnist.load_data()"
   ]
  },
  {
   "cell_type": "code",
   "execution_count": 991,
   "metadata": {},
   "outputs": [
    {
     "name": "stdout",
     "output_type": "stream",
     "text": [
      "(60000, 28, 28)\n",
      "(60000, 28, 28)\n",
      "uint8\n"
     ]
    }
   ],
   "source": [
    "# データの確認\n",
    "print(X.shape) # (60000, 28, 28)\n",
    "print(X.shape) # (10000, 28, 28)\n",
    "print(X[0].dtype) # uint8"
   ]
  },
  {
   "cell_type": "code",
   "execution_count": 992,
   "metadata": {},
   "outputs": [
    {
     "name": "stdout",
     "output_type": "stream",
     "text": [
      "(60000, 784)\n",
      "(10000, 784)\n"
     ]
    }
   ],
   "source": [
    "# 平滑化\n",
    "X_flat = X.reshape(-1, 784)\n",
    "X_test_flat = X_test.reshape(-1, 784)\n",
    "print(X_flat.shape)\n",
    "print(X_test_flat.shape)"
   ]
  },
  {
   "cell_type": "code",
   "execution_count": 993,
   "metadata": {},
   "outputs": [
    {
     "name": "stdout",
     "output_type": "stream",
     "text": [
      "1.0\n",
      "0.0\n"
     ]
    }
   ],
   "source": [
    "# 型変換、正規化\n",
    "X_flat = X_flat.astype(np.float)\n",
    "X_test_flat = X_test_flat.astype(np.float)\n",
    "X_flat /= 255\n",
    "X_test_flat /= 255\n",
    "print(X_flat.max()) # 1.0\n",
    "print(X_flat.min()) # 0.0"
   ]
  },
  {
   "cell_type": "code",
   "execution_count": 994,
   "metadata": {},
   "outputs": [
    {
     "name": "stdout",
     "output_type": "stream",
     "text": [
      "(60000,)\n",
      "(60000, 10)\n",
      "float64\n"
     ]
    }
   ],
   "source": [
    "# 正解ラベル値をone-hotエンコーディング\n",
    "from sklearn.preprocessing import OneHotEncoder\n",
    "\n",
    "enc = OneHotEncoder(handle_unknown='ignore', sparse=False)\n",
    "y_one_hot = enc.fit_transform(y[:, np.newaxis])\n",
    "y_test_one_hot = enc.transform(y_test[:, np.newaxis])\n",
    "print(y.shape) # (60000,)\n",
    "print(y_one_hot.shape) # (60000, 10)\n",
    "print(y_one_hot.dtype) # float64"
   ]
  },
  {
   "cell_type": "code",
   "execution_count": 995,
   "metadata": {},
   "outputs": [
    {
     "name": "stdout",
     "output_type": "stream",
     "text": [
      "(48000, 784)\n",
      "(12000, 784)\n",
      "(48000, 10)\n",
      "(12000, 10)\n"
     ]
    }
   ],
   "source": [
    "# 訓練データと、検証データに分割\n",
    "from sklearn.model_selection import train_test_split\n",
    "\n",
    "X_train, X_valid, y_train, y_valid = train_test_split(X_flat, y_one_hot, test_size=0.2)\n",
    "print(X_train.shape)\n",
    "print(X_valid.shape)\n",
    "print(y_train.shape)\n",
    "print(y_valid.shape)"
   ]
  },
  {
   "cell_type": "markdown",
   "metadata": {},
   "source": [
    "* 学習・推定"
   ]
  },
  {
   "cell_type": "code",
   "execution_count": 1059,
   "metadata": {},
   "outputs": [],
   "source": [
    "NN = {0:FC(15640, 400, HeInitializer(), AdaGrad(0.01), ReLU()),\n",
    "      1:FC(400, 200, HeInitializer(), AdaGrad(0.01), ReLU()),\n",
    "      2:FC(200, 10, SimpleInitializer(0.01), AdaGrad(0.01), Softmax()),\n",
    "     }"
   ]
  },
  {
   "cell_type": "code",
   "execution_count": 1060,
   "metadata": {},
   "outputs": [],
   "source": [
    "CNN = {0:SimpleConv1d(out_channel=20, in_channel=1, filter_size=3,\n",
    "                      padding_size=0, stride_size=1,\n",
    "                      initializer=SimpleInitializerConv1d(0.01),\n",
    "                      optimizer=SGD(0.01),\n",
    "                      activation=ReLU()),\n",
    "      }"
   ]
  },
  {
   "cell_type": "code",
   "execution_count": 1071,
   "metadata": {},
   "outputs": [],
   "source": [
    "cnn1 = Scratch1dCNNClassifier(NN=NN,CNN=CNN,n_epoch=10,n_batch=100,verbose=False)\n",
    "\n",
    "cnn1.fit(X_train[0:1000],y_train[0:1000])\n",
    "y_pred = cnn1.predict(X_valid[0:500])"
   ]
  },
  {
   "cell_type": "code",
   "execution_count": 1073,
   "metadata": {},
   "outputs": [
    {
     "name": "stdout",
     "output_type": "stream",
     "text": [
      "accuracy:0.844\n"
     ]
    }
   ],
   "source": [
    "# 正解率\n",
    "accuracy = accuracy_score(np.argmax(y_valid[0:500],axis=1), y_pred)\n",
    "print('accuracy:{:.3f}'.format(accuracy))"
   ]
  },
  {
   "cell_type": "code",
   "execution_count": 1074,
   "metadata": {},
   "outputs": [
    {
     "data": {
      "image/png": "[encoded data removed]",
      "text/plain": [
       "<Figure size 1152x432 with 2 Axes>"
      ]
     },
     "metadata": {
      "needs_background": "light"
     },
     "output_type": "display_data"
    }
   ],
   "source": [
    "# epochごとの損失関数の可視化\n",
    "plt.rcParams[\"font.size\"] = 20\n",
    "fig=plt.subplots(figsize=(16,6))\n",
    "plt.subplot(1,2,1)\n",
    "plt.title('LOSS')\n",
    "plt.plot(cnn1.log_loss,'bo--')\n",
    "\n",
    "plt.subplot(1,2,2)\n",
    "plt.title('ACC')\n",
    "plt.plot(cnn1.log_acc,'rs--');"
   ]
  },
  {
   "cell_type": "markdown",
   "metadata": {},
   "source": [
    "* 全データを使用した学習・推定は計算時間が長いため、訓練データ1,000と検証データ500を使用した。\n",
    "* 損失関数も下がり、正解率も上がっている。（モデル性能の所感は、DNNに及ばず、、、）"
   ]
  }
 ],
 "metadata": {
  "kernelspec": {
   "display_name": "Python 3",
   "language": "python",
   "name": "python3"
  },
  "language_info": {
   "codemirror_mode": {
    "name": "ipython",
    "version": 3
   },
   "file_extension": ".py",
   "mimetype": "text/x-python",
   "name": "python",
   "nbconvert_exporter": "python",
   "pygments_lexer": "ipython3",
   "version": "3.8.2"
  },
  "toc": {
   "base_numbering": 1,
   "nav_menu": {},
   "number_sections": true,
   "sideBar": true,
   "skip_h1_title": true,
   "title_cell": "目次",
   "title_sidebar": "目次",
   "toc_cell": true,
   "toc_position": {
    "height": "calc(100% - 180px)",
    "left": "10px",
    "top": "150px",
    "width": "428px"
   },
   "toc_section_display": true,
   "toc_window_display": true
  }
 },
 "nbformat": 4,
 "nbformat_minor": 4
}
