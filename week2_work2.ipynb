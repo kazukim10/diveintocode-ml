{
 "cells": [
  {
   "cell_type": "markdown",
   "metadata": {},
   "source": [
    "## week2授業課題2 富士下山問題"
   ]
  },
  {
   "cell_type": "markdown",
   "metadata": {},
   "source": [
    "### 1.このテキストについて\n",
    "テキストの目的  \n",
    "・数式演算ライブラリのNumPyに慣れる  \n",
    "・勾配降下法の仕組みを知る  \n",
    "  \n",
    "どのように学ぶか  \n",
    "・勾配降下法を下山のたとえた問題を解くプログラムを作成することで、  \n",
    "　機械学習の基礎的な要素を学びます。"
   ]
  },
  {
   "cell_type": "markdown",
   "metadata": {},
   "source": [
    "### 2.富士下山問題\n",
    "勾配降下法は山や谷を下ることに例えられます。  \n",
    "富士山の標高データを最小化したい目的関数に見立てて、  \n",
    "富士山からの下山プログラムを作成することで勾配降下法を学びます。"
   ]
  },
  {
   "cell_type": "markdown",
   "metadata": {},
   "source": [
    "### 3.富士山から下る\n",
    "・標高データの取得   \n",
    "標高データはcsvファイルを配布します。  \n",
    "以下のコードで読み込むことができます。"
   ]
  },
  {
   "cell_type": "code",
   "execution_count": 109,
   "metadata": {},
   "outputs": [],
   "source": [
    "import random\n",
    "import numpy as np\n",
    "import matplotlib.pyplot as plt"
   ]
  },
  {
   "cell_type": "code",
   "execution_count": 110,
   "metadata": {},
   "outputs": [],
   "source": [
    "csv_path = \"mtfuji_data.csv\" # ファイル名（パス）を指定する\n",
    "np.set_printoptions(suppress=True) # 指数表示の禁止を設定する\n",
    "fuji = np.loadtxt(csv_path, delimiter=\",\", skiprows=1)"
   ]
  },
  {
   "cell_type": "code",
   "execution_count": 111,
   "metadata": {},
   "outputs": [
    {
     "name": "stdout",
     "output_type": "stream",
     "text": [
      "[[  130.          35.352505   138.756638  2563.4      41888.      ]\n",
      " [  131.          35.35418    138.753742  2703.1      42210.      ]\n",
      " [  132.          35.355855   138.750846  2825.55     42532.      ]\n",
      " [  133.          35.35753    138.74795   2967.9      42854.      ]\n",
      " [  134.          35.359205   138.745054  3087.81     43177.      ]\n",
      " [  135.          35.36088    138.742157  3266.24     43499.      ]\n",
      " [  136.          35.362555   138.739261  3434.59     43821.      ]\n",
      " [  137.          35.36423    138.736364  3600.08     44143.      ]\n",
      " [  138.          35.365904   138.733468  3679.96     44466.      ]\n",
      " [  139.          35.367579   138.730571  3664.9      44788.      ]]\n"
     ]
    }
   ],
   "source": [
    "print(fuji[130:140])"
   ]
  },
  {
   "cell_type": "markdown",
   "metadata": {},
   "source": [
    "左から順番に「その地点の番号」「緯度」「経度」「標高」「地点0からの距離」  \n",
    "となっています。標高と距離の単位はメートルです。  \n",
    "300地点のデータです。"
   ]
  },
  {
   "cell_type": "markdown",
   "metadata": {},
   "source": [
    "《出典》\n",
    "\n",
    "今回使用するデータは国土地理院の電子地形図の断面図機能を使用し取得しました。相模湾から富士山頂上付近を通り南アルプス方面へと向かう線上300地点の標高データです。\u0018"
   ]
  },
  {
   "cell_type": "code",
   "execution_count": 112,
   "metadata": {},
   "outputs": [
    {
     "name": "stdout",
     "output_type": "stream",
     "text": [
      "[[    0.          35.134141   139.132082     0.           0.      ]\n",
      " [    1.          35.135826   139.129202     0.         322.      ]\n",
      " [    2.          35.13751    139.126322     0.         644.      ]\n",
      " ...\n",
      " [  297.          35.631284   138.271368  1973.99     95698.      ]\n",
      " [  298.          35.632947   138.268452  1841.36     96020.      ]\n",
      " [  299.          35.63461    138.265536  1725.8      96343.      ]]\n",
      "(300, 5)\n"
     ]
    }
   ],
   "source": [
    "print(fuji)\n",
    "print(fuji.shape)"
   ]
  },
  {
   "cell_type": "markdown",
   "metadata": {},
   "source": [
    "#### 【問題1】データの可視化"
   ]
  },
  {
   "cell_type": "code",
   "execution_count": 113,
   "metadata": {},
   "outputs": [
    {
     "data": {
      "image/png": "[encoded data removed]",
      "text/plain": [
       "<Figure size 432x288 with 1 Axes>"
      ]
     },
     "metadata": {
      "needs_background": "light"
     },
     "output_type": "display_data"
    }
   ],
   "source": [
    "position = fuji[:,0]\n",
    "elevation = fuji[:,3]\n",
    "\n",
    "plt.title(\"Mt.Fuji\")\n",
    "plt.xlabel(\"position\")\n",
    "plt.ylabel(\"elevation[m]\")\n",
    "plt.plot(position,elevation,color = \"b\")\n",
    "plt.show()"
   ]
  },
  {
   "cell_type": "markdown",
   "metadata": {},
   "source": [
    "#### 【問題2】ある地点の勾配を計算する関数を作成\n",
    "「二次元配列と勾配問題」では各地点での勾配を最初に求めました。  \n",
    "しかし、暗闇の富士山を想像すると、知ることができるのは今いる地点の勾配だけです。  \n",
    "  \n",
    "「今いる地点の番号」と「今いる隣の地点の番号（今いる地点の番号-1）」の関係による勾配を求める関数を作成してください。  \n",
    "  \n",
    "勾配は以下の式で求まりましたが、このデータでは「標高」がy、「その地点の番号」がxに相当します。"
   ]
  },
  {
   "cell_type": "code",
   "execution_count": 114,
   "metadata": {},
   "outputs": [
    {
     "name": "stdout",
     "output_type": "stream",
     "text": [
      "勾配\n",
      " 168.35000000000036\n"
     ]
    }
   ],
   "source": [
    "def gradient(current_location,position,elevation):\n",
    "    \n",
    "    \n",
    "    gradient = ((elevation[1:] - elevation[:-1])\n",
    "                /(position[1:] - position[:-1]))\n",
    "    \n",
    "    current_gradient = gradient[current_location-1]\n",
    "    \n",
    "    \n",
    "    return current_gradient\n",
    "\n",
    "step = 136\n",
    "current_gradient = gradient(step,position,elevation)\n",
    "print('勾配\\n', current_gradient)"
   ]
  },
  {
   "cell_type": "markdown",
   "metadata": {},
   "source": [
    "#### 【問題3】移動先の地点を計算する関数を作成\n",
    "今いる地点の勾配の情報を元に、次に移動先の地点を計算する関数を作成してください。  \n",
    "数式で表すと 「移動先の地点 = 今いる地点 - α×今いる地点の勾配」 となります。  \n",
    "  \n",
    "「今いる地点の勾配」は問題2で作成した関数の返り値を使用してください。\n",
    "αは0より大きい任意の値をとるハイパーパラメータです。  \n",
    "機械学習の分野では学習率という名前で呼ばれます。  \n",
    "この値によって下り方が変わります。ここでは例えば0.2に設定してください。"
   ]
  },
  {
   "cell_type": "markdown",
   "metadata": {},
   "source": [
    "《実装上の注意》\n",
    "\n",
    "上記式を計算すると移動先の地点には浮動小数点数が現れますが、今回勾配の情報を得るためには地点は整数で表す必要があります。そのため、四捨五入による変換を行ってください。また、取り得ない値となった場合の処理が必要です。例えば移動先の地点が負になると、そのようなデータが存在しないため、次に勾配が得られなくなります。"
   ]
  },
  {
   "cell_type": "markdown",
   "metadata": {},
   "source": [
    "《ハイパーパラメータとは》\n",
    "\n",
    "機械学習手法において、その手法自身では最適化が行えない値のことです。値によって手法の挙動は変化し、学習がうまくいくかどうかに影響を与えるため、設定は慎重に行う必要があります。最も単純には人間が考えて設定することになりますが、ハイパーパラメータを機械的に決めるための手法も存在します。"
   ]
  },
  {
   "cell_type": "code",
   "execution_count": 115,
   "metadata": {},
   "outputs": [
    {
     "name": "stdout",
     "output_type": "stream",
     "text": [
      "(119, [[119, 1561.94]])\n"
     ]
    }
   ],
   "source": [
    "def next_location(current_location,gradient,descending_record,alpha=0.1):\n",
    "    \n",
    "    \n",
    "    next_location = int(np.round(current_location - alpha*gradient))\n",
    "    \n",
    "    if next_location < 0:\n",
    "        next_location = 0\n",
    "    elif next_location > 299:\n",
    "        next_location = 299\n",
    "        \n",
    "    descending_record.append([next_location,elevation[next_location]])\n",
    "    \n",
    "    return next_location,descending_record\n",
    "\n",
    "step = 136\n",
    "descending_record = []\n",
    "\n",
    "print(next_location(step,gradient(step,position,elevation),descending_record,0.1))"
   ]
  },
  {
   "cell_type": "markdown",
   "metadata": {},
   "source": [
    "#### 【問題4】山を下る関数を作成\n",
    "山を下る関数を作成してください。最初の地点を受け取り、問題3の関数によって地点を更新していきます。移動毎の地点はリストなどに記録して、これを関数の返り値としてください。\n",
    "\n",
    "最初の「今いる地点」は富士山の頂上付近、136番の地点（標高3434.59[m]）とします。ここから山を下っていきましょう。\n",
    "\n",
    "《実装上の注意》\n",
    "\n",
    "問題3で四捨五入を行っているため、移動先の地点が今いる地点と同じ場合になることがあります。移動量が減ってきたということなので、その時点で山を下りきったと判断してください。実際の勾配降下法ではこのようなことは起きません。"
   ]
  },
  {
   "cell_type": "markdown",
   "metadata": {},
   "source": [
    "ここでの下山完了したかの判定は、以下とした。  \n",
    "・前回と今回の地点が変わらないとき  \n",
    "・0or299地点に到達できたとき"
   ]
  },
  {
   "cell_type": "code",
   "execution_count": 116,
   "metadata": {
    "scrolled": true
   },
   "outputs": [
    {
     "name": "stdout",
     "output_type": "stream",
     "text": [
      "END\n",
      "[[ 136.   3434.59]\n",
      " [ 119.   1561.94]\n",
      " [ 113.   1219.86]\n",
      " [ 108.   1000.24]\n",
      " [ 105.    910.5 ]\n",
      " [ 102.    817.62]\n",
      " [ 100.    772.58]\n",
      " [  98.    741.17]\n",
      " [  96.    700.15]\n",
      " [  93.    631.71]\n",
      " [  91.    602.36]\n",
      " [  90.    588.99]\n",
      " [  89.    575.07]\n",
      " [  87.    536.54]\n",
      " [  85.    505.1 ]\n",
      " [  83.    471.82]\n",
      " [  82.    458.66]\n",
      " [  80.    420.6 ]\n",
      " [  80.    420.6 ]]\n"
     ]
    }
   ],
   "source": [
    "initial_location = 136\n",
    "step = initial_location\n",
    "\n",
    "descending_record = [[step,elevation[step]]]\n",
    "\n",
    "while 0<= step <= 600:\n",
    "    \n",
    "    next_step,descending_record = next_location(step,gradient(step,position,elevation),descending_record,0.1)\n",
    "    \n",
    "    if step == next_step:\n",
    "        print('END')\n",
    "        break\n",
    "    \n",
    "    elif step == 0:\n",
    "        print('END')\n",
    "        break\n",
    "    \n",
    "    elif step == 299:\n",
    "        print('END')\n",
    "        break\n",
    "        \n",
    "    else:\n",
    "        step = next_step\n",
    "        \n",
    "descending_record = np.array(descending_record).reshape(-1,2)\n",
    "print(descending_record)"
   ]
  },
  {
   "cell_type": "markdown",
   "metadata": {},
   "source": [
    "#### 【問題5】下山過程の可視化\n",
    "問題4における下山過程をMatplotlibを使いグラフで可視化してください。\n",
    "\n",
    "《可視化例》\n",
    "\n",
    "断面図の中に移動した地点を点で表示する\n",
    "繰り返し毎の標高や勾配を折れ線グラフにする"
   ]
  },
  {
   "cell_type": "code",
   "execution_count": 117,
   "metadata": {
    "scrolled": true
   },
   "outputs": [
    {
     "data": {
      "image/png": "[encoded data removed]",
      "text/plain": [
       "<Figure size 432x288 with 1 Axes>"
      ]
     },
     "metadata": {
      "needs_background": "light"
     },
     "output_type": "display_data"
    }
   ],
   "source": [
    "plt.title('descending record at Mt.Fuji CASE:{} start'.format(descending_record[0,0]))\n",
    "plt.xlabel(\"position\")\n",
    "plt.ylabel(\"elevation[m]\")\n",
    "plt.plot(position,elevation,color = \"b\")\n",
    "plt.scatter(descending_record[:,0],descending_record[:,1],color='r',label='descending record')\n",
    "plt.legend()\n",
    "plt.show()"
   ]
  },
  {
   "cell_type": "markdown",
   "metadata": {},
   "source": [
    "#### 【問題6】初期値の変更\n",
    "問題4では最初の「今いる地点」を136としましたが、これを他の全ての点で計算してください。  \n",
    "そして、いくつかの初期値に対してどのような下山過程となるか、問題5のように可視化してください。  \n",
    "機械学習においては 初期値 をどう設定するかが結果に影響を与えることが確認できます。"
   ]
  },
  {
   "cell_type": "markdown",
   "metadata": {},
   "source": [
    "《初期値とは》\n",
    "\n",
    "今回の例での最初の地点のような値を初期値と呼びます。これを変更すると結果が変化します。例えば136と142では富士山の異なるの斜面を下ることになります。"
   ]
  },
  {
   "cell_type": "code",
   "execution_count": 118,
   "metadata": {},
   "outputs": [
    {
     "name": "stdout",
     "output_type": "stream",
     "text": [
      "initial_step: 0.0 END\n",
      "initial_step: 1.0 END\n",
      "initial_step: 2.0 END\n",
      "initial_step: 3.0 END\n",
      "initial_step: 4.0 END\n",
      "initial_step: 5.0 END\n",
      "initial_step: 6.0 END\n",
      "initial_step: 7.0 END\n",
      "initial_step: 8.0 END\n",
      "initial_step: 9.0 END\n",
      "initial_step: 10.0 END\n",
      "initial_step: 11.0 END\n",
      "initial_step: 12.0 END\n",
      "initial_step: 13.0 END\n",
      "initial_step: 14.0 END\n",
      "initial_step: 15.0 END\n",
      "initial_step: 16.0 END\n",
      "initial_step: 17.0 END\n",
      "initial_step: 18.0 END\n",
      "initial_step: 19.0 END\n",
      "initial_step: 20.0 END\n",
      "initial_step: 21.0 END\n",
      "initial_step: 22.0 END\n",
      "initial_step: 23.0 END\n",
      "initial_step: 24.0 END\n",
      "initial_step: 25.0 END\n",
      "initial_step: 26.0 END\n",
      "initial_step: 27.0 END\n",
      "initial_step: 28.0 END\n",
      "initial_step: 29.0 END\n",
      "initial_step: 30.0 END\n",
      "initial_step: 31.0 END\n",
      "initial_step: 32.0 END\n",
      "initial_step: 33.0 END\n",
      "initial_step: 34.0 END\n",
      "initial_step: 35.0 END\n",
      "initial_step: 36.0 END\n",
      "initial_step: 37.0 END\n",
      "initial_step: 38.0 END\n",
      "initial_step: 39.0 END\n",
      "initial_step: 40.0 END\n",
      "initial_step: 41.0 END\n",
      "initial_step: 42.0 END\n",
      "initial_step: 43.0 END\n",
      "initial_step: 44.0 END\n",
      "initial_step: 45.0 END\n",
      "initial_step: 46.0 END\n",
      "initial_step: 47.0 END\n",
      "initial_step: 48.0 END\n",
      "initial_step: 49.0 END\n",
      "initial_step: 50.0 END\n",
      "initial_step: 51.0 END\n",
      "initial_step: 52.0 END\n",
      "initial_step: 53.0 END\n",
      "initial_step: 55.0 END\n",
      "initial_step: 57.0 END\n",
      "initial_step: 58.0 END\n",
      "initial_step: 59.0 END\n",
      "initial_step: 60.0 END\n",
      "initial_step: 64.0 END\n",
      "initial_step: 65.0 END\n",
      "initial_step: 66.0 END\n",
      "initial_step: 67.0 END\n",
      "initial_step: 69.0 END\n",
      "initial_step: 70.0 END\n",
      "initial_step: 71.0 END\n",
      "initial_step: 74.0 END\n",
      "initial_step: 75.0 END\n",
      "initial_step: 76.0 END\n",
      "initial_step: 77.0 END\n",
      "initial_step: 78.0 END\n",
      "initial_step: 79.0 END\n",
      "initial_step: 80.0 END\n",
      "initial_step: 81.0 END\n",
      "initial_step: 82.0 END\n",
      "initial_step: 83.0 END\n",
      "initial_step: 84.0 END\n",
      "initial_step: 85.0 END\n",
      "initial_step: 86.0 END\n",
      "initial_step: 87.0 END\n",
      "initial_step: 88.0 END\n",
      "initial_step: 89.0 END\n",
      "initial_step: 90.0 END\n",
      "initial_step: 91.0 END\n",
      "initial_step: 92.0 END\n",
      "initial_step: 93.0 END\n",
      "initial_step: 94.0 END\n",
      "initial_step: 95.0 END\n",
      "initial_step: 96.0 END\n",
      "initial_step: 97.0 END\n",
      "initial_step: 98.0 END\n",
      "initial_step: 99.0 END\n",
      "initial_step: 100.0 END\n",
      "initial_step: 101.0 END\n",
      "initial_step: 102.0 END\n",
      "initial_step: 103.0 END\n",
      "initial_step: 104.0 END\n",
      "initial_step: 105.0 END\n",
      "initial_step: 106.0 END\n",
      "initial_step: 107.0 END\n",
      "initial_step: 108.0 END\n",
      "initial_step: 109.0 END\n",
      "initial_step: 110.0 END\n",
      "initial_step: 111.0 END\n",
      "initial_step: 112.0 END\n",
      "initial_step: 113.0 END\n",
      "initial_step: 114.0 END\n",
      "initial_step: 115.0 END\n",
      "initial_step: 116.0 END\n",
      "initial_step: 117.0 END\n",
      "initial_step: 118.0 END\n",
      "initial_step: 119.0 END\n",
      "initial_step: 120.0 END\n",
      "initial_step: 121.0 END\n",
      "initial_step: 122.0 END\n",
      "initial_step: 123.0 END\n",
      "initial_step: 124.0 END\n",
      "initial_step: 125.0 END\n",
      "initial_step: 126.0 END\n",
      "initial_step: 127.0 END\n",
      "initial_step: 128.0 END\n",
      "initial_step: 129.0 END\n",
      "initial_step: 130.0 END\n",
      "initial_step: 131.0 END\n",
      "initial_step: 132.0 END\n",
      "initial_step: 133.0 END\n",
      "initial_step: 134.0 END\n",
      "initial_step: 135.0 END\n",
      "initial_step: 136.0 END\n",
      "initial_step: 137.0 END\n",
      "initial_step: 138.0 END\n",
      "initial_step: 139.0 END\n",
      "initial_step: 140.0 END\n",
      "initial_step: 141.0 END\n",
      "initial_step: 142.0 END\n",
      "initial_step: 143.0 END\n",
      "initial_step: 144.0 END\n",
      "initial_step: 145.0 END\n",
      "initial_step: 146.0 END\n",
      "initial_step: 147.0 END\n",
      "initial_step: 148.0 END\n",
      "initial_step: 149.0 END\n",
      "initial_step: 150.0 END\n",
      "initial_step: 151.0 END\n",
      "initial_step: 152.0 END\n",
      "initial_step: 153.0 END\n",
      "initial_step: 154.0 END\n",
      "initial_step: 155.0 END\n",
      "initial_step: 156.0 END\n",
      "initial_step: 157.0 END\n",
      "initial_step: 158.0 END\n",
      "initial_step: 159.0 END\n",
      "initial_step: 160.0 END\n",
      "initial_step: 161.0 END\n",
      "initial_step: 162.0 END\n",
      "initial_step: 163.0 END\n",
      "initial_step: 164.0 END\n",
      "initial_step: 165.0 END\n",
      "initial_step: 166.0 END\n",
      "initial_step: 167.0 END\n",
      "initial_step: 168.0 END\n",
      "initial_step: 169.0 END\n",
      "initial_step: 170.0 END\n",
      "initial_step: 171.0 END\n",
      "initial_step: 172.0 END\n",
      "initial_step: 173.0 END\n",
      "initial_step: 174.0 END\n",
      "initial_step: 175.0 END\n",
      "initial_step: 176.0 END\n",
      "initial_step: 177.0 END\n",
      "initial_step: 178.0 END\n",
      "initial_step: 179.0 END\n",
      "initial_step: 180.0 END\n",
      "initial_step: 181.0 END\n",
      "initial_step: 182.0 END\n",
      "initial_step: 183.0 END\n",
      "initial_step: 184.0 END\n",
      "initial_step: 185.0 END\n",
      "initial_step: 186.0 END\n",
      "initial_step: 187.0 END\n",
      "initial_step: 188.0 END\n",
      "initial_step: 190.0 END\n",
      "initial_step: 193.0 END\n",
      "initial_step: 194.0 END\n",
      "initial_step: 195.0 END\n",
      "initial_step: 196.0 END\n",
      "initial_step: 197.0 END\n",
      "initial_step: 204.0 END\n",
      "initial_step: 206.0 END\n",
      "initial_step: 207.0 END\n",
      "initial_step: 213.0 END\n",
      "initial_step: 267.0 END\n",
      "initial_step: 282.0 END\n",
      "initial_step: 283.0 END\n",
      "initial_step: 293.0 END\n",
      "initial_step: 294.0 END\n",
      "initial_step: 295.0 END\n",
      "initial_step: 296.0 END\n",
      "initial_step: 297.0 END\n",
      "initial_step: 298.0 END\n",
      "initial_step: 299.0 END\n"
     ]
    }
   ],
   "source": [
    "descending_record = []\n",
    "full_descending_record = {}\n",
    "\n",
    "for initail_step in position:\n",
    "    step = int(initail_step)\n",
    "    descending_record = [[step,elevation[step]]]\n",
    "    \n",
    "    loop = 0\n",
    "    while loop < 300:\n",
    "        loop += 1\n",
    "        \n",
    "        next_step,descending_record = next_location(step,\n",
    "                                                    gradient(step,position,elevation),\n",
    "                                                    descending_record,\n",
    "                                                    0.1)\n",
    "    \n",
    "        if step == next_step:\n",
    "            print('initial_step:',initail_step,'END')\n",
    "            break\n",
    "        \n",
    "        else:\n",
    "            step = next_step\n",
    "    \n",
    "    full_descending_record[initail_step] = descending_record"
   ]
  },
  {
   "cell_type": "markdown",
   "metadata": {},
   "source": [
    "#### 地点:142の場合"
   ]
  },
  {
   "cell_type": "code",
   "execution_count": 125,
   "metadata": {},
   "outputs": [
    {
     "data": {
      "image/png": "[encoded data removed]",
      "text/plain": [
       "<Figure size 432x288 with 1 Axes>"
      ]
     },
     "metadata": {
      "needs_background": "light"
     },
     "output_type": "display_data"
    }
   ],
   "source": [
    "check = 142\n",
    "\n",
    "descending_record = np.array(full_descending_record[check]).reshape(-1,2)\n",
    "\n",
    "plt.title('descending record at Mt.Fuji CASE:{} start'.format(descending_record[0,0]))\n",
    "plt.xlabel(\"position\")\n",
    "plt.ylabel(\"elevation[m]\")\n",
    "plt.plot(position,elevation,color = \"b\")\n",
    "plt.scatter(descending_record[:,0],descending_record[:,1],color='r',label='descending record')\n",
    "plt.legend()\n",
    "plt.show()"
   ]
  },
  {
   "cell_type": "markdown",
   "metadata": {},
   "source": [
    "#### 地点:280の場合"
   ]
  },
  {
   "cell_type": "code",
   "execution_count": 121,
   "metadata": {},
   "outputs": [
    {
     "data": {
      "image/png": "[encoded data removed]",
      "text/plain": [
       "<Figure size 432x288 with 1 Axes>"
      ]
     },
     "metadata": {
      "needs_background": "light"
     },
     "output_type": "display_data"
    }
   ],
   "source": [
    "check = 280\n",
    "\n",
    "descending_record = np.array(full_descending_record[check]).reshape(-1,2)\n",
    "\n",
    "plt.title('descending record at Mt.Fuji CASE:{} start'.format(descending_record[0,0]))\n",
    "plt.xlabel(\"position\")\n",
    "plt.ylabel(\"elevation[m]\")\n",
    "plt.plot(position,elevation,color = \"b\")\n",
    "plt.scatter(descending_record[:,0],descending_record[:,1],color='r',label='descending record')\n",
    "plt.legend()\n",
    "plt.show()"
   ]
  },
  {
   "cell_type": "markdown",
   "metadata": {},
   "source": [
    "#### 【問題7】（アドバンス問題）ハイパーパラメータの変更\n",
    "ハイパーパラメータ αを変化させるとどのような下山過程となるか、問題5のように可視化してください。  \n",
    "そして、ハイパーパラメータにより結果が大きく異なることを確認してください。"
   ]
  },
  {
   "cell_type": "code",
   "execution_count": 126,
   "metadata": {},
   "outputs": [
    {
     "name": "stdout",
     "output_type": "stream",
     "text": [
      "initial_step: 0.0 END\n",
      "initial_step: 1.0 END\n",
      "initial_step: 2.0 END\n",
      "initial_step: 3.0 END\n",
      "initial_step: 4.0 END\n",
      "initial_step: 5.0 END\n",
      "initial_step: 6.0 END\n",
      "initial_step: 7.0 END\n",
      "initial_step: 8.0 END\n",
      "initial_step: 9.0 END\n",
      "initial_step: 10.0 END\n",
      "initial_step: 11.0 END\n",
      "initial_step: 12.0 END\n",
      "initial_step: 13.0 END\n",
      "initial_step: 14.0 END\n",
      "initial_step: 15.0 END\n",
      "initial_step: 16.0 END\n",
      "initial_step: 17.0 END\n",
      "initial_step: 19.0 END\n",
      "initial_step: 20.0 END\n",
      "initial_step: 21.0 END\n",
      "initial_step: 22.0 END\n",
      "initial_step: 24.0 END\n",
      "initial_step: 25.0 END\n",
      "initial_step: 26.0 END\n",
      "initial_step: 27.0 END\n",
      "initial_step: 28.0 END\n",
      "initial_step: 29.0 END\n",
      "initial_step: 30.0 END\n",
      "initial_step: 33.0 END\n",
      "initial_step: 34.0 END\n",
      "initial_step: 35.0 END\n",
      "initial_step: 37.0 END\n",
      "initial_step: 38.0 END\n",
      "initial_step: 39.0 END\n",
      "initial_step: 40.0 END\n",
      "initial_step: 41.0 END\n",
      "initial_step: 42.0 END\n",
      "initial_step: 43.0 END\n",
      "initial_step: 44.0 END\n",
      "initial_step: 45.0 END\n",
      "initial_step: 46.0 END\n",
      "initial_step: 47.0 END\n",
      "initial_step: 48.0 END\n",
      "initial_step: 49.0 END\n",
      "initial_step: 52.0 END\n",
      "initial_step: 57.0 END\n",
      "initial_step: 64.0 END\n",
      "initial_step: 75.0 END\n",
      "initial_step: 193.0 END\n",
      "initial_step: 194.0 END\n",
      "initial_step: 255.0 END\n",
      "initial_step: 267.0 END\n",
      "initial_step: 270.0 END\n",
      "initial_step: 272.0 END\n",
      "initial_step: 274.0 END\n",
      "initial_step: 275.0 END\n",
      "initial_step: 277.0 END\n",
      "initial_step: 280.0 END\n",
      "initial_step: 282.0 END\n",
      "initial_step: 283.0 END\n",
      "initial_step: 293.0 END\n",
      "initial_step: 294.0 END\n",
      "initial_step: 295.0 END\n",
      "initial_step: 298.0 END\n",
      "initial_step: 299.0 END\n"
     ]
    }
   ],
   "source": [
    "descending_record = []\n",
    "full_descending_record = {}\n",
    "\n",
    "for initail_step in position:\n",
    "    step = int(initail_step)\n",
    "    descending_record = [[step,elevation[step]]]\n",
    "    \n",
    "    loop = 0\n",
    "    while loop < 300:\n",
    "        loop += 1\n",
    "        \n",
    "        next_step,descending_record = next_location(step,\n",
    "                                                    gradient(step,position,elevation),\n",
    "                                                    descending_record,\n",
    "                                                    0.3)\n",
    "    \n",
    "        if step == next_step:\n",
    "            print('initial_step:',initail_step,'END')\n",
    "            break\n",
    "        \n",
    "        else:\n",
    "            step = next_step\n",
    "    \n",
    "    full_descending_record[initail_step] = descending_record"
   ]
  },
  {
   "cell_type": "code",
   "execution_count": 131,
   "metadata": {},
   "outputs": [
    {
     "name": "stdout",
     "output_type": "stream",
     "text": [
      "[[ 142.   3171.53]\n",
      " [ 195.   1020.79]\n",
      " [ 159.   1525.57]\n",
      " [ 179.   1022.1 ]\n",
      " [ 182.    970.58]]\n"
     ]
    },
    {
     "data": {
      "image/png": "[encoded data removed]",
      "text/plain": [
       "<Figure size 432x288 with 1 Axes>"
      ]
     },
     "metadata": {
      "needs_background": "light"
     },
     "output_type": "display_data"
    }
   ],
   "source": [
    "check = 142\n",
    "\n",
    "descending_record = np.array(full_descending_record[check]).reshape(-1,2)\n",
    "print(descending_record[0:5])\n",
    "\n",
    "plt.title('descending record at Mt.Fuji CASE:{} start'.format(descending_record[0,0]))\n",
    "plt.xlabel(\"position\")\n",
    "plt.ylabel(\"elevation[m]\")\n",
    "plt.plot(position,elevation,color = \"b\")\n",
    "plt.scatter(descending_record[:,0],descending_record[:,1],color='r',label='descending record')\n",
    "plt.legend()\n",
    "plt.show()"
   ]
  },
  {
   "cell_type": "code",
   "execution_count": 129,
   "metadata": {},
   "outputs": [
    {
     "name": "stdout",
     "output_type": "stream",
     "text": [
      "[[ 280.   1309.46]\n",
      " [ 299.   1725.8 ]\n",
      " [ 299.   1725.8 ]]\n"
     ]
    },
    {
     "data": {
      "image/png": "[encoded data removed]",
      "text/plain": [
       "<Figure size 432x288 with 1 Axes>"
      ]
     },
     "metadata": {
      "needs_background": "light"
     },
     "output_type": "display_data"
    }
   ],
   "source": [
    "check = 280\n",
    "\n",
    "descending_record = np.array(full_descending_record[check]).reshape(-1,2)\n",
    "print(descending_record)\n",
    "\n",
    "plt.title('descending record at Mt.Fuji CASE:{} start'.format(descending_record[0,0]))\n",
    "plt.xlabel(\"position\")\n",
    "plt.ylabel(\"elevation[m]\")\n",
    "plt.plot(position,elevation,color = \"b\")\n",
    "plt.scatter(descending_record[:,0],descending_record[:,1],color='r',label='descending record')\n",
    "plt.legend()\n",
    "plt.show()"
   ]
  },
  {
   "cell_type": "markdown",
   "metadata": {},
   "source": [
    "考察\n",
    "αの値が小さいと小さな山を超えることができず、近くの谷の部分で計算が収束していたが、\n",
    "αを大きすると、小さな山を超え0地点、299地点に到達できる"
   ]
  },
  {
   "cell_type": "code",
   "execution_count": null,
   "metadata": {},
   "outputs": [],
   "source": []
  },
  {
   "cell_type": "code",
   "execution_count": null,
   "metadata": {},
   "outputs": [],
   "source": []
  },
  {
   "cell_type": "code",
   "execution_count": null,
   "metadata": {},
   "outputs": [],
   "source": []
  },
  {
   "cell_type": "code",
   "execution_count": null,
   "metadata": {},
   "outputs": [],
   "source": []
  },
  {
   "cell_type": "markdown",
   "metadata": {},
   "source": [
    "## 【問題4】山を下る関数を作成\n",
    "山を下る関数を作成してください。最初の地点を受け取り、問題3の関数によって地点を更新していきます。<br>\n",
    "移動毎の地点はリストなどに記録して、これを関数の返り値としてください。<br>\n",
    "最初の「今いる地点」は富士山の頂上付近、136番の地点（標高3434.59[m]）とします。ここから山を下っていきましょう。<br>\n",
    "- 《実装上の注意》\n",
    "問題3で四捨五入を行っているため、移動先の地点が今いる地点と同じ場合になることがあります。<br>\n",
    "移動量が減ってきたということなので、その時点で山を下りきったと判断してください。実際の勾配降下法ではこのようなことは起きません。"
   ]
  },
  {
   "cell_type": "code",
   "execution_count": null,
   "metadata": {},
   "outputs": [],
   "source": [
    "def gezan(i, list_nextpoint, alpha=0.2):\n",
    "    \n",
    "    assert i >= 1,\"can not calcuration\"\n",
    "    koubai = (h[i-1] - h[i])/(x[i-1] - x[i])\n",
    "    \n",
    "    tugi = np.round(x[i] - alpha*koubai)\n",
    "    if int(tugi) > 0 and int(tugi) < 300:\n",
    "        print(\"今の地点番号：{}   次の地点番号:{}  次の標高:{}\".format(i, tugi,fuji[int(tugi)][3]))\n",
    "        list_nextpoint.append([i, int(tugi),fuji[int(tugi)][3] ])\n",
    "    \n",
    "    return tugi, list_nextpoint\n",
    "    \n",
    "#start = random.randint(200,250)\n",
    "\n",
    "#print(136,oriru(start))\n",
    "\n"
   ]
  },
  {
   "cell_type": "code",
   "execution_count": null,
   "metadata": {},
   "outputs": [],
   "source": [
    "'''\n",
    "start = 136\n",
    "list_nextpoint = []\n",
    "for i in range(0, 100):\n",
    "    tugi, list_nextpoint = gezan(start, list_nextpoint)\n",
    "    if start == int(tugi):\n",
    "        print(\"おめでとうございます！下山完了です\")\n",
    "        break\n",
    "    else:\n",
    "        start = int(tugi)\n",
    "'''"
   ]
  },
  {
   "cell_type": "code",
   "execution_count": null,
   "metadata": {},
   "outputs": [],
   "source": [
    "start = 136\n",
    "list_nextpoint = []\n",
    "tugi = start + 1\n",
    "while True:\n",
    "    tugi, list_nextpoint = gezan(start, list_nextpoint)\n",
    "    if start == int(tugi):\n",
    "        print(\"おめでとうございます！下山完了です\")\n",
    "        break\n",
    "    else:\n",
    "        start = int(tugi)"
   ]
  },
  {
   "cell_type": "markdown",
   "metadata": {},
   "source": [
    "## 【問題5】下山過程の可視化\n",
    "問題4における下山過程をMatplotlibを使いグラフで可視化してください。"
   ]
  },
  {
   "cell_type": "code",
   "execution_count": null,
   "metadata": {},
   "outputs": [],
   "source": [
    "ndarray_nextpoint = np.array(list_nextpoint)\n",
    "print(ndarray_nextpoint.shape)\n",
    "#ndarray_nextpoint.reshape(-1,3)\n",
    "print(ndarray_nextpoint)\n",
    "# x=次の地点番号 y=次の標高\n",
    "plt.plot(ndarray_nextpoint[:,1], ndarray_nextpoint[:,2])\n",
    "plt.xlabel(\"next_point_number\")\n",
    "plt.ylabel(\"next_elevation\")\n",
    "\n",
    "plt.show()"
   ]
  },
  {
   "cell_type": "markdown",
   "metadata": {},
   "source": [
    "## 【問題6】初期値の変更\n",
    "問題4では最初の「今いる地点」を136としましたが、これを他の全ての点で計算してください。そして、いくつかの初期値に対してどのような下山過程となるか、問題5のように可視化してください。機械学習においては 初期値 をどう設定するかが結果に影響を与えることが確認できます。"
   ]
  },
  {
   "cell_type": "code",
   "execution_count": null,
   "metadata": {},
   "outputs": [],
   "source": [
    "start = random.randint(0,299)\n",
    "list_nextpoint = []\n",
    "tugi = start + 1\n",
    "while True:\n",
    "    tugi, list_nextpoint = gezan(start, list_nextpoint)\n",
    "    if start == int(tugi):\n",
    "        print(\"おめでとうございます！下山完了です\")\n",
    "        break\n",
    "    else:\n",
    "        start = int(tugi)"
   ]
  },
  {
   "cell_type": "code",
   "execution_count": null,
   "metadata": {},
   "outputs": [],
   "source": [
    "ndarray_nextpoint = np.array(list_nextpoint)\n",
    "print(ndarray_nextpoint.shape)\n",
    "#ndarray_nextpoint.reshape(-1,3)\n",
    "print(ndarray_nextpoint)\n",
    "# x=次の地点番号 y=次の標高\n",
    "plt.plot(ndarray_nextpoint[:,1], ndarray_nextpoint[:,2])\n",
    "plt.xlabel(\"next_point_number\")\n",
    "plt.ylabel(\"next_elevation\")\n",
    "plt.xlim(0, 300)\n",
    "plt.ylim(0, 3800)\n",
    "plt.show()"
   ]
  },
  {
   "cell_type": "code",
   "execution_count": null,
   "metadata": {},
   "outputs": [],
   "source": []
  }
 ],
 "metadata": {
  "kernelspec": {
   "display_name": "Python 3",
   "language": "python",
   "name": "python3"
  },
  "language_info": {
   "codemirror_mode": {
    "name": "ipython",
    "version": 3
   },
   "file_extension": ".py",
   "mimetype": "text/x-python",
   "name": "python",
   "nbconvert_exporter": "python",
   "pygments_lexer": "ipython3",
   "version": "3.8.5"
  }
 },
 "nbformat": 4,
 "nbformat_minor": 4
}
