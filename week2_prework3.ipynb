{
 "cells": [
  {
   "cell_type": "markdown",
   "metadata": {},
   "source": [
    "テキストの目的\n",
    "・数式演算ライブラリのNumPyに慣れる\n",
    "・行列演算に慣れる"
   ]
  },
  {
   "cell_type": "markdown",
   "metadata": {},
   "source": [
    "行列積の計算を手計算で行った後、スクラッチ実装することで理解を深める。"
   ]
  },
  {
   "cell_type": "markdown",
   "metadata": {},
   "source": [
    "2.行列積"
   ]
  },
  {
   "cell_type": "markdown",
   "metadata": {},
   "source": [
    "【問題1】行列積を手計算する"
   ]
  },
  {
   "cell_type": "markdown",
   "metadata": {},
   "source": [
    "A = (-1, 2, 3)   B = (0, 2, 1)\n",
    "    ( 4,-5, 6)       (0, 2,-8)\n",
    "    ( 7, 8,-9)       (2, 9,-1)\n",
    "       \n",
    "A×B = (a11,a12,a13) \n",
    "      (a21,a22,a23)\n",
    "      (a31,a32,a33)\n",
    "    = (6,29,-20) \n",
    "      (12,52,38)\n",
    "      (-18,-51,-48)\n",
    "以下、計算過程\n",
    "a11 = -1×0 + 2×0 + 3×2 = 6,\n",
    "a12 = -1×2 + 2×2 + 3×9 = 29,\n",
    "a13 = -1×1 + 2×-8 + 3×-1 = -20,\n",
    "a21 =  4×0 + (-5×0) + 6×2 = 12,\n",
    "a22 =  4×2 + (-5×2) + 6×9 = 52,\n",
    "a23 =  4×1 + (-5×-8) + 6×-1 = 38,\n",
    "a31 =  7×0 + 8×0 + (-9×2) = -18,\n",
    "a12 =  7×2 + 8×2 + (-9×9) = -51,\n",
    "a13 =  7×1 + 8×-8 + (-9×-1) = -48,"
   ]
  },
  {
   "cell_type": "markdown",
   "metadata": {},
   "source": [
    "【問題2】NumPyの関数による計算"
   ]
  },
  {
   "cell_type": "code",
   "execution_count": 229,
   "metadata": {},
   "outputs": [
    {
     "name": "stdout",
     "output_type": "stream",
     "text": [
      "[[  6  29 -20]\n",
      " [ 12  52  38]\n",
      " [-18 -51 -48]]\n"
     ]
    }
   ],
   "source": [
    "import numpy as np\n",
    "\n",
    "a_ndarray = np.array([[-1,2,3],\n",
    "                      [4,-5,6],\n",
    "                      [7,8,-9]])\n",
    "\n",
    "b_ndarray = np.array([[0,2,1],\n",
    "                      [0,2,-8],\n",
    "                      [2,9,-1]])\n",
    "\n",
    "print(a_ndarray@b_ndarray)"
   ]
  },
  {
   "cell_type": "markdown",
   "metadata": {},
   "source": [
    "【問題3】ある要素の計算を実装"
   ]
  },
  {
   "cell_type": "code",
   "execution_count": 230,
   "metadata": {},
   "outputs": [
    {
     "name": "stdout",
     "output_type": "stream",
     "text": [
      "-1 × 0 = 0\n",
      "2 × 0 = 0\n",
      "3 × 2 = 6\n",
      "Σ= 6\n"
     ]
    }
   ],
   "source": [
    "ab11 = []\n",
    "\n",
    "for i in range(n):\n",
    "    tmp = 0\n",
    "    tmp += a_ndarray[0,i]*b_ndarray[i,0]\n",
    "    print(a_ndarray[0,i],\"×\",b_ndarray[i,0],\n",
    "          \"=\",a_ndarray[0,i]*b_ndarray[i,0])\n",
    "ab11.append(tmp)\n",
    "print(\"Σ=\",ab11[0])"
   ]
  },
  {
   "cell_type": "markdown",
   "metadata": {},
   "source": [
    "【問題4】行列積を行う関数の作成"
   ]
  },
  {
   "cell_type": "code",
   "execution_count": 231,
   "metadata": {},
   "outputs": [
    {
     "name": "stdout",
     "output_type": "stream",
     "text": [
      "[[  6.  29. -20.]\n",
      " [ 12.  52.  38.]\n",
      " [-18. -51. -48.]]\n"
     ]
    }
   ],
   "source": [
    "# 行列の計算をスクラッチ実装する\n",
    "\n",
    "def maltpul(a,b):\n",
    "    \n",
    "    n,m = a.shape\n",
    "    p,q = b.shape\n",
    "    \n",
    "    ans = np.array([])\n",
    "    \n",
    "    if m == p:\n",
    "        for i in range(n):\n",
    "            for j in range(q):\n",
    "                tmp = a[i,:]*b[:,j]\n",
    "                ans = np.append(ans,tmp.sum())\n",
    "                \n",
    "        ans = ans.reshape(n,q)\n",
    "        \n",
    "    else:\n",
    "        ans = \"行列積は一方の列数と、もう一方の行数が等しくなければいけません\"\n",
    "            \n",
    "    return ans\n",
    "\n",
    "print(maltpul(a_ndarray,b_ndarray))"
   ]
  },
  {
   "cell_type": "markdown",
   "metadata": {},
   "source": [
    "4.行列積が定義されない組み合わせの行列"
   ]
  },
  {
   "cell_type": "markdown",
   "metadata": {},
   "source": [
    "【問題5】計算が定義されない入力を判定する"
   ]
  },
  {
   "cell_type": "code",
   "execution_count": 235,
   "metadata": {},
   "outputs": [
    {
     "name": "stdout",
     "output_type": "stream",
     "text": [
      "(2, 3)\n",
      "(2, 3)\n",
      "行列積は一方の列数と、もう一方の行数が等しくなければいけません\n"
     ]
    }
   ],
   "source": [
    "d_ndarray = np.array([[-1, 2, 3],\n",
    "                       [4, -5, 6]])\n",
    "\n",
    "e_ndarray = np.array([[-9, 8, 7],\n",
    "                      [6, -5, 4]])\n",
    "\n",
    "print(d_ndarray.shape)\n",
    "print(e_ndarray.shape)\n",
    "print(maltpul(d_ndarray,e_ndarray))"
   ]
  },
  {
   "cell_type": "code",
   "execution_count": 233,
   "metadata": {},
   "outputs": [
    {
     "name": "stdout",
     "output_type": "stream",
     "text": [
      "(2, 3)\n",
      "(3, 2)\n",
      "[[ 46.  -4.]\n",
      " [-34.  73.]]\n"
     ]
    }
   ],
   "source": [
    "e_ndarray = e_ndarray.T\n",
    "print(d_ndarray.shape)\n",
    "print(e_ndarray.shape)\n",
    "print(maltpul(d_ndarray,e_ndarray))"
   ]
  },
  {
   "cell_type": "markdown",
   "metadata": {},
   "source": [
    "検算"
   ]
  },
  {
   "cell_type": "code",
   "execution_count": 234,
   "metadata": {},
   "outputs": [
    {
     "name": "stdout",
     "output_type": "stream",
     "text": [
      "[[ 46  -4]\n",
      " [-34  73]]\n"
     ]
    }
   ],
   "source": [
    "print(d_ndarray@e_ndarray)"
   ]
  }
 ],
 "metadata": {
  "kernelspec": {
   "display_name": "Python 3",
   "language": "python",
   "name": "python3"
  },
  "language_info": {
   "codemirror_mode": {
    "name": "ipython",
    "version": 3
   },
   "file_extension": ".py",
   "mimetype": "text/x-python",
   "name": "python",
   "nbconvert_exporter": "python",
   "pygments_lexer": "ipython3",
   "version": "3.8.5"
  }
 },
 "nbformat": 4,
 "nbformat_minor": 4
}
