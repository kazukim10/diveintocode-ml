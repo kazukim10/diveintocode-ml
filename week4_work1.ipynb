{
 "cells": [
  {
   "cell_type": "markdown",
   "metadata": {},
   "source": [
    "# Week4授業課題 信用情報の学習"
   ]
  },
  {
   "cell_type": "markdown",
   "metadata": {
    "toc": true
   },
   "source": [
    "<h1>目次<span class=\"tocSkip\"></span></h1>\n",
    "<div class=\"toc\"><ul class=\"toc-item\"><li><span><a href=\"#このテキストについて\" data-toc-modified-id=\"このテキストについて-1\"><span class=\"toc-item-num\">1&nbsp;&nbsp;</span>このテキストについて</a></span><ul class=\"toc-item\"><li><span><a href=\"#テキストの目的\" data-toc-modified-id=\"テキストの目的-1.1\"><span class=\"toc-item-num\">1.1&nbsp;&nbsp;</span>テキストの目的</a></span></li><li><span><a href=\"#どのように学ぶか\" data-toc-modified-id=\"どのように学ぶか-1.2\"><span class=\"toc-item-num\">1.2&nbsp;&nbsp;</span>どのように学ぶか</a></span></li></ul></li><li><span><a href=\"#信用情報\" data-toc-modified-id=\"信用情報-2\"><span class=\"toc-item-num\">2&nbsp;&nbsp;</span>信用情報</a></span><ul class=\"toc-item\"><li><span><a href=\"#【問題1】コンペティション内容の確認\" data-toc-modified-id=\"【問題1】コンペティション内容の確認-2.1\"><span class=\"toc-item-num\">2.1&nbsp;&nbsp;</span>【問題1】コンペティション内容の確認</a></span></li></ul></li><li><span><a href=\"#ベースラインモデルの作成\" data-toc-modified-id=\"ベースラインモデルの作成-3\"><span class=\"toc-item-num\">3&nbsp;&nbsp;</span>ベースラインモデルの作成</a></span><ul class=\"toc-item\"><li><span><a href=\"#【問題2】学習と検証\" data-toc-modified-id=\"【問題2】学習と検証-3.1\"><span class=\"toc-item-num\">3.1&nbsp;&nbsp;</span>【問題2】学習と検証</a></span></li><li><span><a href=\"#【問題3】テストデータに対する推定\" data-toc-modified-id=\"【問題3】テストデータに対する推定-3.2\"><span class=\"toc-item-num\">3.2&nbsp;&nbsp;</span>【問題3】テストデータに対する推定</a></span></li></ul></li><li><span><a href=\"#特徴量エンジニアリング\" data-toc-modified-id=\"特徴量エンジニアリング-4\"><span class=\"toc-item-num\">4&nbsp;&nbsp;</span>特徴量エンジニアリング</a></span><ul class=\"toc-item\"><li><span><a href=\"#【問題4】特徴量エンジニアリング\" data-toc-modified-id=\"【問題4】特徴量エンジニアリング-4.1\"><span class=\"toc-item-num\">4.1&nbsp;&nbsp;</span>【問題4】特徴量エンジニアリング</a></span></li><li><span><a href=\"#検証1：-カテゴリデータをエンコード\" data-toc-modified-id=\"検証1：-カテゴリデータをエンコード-4.2\"><span class=\"toc-item-num\">4.2&nbsp;&nbsp;</span>検証1： カテゴリデータをエンコード</a></span></li><li><span><a href=\"#検証1の考察\" data-toc-modified-id=\"検証1の考察-4.3\"><span class=\"toc-item-num\">4.3&nbsp;&nbsp;</span>検証1の考察</a></span></li><li><span><a href=\"#検証2：-欠損値を埋める\" data-toc-modified-id=\"検証2：-欠損値を埋める-4.4\"><span class=\"toc-item-num\">4.4&nbsp;&nbsp;</span>検証2： 欠損値を埋める</a></span></li><li><span><a href=\"#検証2の考察\" data-toc-modified-id=\"検証2の考察-4.5\"><span class=\"toc-item-num\">4.5&nbsp;&nbsp;</span>検証2の考察</a></span></li><li><span><a href=\"#検証3：-欠損値を平均値で埋める\" data-toc-modified-id=\"検証3：-欠損値を平均値で埋める-4.6\"><span class=\"toc-item-num\">4.6&nbsp;&nbsp;</span>検証3： 欠損値を平均値で埋める</a></span></li><li><span><a href=\"#検証3の考察\" data-toc-modified-id=\"検証3の考察-4.7\"><span class=\"toc-item-num\">4.7&nbsp;&nbsp;</span>検証3の考察</a></span></li><li><span><a href=\"#検証4：-異常値を処理する\" data-toc-modified-id=\"検証4：-異常値を処理する-4.8\"><span class=\"toc-item-num\">4.8&nbsp;&nbsp;</span>検証4： 異常値を処理する</a></span></li><li><span><a href=\"#検証4の考察\" data-toc-modified-id=\"検証4の考察-4.9\"><span class=\"toc-item-num\">4.9&nbsp;&nbsp;</span>検証4の考察</a></span></li><li><span><a href=\"#検証5：-新たに特徴量を作成\" data-toc-modified-id=\"検証5：-新たに特徴量を作成-4.10\"><span class=\"toc-item-num\">4.10&nbsp;&nbsp;</span>検証5： 新たに特徴量を作成</a></span></li><li><span><a href=\"#検証5の考察\" data-toc-modified-id=\"検証5の考察-4.11\"><span class=\"toc-item-num\">4.11&nbsp;&nbsp;</span>検証5の考察</a></span></li><li><span><a href=\"#テストデータ-で推定（提出）\" data-toc-modified-id=\"テストデータ-で推定（提出）-4.12\"><span class=\"toc-item-num\">4.12&nbsp;&nbsp;</span>テストデータ で推定（提出）</a></span></li></ul></li></ul></div>"
   ]
  },
  {
   "cell_type": "markdown",
   "metadata": {},
   "source": [
    "## このテキストについて"
   ]
  },
  {
   "cell_type": "markdown",
   "metadata": {},
   "source": [
    "### テキストの目的\n",
    "* 実データに近いものに対して機械学習を行う"
   ]
  },
  {
   "cell_type": "markdown",
   "metadata": {},
   "source": [
    "### どのように学ぶか\n",
    "* Kaggleのデータセットを通じて、機械学習の基本的な流れやライブラリの使い方を学びます。"
   ]
  },
  {
   "cell_type": "markdown",
   "metadata": {},
   "source": [
    "## 信用情報\n",
    "Kaggleの Home Credit Default Risk コンペティションの学習および推定を行います。\n",
    "\n",
    "Home Credit Default Risk | Kaggle  \n",
    "https://www.kaggle.com/c/home-credit-default-risk"
   ]
  },
  {
   "cell_type": "markdown",
   "metadata": {},
   "source": [
    "### 【問題1】コンペティション内容の確認\n",
    "コンペティションのOverviewページ読み、「Home Credit Default Risk」について以下の観点について確認してください。"
   ]
  },
  {
   "cell_type": "markdown",
   "metadata": {},
   "source": [
    "* 何を学習し、何を予測するのか？  \n",
    "  顧客毎の信用情報と、返済能力の有無（今回の目的変数）をtrainデータを使って学習し、testデータの各SK_ID_CURRについて、TARGET変数の確率を予測する"
   ]
  },
  {
   "cell_type": "markdown",
   "metadata": {},
   "source": [
    "* どのようなファイルを作りkaggleに提出するか？  \n",
    "  ヘッダーを含むSK_ID_CURRと、TARGET変数の確率（sample_submission.csvに倣らう）"
   ]
  },
  {
   "cell_type": "markdown",
   "metadata": {},
   "source": [
    "* 提出されたものはどういった指標値で評価されるか？  \n",
    "  ROC曲線の下の領域(AUC:Area Under Curve)で評価される。  \n",
    "  ランダム分類で0.5、0.8以上あると、その分類は非常に効果があるとされる。\n",
    "  "
   ]
  },
  {
   "cell_type": "markdown",
   "metadata": {},
   "source": [
    "## ベースラインモデルの作成\n",
    "まずは単純な方法による ベースラインモデル　を作成します。精度の基準となるモデルです。\n",
    "\n",
    "精度を高くする必要はありません。エラーなく実行でき、Kaggle側に推定値を提出できることを目指します。"
   ]
  },
  {
   "cell_type": "markdown",
   "metadata": {},
   "source": [
    "### 【問題2】学習と検証\n",
    "データを簡単に分析、前処理し、学習、検証するまでの一連の流れを作成・実行してください。\n",
    "\n",
    "検証にはこのコンペティションで使用される評価指標を用いるようにしてください。  \n",
    "学習に用いる手法は指定しません。"
   ]
  },
  {
   "cell_type": "code",
   "execution_count": 196,
   "metadata": {},
   "outputs": [],
   "source": [
    "# ライブラリーのインポート\n",
    "import numpy as np\n",
    "import pandas as pd \n",
    "import matplotlib.pyplot as plt\n",
    "import seaborn as sns"
   ]
  },
  {
   "cell_type": "code",
   "execution_count": 197,
   "metadata": {},
   "outputs": [
    {
     "name": "stdout",
     "output_type": "stream",
     "text": [
      "Training data shape:  (307511, 122)\n"
     ]
    },
    {
     "data": {
      "text/html": [
       "<div>\n",
       "<style scoped>\n",
       "    .dataframe tbody tr th:only-of-type {\n",
       "        vertical-align: middle;\n",
       "    }\n",
       "\n",
       "    .dataframe tbody tr th {\n",
       "        vertical-align: top;\n",
       "    }\n",
       "\n",
       "    .dataframe thead th {\n",
       "        text-align: right;\n",
       "    }\n",
       "</style>\n",
       "<table border=\"1\" class=\"dataframe\">\n",
       "  <thead>\n",
       "    <tr style=\"text-align: right;\">\n",
       "      <th></th>\n",
       "      <th>SK_ID_CURR</th>\n",
       "      <th>TARGET</th>\n",
       "      <th>NAME_CONTRACT_TYPE</th>\n",
       "      <th>CODE_GENDER</th>\n",
       "      <th>FLAG_OWN_CAR</th>\n",
       "      <th>FLAG_OWN_REALTY</th>\n",
       "      <th>CNT_CHILDREN</th>\n",
       "      <th>AMT_INCOME_TOTAL</th>\n",
       "      <th>AMT_CREDIT</th>\n",
       "      <th>AMT_ANNUITY</th>\n",
       "      <th>...</th>\n",
       "      <th>FLAG_DOCUMENT_18</th>\n",
       "      <th>FLAG_DOCUMENT_19</th>\n",
       "      <th>FLAG_DOCUMENT_20</th>\n",
       "      <th>FLAG_DOCUMENT_21</th>\n",
       "      <th>AMT_REQ_CREDIT_BUREAU_HOUR</th>\n",
       "      <th>AMT_REQ_CREDIT_BUREAU_DAY</th>\n",
       "      <th>AMT_REQ_CREDIT_BUREAU_WEEK</th>\n",
       "      <th>AMT_REQ_CREDIT_BUREAU_MON</th>\n",
       "      <th>AMT_REQ_CREDIT_BUREAU_QRT</th>\n",
       "      <th>AMT_REQ_CREDIT_BUREAU_YEAR</th>\n",
       "    </tr>\n",
       "  </thead>\n",
       "  <tbody>\n",
       "    <tr>\n",
       "      <th>0</th>\n",
       "      <td>100002</td>\n",
       "      <td>1</td>\n",
       "      <td>Cash loans</td>\n",
       "      <td>M</td>\n",
       "      <td>N</td>\n",
       "      <td>Y</td>\n",
       "      <td>0</td>\n",
       "      <td>202500.0</td>\n",
       "      <td>406597.5</td>\n",
       "      <td>24700.5</td>\n",
       "      <td>...</td>\n",
       "      <td>0</td>\n",
       "      <td>0</td>\n",
       "      <td>0</td>\n",
       "      <td>0</td>\n",
       "      <td>0.0</td>\n",
       "      <td>0.0</td>\n",
       "      <td>0.0</td>\n",
       "      <td>0.0</td>\n",
       "      <td>0.0</td>\n",
       "      <td>1.0</td>\n",
       "    </tr>\n",
       "    <tr>\n",
       "      <th>1</th>\n",
       "      <td>100003</td>\n",
       "      <td>0</td>\n",
       "      <td>Cash loans</td>\n",
       "      <td>F</td>\n",
       "      <td>N</td>\n",
       "      <td>N</td>\n",
       "      <td>0</td>\n",
       "      <td>270000.0</td>\n",
       "      <td>1293502.5</td>\n",
       "      <td>35698.5</td>\n",
       "      <td>...</td>\n",
       "      <td>0</td>\n",
       "      <td>0</td>\n",
       "      <td>0</td>\n",
       "      <td>0</td>\n",
       "      <td>0.0</td>\n",
       "      <td>0.0</td>\n",
       "      <td>0.0</td>\n",
       "      <td>0.0</td>\n",
       "      <td>0.0</td>\n",
       "      <td>0.0</td>\n",
       "    </tr>\n",
       "    <tr>\n",
       "      <th>2</th>\n",
       "      <td>100004</td>\n",
       "      <td>0</td>\n",
       "      <td>Revolving loans</td>\n",
       "      <td>M</td>\n",
       "      <td>Y</td>\n",
       "      <td>Y</td>\n",
       "      <td>0</td>\n",
       "      <td>67500.0</td>\n",
       "      <td>135000.0</td>\n",
       "      <td>6750.0</td>\n",
       "      <td>...</td>\n",
       "      <td>0</td>\n",
       "      <td>0</td>\n",
       "      <td>0</td>\n",
       "      <td>0</td>\n",
       "      <td>0.0</td>\n",
       "      <td>0.0</td>\n",
       "      <td>0.0</td>\n",
       "      <td>0.0</td>\n",
       "      <td>0.0</td>\n",
       "      <td>0.0</td>\n",
       "    </tr>\n",
       "    <tr>\n",
       "      <th>3</th>\n",
       "      <td>100006</td>\n",
       "      <td>0</td>\n",
       "      <td>Cash loans</td>\n",
       "      <td>F</td>\n",
       "      <td>N</td>\n",
       "      <td>Y</td>\n",
       "      <td>0</td>\n",
       "      <td>135000.0</td>\n",
       "      <td>312682.5</td>\n",
       "      <td>29686.5</td>\n",
       "      <td>...</td>\n",
       "      <td>0</td>\n",
       "      <td>0</td>\n",
       "      <td>0</td>\n",
       "      <td>0</td>\n",
       "      <td>NaN</td>\n",
       "      <td>NaN</td>\n",
       "      <td>NaN</td>\n",
       "      <td>NaN</td>\n",
       "      <td>NaN</td>\n",
       "      <td>NaN</td>\n",
       "    </tr>\n",
       "    <tr>\n",
       "      <th>4</th>\n",
       "      <td>100007</td>\n",
       "      <td>0</td>\n",
       "      <td>Cash loans</td>\n",
       "      <td>M</td>\n",
       "      <td>N</td>\n",
       "      <td>Y</td>\n",
       "      <td>0</td>\n",
       "      <td>121500.0</td>\n",
       "      <td>513000.0</td>\n",
       "      <td>21865.5</td>\n",
       "      <td>...</td>\n",
       "      <td>0</td>\n",
       "      <td>0</td>\n",
       "      <td>0</td>\n",
       "      <td>0</td>\n",
       "      <td>0.0</td>\n",
       "      <td>0.0</td>\n",
       "      <td>0.0</td>\n",
       "      <td>0.0</td>\n",
       "      <td>0.0</td>\n",
       "      <td>0.0</td>\n",
       "    </tr>\n",
       "  </tbody>\n",
       "</table>\n",
       "<p>5 rows × 122 columns</p>\n",
       "</div>"
      ],
      "text/plain": [
       "   SK_ID_CURR  TARGET NAME_CONTRACT_TYPE CODE_GENDER FLAG_OWN_CAR  \\\n",
       "0      100002       1         Cash loans           M            N   \n",
       "1      100003       0         Cash loans           F            N   \n",
       "2      100004       0    Revolving loans           M            Y   \n",
       "3      100006       0         Cash loans           F            N   \n",
       "4      100007       0         Cash loans           M            N   \n",
       "\n",
       "  FLAG_OWN_REALTY  CNT_CHILDREN  AMT_INCOME_TOTAL  AMT_CREDIT  AMT_ANNUITY  \\\n",
       "0               Y             0          202500.0    406597.5      24700.5   \n",
       "1               N             0          270000.0   1293502.5      35698.5   \n",
       "2               Y             0           67500.0    135000.0       6750.0   \n",
       "3               Y             0          135000.0    312682.5      29686.5   \n",
       "4               Y             0          121500.0    513000.0      21865.5   \n",
       "\n",
       "   ...  FLAG_DOCUMENT_18 FLAG_DOCUMENT_19 FLAG_DOCUMENT_20 FLAG_DOCUMENT_21  \\\n",
       "0  ...                 0                0                0                0   \n",
       "1  ...                 0                0                0                0   \n",
       "2  ...                 0                0                0                0   \n",
       "3  ...                 0                0                0                0   \n",
       "4  ...                 0                0                0                0   \n",
       "\n",
       "  AMT_REQ_CREDIT_BUREAU_HOUR AMT_REQ_CREDIT_BUREAU_DAY  \\\n",
       "0                        0.0                       0.0   \n",
       "1                        0.0                       0.0   \n",
       "2                        0.0                       0.0   \n",
       "3                        NaN                       NaN   \n",
       "4                        0.0                       0.0   \n",
       "\n",
       "   AMT_REQ_CREDIT_BUREAU_WEEK  AMT_REQ_CREDIT_BUREAU_MON  \\\n",
       "0                         0.0                        0.0   \n",
       "1                         0.0                        0.0   \n",
       "2                         0.0                        0.0   \n",
       "3                         NaN                        NaN   \n",
       "4                         0.0                        0.0   \n",
       "\n",
       "   AMT_REQ_CREDIT_BUREAU_QRT  AMT_REQ_CREDIT_BUREAU_YEAR  \n",
       "0                        0.0                         1.0  \n",
       "1                        0.0                         0.0  \n",
       "2                        0.0                         0.0  \n",
       "3                        NaN                         NaN  \n",
       "4                        0.0                         0.0  \n",
       "\n",
       "[5 rows x 122 columns]"
      ]
     },
     "execution_count": 197,
     "metadata": {},
     "output_type": "execute_result"
    }
   ],
   "source": [
    "# trainデータの読み込み\n",
    "app_train = pd.read_csv('./home_credit_default_risk/application_train.csv')\n",
    "print('Training data shape: ', app_train.shape)\n",
    "app_train.head()"
   ]
  },
  {
   "cell_type": "code",
   "execution_count": 198,
   "metadata": {
    "scrolled": false
   },
   "outputs": [
    {
     "name": "stdout",
     "output_type": "stream",
     "text": [
      "          SK_ID_CURR         TARGET   CNT_CHILDREN  AMT_INCOME_TOTAL  \\\n",
      "count  307511.000000  307511.000000  307511.000000      3.075110e+05   \n",
      "mean   278180.518577       0.080729       0.417052      1.687979e+05   \n",
      "std    102790.175348       0.272419       0.722121      2.371231e+05   \n",
      "min    100002.000000       0.000000       0.000000      2.565000e+04   \n",
      "25%    189145.500000       0.000000       0.000000      1.125000e+05   \n",
      "50%    278202.000000       0.000000       0.000000      1.471500e+05   \n",
      "75%    367142.500000       0.000000       1.000000      2.025000e+05   \n",
      "max    456255.000000       1.000000      19.000000      1.170000e+08   \n",
      "\n",
      "         AMT_CREDIT    AMT_ANNUITY  AMT_GOODS_PRICE  \\\n",
      "count  3.075110e+05  307499.000000     3.072330e+05   \n",
      "mean   5.990260e+05   27108.573909     5.383962e+05   \n",
      "std    4.024908e+05   14493.737315     3.694465e+05   \n",
      "min    4.500000e+04    1615.500000     4.050000e+04   \n",
      "25%    2.700000e+05   16524.000000     2.385000e+05   \n",
      "50%    5.135310e+05   24903.000000     4.500000e+05   \n",
      "75%    8.086500e+05   34596.000000     6.795000e+05   \n",
      "max    4.050000e+06  258025.500000     4.050000e+06   \n",
      "\n",
      "       REGION_POPULATION_RELATIVE     DAYS_BIRTH  DAYS_EMPLOYED  ...  \\\n",
      "count               307511.000000  307511.000000  307511.000000  ...   \n",
      "mean                     0.020868  -16036.995067   63815.045904  ...   \n",
      "std                      0.013831    4363.988632  141275.766519  ...   \n",
      "min                      0.000290  -25229.000000  -17912.000000  ...   \n",
      "25%                      0.010006  -19682.000000   -2760.000000  ...   \n",
      "50%                      0.018850  -15750.000000   -1213.000000  ...   \n",
      "75%                      0.028663  -12413.000000    -289.000000  ...   \n",
      "max                      0.072508   -7489.000000  365243.000000  ...   \n",
      "\n",
      "       FLAG_DOCUMENT_18  FLAG_DOCUMENT_19  FLAG_DOCUMENT_20  FLAG_DOCUMENT_21  \\\n",
      "count     307511.000000     307511.000000     307511.000000     307511.000000   \n",
      "mean           0.008130          0.000595          0.000507          0.000335   \n",
      "std            0.089798          0.024387          0.022518          0.018299   \n",
      "min            0.000000          0.000000          0.000000          0.000000   \n",
      "25%            0.000000          0.000000          0.000000          0.000000   \n",
      "50%            0.000000          0.000000          0.000000          0.000000   \n",
      "75%            0.000000          0.000000          0.000000          0.000000   \n",
      "max            1.000000          1.000000          1.000000          1.000000   \n",
      "\n",
      "       AMT_REQ_CREDIT_BUREAU_HOUR  AMT_REQ_CREDIT_BUREAU_DAY  \\\n",
      "count               265992.000000              265992.000000   \n",
      "mean                     0.006402                   0.007000   \n",
      "std                      0.083849                   0.110757   \n",
      "min                      0.000000                   0.000000   \n",
      "25%                      0.000000                   0.000000   \n",
      "50%                      0.000000                   0.000000   \n",
      "75%                      0.000000                   0.000000   \n",
      "max                      4.000000                   9.000000   \n",
      "\n",
      "       AMT_REQ_CREDIT_BUREAU_WEEK  AMT_REQ_CREDIT_BUREAU_MON  \\\n",
      "count               265992.000000              265992.000000   \n",
      "mean                     0.034362                   0.267395   \n",
      "std                      0.204685                   0.916002   \n",
      "min                      0.000000                   0.000000   \n",
      "25%                      0.000000                   0.000000   \n",
      "50%                      0.000000                   0.000000   \n",
      "75%                      0.000000                   0.000000   \n",
      "max                      8.000000                  27.000000   \n",
      "\n",
      "       AMT_REQ_CREDIT_BUREAU_QRT  AMT_REQ_CREDIT_BUREAU_YEAR  \n",
      "count              265992.000000               265992.000000  \n",
      "mean                    0.265474                    1.899974  \n",
      "std                     0.794056                    1.869295  \n",
      "min                     0.000000                    0.000000  \n",
      "25%                     0.000000                    0.000000  \n",
      "50%                     0.000000                    1.000000  \n",
      "75%                     0.000000                    3.000000  \n",
      "max                   261.000000                   25.000000  \n",
      "\n",
      "[8 rows x 106 columns]\n"
     ]
    }
   ],
   "source": [
    "# トレインデータの確認\n",
    "print(app_train.describe())"
   ]
  },
  {
   "cell_type": "code",
   "execution_count": 199,
   "metadata": {},
   "outputs": [
    {
     "name": "stdout",
     "output_type": "stream",
     "text": [
      "objectの数: 16\n",
      "['NAME_CONTRACT_TYPE', 'CODE_GENDER', 'FLAG_OWN_CAR', 'FLAG_OWN_REALTY', 'NAME_TYPE_SUITE', 'NAME_INCOME_TYPE', 'NAME_EDUCATION_TYPE', 'NAME_FAMILY_STATUS', 'NAME_HOUSING_TYPE', 'OCCUPATION_TYPE', 'WEEKDAY_APPR_PROCESS_START', 'ORGANIZATION_TYPE', 'FONDKAPREMONT_MODE', 'HOUSETYPE_MODE', 'WALLSMATERIAL_MODE', 'EMERGENCYSTATE_MODE']\n"
     ]
    }
   ],
   "source": [
    "# 数値以外の列を確認\n",
    "app_train_object = app_train.select_dtypes('object').columns.tolist()\n",
    "print('objectの数:',len(app_train_object))\n",
    "print(app_train_object)"
   ]
  },
  {
   "cell_type": "code",
   "execution_count": 200,
   "metadata": {},
   "outputs": [
    {
     "name": "stdout",
     "output_type": "stream",
     "text": [
      "欠損値を含む列数: 67\n"
     ]
    },
    {
     "data": {
      "text/html": [
       "<div>\n",
       "<style scoped>\n",
       "    .dataframe tbody tr th:only-of-type {\n",
       "        vertical-align: middle;\n",
       "    }\n",
       "\n",
       "    .dataframe tbody tr th {\n",
       "        vertical-align: top;\n",
       "    }\n",
       "\n",
       "    .dataframe thead th {\n",
       "        text-align: right;\n",
       "    }\n",
       "</style>\n",
       "<table border=\"1\" class=\"dataframe\">\n",
       "  <thead>\n",
       "    <tr style=\"text-align: right;\">\n",
       "      <th></th>\n",
       "      <th>欠損数</th>\n",
       "      <th>欠損率</th>\n",
       "    </tr>\n",
       "  </thead>\n",
       "  <tbody>\n",
       "    <tr>\n",
       "      <th>COMMONAREA_MEDI</th>\n",
       "      <td>214865</td>\n",
       "      <td>69.872297</td>\n",
       "    </tr>\n",
       "    <tr>\n",
       "      <th>COMMONAREA_AVG</th>\n",
       "      <td>214865</td>\n",
       "      <td>69.872297</td>\n",
       "    </tr>\n",
       "    <tr>\n",
       "      <th>COMMONAREA_MODE</th>\n",
       "      <td>214865</td>\n",
       "      <td>69.872297</td>\n",
       "    </tr>\n",
       "    <tr>\n",
       "      <th>NONLIVINGAPARTMENTS_AVG</th>\n",
       "      <td>213514</td>\n",
       "      <td>69.432963</td>\n",
       "    </tr>\n",
       "    <tr>\n",
       "      <th>NONLIVINGAPARTMENTS_MODE</th>\n",
       "      <td>213514</td>\n",
       "      <td>69.432963</td>\n",
       "    </tr>\n",
       "    <tr>\n",
       "      <th>NONLIVINGAPARTMENTS_MEDI</th>\n",
       "      <td>213514</td>\n",
       "      <td>69.432963</td>\n",
       "    </tr>\n",
       "    <tr>\n",
       "      <th>FONDKAPREMONT_MODE</th>\n",
       "      <td>210295</td>\n",
       "      <td>68.386172</td>\n",
       "    </tr>\n",
       "    <tr>\n",
       "      <th>LIVINGAPARTMENTS_AVG</th>\n",
       "      <td>210199</td>\n",
       "      <td>68.354953</td>\n",
       "    </tr>\n",
       "    <tr>\n",
       "      <th>LIVINGAPARTMENTS_MEDI</th>\n",
       "      <td>210199</td>\n",
       "      <td>68.354953</td>\n",
       "    </tr>\n",
       "    <tr>\n",
       "      <th>LIVINGAPARTMENTS_MODE</th>\n",
       "      <td>210199</td>\n",
       "      <td>68.354953</td>\n",
       "    </tr>\n",
       "    <tr>\n",
       "      <th>FLOORSMIN_AVG</th>\n",
       "      <td>208642</td>\n",
       "      <td>67.848630</td>\n",
       "    </tr>\n",
       "    <tr>\n",
       "      <th>FLOORSMIN_MEDI</th>\n",
       "      <td>208642</td>\n",
       "      <td>67.848630</td>\n",
       "    </tr>\n",
       "    <tr>\n",
       "      <th>FLOORSMIN_MODE</th>\n",
       "      <td>208642</td>\n",
       "      <td>67.848630</td>\n",
       "    </tr>\n",
       "    <tr>\n",
       "      <th>YEARS_BUILD_AVG</th>\n",
       "      <td>204488</td>\n",
       "      <td>66.497784</td>\n",
       "    </tr>\n",
       "    <tr>\n",
       "      <th>YEARS_BUILD_MEDI</th>\n",
       "      <td>204488</td>\n",
       "      <td>66.497784</td>\n",
       "    </tr>\n",
       "    <tr>\n",
       "      <th>YEARS_BUILD_MODE</th>\n",
       "      <td>204488</td>\n",
       "      <td>66.497784</td>\n",
       "    </tr>\n",
       "    <tr>\n",
       "      <th>OWN_CAR_AGE</th>\n",
       "      <td>202929</td>\n",
       "      <td>65.990810</td>\n",
       "    </tr>\n",
       "    <tr>\n",
       "      <th>LANDAREA_AVG</th>\n",
       "      <td>182590</td>\n",
       "      <td>59.376738</td>\n",
       "    </tr>\n",
       "    <tr>\n",
       "      <th>LANDAREA_MEDI</th>\n",
       "      <td>182590</td>\n",
       "      <td>59.376738</td>\n",
       "    </tr>\n",
       "    <tr>\n",
       "      <th>LANDAREA_MODE</th>\n",
       "      <td>182590</td>\n",
       "      <td>59.376738</td>\n",
       "    </tr>\n",
       "  </tbody>\n",
       "</table>\n",
       "</div>"
      ],
      "text/plain": [
       "                             欠損数        欠損率\n",
       "COMMONAREA_MEDI           214865  69.872297\n",
       "COMMONAREA_AVG            214865  69.872297\n",
       "COMMONAREA_MODE           214865  69.872297\n",
       "NONLIVINGAPARTMENTS_AVG   213514  69.432963\n",
       "NONLIVINGAPARTMENTS_MODE  213514  69.432963\n",
       "NONLIVINGAPARTMENTS_MEDI  213514  69.432963\n",
       "FONDKAPREMONT_MODE        210295  68.386172\n",
       "LIVINGAPARTMENTS_AVG      210199  68.354953\n",
       "LIVINGAPARTMENTS_MEDI     210199  68.354953\n",
       "LIVINGAPARTMENTS_MODE     210199  68.354953\n",
       "FLOORSMIN_AVG             208642  67.848630\n",
       "FLOORSMIN_MEDI            208642  67.848630\n",
       "FLOORSMIN_MODE            208642  67.848630\n",
       "YEARS_BUILD_AVG           204488  66.497784\n",
       "YEARS_BUILD_MEDI          204488  66.497784\n",
       "YEARS_BUILD_MODE          204488  66.497784\n",
       "OWN_CAR_AGE               202929  65.990810\n",
       "LANDAREA_AVG              182590  59.376738\n",
       "LANDAREA_MEDI             182590  59.376738\n",
       "LANDAREA_MODE             182590  59.376738"
      ]
     },
     "execution_count": 200,
     "metadata": {},
     "output_type": "execute_result"
    }
   ],
   "source": [
    "# 欠損値を確認\n",
    "data = app_train\n",
    "\n",
    "missing = data.isnull().sum()[data.isnull().sum()>0].sort_values(ascending=False)\n",
    "missing_df = pd.DataFrame({'欠損数':missing,\n",
    "                           '欠損率':missing/len(data)*100})\n",
    "\n",
    "print('欠損値を含む列数:',len(missing_df))\n",
    "missing_df.head(20)"
   ]
  },
  {
   "cell_type": "code",
   "execution_count": 201,
   "metadata": {
    "scrolled": false
   },
   "outputs": [
    {
     "name": "stdout",
     "output_type": "stream",
     "text": [
      "TARGET                         1.000000\n",
      "DAYS_BIRTH                     0.078239\n",
      "REGION_RATING_CLIENT_W_CITY    0.060893\n",
      "REGION_RATING_CLIENT           0.058899\n",
      "DAYS_LAST_PHONE_CHANGE         0.055218\n",
      "DAYS_ID_PUBLISH                0.051457\n",
      "REG_CITY_NOT_WORK_CITY         0.050994\n",
      "FLAG_EMP_PHONE                 0.045982\n",
      "REG_CITY_NOT_LIVE_CITY         0.044395\n",
      "FLAG_DOCUMENT_3                0.044346\n",
      "DAYS_REGISTRATION              0.041975\n",
      "OWN_CAR_AGE                    0.037612\n",
      "LIVE_CITY_NOT_WORK_CITY        0.032518\n",
      "DEF_30_CNT_SOCIAL_CIRCLE       0.032248\n",
      "DEF_60_CNT_SOCIAL_CIRCLE       0.031276\n",
      "Name: TARGET, dtype: float64\n",
      "LIVINGAREA_MEDI              -0.032739\n",
      "LIVINGAREA_AVG               -0.032997\n",
      "FLOORSMIN_MEDI               -0.033394\n",
      "FLOORSMIN_AVG                -0.033614\n",
      "ELEVATORS_MEDI               -0.033863\n",
      "ELEVATORS_AVG                -0.034199\n",
      "REGION_POPULATION_RELATIVE   -0.037227\n",
      "AMT_GOODS_PRICE              -0.039645\n",
      "FLOORSMAX_MODE               -0.043226\n",
      "FLOORSMAX_MEDI               -0.043768\n",
      "FLOORSMAX_AVG                -0.044003\n",
      "DAYS_EMPLOYED                -0.044932\n",
      "EXT_SOURCE_1                 -0.155317\n",
      "EXT_SOURCE_2                 -0.160472\n",
      "EXT_SOURCE_3                 -0.178919\n",
      "Name: TARGET, dtype: float64\n"
     ]
    }
   ],
   "source": [
    "#TARGETの相関係数を確認\n",
    "corr = app_train.corr()['TARGET'].sort_values(ascending=False)\n",
    "\n",
    "print(corr.head(15))\n",
    "print(corr.tail(15))"
   ]
  },
  {
   "cell_type": "markdown",
   "metadata": {},
   "source": [
    "* まずは、基準となるベースラインを得るため、相関係数の高い\n",
    "  'DAYS_BIRTH','REGION_RATING_CLIENT_W_CITY'を使用し、ランダムフォレストで学習、推定してみる。"
   ]
  },
  {
   "cell_type": "code",
   "execution_count": 202,
   "metadata": {},
   "outputs": [],
   "source": [
    "feature = ['DAYS_BIRTH','REGION_RATING_CLIENT_W_CITY']\n",
    "\n",
    "X = app_train[feature].values\n",
    "y = app_train['TARGET'].values"
   ]
  },
  {
   "cell_type": "code",
   "execution_count": 203,
   "metadata": {},
   "outputs": [],
   "source": [
    "# 訓練データと、検証データに分割（75:25）\n",
    "from sklearn.model_selection import train_test_split\n",
    "\n",
    "X_train, X_valid, y_train, y_valid = \\\n",
    "train_test_split(X, y, test_size=0.25, random_state=0)"
   ]
  },
  {
   "cell_type": "code",
   "execution_count": 204,
   "metadata": {},
   "outputs": [
    {
     "name": "stdout",
     "output_type": "stream",
     "text": [
      "X_train.shape: (230633, 2)\n",
      "X_valid.shpae: (76878, 2)\n",
      "y_train.shpae: (230633,)\n",
      "y_valid.shpae: (76878,)\n"
     ]
    }
   ],
   "source": [
    "print('X_train.shape:',X_train.shape)\n",
    "print('X_valid.shpae:',X_valid.shape)\n",
    "print('y_train.shpae:',y_train.shape)\n",
    "print('y_valid.shpae:',y_valid.shape)"
   ]
  },
  {
   "cell_type": "code",
   "execution_count": 205,
   "metadata": {
    "scrolled": true
   },
   "outputs": [],
   "source": [
    "#ランダムフォレスト\n",
    "from sklearn.ensemble import RandomForestClassifier\n",
    "\n",
    "clf = RandomForestClassifier(max_depth=2, random_state=0)\n",
    "\n",
    "clf.fit(X_train, y_train)\n",
    "\n",
    "y_pred = clf.predict_proba(X_valid)[:,1]"
   ]
  },
  {
   "cell_type": "code",
   "execution_count": 206,
   "metadata": {
    "scrolled": true
   },
   "outputs": [
    {
     "name": "stdout",
     "output_type": "stream",
     "text": [
      "AUC :  0.5936451463157663\n"
     ]
    }
   ],
   "source": [
    "# ROC曲線とROC曲線の下領域（AUC）\n",
    "from sklearn.metrics import roc_curve\n",
    "from sklearn.metrics import roc_auc_score\n",
    "\n",
    "fpr, tpr, thresholds = roc_curve(y_valid, y_pred)\n",
    "\n",
    "print('AUC : ',roc_auc_score(y_valid, y_pred))"
   ]
  },
  {
   "cell_type": "code",
   "execution_count": 207,
   "metadata": {
    "scrolled": false
   },
   "outputs": [
    {
     "data": {
      "image/png": "[encoded data removed]",
      "text/plain": [
       "<Figure size 864x576 with 1 Axes>"
      ]
     },
     "metadata": {
      "needs_background": "light"
     },
     "output_type": "display_data"
    }
   ],
   "source": [
    "# ROC曲線のプロット\n",
    "fig,ax = plt.subplots(figsize = (12, 8))\n",
    "\n",
    "plt.plot(fpr, tpr, marker='o')\n",
    "plt.xlabel('False Positive Rate',fontsize=18)\n",
    "plt.ylabel('TPR: True Positive Rate',fontsize=18)\n",
    "plt.xticks(fontsize=18)\n",
    "plt.yticks(fontsize=18)\n",
    "plt.grid()"
   ]
  },
  {
   "cell_type": "markdown",
   "metadata": {},
   "source": [
    "### 【問題3】テストデータに対する推定\n",
    "テストデータ（application_test.csv）に対して推定を行い、Kaggleに提出を行ってください。\n",
    "\n",
    "正しく提出が行えていれば、精度は低くても構いません。"
   ]
  },
  {
   "cell_type": "code",
   "execution_count": 208,
   "metadata": {
    "scrolled": true
   },
   "outputs": [
    {
     "name": "stdout",
     "output_type": "stream",
     "text": [
      "Training data shape:  (48744, 121)\n"
     ]
    },
    {
     "data": {
      "text/html": [
       "<div>\n",
       "<style scoped>\n",
       "    .dataframe tbody tr th:only-of-type {\n",
       "        vertical-align: middle;\n",
       "    }\n",
       "\n",
       "    .dataframe tbody tr th {\n",
       "        vertical-align: top;\n",
       "    }\n",
       "\n",
       "    .dataframe thead th {\n",
       "        text-align: right;\n",
       "    }\n",
       "</style>\n",
       "<table border=\"1\" class=\"dataframe\">\n",
       "  <thead>\n",
       "    <tr style=\"text-align: right;\">\n",
       "      <th></th>\n",
       "      <th>SK_ID_CURR</th>\n",
       "      <th>NAME_CONTRACT_TYPE</th>\n",
       "      <th>CODE_GENDER</th>\n",
       "      <th>FLAG_OWN_CAR</th>\n",
       "      <th>FLAG_OWN_REALTY</th>\n",
       "      <th>CNT_CHILDREN</th>\n",
       "      <th>AMT_INCOME_TOTAL</th>\n",
       "      <th>AMT_CREDIT</th>\n",
       "      <th>AMT_ANNUITY</th>\n",
       "      <th>AMT_GOODS_PRICE</th>\n",
       "      <th>...</th>\n",
       "      <th>FLAG_DOCUMENT_18</th>\n",
       "      <th>FLAG_DOCUMENT_19</th>\n",
       "      <th>FLAG_DOCUMENT_20</th>\n",
       "      <th>FLAG_DOCUMENT_21</th>\n",
       "      <th>AMT_REQ_CREDIT_BUREAU_HOUR</th>\n",
       "      <th>AMT_REQ_CREDIT_BUREAU_DAY</th>\n",
       "      <th>AMT_REQ_CREDIT_BUREAU_WEEK</th>\n",
       "      <th>AMT_REQ_CREDIT_BUREAU_MON</th>\n",
       "      <th>AMT_REQ_CREDIT_BUREAU_QRT</th>\n",
       "      <th>AMT_REQ_CREDIT_BUREAU_YEAR</th>\n",
       "    </tr>\n",
       "  </thead>\n",
       "  <tbody>\n",
       "    <tr>\n",
       "      <th>0</th>\n",
       "      <td>100001</td>\n",
       "      <td>Cash loans</td>\n",
       "      <td>F</td>\n",
       "      <td>N</td>\n",
       "      <td>Y</td>\n",
       "      <td>0</td>\n",
       "      <td>135000.0</td>\n",
       "      <td>568800.0</td>\n",
       "      <td>20560.5</td>\n",
       "      <td>450000.0</td>\n",
       "      <td>...</td>\n",
       "      <td>0</td>\n",
       "      <td>0</td>\n",
       "      <td>0</td>\n",
       "      <td>0</td>\n",
       "      <td>0.0</td>\n",
       "      <td>0.0</td>\n",
       "      <td>0.0</td>\n",
       "      <td>0.0</td>\n",
       "      <td>0.0</td>\n",
       "      <td>0.0</td>\n",
       "    </tr>\n",
       "    <tr>\n",
       "      <th>1</th>\n",
       "      <td>100005</td>\n",
       "      <td>Cash loans</td>\n",
       "      <td>M</td>\n",
       "      <td>N</td>\n",
       "      <td>Y</td>\n",
       "      <td>0</td>\n",
       "      <td>99000.0</td>\n",
       "      <td>222768.0</td>\n",
       "      <td>17370.0</td>\n",
       "      <td>180000.0</td>\n",
       "      <td>...</td>\n",
       "      <td>0</td>\n",
       "      <td>0</td>\n",
       "      <td>0</td>\n",
       "      <td>0</td>\n",
       "      <td>0.0</td>\n",
       "      <td>0.0</td>\n",
       "      <td>0.0</td>\n",
       "      <td>0.0</td>\n",
       "      <td>0.0</td>\n",
       "      <td>3.0</td>\n",
       "    </tr>\n",
       "    <tr>\n",
       "      <th>2</th>\n",
       "      <td>100013</td>\n",
       "      <td>Cash loans</td>\n",
       "      <td>M</td>\n",
       "      <td>Y</td>\n",
       "      <td>Y</td>\n",
       "      <td>0</td>\n",
       "      <td>202500.0</td>\n",
       "      <td>663264.0</td>\n",
       "      <td>69777.0</td>\n",
       "      <td>630000.0</td>\n",
       "      <td>...</td>\n",
       "      <td>0</td>\n",
       "      <td>0</td>\n",
       "      <td>0</td>\n",
       "      <td>0</td>\n",
       "      <td>0.0</td>\n",
       "      <td>0.0</td>\n",
       "      <td>0.0</td>\n",
       "      <td>0.0</td>\n",
       "      <td>1.0</td>\n",
       "      <td>4.0</td>\n",
       "    </tr>\n",
       "    <tr>\n",
       "      <th>3</th>\n",
       "      <td>100028</td>\n",
       "      <td>Cash loans</td>\n",
       "      <td>F</td>\n",
       "      <td>N</td>\n",
       "      <td>Y</td>\n",
       "      <td>2</td>\n",
       "      <td>315000.0</td>\n",
       "      <td>1575000.0</td>\n",
       "      <td>49018.5</td>\n",
       "      <td>1575000.0</td>\n",
       "      <td>...</td>\n",
       "      <td>0</td>\n",
       "      <td>0</td>\n",
       "      <td>0</td>\n",
       "      <td>0</td>\n",
       "      <td>0.0</td>\n",
       "      <td>0.0</td>\n",
       "      <td>0.0</td>\n",
       "      <td>0.0</td>\n",
       "      <td>0.0</td>\n",
       "      <td>3.0</td>\n",
       "    </tr>\n",
       "    <tr>\n",
       "      <th>4</th>\n",
       "      <td>100038</td>\n",
       "      <td>Cash loans</td>\n",
       "      <td>M</td>\n",
       "      <td>Y</td>\n",
       "      <td>N</td>\n",
       "      <td>1</td>\n",
       "      <td>180000.0</td>\n",
       "      <td>625500.0</td>\n",
       "      <td>32067.0</td>\n",
       "      <td>625500.0</td>\n",
       "      <td>...</td>\n",
       "      <td>0</td>\n",
       "      <td>0</td>\n",
       "      <td>0</td>\n",
       "      <td>0</td>\n",
       "      <td>NaN</td>\n",
       "      <td>NaN</td>\n",
       "      <td>NaN</td>\n",
       "      <td>NaN</td>\n",
       "      <td>NaN</td>\n",
       "      <td>NaN</td>\n",
       "    </tr>\n",
       "  </tbody>\n",
       "</table>\n",
       "<p>5 rows × 121 columns</p>\n",
       "</div>"
      ],
      "text/plain": [
       "   SK_ID_CURR NAME_CONTRACT_TYPE CODE_GENDER FLAG_OWN_CAR FLAG_OWN_REALTY  \\\n",
       "0      100001         Cash loans           F            N               Y   \n",
       "1      100005         Cash loans           M            N               Y   \n",
       "2      100013         Cash loans           M            Y               Y   \n",
       "3      100028         Cash loans           F            N               Y   \n",
       "4      100038         Cash loans           M            Y               N   \n",
       "\n",
       "   CNT_CHILDREN  AMT_INCOME_TOTAL  AMT_CREDIT  AMT_ANNUITY  AMT_GOODS_PRICE  \\\n",
       "0             0          135000.0    568800.0      20560.5         450000.0   \n",
       "1             0           99000.0    222768.0      17370.0         180000.0   \n",
       "2             0          202500.0    663264.0      69777.0         630000.0   \n",
       "3             2          315000.0   1575000.0      49018.5        1575000.0   \n",
       "4             1          180000.0    625500.0      32067.0         625500.0   \n",
       "\n",
       "   ... FLAG_DOCUMENT_18 FLAG_DOCUMENT_19 FLAG_DOCUMENT_20 FLAG_DOCUMENT_21  \\\n",
       "0  ...                0                0                0                0   \n",
       "1  ...                0                0                0                0   \n",
       "2  ...                0                0                0                0   \n",
       "3  ...                0                0                0                0   \n",
       "4  ...                0                0                0                0   \n",
       "\n",
       "  AMT_REQ_CREDIT_BUREAU_HOUR  AMT_REQ_CREDIT_BUREAU_DAY  \\\n",
       "0                        0.0                        0.0   \n",
       "1                        0.0                        0.0   \n",
       "2                        0.0                        0.0   \n",
       "3                        0.0                        0.0   \n",
       "4                        NaN                        NaN   \n",
       "\n",
       "   AMT_REQ_CREDIT_BUREAU_WEEK  AMT_REQ_CREDIT_BUREAU_MON  \\\n",
       "0                         0.0                        0.0   \n",
       "1                         0.0                        0.0   \n",
       "2                         0.0                        0.0   \n",
       "3                         0.0                        0.0   \n",
       "4                         NaN                        NaN   \n",
       "\n",
       "   AMT_REQ_CREDIT_BUREAU_QRT  AMT_REQ_CREDIT_BUREAU_YEAR  \n",
       "0                        0.0                         0.0  \n",
       "1                        0.0                         3.0  \n",
       "2                        1.0                         4.0  \n",
       "3                        0.0                         3.0  \n",
       "4                        NaN                         NaN  \n",
       "\n",
       "[5 rows x 121 columns]"
      ]
     },
     "execution_count": 208,
     "metadata": {},
     "output_type": "execute_result"
    }
   ],
   "source": [
    "# testデータの読み込み\n",
    "app_test = pd.read_csv('./home_credit_default_risk/application_test.csv')\n",
    "print('Training data shape: ', app_test.shape)\n",
    "app_test.head()"
   ]
  },
  {
   "cell_type": "code",
   "execution_count": 209,
   "metadata": {},
   "outputs": [],
   "source": [
    "X_test = app_test[feature].values"
   ]
  },
  {
   "cell_type": "code",
   "execution_count": 210,
   "metadata": {},
   "outputs": [],
   "source": [
    "# テストデータで推定\n",
    "y_pred = clf.predict_proba(X_test)[:,1]"
   ]
  },
  {
   "cell_type": "code",
   "execution_count": 211,
   "metadata": {
    "scrolled": false
   },
   "outputs": [
    {
     "data": {
      "text/html": [
       "<div>\n",
       "<style scoped>\n",
       "    .dataframe tbody tr th:only-of-type {\n",
       "        vertical-align: middle;\n",
       "    }\n",
       "\n",
       "    .dataframe tbody tr th {\n",
       "        vertical-align: top;\n",
       "    }\n",
       "\n",
       "    .dataframe thead th {\n",
       "        text-align: right;\n",
       "    }\n",
       "</style>\n",
       "<table border=\"1\" class=\"dataframe\">\n",
       "  <thead>\n",
       "    <tr style=\"text-align: right;\">\n",
       "      <th></th>\n",
       "      <th>SK_ID_CURR</th>\n",
       "      <th>TARGET</th>\n",
       "    </tr>\n",
       "  </thead>\n",
       "  <tbody>\n",
       "    <tr>\n",
       "      <th>0</th>\n",
       "      <td>100001</td>\n",
       "      <td>0.068575</td>\n",
       "    </tr>\n",
       "    <tr>\n",
       "      <th>1</th>\n",
       "      <td>100005</td>\n",
       "      <td>0.069691</td>\n",
       "    </tr>\n",
       "    <tr>\n",
       "      <th>2</th>\n",
       "      <td>100013</td>\n",
       "      <td>0.064235</td>\n",
       "    </tr>\n",
       "    <tr>\n",
       "      <th>3</th>\n",
       "      <td>100028</td>\n",
       "      <td>0.087221</td>\n",
       "    </tr>\n",
       "    <tr>\n",
       "      <th>4</th>\n",
       "      <td>100038</td>\n",
       "      <td>0.093652</td>\n",
       "    </tr>\n",
       "  </tbody>\n",
       "</table>\n",
       "</div>"
      ],
      "text/plain": [
       "   SK_ID_CURR    TARGET\n",
       "0      100001  0.068575\n",
       "1      100005  0.069691\n",
       "2      100013  0.064235\n",
       "3      100028  0.087221\n",
       "4      100038  0.093652"
      ]
     },
     "execution_count": 211,
     "metadata": {},
     "output_type": "execute_result"
    }
   ],
   "source": [
    "# Submission dataframe\n",
    "submit = pd.DataFrame(app_test['SK_ID_CURR'])\n",
    "submit['TARGET'] = y_pred\n",
    "\n",
    "submit.head()"
   ]
  },
  {
   "cell_type": "code",
   "execution_count": 212,
   "metadata": {},
   "outputs": [],
   "source": [
    "# Save the submission dataframe\n",
    "submit.to_csv('./home_credit_default_risk/work_submission_baseline.csv', index = False)"
   ]
  },
  {
   "cell_type": "markdown",
   "metadata": {},
   "source": [
    "* ベースラインとなる結果\n",
    "<img src=\"2020-10-30 11.17.31.png\" />"
   ]
  },
  {
   "cell_type": "markdown",
   "metadata": {},
   "source": [
    "## 特徴量エンジニアリング\n",
    "ベースラインモデルを元に、入力する特徴量に様々な工夫を行い精度を向上させていきます。"
   ]
  },
  {
   "cell_type": "markdown",
   "metadata": {},
   "source": [
    "### 【問題4】特徴量エンジニアリング\n",
    "精度を上げるために以下のような観点で 特徴量エンジニアリング（Feature Engineering） を行ってください。\n",
    "\n",
    "* どの特徴量を使うか\n",
    "* どう前処理をするか\n",
    "\n",
    "何をした時に検証データに対する評価指標がどのようになったかをまとめてください。  \n",
    "最低5パターンの学習・検証を行ってください。\n",
    "\n",
    "精度が高かったものに関してはテストデータに対しても推定を行い、Kaggleに提出を行ってください。"
   ]
  },
  {
   "cell_type": "markdown",
   "metadata": {},
   "source": [
    "### 検証1： カテゴリデータをエンコード"
   ]
  },
  {
   "cell_type": "code",
   "execution_count": 213,
   "metadata": {
    "scrolled": true
   },
   "outputs": [
    {
     "data": {
      "text/plain": [
       "float64    65\n",
       "int64      41\n",
       "object     16\n",
       "dtype: int64"
      ]
     },
     "execution_count": 213,
     "metadata": {},
     "output_type": "execute_result"
    }
   ],
   "source": [
    "app_train.dtypes.value_counts()"
   ]
  },
  {
   "cell_type": "markdown",
   "metadata": {},
   "source": [
    "オブジェクトデータが16列あるため、これらをエンコードして学習に使えるか検証する"
   ]
  },
  {
   "cell_type": "code",
   "execution_count": 214,
   "metadata": {},
   "outputs": [
    {
     "data": {
      "text/plain": [
       "NAME_CONTRACT_TYPE             2\n",
       "CODE_GENDER                    3\n",
       "FLAG_OWN_CAR                   2\n",
       "FLAG_OWN_REALTY                2\n",
       "NAME_TYPE_SUITE                7\n",
       "NAME_INCOME_TYPE               8\n",
       "NAME_EDUCATION_TYPE            5\n",
       "NAME_FAMILY_STATUS             6\n",
       "NAME_HOUSING_TYPE              6\n",
       "OCCUPATION_TYPE               18\n",
       "WEEKDAY_APPR_PROCESS_START     7\n",
       "ORGANIZATION_TYPE             58\n",
       "FONDKAPREMONT_MODE             4\n",
       "HOUSETYPE_MODE                 3\n",
       "WALLSMATERIAL_MODE             7\n",
       "EMERGENCYSTATE_MODE            2\n",
       "dtype: int64"
      ]
     },
     "execution_count": 214,
     "metadata": {},
     "output_type": "execute_result"
    }
   ],
   "source": [
    "app_train.select_dtypes('object').apply(pd.Series.nunique, axis = 0)"
   ]
  },
  {
   "cell_type": "code",
   "execution_count": 215,
   "metadata": {},
   "outputs": [
    {
     "name": "stdout",
     "output_type": "stream",
     "text": [
      "3 columns were label encoded.\n"
     ]
    }
   ],
   "source": [
    "# カテゴリデータをエンコード\n",
    "from sklearn.preprocessing import LabelEncoder\n",
    "\n",
    "le = LabelEncoder()\n",
    "le_count = 0\n",
    "\n",
    "for col in app_train:\n",
    "    if app_train[col].dtype == 'object':\n",
    "        # If 2 or fewer unique categories\n",
    "        if len(list(app_train[col].unique())) <= 2:\n",
    "            # Train on the training data\n",
    "            le.fit(app_train[col])\n",
    "            # Transform both training and testing data\n",
    "            app_train[col] = le.transform(app_train[col])\n",
    "            app_test[col] = le.transform(app_test[col])\n",
    "            \n",
    "            # Keep track of how many columns were label encoded\n",
    "            le_count += 1\n",
    "            \n",
    "print('%d columns were label encoded.' % le_count)"
   ]
  },
  {
   "cell_type": "code",
   "execution_count": 216,
   "metadata": {},
   "outputs": [
    {
     "name": "stdout",
     "output_type": "stream",
     "text": [
      "Training Features shape:  (307511, 122)\n",
      "Testing Features shape:  (48744, 121)\n"
     ]
    }
   ],
   "source": [
    "print('Training Features shape: ', app_train.shape)\n",
    "print('Testing Features shape: ', app_test.shape)"
   ]
  },
  {
   "cell_type": "code",
   "execution_count": 217,
   "metadata": {},
   "outputs": [],
   "source": [
    "# one-hot エンコード\n",
    "app_train = pd.get_dummies(app_train)\n",
    "app_test = pd.get_dummies(app_test)"
   ]
  },
  {
   "cell_type": "code",
   "execution_count": 218,
   "metadata": {},
   "outputs": [
    {
     "name": "stdout",
     "output_type": "stream",
     "text": [
      "Training Features shape:  (307511, 243)\n",
      "Testing Features shape:  (48744, 239)\n"
     ]
    }
   ],
   "source": [
    "print('Training Features shape: ', app_train.shape)\n",
    "print('Testing Features shape: ', app_test.shape)"
   ]
  },
  {
   "cell_type": "code",
   "execution_count": 219,
   "metadata": {},
   "outputs": [
    {
     "name": "stdout",
     "output_type": "stream",
     "text": [
      "Training Features shape:  (307511, 240)\n",
      "Testing Features shape:  (48744, 239)\n"
     ]
    }
   ],
   "source": [
    "train_labels = app_train['TARGET']\n",
    "\n",
    "# Align the training and testing data, keep only columns present in both dataframes\n",
    "app_train, app_test = app_train.align(app_test, join = 'inner', axis = 1)\n",
    "\n",
    "# Add the target back in\n",
    "app_train['TARGET'] = train_labels\n",
    "\n",
    "print('Training Features shape: ', app_train.shape)\n",
    "print('Testing Features shape: ', app_test.shape)"
   ]
  },
  {
   "cell_type": "code",
   "execution_count": 220,
   "metadata": {
    "scrolled": false
   },
   "outputs": [
    {
     "name": "stdout",
     "output_type": "stream",
     "text": [
      "Most Positive Correlations:\n",
      " DAYS_REGISTRATION                                    0.041975\n",
      "OCCUPATION_TYPE_Laborers                             0.043019\n",
      "FLAG_DOCUMENT_3                                      0.044346\n",
      "REG_CITY_NOT_LIVE_CITY                               0.044395\n",
      "FLAG_EMP_PHONE                                       0.045982\n",
      "NAME_EDUCATION_TYPE_Secondary / secondary special    0.049824\n",
      "REG_CITY_NOT_WORK_CITY                               0.050994\n",
      "DAYS_ID_PUBLISH                                      0.051457\n",
      "CODE_GENDER_M                                        0.054713\n",
      "DAYS_LAST_PHONE_CHANGE                               0.055218\n",
      "NAME_INCOME_TYPE_Working                             0.057481\n",
      "REGION_RATING_CLIENT                                 0.058899\n",
      "REGION_RATING_CLIENT_W_CITY                          0.060893\n",
      "DAYS_BIRTH                                           0.078239\n",
      "TARGET                                               1.000000\n",
      "Name: TARGET, dtype: float64\n",
      "\n",
      "Most Negative Correlations:\n",
      " EXT_SOURCE_3                           -0.178919\n",
      "EXT_SOURCE_2                           -0.160472\n",
      "EXT_SOURCE_1                           -0.155317\n",
      "NAME_EDUCATION_TYPE_Higher education   -0.056593\n",
      "CODE_GENDER_F                          -0.054704\n",
      "NAME_INCOME_TYPE_Pensioner             -0.046209\n",
      "ORGANIZATION_TYPE_XNA                  -0.045987\n",
      "DAYS_EMPLOYED                          -0.044932\n",
      "FLOORSMAX_AVG                          -0.044003\n",
      "FLOORSMAX_MEDI                         -0.043768\n",
      "FLOORSMAX_MODE                         -0.043226\n",
      "EMERGENCYSTATE_MODE_No                 -0.042201\n",
      "HOUSETYPE_MODE_block of flats          -0.040594\n",
      "AMT_GOODS_PRICE                        -0.039645\n",
      "REGION_POPULATION_RELATIVE             -0.037227\n",
      "Name: TARGET, dtype: float64\n"
     ]
    }
   ],
   "source": [
    "corr = app_train.corr()['TARGET'].sort_values()\n",
    "\n",
    "# Display correlations\n",
    "print('Most Positive Correlations:\\n', corr.tail(15))\n",
    "print('\\nMost Negative Correlations:\\n', corr.head(15))"
   ]
  },
  {
   "cell_type": "code",
   "execution_count": 228,
   "metadata": {
    "scrolled": false
   },
   "outputs": [
    {
     "name": "stdout",
     "output_type": "stream",
     "text": [
      "欠損値を含む列数: 61\n"
     ]
    },
    {
     "data": {
      "text/html": [
       "<div>\n",
       "<style scoped>\n",
       "    .dataframe tbody tr th:only-of-type {\n",
       "        vertical-align: middle;\n",
       "    }\n",
       "\n",
       "    .dataframe tbody tr th {\n",
       "        vertical-align: top;\n",
       "    }\n",
       "\n",
       "    .dataframe thead th {\n",
       "        text-align: right;\n",
       "    }\n",
       "</style>\n",
       "<table border=\"1\" class=\"dataframe\">\n",
       "  <thead>\n",
       "    <tr style=\"text-align: right;\">\n",
       "      <th></th>\n",
       "      <th>欠損数</th>\n",
       "      <th>欠損率</th>\n",
       "    </tr>\n",
       "  </thead>\n",
       "  <tbody>\n",
       "    <tr>\n",
       "      <th>COMMONAREA_MEDI</th>\n",
       "      <td>214865</td>\n",
       "      <td>69.872297</td>\n",
       "    </tr>\n",
       "    <tr>\n",
       "      <th>COMMONAREA_MODE</th>\n",
       "      <td>214865</td>\n",
       "      <td>69.872297</td>\n",
       "    </tr>\n",
       "    <tr>\n",
       "      <th>COMMONAREA_AVG</th>\n",
       "      <td>214865</td>\n",
       "      <td>69.872297</td>\n",
       "    </tr>\n",
       "    <tr>\n",
       "      <th>NONLIVINGAPARTMENTS_MEDI</th>\n",
       "      <td>213514</td>\n",
       "      <td>69.432963</td>\n",
       "    </tr>\n",
       "    <tr>\n",
       "      <th>NONLIVINGAPARTMENTS_AVG</th>\n",
       "      <td>213514</td>\n",
       "      <td>69.432963</td>\n",
       "    </tr>\n",
       "    <tr>\n",
       "      <th>NONLIVINGAPARTMENTS_MODE</th>\n",
       "      <td>213514</td>\n",
       "      <td>69.432963</td>\n",
       "    </tr>\n",
       "    <tr>\n",
       "      <th>LIVINGAPARTMENTS_MEDI</th>\n",
       "      <td>210199</td>\n",
       "      <td>68.354953</td>\n",
       "    </tr>\n",
       "    <tr>\n",
       "      <th>LIVINGAPARTMENTS_AVG</th>\n",
       "      <td>210199</td>\n",
       "      <td>68.354953</td>\n",
       "    </tr>\n",
       "    <tr>\n",
       "      <th>LIVINGAPARTMENTS_MODE</th>\n",
       "      <td>210199</td>\n",
       "      <td>68.354953</td>\n",
       "    </tr>\n",
       "    <tr>\n",
       "      <th>FLOORSMIN_MODE</th>\n",
       "      <td>208642</td>\n",
       "      <td>67.848630</td>\n",
       "    </tr>\n",
       "    <tr>\n",
       "      <th>FLOORSMIN_AVG</th>\n",
       "      <td>208642</td>\n",
       "      <td>67.848630</td>\n",
       "    </tr>\n",
       "    <tr>\n",
       "      <th>FLOORSMIN_MEDI</th>\n",
       "      <td>208642</td>\n",
       "      <td>67.848630</td>\n",
       "    </tr>\n",
       "    <tr>\n",
       "      <th>YEARS_BUILD_MODE</th>\n",
       "      <td>204488</td>\n",
       "      <td>66.497784</td>\n",
       "    </tr>\n",
       "    <tr>\n",
       "      <th>YEARS_BUILD_MEDI</th>\n",
       "      <td>204488</td>\n",
       "      <td>66.497784</td>\n",
       "    </tr>\n",
       "    <tr>\n",
       "      <th>YEARS_BUILD_AVG</th>\n",
       "      <td>204488</td>\n",
       "      <td>66.497784</td>\n",
       "    </tr>\n",
       "    <tr>\n",
       "      <th>OWN_CAR_AGE</th>\n",
       "      <td>202929</td>\n",
       "      <td>65.990810</td>\n",
       "    </tr>\n",
       "    <tr>\n",
       "      <th>LANDAREA_AVG</th>\n",
       "      <td>182590</td>\n",
       "      <td>59.376738</td>\n",
       "    </tr>\n",
       "    <tr>\n",
       "      <th>LANDAREA_MODE</th>\n",
       "      <td>182590</td>\n",
       "      <td>59.376738</td>\n",
       "    </tr>\n",
       "    <tr>\n",
       "      <th>LANDAREA_MEDI</th>\n",
       "      <td>182590</td>\n",
       "      <td>59.376738</td>\n",
       "    </tr>\n",
       "    <tr>\n",
       "      <th>BASEMENTAREA_MODE</th>\n",
       "      <td>179943</td>\n",
       "      <td>58.515956</td>\n",
       "    </tr>\n",
       "    <tr>\n",
       "      <th>BASEMENTAREA_MEDI</th>\n",
       "      <td>179943</td>\n",
       "      <td>58.515956</td>\n",
       "    </tr>\n",
       "    <tr>\n",
       "      <th>BASEMENTAREA_AVG</th>\n",
       "      <td>179943</td>\n",
       "      <td>58.515956</td>\n",
       "    </tr>\n",
       "    <tr>\n",
       "      <th>EXT_SOURCE_1</th>\n",
       "      <td>173378</td>\n",
       "      <td>56.381073</td>\n",
       "    </tr>\n",
       "    <tr>\n",
       "      <th>NONLIVINGAREA_MEDI</th>\n",
       "      <td>169682</td>\n",
       "      <td>55.179164</td>\n",
       "    </tr>\n",
       "    <tr>\n",
       "      <th>NONLIVINGAREA_MODE</th>\n",
       "      <td>169682</td>\n",
       "      <td>55.179164</td>\n",
       "    </tr>\n",
       "    <tr>\n",
       "      <th>NONLIVINGAREA_AVG</th>\n",
       "      <td>169682</td>\n",
       "      <td>55.179164</td>\n",
       "    </tr>\n",
       "    <tr>\n",
       "      <th>ELEVATORS_MEDI</th>\n",
       "      <td>163891</td>\n",
       "      <td>53.295980</td>\n",
       "    </tr>\n",
       "    <tr>\n",
       "      <th>ELEVATORS_AVG</th>\n",
       "      <td>163891</td>\n",
       "      <td>53.295980</td>\n",
       "    </tr>\n",
       "    <tr>\n",
       "      <th>ELEVATORS_MODE</th>\n",
       "      <td>163891</td>\n",
       "      <td>53.295980</td>\n",
       "    </tr>\n",
       "    <tr>\n",
       "      <th>APARTMENTS_MEDI</th>\n",
       "      <td>156061</td>\n",
       "      <td>50.749729</td>\n",
       "    </tr>\n",
       "  </tbody>\n",
       "</table>\n",
       "</div>"
      ],
      "text/plain": [
       "                             欠損数        欠損率\n",
       "COMMONAREA_MEDI           214865  69.872297\n",
       "COMMONAREA_MODE           214865  69.872297\n",
       "COMMONAREA_AVG            214865  69.872297\n",
       "NONLIVINGAPARTMENTS_MEDI  213514  69.432963\n",
       "NONLIVINGAPARTMENTS_AVG   213514  69.432963\n",
       "NONLIVINGAPARTMENTS_MODE  213514  69.432963\n",
       "LIVINGAPARTMENTS_MEDI     210199  68.354953\n",
       "LIVINGAPARTMENTS_AVG      210199  68.354953\n",
       "LIVINGAPARTMENTS_MODE     210199  68.354953\n",
       "FLOORSMIN_MODE            208642  67.848630\n",
       "FLOORSMIN_AVG             208642  67.848630\n",
       "FLOORSMIN_MEDI            208642  67.848630\n",
       "YEARS_BUILD_MODE          204488  66.497784\n",
       "YEARS_BUILD_MEDI          204488  66.497784\n",
       "YEARS_BUILD_AVG           204488  66.497784\n",
       "OWN_CAR_AGE               202929  65.990810\n",
       "LANDAREA_AVG              182590  59.376738\n",
       "LANDAREA_MODE             182590  59.376738\n",
       "LANDAREA_MEDI             182590  59.376738\n",
       "BASEMENTAREA_MODE         179943  58.515956\n",
       "BASEMENTAREA_MEDI         179943  58.515956\n",
       "BASEMENTAREA_AVG          179943  58.515956\n",
       "EXT_SOURCE_1              173378  56.381073\n",
       "NONLIVINGAREA_MEDI        169682  55.179164\n",
       "NONLIVINGAREA_MODE        169682  55.179164\n",
       "NONLIVINGAREA_AVG         169682  55.179164\n",
       "ELEVATORS_MEDI            163891  53.295980\n",
       "ELEVATORS_AVG             163891  53.295980\n",
       "ELEVATORS_MODE            163891  53.295980\n",
       "APARTMENTS_MEDI           156061  50.749729"
      ]
     },
     "execution_count": 228,
     "metadata": {},
     "output_type": "execute_result"
    }
   ],
   "source": [
    "# 欠損値を確認\n",
    "data = app_train\n",
    "\n",
    "missing = data.isnull().sum()[data.isnull().sum()>0].sort_values(ascending=False)\n",
    "missing_train = pd.DataFrame({'欠損数':missing,\n",
    "                           '欠損率':missing/len(data)*100})\n",
    "\n",
    "print('欠損値を含む列数:',len(missing_train))\n",
    "missing_train.head(30)"
   ]
  },
  {
   "cell_type": "code",
   "execution_count": 229,
   "metadata": {
    "scrolled": false
   },
   "outputs": [
    {
     "name": "stdout",
     "output_type": "stream",
     "text": [
      "欠損値を含む列数: 58\n"
     ]
    },
    {
     "data": {
      "text/html": [
       "<div>\n",
       "<style scoped>\n",
       "    .dataframe tbody tr th:only-of-type {\n",
       "        vertical-align: middle;\n",
       "    }\n",
       "\n",
       "    .dataframe tbody tr th {\n",
       "        vertical-align: top;\n",
       "    }\n",
       "\n",
       "    .dataframe thead th {\n",
       "        text-align: right;\n",
       "    }\n",
       "</style>\n",
       "<table border=\"1\" class=\"dataframe\">\n",
       "  <thead>\n",
       "    <tr style=\"text-align: right;\">\n",
       "      <th></th>\n",
       "      <th>欠損数</th>\n",
       "      <th>欠損率</th>\n",
       "    </tr>\n",
       "  </thead>\n",
       "  <tbody>\n",
       "    <tr>\n",
       "      <th>COMMONAREA_AVG</th>\n",
       "      <td>33495</td>\n",
       "      <td>68.716150</td>\n",
       "    </tr>\n",
       "    <tr>\n",
       "      <th>COMMONAREA_MEDI</th>\n",
       "      <td>33495</td>\n",
       "      <td>68.716150</td>\n",
       "    </tr>\n",
       "    <tr>\n",
       "      <th>COMMONAREA_MODE</th>\n",
       "      <td>33495</td>\n",
       "      <td>68.716150</td>\n",
       "    </tr>\n",
       "    <tr>\n",
       "      <th>NONLIVINGAPARTMENTS_MODE</th>\n",
       "      <td>33347</td>\n",
       "      <td>68.412523</td>\n",
       "    </tr>\n",
       "    <tr>\n",
       "      <th>NONLIVINGAPARTMENTS_AVG</th>\n",
       "      <td>33347</td>\n",
       "      <td>68.412523</td>\n",
       "    </tr>\n",
       "    <tr>\n",
       "      <th>NONLIVINGAPARTMENTS_MEDI</th>\n",
       "      <td>33347</td>\n",
       "      <td>68.412523</td>\n",
       "    </tr>\n",
       "    <tr>\n",
       "      <th>LIVINGAPARTMENTS_MEDI</th>\n",
       "      <td>32780</td>\n",
       "      <td>67.249302</td>\n",
       "    </tr>\n",
       "    <tr>\n",
       "      <th>LIVINGAPARTMENTS_AVG</th>\n",
       "      <td>32780</td>\n",
       "      <td>67.249302</td>\n",
       "    </tr>\n",
       "    <tr>\n",
       "      <th>LIVINGAPARTMENTS_MODE</th>\n",
       "      <td>32780</td>\n",
       "      <td>67.249302</td>\n",
       "    </tr>\n",
       "    <tr>\n",
       "      <th>FLOORSMIN_AVG</th>\n",
       "      <td>32466</td>\n",
       "      <td>66.605121</td>\n",
       "    </tr>\n",
       "    <tr>\n",
       "      <th>FLOORSMIN_MEDI</th>\n",
       "      <td>32466</td>\n",
       "      <td>66.605121</td>\n",
       "    </tr>\n",
       "    <tr>\n",
       "      <th>FLOORSMIN_MODE</th>\n",
       "      <td>32466</td>\n",
       "      <td>66.605121</td>\n",
       "    </tr>\n",
       "    <tr>\n",
       "      <th>OWN_CAR_AGE</th>\n",
       "      <td>32312</td>\n",
       "      <td>66.289184</td>\n",
       "    </tr>\n",
       "    <tr>\n",
       "      <th>YEARS_BUILD_MODE</th>\n",
       "      <td>31818</td>\n",
       "      <td>65.275726</td>\n",
       "    </tr>\n",
       "    <tr>\n",
       "      <th>YEARS_BUILD_MEDI</th>\n",
       "      <td>31818</td>\n",
       "      <td>65.275726</td>\n",
       "    </tr>\n",
       "    <tr>\n",
       "      <th>YEARS_BUILD_AVG</th>\n",
       "      <td>31818</td>\n",
       "      <td>65.275726</td>\n",
       "    </tr>\n",
       "    <tr>\n",
       "      <th>LANDAREA_MEDI</th>\n",
       "      <td>28254</td>\n",
       "      <td>57.964057</td>\n",
       "    </tr>\n",
       "    <tr>\n",
       "      <th>LANDAREA_AVG</th>\n",
       "      <td>28254</td>\n",
       "      <td>57.964057</td>\n",
       "    </tr>\n",
       "    <tr>\n",
       "      <th>LANDAREA_MODE</th>\n",
       "      <td>28254</td>\n",
       "      <td>57.964057</td>\n",
       "    </tr>\n",
       "    <tr>\n",
       "      <th>BASEMENTAREA_MODE</th>\n",
       "      <td>27641</td>\n",
       "      <td>56.706466</td>\n",
       "    </tr>\n",
       "    <tr>\n",
       "      <th>BASEMENTAREA_MEDI</th>\n",
       "      <td>27641</td>\n",
       "      <td>56.706466</td>\n",
       "    </tr>\n",
       "    <tr>\n",
       "      <th>BASEMENTAREA_AVG</th>\n",
       "      <td>27641</td>\n",
       "      <td>56.706466</td>\n",
       "    </tr>\n",
       "    <tr>\n",
       "      <th>NONLIVINGAREA_AVG</th>\n",
       "      <td>26084</td>\n",
       "      <td>53.512227</td>\n",
       "    </tr>\n",
       "    <tr>\n",
       "      <th>NONLIVINGAREA_MODE</th>\n",
       "      <td>26084</td>\n",
       "      <td>53.512227</td>\n",
       "    </tr>\n",
       "    <tr>\n",
       "      <th>NONLIVINGAREA_MEDI</th>\n",
       "      <td>26084</td>\n",
       "      <td>53.512227</td>\n",
       "    </tr>\n",
       "    <tr>\n",
       "      <th>ELEVATORS_MEDI</th>\n",
       "      <td>25189</td>\n",
       "      <td>51.676104</td>\n",
       "    </tr>\n",
       "    <tr>\n",
       "      <th>ELEVATORS_AVG</th>\n",
       "      <td>25189</td>\n",
       "      <td>51.676104</td>\n",
       "    </tr>\n",
       "    <tr>\n",
       "      <th>ELEVATORS_MODE</th>\n",
       "      <td>25189</td>\n",
       "      <td>51.676104</td>\n",
       "    </tr>\n",
       "    <tr>\n",
       "      <th>APARTMENTS_MODE</th>\n",
       "      <td>23887</td>\n",
       "      <td>49.005006</td>\n",
       "    </tr>\n",
       "    <tr>\n",
       "      <th>APARTMENTS_AVG</th>\n",
       "      <td>23887</td>\n",
       "      <td>49.005006</td>\n",
       "    </tr>\n",
       "  </tbody>\n",
       "</table>\n",
       "</div>"
      ],
      "text/plain": [
       "                            欠損数        欠損率\n",
       "COMMONAREA_AVG            33495  68.716150\n",
       "COMMONAREA_MEDI           33495  68.716150\n",
       "COMMONAREA_MODE           33495  68.716150\n",
       "NONLIVINGAPARTMENTS_MODE  33347  68.412523\n",
       "NONLIVINGAPARTMENTS_AVG   33347  68.412523\n",
       "NONLIVINGAPARTMENTS_MEDI  33347  68.412523\n",
       "LIVINGAPARTMENTS_MEDI     32780  67.249302\n",
       "LIVINGAPARTMENTS_AVG      32780  67.249302\n",
       "LIVINGAPARTMENTS_MODE     32780  67.249302\n",
       "FLOORSMIN_AVG             32466  66.605121\n",
       "FLOORSMIN_MEDI            32466  66.605121\n",
       "FLOORSMIN_MODE            32466  66.605121\n",
       "OWN_CAR_AGE               32312  66.289184\n",
       "YEARS_BUILD_MODE          31818  65.275726\n",
       "YEARS_BUILD_MEDI          31818  65.275726\n",
       "YEARS_BUILD_AVG           31818  65.275726\n",
       "LANDAREA_MEDI             28254  57.964057\n",
       "LANDAREA_AVG              28254  57.964057\n",
       "LANDAREA_MODE             28254  57.964057\n",
       "BASEMENTAREA_MODE         27641  56.706466\n",
       "BASEMENTAREA_MEDI         27641  56.706466\n",
       "BASEMENTAREA_AVG          27641  56.706466\n",
       "NONLIVINGAREA_AVG         26084  53.512227\n",
       "NONLIVINGAREA_MODE        26084  53.512227\n",
       "NONLIVINGAREA_MEDI        26084  53.512227\n",
       "ELEVATORS_MEDI            25189  51.676104\n",
       "ELEVATORS_AVG             25189  51.676104\n",
       "ELEVATORS_MODE            25189  51.676104\n",
       "APARTMENTS_MODE           23887  49.005006\n",
       "APARTMENTS_AVG            23887  49.005006"
      ]
     },
     "execution_count": 229,
     "metadata": {},
     "output_type": "execute_result"
    }
   ],
   "source": [
    "# 欠損値を確認\n",
    "data = app_test\n",
    "\n",
    "missing = data.isnull().sum()[data.isnull().sum()>0].sort_values(ascending=False)\n",
    "missing_test = pd.DataFrame({'欠損数':missing,\n",
    "                           '欠損率':missing/len(data)*100})\n",
    "\n",
    "print('欠損値を含む列数:',len(missing_test))\n",
    "missing_test.head(30)"
   ]
  },
  {
   "cell_type": "code",
   "execution_count": 230,
   "metadata": {},
   "outputs": [
    {
     "name": "stdout",
     "output_type": "stream",
     "text": [
      "AMT_GOODS_PRICE\n",
      "CNT_FAM_MEMBERS\n",
      "DAYS_LAST_PHONE_CHANGE\n"
     ]
    }
   ],
   "source": [
    "# trainデータだけにある欠損値を確認\n",
    "for i in missing_train.index.values:\n",
    "    if i not in missing_test.index.values:\n",
    "        print(i)"
   ]
  },
  {
   "cell_type": "code",
   "execution_count": 244,
   "metadata": {
    "scrolled": false
   },
   "outputs": [
    {
     "name": "stdout",
     "output_type": "stream",
     "text": [
      "欠損値のない特徴量の数: 178\n"
     ]
    }
   ],
   "source": [
    "feature = []\n",
    "for i in app_train:\n",
    "    if i not in missing_train.index.values:\n",
    "        if i not in 'TARGET':\n",
    "            feature.append(i)\n",
    "print('欠損値のない特徴量の数:',len(feature))"
   ]
  },
  {
   "cell_type": "code",
   "execution_count": 245,
   "metadata": {},
   "outputs": [],
   "source": [
    "# 欠損値を含まない特徴量を抽出\n",
    "\n",
    "X = app_train[feature].values\n",
    "y = app_train['TARGET'].values"
   ]
  },
  {
   "cell_type": "code",
   "execution_count": 247,
   "metadata": {},
   "outputs": [],
   "source": [
    "# 訓練データと、検証データに分割（75:25）\n",
    "\n",
    "X_train, X_valid, y_train, y_valid = \\\n",
    "train_test_split(X, y, test_size=0.25, random_state=0)"
   ]
  },
  {
   "cell_type": "code",
   "execution_count": 248,
   "metadata": {
    "scrolled": true
   },
   "outputs": [
    {
     "name": "stdout",
     "output_type": "stream",
     "text": [
      "X_train.shape: (230633, 178)\n",
      "X_valid.shpae: (76878, 178)\n",
      "y_train.shpae: (230633,)\n",
      "y_valid.shpae: (76878,)\n"
     ]
    }
   ],
   "source": [
    "print('X_train.shape:',X_train.shape)\n",
    "print('X_valid.shpae:',X_valid.shape)\n",
    "print('y_train.shpae:',y_train.shape)\n",
    "print('y_valid.shpae:',y_valid.shape)"
   ]
  },
  {
   "cell_type": "code",
   "execution_count": 250,
   "metadata": {},
   "outputs": [
    {
     "name": "stdout",
     "output_type": "stream",
     "text": [
      "[[-1.22214563  3.08671705  1.39335828 ... -0.13305475  0.96522763\n",
      "  -0.08786737]\n",
      " [ 0.01253087 -0.32396879  1.39335828 ... -0.13305475  0.96522763\n",
      "  -0.08786737]\n",
      " [-0.07199509 -0.32396879 -0.7176905  ... -0.13305475 -1.03602505\n",
      "  -0.08786737]\n",
      " ...\n",
      " [-0.01801564  3.08671705 -0.7176905  ... -0.13305475  0.96522763\n",
      "  -0.08786737]\n",
      " [-0.40501919 -0.32396879  1.39335828 ... -0.13305475 -1.03602505\n",
      "  -0.08786737]\n",
      " [ 1.71076695 -0.32396879 -0.7176905  ... -0.13305475  0.96522763\n",
      "  -0.08786737]]\n",
      "[[-1.25198175 -0.32396879 -0.7176905  ... -0.13305475 -1.03602505\n",
      "  -0.08786737]\n",
      " [ 0.82612484 -0.32396879 -0.7176905  ... -0.13305475  0.96522763\n",
      "  -0.08786737]\n",
      " [ 1.53374511  3.08671705  1.39335828 ... -0.13305475  0.96522763\n",
      "  -0.08786737]\n",
      " ...\n",
      " [ 0.63156722 -0.32396879 -0.7176905  ... -0.13305475  0.96522763\n",
      "  -0.08786737]\n",
      " [-1.64620592 -0.32396879 -0.7176905  ... -0.13305475  0.96522763\n",
      "  -0.08786737]\n",
      " [ 0.13714    -0.32396879  1.39335828 ... -0.13305475  0.96522763\n",
      "  -0.08786737]]\n"
     ]
    }
   ],
   "source": [
    "# 標準化\n",
    "from sklearn.preprocessing import StandardScaler\n",
    "\n",
    "# 標準化クラスをインスタンス化\n",
    "scaler = StandardScaler()\n",
    "\n",
    "# 配列Xの平均と分散を計算して記憶する\n",
    "scaler.fit(X_train)\n",
    "\n",
    "# 標準化\n",
    "X_train_scd = scaler.transform(X_train)\n",
    "X_valid_scd = scaler.transform(X_valid)\n",
    "\n",
    "#表示行数を１０行に設定\n",
    "np.set_printoptions(threshold=10)\n",
    "\n",
    "print(X_train_scd)\n",
    "print(X_valid_scd)"
   ]
  },
  {
   "cell_type": "code",
   "execution_count": 251,
   "metadata": {},
   "outputs": [],
   "source": [
    "# ランダムフォレスト\n",
    "clf = RandomForestClassifier(max_depth=2, random_state=0)\n",
    "\n",
    "clf.fit(X_train_scd, y_train)\n",
    "\n",
    "y_pred = clf.predict_proba(X_valid_scd)[:,1]"
   ]
  },
  {
   "cell_type": "code",
   "execution_count": 252,
   "metadata": {},
   "outputs": [
    {
     "name": "stdout",
     "output_type": "stream",
     "text": [
      "AUC :  0.6419650489665505\n"
     ]
    }
   ],
   "source": [
    "fpr, tpr, thresholds = roc_curve(y_valid, y_pred)\n",
    "\n",
    "print('AUC : ',roc_auc_score(y_valid, y_pred))"
   ]
  },
  {
   "cell_type": "code",
   "execution_count": 253,
   "metadata": {},
   "outputs": [
    {
     "data": {
      "image/png": "[encoded data removed]",
      "text/plain": [
       "<Figure size 864x576 with 1 Axes>"
      ]
     },
     "metadata": {
      "needs_background": "light"
     },
     "output_type": "display_data"
    }
   ],
   "source": [
    "# ROC曲線のプロット\n",
    "fig,ax = plt.subplots(figsize = (12, 8))\n",
    "\n",
    "plt.plot(fpr, tpr, marker='o')\n",
    "plt.xlabel('False Positive Rate',fontsize=18)\n",
    "plt.ylabel('TPR: True Positive Rate',fontsize=18)\n",
    "plt.xticks(fontsize=18)\n",
    "plt.yticks(fontsize=18)\n",
    "plt.grid()"
   ]
  },
  {
   "cell_type": "code",
   "execution_count": 254,
   "metadata": {},
   "outputs": [
    {
     "name": "stderr",
     "output_type": "stream",
     "text": [
      "/Users/kazuki/.pyenv/versions/anaconda3-2020.02/lib/python3.8/site-packages/sklearn/linear_model/_logistic.py:762: ConvergenceWarning: lbfgs failed to converge (status=1):\n",
      "STOP: TOTAL NO. of ITERATIONS REACHED LIMIT.\n",
      "\n",
      "Increase the number of iterations (max_iter) or scale the data as shown in:\n",
      "    https://scikit-learn.org/stable/modules/preprocessing.html\n",
      "Please also refer to the documentation for alternative solver options:\n",
      "    https://scikit-learn.org/stable/modules/linear_model.html#logistic-regression\n",
      "  n_iter_i = _check_optimize_result(\n"
     ]
    },
    {
     "name": "stdout",
     "output_type": "stream",
     "text": [
      "AUC :  0.6685596688460844\n"
     ]
    },
    {
     "data": {
      "image/png": "[encoded data removed]",
      "text/plain": [
       "<Figure size 864x576 with 1 Axes>"
      ]
     },
     "metadata": {
      "needs_background": "light"
     },
     "output_type": "display_data"
    }
   ],
   "source": [
    "# ロジスティック回帰\n",
    "from sklearn.linear_model import LogisticRegression\n",
    "\n",
    "clf = LogisticRegression(random_state=0)\n",
    "\n",
    "clf.fit(X_train_scd, y_train)\n",
    "\n",
    "y_pred = clf.predict_proba(X_valid_scd)[:,1]\n",
    "\n",
    "# FPR,TPR\n",
    "fpr, tpr, thresholds = roc_curve(y_valid, y_pred)\n",
    "print('AUC : ',roc_auc_score(y_valid, y_pred))\n",
    "\n",
    "# ROC曲線のプロット\n",
    "fig,ax = plt.subplots(figsize = (12, 8))\n",
    "\n",
    "plt.plot(fpr, tpr, marker='o')\n",
    "plt.xlabel('False Positive Rate',fontsize=18)\n",
    "plt.ylabel('TPR: True Positive Rate',fontsize=18)\n",
    "plt.xticks(fontsize=18)\n",
    "plt.yticks(fontsize=18)\n",
    "plt.grid()"
   ]
  },
  {
   "cell_type": "markdown",
   "metadata": {},
   "source": [
    "### 検証1の考察\n",
    "検証1では、カテゴリデータをエンコードし、学習に使用した。  \n",
    "今回は、欠損値がある説明変数は、使用しないものとした。（検証2で、欠損値を補完した結果と比較する。）  \n",
    "特徴量の数としては、2から178に増やし、全て標準化を行った。  \n",
    "学習は、ベースラインモデルと同様にランダムフォレストと、これに加えてロジスティク回帰で行なった。\n",
    "\n",
    "ベースモデルのAUC:0.59に対して、今回のモデルはランダムフォレスト0.64,ロジスティック回帰0.66と、  \n",
    "若干のモデル性能の向上が確認できる。（ここでは、検証データに対するAUCで考察）  \n",
    "続いて、欠損値を補完して検証をしてみる。"
   ]
  },
  {
   "cell_type": "markdown",
   "metadata": {},
   "source": [
    "### 検証2： 欠損値を埋める"
   ]
  },
  {
   "cell_type": "markdown",
   "metadata": {},
   "source": [
    "検証2では、欠損値を0で補完してみる。"
   ]
  },
  {
   "cell_type": "code",
   "execution_count": 279,
   "metadata": {},
   "outputs": [
    {
     "name": "stdout",
     "output_type": "stream",
     "text": [
      "Training Features shape:  (307511, 240)\n"
     ]
    }
   ],
   "source": [
    "print('Training Features shape: ', app_train.shape)"
   ]
  },
  {
   "cell_type": "markdown",
   "metadata": {},
   "source": [
    "使用するトレインデータは、カテゴリデータをエンコードしたもの"
   ]
  },
  {
   "cell_type": "code",
   "execution_count": 280,
   "metadata": {},
   "outputs": [],
   "source": [
    "app_train_fill_zero = app_train.copy()"
   ]
  },
  {
   "cell_type": "code",
   "execution_count": 281,
   "metadata": {},
   "outputs": [
    {
     "name": "stdout",
     "output_type": "stream",
     "text": [
      "欠損値を含む列数: 61\n"
     ]
    },
    {
     "data": {
      "text/html": [
       "<div>\n",
       "<style scoped>\n",
       "    .dataframe tbody tr th:only-of-type {\n",
       "        vertical-align: middle;\n",
       "    }\n",
       "\n",
       "    .dataframe tbody tr th {\n",
       "        vertical-align: top;\n",
       "    }\n",
       "\n",
       "    .dataframe thead th {\n",
       "        text-align: right;\n",
       "    }\n",
       "</style>\n",
       "<table border=\"1\" class=\"dataframe\">\n",
       "  <thead>\n",
       "    <tr style=\"text-align: right;\">\n",
       "      <th></th>\n",
       "      <th>欠損数</th>\n",
       "      <th>欠損率</th>\n",
       "    </tr>\n",
       "  </thead>\n",
       "  <tbody>\n",
       "    <tr>\n",
       "      <th>COMMONAREA_MEDI</th>\n",
       "      <td>214865</td>\n",
       "      <td>69.872297</td>\n",
       "    </tr>\n",
       "    <tr>\n",
       "      <th>COMMONAREA_MODE</th>\n",
       "      <td>214865</td>\n",
       "      <td>69.872297</td>\n",
       "    </tr>\n",
       "    <tr>\n",
       "      <th>COMMONAREA_AVG</th>\n",
       "      <td>214865</td>\n",
       "      <td>69.872297</td>\n",
       "    </tr>\n",
       "    <tr>\n",
       "      <th>NONLIVINGAPARTMENTS_MEDI</th>\n",
       "      <td>213514</td>\n",
       "      <td>69.432963</td>\n",
       "    </tr>\n",
       "    <tr>\n",
       "      <th>NONLIVINGAPARTMENTS_AVG</th>\n",
       "      <td>213514</td>\n",
       "      <td>69.432963</td>\n",
       "    </tr>\n",
       "    <tr>\n",
       "      <th>NONLIVINGAPARTMENTS_MODE</th>\n",
       "      <td>213514</td>\n",
       "      <td>69.432963</td>\n",
       "    </tr>\n",
       "    <tr>\n",
       "      <th>LIVINGAPARTMENTS_MEDI</th>\n",
       "      <td>210199</td>\n",
       "      <td>68.354953</td>\n",
       "    </tr>\n",
       "    <tr>\n",
       "      <th>LIVINGAPARTMENTS_AVG</th>\n",
       "      <td>210199</td>\n",
       "      <td>68.354953</td>\n",
       "    </tr>\n",
       "    <tr>\n",
       "      <th>LIVINGAPARTMENTS_MODE</th>\n",
       "      <td>210199</td>\n",
       "      <td>68.354953</td>\n",
       "    </tr>\n",
       "    <tr>\n",
       "      <th>FLOORSMIN_MODE</th>\n",
       "      <td>208642</td>\n",
       "      <td>67.848630</td>\n",
       "    </tr>\n",
       "    <tr>\n",
       "      <th>FLOORSMIN_AVG</th>\n",
       "      <td>208642</td>\n",
       "      <td>67.848630</td>\n",
       "    </tr>\n",
       "    <tr>\n",
       "      <th>FLOORSMIN_MEDI</th>\n",
       "      <td>208642</td>\n",
       "      <td>67.848630</td>\n",
       "    </tr>\n",
       "    <tr>\n",
       "      <th>YEARS_BUILD_MODE</th>\n",
       "      <td>204488</td>\n",
       "      <td>66.497784</td>\n",
       "    </tr>\n",
       "    <tr>\n",
       "      <th>YEARS_BUILD_MEDI</th>\n",
       "      <td>204488</td>\n",
       "      <td>66.497784</td>\n",
       "    </tr>\n",
       "    <tr>\n",
       "      <th>YEARS_BUILD_AVG</th>\n",
       "      <td>204488</td>\n",
       "      <td>66.497784</td>\n",
       "    </tr>\n",
       "    <tr>\n",
       "      <th>OWN_CAR_AGE</th>\n",
       "      <td>202929</td>\n",
       "      <td>65.990810</td>\n",
       "    </tr>\n",
       "    <tr>\n",
       "      <th>LANDAREA_AVG</th>\n",
       "      <td>182590</td>\n",
       "      <td>59.376738</td>\n",
       "    </tr>\n",
       "    <tr>\n",
       "      <th>LANDAREA_MODE</th>\n",
       "      <td>182590</td>\n",
       "      <td>59.376738</td>\n",
       "    </tr>\n",
       "    <tr>\n",
       "      <th>LANDAREA_MEDI</th>\n",
       "      <td>182590</td>\n",
       "      <td>59.376738</td>\n",
       "    </tr>\n",
       "    <tr>\n",
       "      <th>BASEMENTAREA_MODE</th>\n",
       "      <td>179943</td>\n",
       "      <td>58.515956</td>\n",
       "    </tr>\n",
       "    <tr>\n",
       "      <th>BASEMENTAREA_MEDI</th>\n",
       "      <td>179943</td>\n",
       "      <td>58.515956</td>\n",
       "    </tr>\n",
       "    <tr>\n",
       "      <th>BASEMENTAREA_AVG</th>\n",
       "      <td>179943</td>\n",
       "      <td>58.515956</td>\n",
       "    </tr>\n",
       "    <tr>\n",
       "      <th>EXT_SOURCE_1</th>\n",
       "      <td>173378</td>\n",
       "      <td>56.381073</td>\n",
       "    </tr>\n",
       "    <tr>\n",
       "      <th>NONLIVINGAREA_MEDI</th>\n",
       "      <td>169682</td>\n",
       "      <td>55.179164</td>\n",
       "    </tr>\n",
       "    <tr>\n",
       "      <th>NONLIVINGAREA_MODE</th>\n",
       "      <td>169682</td>\n",
       "      <td>55.179164</td>\n",
       "    </tr>\n",
       "    <tr>\n",
       "      <th>NONLIVINGAREA_AVG</th>\n",
       "      <td>169682</td>\n",
       "      <td>55.179164</td>\n",
       "    </tr>\n",
       "    <tr>\n",
       "      <th>ELEVATORS_MEDI</th>\n",
       "      <td>163891</td>\n",
       "      <td>53.295980</td>\n",
       "    </tr>\n",
       "    <tr>\n",
       "      <th>ELEVATORS_AVG</th>\n",
       "      <td>163891</td>\n",
       "      <td>53.295980</td>\n",
       "    </tr>\n",
       "    <tr>\n",
       "      <th>ELEVATORS_MODE</th>\n",
       "      <td>163891</td>\n",
       "      <td>53.295980</td>\n",
       "    </tr>\n",
       "    <tr>\n",
       "      <th>APARTMENTS_MEDI</th>\n",
       "      <td>156061</td>\n",
       "      <td>50.749729</td>\n",
       "    </tr>\n",
       "  </tbody>\n",
       "</table>\n",
       "</div>"
      ],
      "text/plain": [
       "                             欠損数        欠損率\n",
       "COMMONAREA_MEDI           214865  69.872297\n",
       "COMMONAREA_MODE           214865  69.872297\n",
       "COMMONAREA_AVG            214865  69.872297\n",
       "NONLIVINGAPARTMENTS_MEDI  213514  69.432963\n",
       "NONLIVINGAPARTMENTS_AVG   213514  69.432963\n",
       "NONLIVINGAPARTMENTS_MODE  213514  69.432963\n",
       "LIVINGAPARTMENTS_MEDI     210199  68.354953\n",
       "LIVINGAPARTMENTS_AVG      210199  68.354953\n",
       "LIVINGAPARTMENTS_MODE     210199  68.354953\n",
       "FLOORSMIN_MODE            208642  67.848630\n",
       "FLOORSMIN_AVG             208642  67.848630\n",
       "FLOORSMIN_MEDI            208642  67.848630\n",
       "YEARS_BUILD_MODE          204488  66.497784\n",
       "YEARS_BUILD_MEDI          204488  66.497784\n",
       "YEARS_BUILD_AVG           204488  66.497784\n",
       "OWN_CAR_AGE               202929  65.990810\n",
       "LANDAREA_AVG              182590  59.376738\n",
       "LANDAREA_MODE             182590  59.376738\n",
       "LANDAREA_MEDI             182590  59.376738\n",
       "BASEMENTAREA_MODE         179943  58.515956\n",
       "BASEMENTAREA_MEDI         179943  58.515956\n",
       "BASEMENTAREA_AVG          179943  58.515956\n",
       "EXT_SOURCE_1              173378  56.381073\n",
       "NONLIVINGAREA_MEDI        169682  55.179164\n",
       "NONLIVINGAREA_MODE        169682  55.179164\n",
       "NONLIVINGAREA_AVG         169682  55.179164\n",
       "ELEVATORS_MEDI            163891  53.295980\n",
       "ELEVATORS_AVG             163891  53.295980\n",
       "ELEVATORS_MODE            163891  53.295980\n",
       "APARTMENTS_MEDI           156061  50.749729"
      ]
     },
     "execution_count": 281,
     "metadata": {},
     "output_type": "execute_result"
    }
   ],
   "source": [
    "data = app_train_fill_zero\n",
    "\n",
    "missing = data.isnull().sum()[data.isnull().sum()>0].sort_values(ascending=False)\n",
    "missing_train = pd.DataFrame({'欠損数':missing,\n",
    "                           '欠損率':missing/len(data)*100})\n",
    "\n",
    "print('欠損値を含む列数:',len(missing_train))\n",
    "missing_train.head(30)"
   ]
  },
  {
   "cell_type": "code",
   "execution_count": 282,
   "metadata": {},
   "outputs": [],
   "source": [
    "# NaNを0で埋める\n",
    "app_train_fill_zero = app_train_fill_zero.fillna(0)"
   ]
  },
  {
   "cell_type": "code",
   "execution_count": 283,
   "metadata": {},
   "outputs": [
    {
     "name": "stdout",
     "output_type": "stream",
     "text": [
      "欠損値を含む列数: 0\n"
     ]
    }
   ],
   "source": [
    "data = app_train_fill_zero\n",
    "\n",
    "missing = data.isnull().sum()[data.isnull().sum()>0].sort_values(ascending=False)\n",
    "missing_train = pd.DataFrame({'欠損数':missing,\n",
    "                           '欠損率':missing/len(data)*100})\n",
    "\n",
    "print('欠損値を含む列数:',len(missing_train))"
   ]
  },
  {
   "cell_type": "code",
   "execution_count": 284,
   "metadata": {},
   "outputs": [
    {
     "name": "stdout",
     "output_type": "stream",
     "text": [
      "特徴量数: 239\n"
     ]
    }
   ],
   "source": [
    "feature = []\n",
    "for i in app_train:\n",
    "    if i not in 'TARGET':\n",
    "        feature.append(i)\n",
    "print('特徴量数:',len(feature))"
   ]
  },
  {
   "cell_type": "code",
   "execution_count": 288,
   "metadata": {},
   "outputs": [
    {
     "name": "stdout",
     "output_type": "stream",
     "text": [
      "X_train.shape: (230633, 239)\n",
      "X_valid.shpae: (76878, 239)\n",
      "y_train.shpae: (230633,)\n",
      "y_valid.shpae: (76878,)\n"
     ]
    }
   ],
   "source": [
    "# train,validデータの作成\n",
    "X = app_train_fill_zero[feature].values\n",
    "y = app_train_fill_zero['TARGET'].values\n",
    "\n",
    "X_train, X_valid, y_train, y_valid = \\\n",
    "train_test_split(X, y, test_size=0.25, random_state=0)\n",
    "\n",
    "print('X_train.shape:',X_train.shape)\n",
    "print('X_valid.shpae:',X_valid.shape)\n",
    "print('y_train.shpae:',y_train.shape)\n",
    "print('y_valid.shpae:',y_valid.shape)"
   ]
  },
  {
   "cell_type": "code",
   "execution_count": 289,
   "metadata": {},
   "outputs": [
    {
     "name": "stdout",
     "output_type": "stream",
     "text": [
      "[[-1.22214563  3.08671705  1.39335828 ... -0.13305475  0.96522763\n",
      "  -0.08786737]\n",
      " [ 0.01253087 -0.32396879  1.39335828 ... -0.13305475  0.96522763\n",
      "  -0.08786737]\n",
      " [-0.07199509 -0.32396879 -0.7176905  ... -0.13305475 -1.03602505\n",
      "  -0.08786737]\n",
      " ...\n",
      " [-0.01801564  3.08671705 -0.7176905  ... -0.13305475  0.96522763\n",
      "  -0.08786737]\n",
      " [-0.40501919 -0.32396879  1.39335828 ... -0.13305475 -1.03602505\n",
      "  -0.08786737]\n",
      " [ 1.71076695 -0.32396879 -0.7176905  ... -0.13305475  0.96522763\n",
      "  -0.08786737]]\n",
      "[[-1.25198175 -0.32396879 -0.7176905  ... -0.13305475 -1.03602505\n",
      "  -0.08786737]\n",
      " [ 0.82612484 -0.32396879 -0.7176905  ... -0.13305475  0.96522763\n",
      "  -0.08786737]\n",
      " [ 1.53374511  3.08671705  1.39335828 ... -0.13305475  0.96522763\n",
      "  -0.08786737]\n",
      " ...\n",
      " [ 0.63156722 -0.32396879 -0.7176905  ... -0.13305475  0.96522763\n",
      "  -0.08786737]\n",
      " [-1.64620592 -0.32396879 -0.7176905  ... -0.13305475  0.96522763\n",
      "  -0.08786737]\n",
      " [ 0.13714    -0.32396879  1.39335828 ... -0.13305475  0.96522763\n",
      "  -0.08786737]]\n"
     ]
    }
   ],
   "source": [
    "# 標準化クラスをインスタンス化\n",
    "scaler = StandardScaler()\n",
    "\n",
    "# 配列Xの平均と分散を計算して記憶する\n",
    "scaler.fit(X_train)\n",
    "\n",
    "# 標準化\n",
    "X_train_scd = scaler.transform(X_train)\n",
    "X_valid_scd = scaler.transform(X_valid)\n",
    "\n",
    "#表示行数を１０行に設定\n",
    "np.set_printoptions(threshold=10)\n",
    "\n",
    "print(X_train_scd)\n",
    "print(X_valid_scd)"
   ]
  },
  {
   "cell_type": "code",
   "execution_count": 290,
   "metadata": {},
   "outputs": [
    {
     "name": "stdout",
     "output_type": "stream",
     "text": [
      "AUC :  0.7024506453196397\n"
     ]
    },
    {
     "data": {
      "image/png": "[encoded data removed]",
      "text/plain": [
       "<Figure size 864x576 with 1 Axes>"
      ]
     },
     "metadata": {
      "needs_background": "light"
     },
     "output_type": "display_data"
    }
   ],
   "source": [
    "# ランダムフォレスト\n",
    "clf = RandomForestClassifier(max_depth=2, random_state=0)\n",
    "\n",
    "clf.fit(X_train_scd, y_train)\n",
    "\n",
    "y_pred = clf.predict_proba(X_valid_scd)[:,1]\n",
    "\n",
    "\n",
    "# FPR,TPR\n",
    "fpr, tpr, thresholds = roc_curve(y_valid, y_pred)\n",
    "print('AUC : ',roc_auc_score(y_valid, y_pred))\n",
    "\n",
    "# ROC曲線のプロット\n",
    "fig,ax = plt.subplots(figsize = (12, 8))\n",
    "\n",
    "plt.plot(fpr, tpr, marker='o')\n",
    "plt.xlabel('False Positive Rate',fontsize=18)\n",
    "plt.ylabel('TPR: True Positive Rate',fontsize=18)\n",
    "plt.xticks(fontsize=18)\n",
    "plt.yticks(fontsize=18)\n",
    "plt.grid()"
   ]
  },
  {
   "cell_type": "code",
   "execution_count": 291,
   "metadata": {},
   "outputs": [
    {
     "name": "stderr",
     "output_type": "stream",
     "text": [
      "/Users/kazuki/.pyenv/versions/anaconda3-2020.02/lib/python3.8/site-packages/sklearn/linear_model/_logistic.py:762: ConvergenceWarning: lbfgs failed to converge (status=1):\n",
      "STOP: TOTAL NO. of ITERATIONS REACHED LIMIT.\n",
      "\n",
      "Increase the number of iterations (max_iter) or scale the data as shown in:\n",
      "    https://scikit-learn.org/stable/modules/preprocessing.html\n",
      "Please also refer to the documentation for alternative solver options:\n",
      "    https://scikit-learn.org/stable/modules/linear_model.html#logistic-regression\n",
      "  n_iter_i = _check_optimize_result(\n"
     ]
    },
    {
     "name": "stdout",
     "output_type": "stream",
     "text": [
      "AUC :  0.7313955620703497\n"
     ]
    },
    {
     "data": {
      "image/png": "[encoded data removed]",
      "text/plain": [
       "<Figure size 864x576 with 1 Axes>"
      ]
     },
     "metadata": {
      "needs_background": "light"
     },
     "output_type": "display_data"
    }
   ],
   "source": [
    "# ロジスティック回帰\n",
    "clf = LogisticRegression(random_state=0)\n",
    "clf.fit(X_train_scd, y_train)\n",
    "\n",
    "y_pred = clf.predict_proba(X_valid_scd)[:,1]\n",
    "\n",
    "\n",
    "# FPR,TPR\n",
    "fpr, tpr, thresholds = roc_curve(y_valid, y_pred)\n",
    "print('AUC : ',roc_auc_score(y_valid, y_pred))\n",
    "\n",
    "# ROC曲線のプロット\n",
    "fig,ax = plt.subplots(figsize = (12, 8))\n",
    "\n",
    "plt.plot(fpr, tpr, marker='o')\n",
    "plt.xlabel('False Positive Rate',fontsize=18)\n",
    "plt.ylabel('TPR: True Positive Rate',fontsize=18)\n",
    "plt.xticks(fontsize=18)\n",
    "plt.yticks(fontsize=18)\n",
    "plt.grid()"
   ]
  },
  {
   "cell_type": "markdown",
   "metadata": {},
   "source": [
    "### 検証2の考察\n",
    "検証2では、検証1で使用したエンコード済みデータの欠損値を0で埋めることで、  \n",
    "使用する特徴量を178から239に増やして学習、推定を行なった。  \n",
    "結果は、検証1からさらに精度は向上した。（ランダムフォレスト0.7,ロジスティック回帰0.73）\n",
    "説明変数として、欠損値を含むデータも有効でありそうなことが、確認できた。"
   ]
  },
  {
   "cell_type": "markdown",
   "metadata": {},
   "source": [
    "### 検証3： 欠損値を平均値で埋める"
   ]
  },
  {
   "cell_type": "markdown",
   "metadata": {},
   "source": [
    "* 検証3では欠損値を平均値で埋める"
   ]
  },
  {
   "cell_type": "code",
   "execution_count": 292,
   "metadata": {},
   "outputs": [],
   "source": [
    "app_train_fill_mean = app_train.copy()"
   ]
  },
  {
   "cell_type": "code",
   "execution_count": 294,
   "metadata": {},
   "outputs": [],
   "source": [
    "mean = app_train_fill_mean.mean()\n",
    "\n",
    "app_train_fill_mean = app_train_fill_mean.fillna(mean)"
   ]
  },
  {
   "cell_type": "code",
   "execution_count": 295,
   "metadata": {},
   "outputs": [
    {
     "name": "stdout",
     "output_type": "stream",
     "text": [
      "欠損値を含む列数: 0\n"
     ]
    }
   ],
   "source": [
    "data = app_train_fill_mean\n",
    "\n",
    "missing = data.isnull().sum()[data.isnull().sum()>0].sort_values(ascending=False)\n",
    "missing_train = pd.DataFrame({'欠損数':missing,\n",
    "                           '欠損率':missing/len(data)*100})\n",
    "\n",
    "print('欠損値を含む列数:',len(missing_train))"
   ]
  },
  {
   "cell_type": "code",
   "execution_count": 296,
   "metadata": {},
   "outputs": [
    {
     "name": "stdout",
     "output_type": "stream",
     "text": [
      "特徴量数: 239\n"
     ]
    }
   ],
   "source": [
    "feature = []\n",
    "for i in app_train:\n",
    "    if i not in 'TARGET':\n",
    "        feature.append(i)\n",
    "print('特徴量数:',len(feature))"
   ]
  },
  {
   "cell_type": "code",
   "execution_count": 297,
   "metadata": {},
   "outputs": [
    {
     "name": "stdout",
     "output_type": "stream",
     "text": [
      "X_train.shape: (230633, 239)\n",
      "X_valid.shpae: (76878, 239)\n",
      "y_train.shpae: (230633,)\n",
      "y_valid.shpae: (76878,)\n"
     ]
    }
   ],
   "source": [
    "# train,validデータの作成\n",
    "X = app_train_fill_mean[feature].values\n",
    "y = app_train_fill_mean['TARGET'].values\n",
    "\n",
    "X_train, X_valid, y_train, y_valid = \\\n",
    "train_test_split(X, y, test_size=0.25, random_state=0)\n",
    "\n",
    "print('X_train.shape:',X_train.shape)\n",
    "print('X_valid.shpae:',X_valid.shape)\n",
    "print('y_train.shpae:',y_train.shape)\n",
    "print('y_valid.shpae:',y_valid.shape)"
   ]
  },
  {
   "cell_type": "code",
   "execution_count": 298,
   "metadata": {},
   "outputs": [
    {
     "name": "stdout",
     "output_type": "stream",
     "text": [
      "[[-1.22214563  3.08671705  1.39335828 ... -0.13305475  0.96522763\n",
      "  -0.08786737]\n",
      " [ 0.01253087 -0.32396879  1.39335828 ... -0.13305475  0.96522763\n",
      "  -0.08786737]\n",
      " [-0.07199509 -0.32396879 -0.7176905  ... -0.13305475 -1.03602505\n",
      "  -0.08786737]\n",
      " ...\n",
      " [-0.01801564  3.08671705 -0.7176905  ... -0.13305475  0.96522763\n",
      "  -0.08786737]\n",
      " [-0.40501919 -0.32396879  1.39335828 ... -0.13305475 -1.03602505\n",
      "  -0.08786737]\n",
      " [ 1.71076695 -0.32396879 -0.7176905  ... -0.13305475  0.96522763\n",
      "  -0.08786737]]\n",
      "[[-1.25198175 -0.32396879 -0.7176905  ... -0.13305475 -1.03602505\n",
      "  -0.08786737]\n",
      " [ 0.82612484 -0.32396879 -0.7176905  ... -0.13305475  0.96522763\n",
      "  -0.08786737]\n",
      " [ 1.53374511  3.08671705  1.39335828 ... -0.13305475  0.96522763\n",
      "  -0.08786737]\n",
      " ...\n",
      " [ 0.63156722 -0.32396879 -0.7176905  ... -0.13305475  0.96522763\n",
      "  -0.08786737]\n",
      " [-1.64620592 -0.32396879 -0.7176905  ... -0.13305475  0.96522763\n",
      "  -0.08786737]\n",
      " [ 0.13714    -0.32396879  1.39335828 ... -0.13305475  0.96522763\n",
      "  -0.08786737]]\n"
     ]
    }
   ],
   "source": [
    "# 標準化クラスをインスタンス化\n",
    "scaler = StandardScaler()\n",
    "\n",
    "# 配列Xの平均と分散を計算して記憶する\n",
    "scaler.fit(X_train)\n",
    "\n",
    "# 標準化\n",
    "X_train_scd = scaler.transform(X_train)\n",
    "X_valid_scd = scaler.transform(X_valid)\n",
    "\n",
    "#表示行数を１０行に設定\n",
    "np.set_printoptions(threshold=10)\n",
    "\n",
    "print(X_train_scd)\n",
    "print(X_valid_scd)"
   ]
  },
  {
   "cell_type": "code",
   "execution_count": 299,
   "metadata": {},
   "outputs": [
    {
     "name": "stdout",
     "output_type": "stream",
     "text": [
      "AUC :  0.7143396841853658\n"
     ]
    },
    {
     "data": {
      "image/png": "[encoded data removed]",
      "text/plain": [
       "<Figure size 864x576 with 1 Axes>"
      ]
     },
     "metadata": {
      "needs_background": "light"
     },
     "output_type": "display_data"
    }
   ],
   "source": [
    "# ランダムフォレスト\n",
    "clf = RandomForestClassifier(max_depth=2, random_state=0)\n",
    "\n",
    "clf.fit(X_train_scd, y_train)\n",
    "\n",
    "y_pred = clf.predict_proba(X_valid_scd)[:,1]\n",
    "\n",
    "\n",
    "# FPR,TPR\n",
    "fpr, tpr, thresholds = roc_curve(y_valid, y_pred)\n",
    "print('AUC : ',roc_auc_score(y_valid, y_pred))\n",
    "\n",
    "# ROC曲線のプロット\n",
    "fig,ax = plt.subplots(figsize = (12, 8))\n",
    "\n",
    "plt.plot(fpr, tpr, marker='o')\n",
    "plt.xlabel('False Positive Rate',fontsize=18)\n",
    "plt.ylabel('TPR: True Positive Rate',fontsize=18)\n",
    "plt.xticks(fontsize=18)\n",
    "plt.yticks(fontsize=18)\n",
    "plt.grid()"
   ]
  },
  {
   "cell_type": "code",
   "execution_count": 300,
   "metadata": {
    "scrolled": false
   },
   "outputs": [
    {
     "name": "stderr",
     "output_type": "stream",
     "text": [
      "/Users/kazuki/.pyenv/versions/anaconda3-2020.02/lib/python3.8/site-packages/sklearn/linear_model/_logistic.py:762: ConvergenceWarning: lbfgs failed to converge (status=1):\n",
      "STOP: TOTAL NO. of ITERATIONS REACHED LIMIT.\n",
      "\n",
      "Increase the number of iterations (max_iter) or scale the data as shown in:\n",
      "    https://scikit-learn.org/stable/modules/preprocessing.html\n",
      "Please also refer to the documentation for alternative solver options:\n",
      "    https://scikit-learn.org/stable/modules/linear_model.html#logistic-regression\n",
      "  n_iter_i = _check_optimize_result(\n"
     ]
    },
    {
     "name": "stdout",
     "output_type": "stream",
     "text": [
      "AUC :  0.7478367475519161\n"
     ]
    },
    {
     "data": {
      "image/png": "[encoded data removed]",
      "text/plain": [
       "<Figure size 864x576 with 1 Axes>"
      ]
     },
     "metadata": {
      "needs_background": "light"
     },
     "output_type": "display_data"
    }
   ],
   "source": [
    "# ロジスティック回帰\n",
    "clf = LogisticRegression(random_state=0)\n",
    "clf.fit(X_train_scd, y_train)\n",
    "\n",
    "y_pred = clf.predict_proba(X_valid_scd)[:,1]\n",
    "\n",
    "\n",
    "# FPR,TPR\n",
    "fpr, tpr, thresholds = roc_curve(y_valid, y_pred)\n",
    "print('AUC : ',roc_auc_score(y_valid, y_pred))\n",
    "\n",
    "# ROC曲線のプロット\n",
    "fig,ax = plt.subplots(figsize = (12, 8))\n",
    "\n",
    "plt.plot(fpr, tpr, marker='o')\n",
    "plt.xlabel('False Positive Rate',fontsize=18)\n",
    "plt.ylabel('TPR: True Positive Rate',fontsize=18)\n",
    "plt.xticks(fontsize=18)\n",
    "plt.yticks(fontsize=18)\n",
    "plt.grid()"
   ]
  },
  {
   "cell_type": "markdown",
   "metadata": {},
   "source": [
    "### 検証3の考察\n",
    "検証3では、欠損値を平均値で埋めることで処理をした。\n",
    "結果は、0で埋めた場合より僅かに精度が向上した。（0.01程度）\n",
    "このことから、実務では欠損値を埋める際も、何で補完するのが良いか説明可能性を考慮する必要がありそう。"
   ]
  },
  {
   "cell_type": "markdown",
   "metadata": {},
   "source": [
    "### 検証4： 異常値を処理する"
   ]
  },
  {
   "cell_type": "markdown",
   "metadata": {},
   "source": [
    "検証3のデータを引き継ぎ、EDAより異常値があるか確認し、あれば修正"
   ]
  },
  {
   "cell_type": "code",
   "execution_count": 301,
   "metadata": {},
   "outputs": [
    {
     "data": {
      "text/plain": [
       "count    307511.000000\n",
       "mean     -16036.995067\n",
       "std        4363.988632\n",
       "min      -25229.000000\n",
       "25%      -19682.000000\n",
       "50%      -15750.000000\n",
       "75%      -12413.000000\n",
       "max       -7489.000000\n",
       "Name: DAYS_BIRTH, dtype: float64"
      ]
     },
     "execution_count": 301,
     "metadata": {},
     "output_type": "execute_result"
    }
   ],
   "source": [
    "app_train_fill_mean['DAYS_BIRTH'].describe()"
   ]
  },
  {
   "cell_type": "markdown",
   "metadata": {},
   "source": [
    "'DAYS_BIRTH'は負の値になっているため、-1を掛けて365で除することで、\n",
    "年単位にする。"
   ]
  },
  {
   "cell_type": "code",
   "execution_count": 302,
   "metadata": {},
   "outputs": [
    {
     "data": {
      "text/plain": [
       "count    307511.000000\n",
       "mean         43.936973\n",
       "std          11.956133\n",
       "min          20.517808\n",
       "25%          34.008219\n",
       "50%          43.150685\n",
       "75%          53.923288\n",
       "max          69.120548\n",
       "Name: DAYS_BIRTH, dtype: float64"
      ]
     },
     "execution_count": 302,
     "metadata": {},
     "output_type": "execute_result"
    }
   ],
   "source": [
    "# 年単位に変換\n",
    "app_train_fill_mean['DAYS_BIRTH'] = (app_train_fill_mean['DAYS_BIRTH']/-365)\n",
    "app_train_fill_mean['DAYS_BIRTH'].describe()"
   ]
  },
  {
   "cell_type": "code",
   "execution_count": 303,
   "metadata": {
    "scrolled": false
   },
   "outputs": [
    {
     "data": {
      "text/plain": [
       "count    307511.000000\n",
       "mean      63815.045904\n",
       "std      141275.766519\n",
       "min      -17912.000000\n",
       "25%       -2760.000000\n",
       "50%       -1213.000000\n",
       "75%        -289.000000\n",
       "max      365243.000000\n",
       "Name: DAYS_EMPLOYED, dtype: float64"
      ]
     },
     "execution_count": 303,
     "metadata": {},
     "output_type": "execute_result"
    }
   ],
   "source": [
    "app_train_fill_mean['DAYS_EMPLOYED'].describe()"
   ]
  },
  {
   "cell_type": "code",
   "execution_count": 306,
   "metadata": {},
   "outputs": [
    {
     "data": {
      "image/png": "[encoded data removed]",
      "text/plain": [
       "<Figure size 432x288 with 1 Axes>"
      ]
     },
     "metadata": {
      "needs_background": "light"
     },
     "output_type": "display_data"
    }
   ],
   "source": [
    "plt.hist(app_train_fill_mean['DAYS_EMPLOYED']);"
   ]
  },
  {
   "cell_type": "code",
   "execution_count": 308,
   "metadata": {},
   "outputs": [
    {
     "name": "stderr",
     "output_type": "stream",
     "text": [
      "/Users/kazuki/.pyenv/versions/anaconda3-2020.02/lib/python3.8/site-packages/numpy/lib/histograms.py:824: RuntimeWarning: invalid value encountered in greater_equal\n",
      "  keep = (tmp_a >= first_edge)\n",
      "/Users/kazuki/.pyenv/versions/anaconda3-2020.02/lib/python3.8/site-packages/numpy/lib/histograms.py:825: RuntimeWarning: invalid value encountered in less_equal\n",
      "  keep &= (tmp_a <= last_edge)\n"
     ]
    },
    {
     "data": {
      "image/png": "[encoded data removed]",
      "text/plain": [
       "<Figure size 432x288 with 1 Axes>"
      ]
     },
     "metadata": {
      "needs_background": "light"
     },
     "output_type": "display_data"
    }
   ],
   "source": [
    "# 異常値をNanで置き換えて、ヒストグラムを可視化\n",
    "app_train_fill_mean['DAYS_EMPLOYED'].replace({365243: np.nan}, inplace = True)\n",
    "plt.hist(app_train_fill_mean['DAYS_EMPLOYED']);"
   ]
  },
  {
   "cell_type": "code",
   "execution_count": 309,
   "metadata": {},
   "outputs": [],
   "source": [
    "# NaNで置き換えたところを、平均値で埋める\n",
    "mean = app_train_fill_mean.mean()\n",
    "\n",
    "app_train_fill_mean = app_train_fill_mean.fillna(mean)"
   ]
  },
  {
   "cell_type": "code",
   "execution_count": 310,
   "metadata": {},
   "outputs": [
    {
     "name": "stdout",
     "output_type": "stream",
     "text": [
      "欠損値を含む列数: 0\n"
     ]
    }
   ],
   "source": [
    "data = app_train_fill_mean\n",
    "\n",
    "missing = data.isnull().sum()[data.isnull().sum()>0].sort_values(ascending=False)\n",
    "missing_train = pd.DataFrame({'欠損数':missing,\n",
    "                           '欠損率':missing/len(data)*100})\n",
    "\n",
    "print('欠損値を含む列数:',len(missing_train))"
   ]
  },
  {
   "cell_type": "code",
   "execution_count": 311,
   "metadata": {},
   "outputs": [
    {
     "name": "stdout",
     "output_type": "stream",
     "text": [
      "特徴量数: 239\n"
     ]
    }
   ],
   "source": [
    "feature = []\n",
    "for i in app_train:\n",
    "    if i not in 'TARGET':\n",
    "        feature.append(i)\n",
    "print('特徴量数:',len(feature))"
   ]
  },
  {
   "cell_type": "code",
   "execution_count": 312,
   "metadata": {},
   "outputs": [
    {
     "name": "stdout",
     "output_type": "stream",
     "text": [
      "X_train.shape: (230633, 239)\n",
      "X_valid.shpae: (76878, 239)\n",
      "y_train.shpae: (230633,)\n",
      "y_valid.shpae: (76878,)\n"
     ]
    }
   ],
   "source": [
    "# train,validデータの作成\n",
    "X = app_train_fill_mean[feature].values\n",
    "y = app_train_fill_mean['TARGET'].values\n",
    "\n",
    "X_train, X_valid, y_train, y_valid = \\\n",
    "train_test_split(X, y, test_size=0.25, random_state=0)\n",
    "\n",
    "print('X_train.shape:',X_train.shape)\n",
    "print('X_valid.shpae:',X_valid.shape)\n",
    "print('y_train.shpae:',y_train.shape)\n",
    "print('y_valid.shpae:',y_valid.shape)"
   ]
  },
  {
   "cell_type": "code",
   "execution_count": 313,
   "metadata": {},
   "outputs": [
    {
     "name": "stdout",
     "output_type": "stream",
     "text": [
      "[[-1.22214563  3.08671705  1.39335828 ... -0.13305475  0.96522763\n",
      "  -0.08786737]\n",
      " [ 0.01253087 -0.32396879  1.39335828 ... -0.13305475  0.96522763\n",
      "  -0.08786737]\n",
      " [-0.07199509 -0.32396879 -0.7176905  ... -0.13305475 -1.03602505\n",
      "  -0.08786737]\n",
      " ...\n",
      " [-0.01801564  3.08671705 -0.7176905  ... -0.13305475  0.96522763\n",
      "  -0.08786737]\n",
      " [-0.40501919 -0.32396879  1.39335828 ... -0.13305475 -1.03602505\n",
      "  -0.08786737]\n",
      " [ 1.71076695 -0.32396879 -0.7176905  ... -0.13305475  0.96522763\n",
      "  -0.08786737]]\n",
      "[[-1.25198175 -0.32396879 -0.7176905  ... -0.13305475 -1.03602505\n",
      "  -0.08786737]\n",
      " [ 0.82612484 -0.32396879 -0.7176905  ... -0.13305475  0.96522763\n",
      "  -0.08786737]\n",
      " [ 1.53374511  3.08671705  1.39335828 ... -0.13305475  0.96522763\n",
      "  -0.08786737]\n",
      " ...\n",
      " [ 0.63156722 -0.32396879 -0.7176905  ... -0.13305475  0.96522763\n",
      "  -0.08786737]\n",
      " [-1.64620592 -0.32396879 -0.7176905  ... -0.13305475  0.96522763\n",
      "  -0.08786737]\n",
      " [ 0.13714    -0.32396879  1.39335828 ... -0.13305475  0.96522763\n",
      "  -0.08786737]]\n"
     ]
    }
   ],
   "source": [
    "# 標準化クラスをインスタンス化\n",
    "scaler = StandardScaler()\n",
    "\n",
    "# 配列Xの平均と分散を計算して記憶する\n",
    "scaler.fit(X_train)\n",
    "\n",
    "# 標準化\n",
    "X_train_scd = scaler.transform(X_train)\n",
    "X_valid_scd = scaler.transform(X_valid)\n",
    "\n",
    "#表示行数を１０行に設定\n",
    "np.set_printoptions(threshold=10)\n",
    "\n",
    "print(X_train_scd)\n",
    "print(X_valid_scd)"
   ]
  },
  {
   "cell_type": "code",
   "execution_count": 314,
   "metadata": {},
   "outputs": [
    {
     "name": "stdout",
     "output_type": "stream",
     "text": [
      "AUC :  0.7160593816987114\n"
     ]
    },
    {
     "data": {
      "image/png": "[encoded data removed]",
      "text/plain": [
       "<Figure size 864x576 with 1 Axes>"
      ]
     },
     "metadata": {
      "needs_background": "light"
     },
     "output_type": "display_data"
    }
   ],
   "source": [
    "# ランダムフォレスト\n",
    "clf = RandomForestClassifier(max_depth=2, random_state=0)\n",
    "\n",
    "clf.fit(X_train_scd, y_train)\n",
    "\n",
    "y_pred = clf.predict_proba(X_valid_scd)[:,1]\n",
    "\n",
    "\n",
    "# FPR,TPR\n",
    "fpr, tpr, thresholds = roc_curve(y_valid, y_pred)\n",
    "print('AUC : ',roc_auc_score(y_valid, y_pred))\n",
    "\n",
    "# ROC曲線のプロット\n",
    "fig,ax = plt.subplots(figsize = (12, 8))\n",
    "\n",
    "plt.plot(fpr, tpr, marker='o')\n",
    "plt.xlabel('False Positive Rate',fontsize=18)\n",
    "plt.ylabel('TPR: True Positive Rate',fontsize=18)\n",
    "plt.xticks(fontsize=18)\n",
    "plt.yticks(fontsize=18)\n",
    "plt.grid()"
   ]
  },
  {
   "cell_type": "code",
   "execution_count": 315,
   "metadata": {},
   "outputs": [
    {
     "name": "stderr",
     "output_type": "stream",
     "text": [
      "/Users/kazuki/.pyenv/versions/anaconda3-2020.02/lib/python3.8/site-packages/sklearn/linear_model/_logistic.py:762: ConvergenceWarning: lbfgs failed to converge (status=1):\n",
      "STOP: TOTAL NO. of ITERATIONS REACHED LIMIT.\n",
      "\n",
      "Increase the number of iterations (max_iter) or scale the data as shown in:\n",
      "    https://scikit-learn.org/stable/modules/preprocessing.html\n",
      "Please also refer to the documentation for alternative solver options:\n",
      "    https://scikit-learn.org/stable/modules/linear_model.html#logistic-regression\n",
      "  n_iter_i = _check_optimize_result(\n"
     ]
    },
    {
     "name": "stdout",
     "output_type": "stream",
     "text": [
      "AUC :  0.7490218359495764\n"
     ]
    },
    {
     "data": {
      "image/png": "[encoded data removed]",
      "text/plain": [
       "<Figure size 864x576 with 1 Axes>"
      ]
     },
     "metadata": {
      "needs_background": "light"
     },
     "output_type": "display_data"
    }
   ],
   "source": [
    "# ロジスティック回帰\n",
    "clf = LogisticRegression(random_state=0)\n",
    "clf.fit(X_train_scd, y_train)\n",
    "\n",
    "y_pred = clf.predict_proba(X_valid_scd)[:,1]\n",
    "\n",
    "\n",
    "# FPR,TPR\n",
    "fpr, tpr, thresholds = roc_curve(y_valid, y_pred)\n",
    "print('AUC : ',roc_auc_score(y_valid, y_pred))\n",
    "\n",
    "# ROC曲線のプロット\n",
    "fig,ax = plt.subplots(figsize = (12, 8))\n",
    "\n",
    "plt.plot(fpr, tpr, marker='o')\n",
    "plt.xlabel('False Positive Rate',fontsize=18)\n",
    "plt.ylabel('TPR: True Positive Rate',fontsize=18)\n",
    "plt.xticks(fontsize=18)\n",
    "plt.yticks(fontsize=18)\n",
    "plt.grid()"
   ]
  },
  {
   "cell_type": "markdown",
   "metadata": {},
   "source": [
    "### 検証4の考察\n",
    "検証4では、四分値、ヒストグラムから確認できる異常値を平均値で置き換えた。  \n",
    "（年齢を意味する変数も、負の値だったものを年齢に変換した。）\n",
    "  \n",
    "モデルの精度は、ごく僅かだが改善が見られた。（0.001ほど）  \n",
    "異常値や、外れ値の処理も、モデルの改良に寄与しそうだ。"
   ]
  },
  {
   "cell_type": "markdown",
   "metadata": {},
   "source": [
    "### 検証5： 新たに特徴量を作成"
   ]
  },
  {
   "cell_type": "markdown",
   "metadata": {},
   "source": [
    "以下のkaggleノートブックを参考に、新たな特徴量を作成し、学習に使用してみる。  \n",
    "LightGBM with Simple Features (61〜68行目)  \n",
    "https://www.kaggle.com/jsaguiar/lightgbm-with-simple-features"
   ]
  },
  {
   "cell_type": "code",
   "execution_count": 319,
   "metadata": {},
   "outputs": [],
   "source": [
    "# 既存の説明変数を使用して、新たに特徴量を作成する。\n",
    "app_train_fill_mean['CREDIT_INCOME_PERCENT'] = \\\n",
    "app_train_fill_mean['AMT_CREDIT'] / app_train_fill_mean['AMT_INCOME_TOTAL']\n",
    "\n",
    "app_train_fill_mean['ANNUITY_INCOME_PERCENT'] = \\\n",
    "app_train_fill_mean['AMT_ANNUITY'] / app_train_fill_mean['AMT_INCOME_TOTAL']\n",
    "\n",
    "app_train_fill_mean['CREDIT_TERM'] = \\\n",
    "app_train_fill_mean['AMT_ANNUITY'] / app_train_fill_mean['AMT_CREDIT']\n",
    "\n",
    "app_train_fill_mean['DAYS_EMPLOYED_PERCENT'] = \\\n",
    "app_train_fill_mean['DAYS_EMPLOYED'] / app_train_fill_mean['DAYS_BIRTH']"
   ]
  },
  {
   "cell_type": "code",
   "execution_count": 318,
   "metadata": {},
   "outputs": [
    {
     "name": "stdout",
     "output_type": "stream",
     "text": [
      "Training Features shape:  (307511, 244)\n"
     ]
    }
   ],
   "source": [
    "print('Training Features shape: ', app_train_fill_mean.shape)"
   ]
  },
  {
   "cell_type": "code",
   "execution_count": 325,
   "metadata": {},
   "outputs": [
    {
     "name": "stdout",
     "output_type": "stream",
     "text": [
      "特徴量数: 243\n"
     ]
    }
   ],
   "source": [
    "feature = []\n",
    "for i in app_train_fill_mean:\n",
    "    if i not in 'TARGET':\n",
    "        feature.append(i)\n",
    "print('特徴量数:',len(feature))"
   ]
  },
  {
   "cell_type": "code",
   "execution_count": 326,
   "metadata": {},
   "outputs": [
    {
     "name": "stdout",
     "output_type": "stream",
     "text": [
      "X_train.shape: (230633, 243)\n",
      "X_valid.shpae: (76878, 243)\n",
      "y_train.shpae: (230633,)\n",
      "y_valid.shpae: (76878,)\n"
     ]
    }
   ],
   "source": [
    "# train,validデータの作成\n",
    "X = app_train_fill_mean[feature].values\n",
    "y = app_train_fill_mean['TARGET'].values\n",
    "\n",
    "X_train, X_valid, y_train, y_valid = \\\n",
    "train_test_split(X, y, test_size=0.25, random_state=0)\n",
    "\n",
    "print('X_train.shape:',X_train.shape)\n",
    "print('X_valid.shpae:',X_valid.shape)\n",
    "print('y_train.shpae:',y_train.shape)\n",
    "print('y_valid.shpae:',y_valid.shape)"
   ]
  },
  {
   "cell_type": "code",
   "execution_count": 327,
   "metadata": {},
   "outputs": [
    {
     "name": "stdout",
     "output_type": "stream",
     "text": [
      "[[-1.22214563  3.08671705  1.39335828 ... -1.30974201 -0.16386951\n",
      "   0.49927008]\n",
      " [ 0.01253087 -0.32396879  1.39335828 ...  0.20852589  0.09595042\n",
      "   0.16416715]\n",
      " [-0.07199509 -0.32396879 -0.7176905  ... -0.5657998   2.17040682\n",
      "   0.27451683]\n",
      " ...\n",
      " [-0.01801564  3.08671705 -0.7176905  ... -0.64573246 -0.16386951\n",
      "   0.11885863]\n",
      " [-0.40501919 -0.32396879  1.39335828 ... -0.99245947  1.44616174\n",
      "  -0.39633289]\n",
      " [ 1.71076695 -0.32396879 -0.7176905  ...  1.10433514 -0.50768784\n",
      "   0.05557196]]\n",
      "[[-1.25198175 -0.32396879 -0.7176905  ... -0.09032098 -0.23427707\n",
      "   0.41646318]\n",
      " [ 0.82612484 -0.32396879 -0.7176905  ... -1.17952068 -0.21549879\n",
      "   0.30610612]\n",
      " [ 1.53374511  3.08671705  1.39335828 ... -0.85700823 -0.16386951\n",
      "  -0.66627359]\n",
      " ...\n",
      " [ 0.63156722 -0.32396879 -0.7176905  ...  1.2456082   0.72048749\n",
      "   0.27087669]\n",
      " [-1.64620592 -0.32396879 -0.7176905  ...  0.4338867  -0.94605272\n",
      "   0.73548527]\n",
      " [ 0.13714    -0.32396879  1.39335828 ...  0.24917132 -1.11366101\n",
      "   1.00544835]]\n"
     ]
    }
   ],
   "source": [
    "# 標準化クラスをインスタンス化\n",
    "scaler = StandardScaler()\n",
    "\n",
    "# 配列Xの平均と分散を計算して記憶する\n",
    "scaler.fit(X_train)\n",
    "\n",
    "# 標準化\n",
    "X_train_scd = scaler.transform(X_train)\n",
    "X_valid_scd = scaler.transform(X_valid)\n",
    "\n",
    "#表示行数を１０行に設定\n",
    "np.set_printoptions(threshold=10)\n",
    "\n",
    "print(X_train_scd)\n",
    "print(X_valid_scd)"
   ]
  },
  {
   "cell_type": "code",
   "execution_count": 328,
   "metadata": {},
   "outputs": [
    {
     "name": "stdout",
     "output_type": "stream",
     "text": [
      "AUC :  0.7050051164219637\n"
     ]
    },
    {
     "data": {
      "image/png": "[encoded data removed]",
      "text/plain": [
       "<Figure size 864x576 with 1 Axes>"
      ]
     },
     "metadata": {
      "needs_background": "light"
     },
     "output_type": "display_data"
    }
   ],
   "source": [
    "# ランダムフォレスト\n",
    "clf = RandomForestClassifier(max_depth=2, random_state=0)\n",
    "\n",
    "clf.fit(X_train_scd, y_train)\n",
    "\n",
    "y_pred = clf.predict_proba(X_valid_scd)[:,1]\n",
    "\n",
    "\n",
    "# FPR,TPR\n",
    "fpr, tpr, thresholds = roc_curve(y_valid, y_pred)\n",
    "print('AUC : ',roc_auc_score(y_valid, y_pred))\n",
    "\n",
    "# ROC曲線のプロット\n",
    "fig,ax = plt.subplots(figsize = (12, 8))\n",
    "\n",
    "plt.plot(fpr, tpr, marker='o')\n",
    "plt.xlabel('False Positive Rate',fontsize=18)\n",
    "plt.ylabel('TPR: True Positive Rate',fontsize=18)\n",
    "plt.xticks(fontsize=18)\n",
    "plt.yticks(fontsize=18)\n",
    "plt.grid()"
   ]
  },
  {
   "cell_type": "code",
   "execution_count": 329,
   "metadata": {},
   "outputs": [
    {
     "name": "stderr",
     "output_type": "stream",
     "text": [
      "/Users/kazuki/.pyenv/versions/anaconda3-2020.02/lib/python3.8/site-packages/sklearn/linear_model/_logistic.py:762: ConvergenceWarning: lbfgs failed to converge (status=1):\n",
      "STOP: TOTAL NO. of ITERATIONS REACHED LIMIT.\n",
      "\n",
      "Increase the number of iterations (max_iter) or scale the data as shown in:\n",
      "    https://scikit-learn.org/stable/modules/preprocessing.html\n",
      "Please also refer to the documentation for alternative solver options:\n",
      "    https://scikit-learn.org/stable/modules/linear_model.html#logistic-regression\n",
      "  n_iter_i = _check_optimize_result(\n"
     ]
    },
    {
     "name": "stdout",
     "output_type": "stream",
     "text": [
      "AUC :  0.7508375851666538\n"
     ]
    },
    {
     "data": {
      "image/png": "[encoded data removed]",
      "text/plain": [
       "<Figure size 864x576 with 1 Axes>"
      ]
     },
     "metadata": {
      "needs_background": "light"
     },
     "output_type": "display_data"
    }
   ],
   "source": [
    "# ロジスティック回帰\n",
    "clf = LogisticRegression(random_state=0)\n",
    "clf.fit(X_train_scd, y_train)\n",
    "\n",
    "y_pred = clf.predict_proba(X_valid_scd)[:,1]\n",
    "\n",
    "\n",
    "# FPR,TPR\n",
    "fpr, tpr, thresholds = roc_curve(y_valid, y_pred)\n",
    "print('AUC : ',roc_auc_score(y_valid, y_pred))\n",
    "\n",
    "# ROC曲線のプロット\n",
    "fig,ax = plt.subplots(figsize = (12, 8))\n",
    "\n",
    "plt.plot(fpr, tpr, marker='o')\n",
    "plt.xlabel('False Positive Rate',fontsize=18)\n",
    "plt.ylabel('TPR: True Positive Rate',fontsize=18)\n",
    "plt.xticks(fontsize=18)\n",
    "plt.yticks(fontsize=18)\n",
    "plt.grid()"
   ]
  },
  {
   "cell_type": "markdown",
   "metadata": {},
   "source": [
    "### 検証5の考察\n",
    "ノートブックを参考に、特徴量を作成し、モデルの学習に使用した。  \n",
    "具体的には、以下の4つ。  \n",
    "* CREDIT_INCOME_PERCENT：クライアントの収入に対するクレジット金額の割合。\n",
    "* ANNUITY_INCOME_PERCENT: クライアントの収入に対するローン年金の割合。\n",
    "* CREDIT_TERM: お支払い期間「月単位」。\n",
    "* DAYS_EMPLOYED_PERCENT: クライアントの年齢に対する在職日数の割合。\n",
    "\n",
    "結果は、ランダムフォレスト0.7、ロジスティック回帰0.75と、さらに精度が改善した。\n",
    "（ここでは、検証データに対する精度）"
   ]
  },
  {
   "cell_type": "markdown",
   "metadata": {},
   "source": [
    "### テストデータ で推定（提出）\n",
    "ここまでの検証1〜5で、いずれも精度改善に寄与しているようなので、\n",
    "最後にテストデータ にこれまでの処理を行い推定を行う。"
   ]
  },
  {
   "cell_type": "code",
   "execution_count": 351,
   "metadata": {},
   "outputs": [],
   "source": [
    "app_test_fill_mean = app_test.copy()"
   ]
  },
  {
   "cell_type": "code",
   "execution_count": 352,
   "metadata": {},
   "outputs": [
    {
     "data": {
      "text/plain": [
       "count    48744.000000\n",
       "mean        44.022150\n",
       "std         11.851782\n",
       "min         20.104110\n",
       "25%         34.235616\n",
       "50%         43.246575\n",
       "75%         53.800000\n",
       "max         69.027397\n",
       "Name: DAYS_BIRTH, dtype: float64"
      ]
     },
     "execution_count": 352,
     "metadata": {},
     "output_type": "execute_result"
    }
   ],
   "source": [
    "# 年単位に変換\n",
    "app_test_fill_mean['DAYS_BIRTH'] = (app_test_fill_mean['DAYS_BIRTH']/-365)\n",
    "app_test_fill_mean['DAYS_BIRTH'].describe()"
   ]
  },
  {
   "cell_type": "code",
   "execution_count": 353,
   "metadata": {},
   "outputs": [
    {
     "name": "stderr",
     "output_type": "stream",
     "text": [
      "/Users/kazuki/.pyenv/versions/anaconda3-2020.02/lib/python3.8/site-packages/numpy/lib/histograms.py:824: RuntimeWarning: invalid value encountered in greater_equal\n",
      "  keep = (tmp_a >= first_edge)\n",
      "/Users/kazuki/.pyenv/versions/anaconda3-2020.02/lib/python3.8/site-packages/numpy/lib/histograms.py:825: RuntimeWarning: invalid value encountered in less_equal\n",
      "  keep &= (tmp_a <= last_edge)\n"
     ]
    },
    {
     "data": {
      "image/png": "[encoded data removed]",
      "text/plain": [
       "<Figure size 432x288 with 1 Axes>"
      ]
     },
     "metadata": {
      "needs_background": "light"
     },
     "output_type": "display_data"
    }
   ],
   "source": [
    "app_test_fill_mean['DAYS_EMPLOYED'].replace({365243: np.nan}, inplace = True)\n",
    "plt.hist(app_test_fill_mean['DAYS_EMPLOYED']);"
   ]
  },
  {
   "cell_type": "code",
   "execution_count": 354,
   "metadata": {},
   "outputs": [],
   "source": [
    "# テストデータをトレインデータの平均で埋める\n",
    "mean = app_test_fill_mean.mean()\n",
    "app_test_fill_mean = app_test_fill_mean.fillna(mean)"
   ]
  },
  {
   "cell_type": "code",
   "execution_count": 355,
   "metadata": {},
   "outputs": [],
   "source": [
    "# テストデータにも、トレインデータと同様に特徴量を作成する\n",
    "app_test_fill_mean['CREDIT_INCOME_PERCENT'] = \\\n",
    "app_test_fill_mean['AMT_CREDIT'] / app_test_fill_mean['AMT_INCOME_TOTAL']\n",
    "\n",
    "app_test_fill_mean['ANNUITY_INCOME_PERCENT'] = \\\n",
    "app_test_fill_mean['AMT_ANNUITY'] / app_test_fill_mean['AMT_INCOME_TOTAL']\n",
    "\n",
    "app_test_fill_mean['CREDIT_TERM'] = \\\n",
    "app_test_fill_mean['AMT_ANNUITY'] / app_test_fill_mean['AMT_CREDIT']\n",
    "\n",
    "app_test_fill_mean['DAYS_EMPLOYED_PERCENT'] = \\\n",
    "app_test_fill_mean['DAYS_EMPLOYED'] / app_test_fill_mean['DAYS_BIRTH']"
   ]
  },
  {
   "cell_type": "code",
   "execution_count": 356,
   "metadata": {},
   "outputs": [
    {
     "name": "stdout",
     "output_type": "stream",
     "text": [
      "Training Features shape:  (48744, 243)\n"
     ]
    }
   ],
   "source": [
    "print('Training Features shape: ', app_test_fill_mean.shape)"
   ]
  },
  {
   "cell_type": "code",
   "execution_count": 357,
   "metadata": {},
   "outputs": [
    {
     "name": "stdout",
     "output_type": "stream",
     "text": [
      "特徴量数: 243\n"
     ]
    }
   ],
   "source": [
    "# 特徴量の選択（TARGET以外使用）\n",
    "feature = []\n",
    "for i in app_train_fill_mean:\n",
    "    if i not in 'TARGET':\n",
    "        feature.append(i)\n",
    "print('特徴量数:',len(feature))"
   ]
  },
  {
   "cell_type": "code",
   "execution_count": 358,
   "metadata": {},
   "outputs": [],
   "source": [
    "X_train = app_train_fill_mean[feature].values\n",
    "X_test = app_test_fill_mean[feature].values\n",
    "y_train = app_train_fill_mean['TARGET'].values"
   ]
  },
  {
   "cell_type": "code",
   "execution_count": 359,
   "metadata": {},
   "outputs": [
    {
     "name": "stdout",
     "output_type": "stream",
     "text": [
      "[[-1.73342255 -0.32439532 -0.71791354 ... -0.62334769  0.31374365\n",
      "   0.66345625]\n",
      " [-1.73341283 -0.32439532 -0.71791354 ... -0.51508294 -1.16078398\n",
      "   0.63458581]\n",
      " [-1.7334031   3.08265852  1.39292539 ... -0.85573799 -0.16437519\n",
      "   1.11712517]\n",
      " ...\n",
      " [ 1.73239096 -0.32439532 -0.71791354 ...  0.15873214 -0.42063156\n",
      "  -3.11146207]\n",
      " [ 1.73240069 -0.32439532 -0.71791354 ... -0.66373866  0.03988758\n",
      "  -2.05620003]\n",
      " [ 1.73241042 -0.32439532 -0.71791354 ...  1.38441323  0.84826805\n",
      "   0.60183626]]\n",
      "[[-1.73343228 -0.32439532 -0.71791354 ... -0.30272426 -0.78053887\n",
      "   0.22450466]\n",
      " [-1.73339337 -0.32439532 -0.71791354 ... -0.05789096  1.07986373\n",
      "  -0.80805549]\n",
      " [-1.73331554 -0.32439532  1.39292539 ...  1.73039717  2.29098607\n",
      "  -0.60440413]\n",
      " ...\n",
      " [ 1.73209911 -0.32439532  1.39292539 ... -0.17924488  2.30040821\n",
      "  -0.34506862]\n",
      " [ 1.73210884 -0.32439532 -0.71791354 ... -0.73223512  0.09538337\n",
      "  -0.3840974 ]\n",
      " [ 1.73236178 -0.32439532  1.39292539 ...  0.0222462   1.12563952\n",
      "   0.84317076]]\n"
     ]
    }
   ],
   "source": [
    "# 標準化クラスをインスタンス化\n",
    "scaler = StandardScaler()\n",
    "\n",
    "# 配列Xの平均と分散を計算して記憶する\n",
    "scaler.fit(X_train)\n",
    "\n",
    "# 標準化\n",
    "X_train_scd = scaler.transform(X_train)\n",
    "X_test_scd = scaler.transform(X_test)\n",
    "\n",
    "#表示行数を１０行に設定\n",
    "np.set_printoptions(threshold=10)\n",
    "\n",
    "print(X_train_scd)\n",
    "print(X_test_scd)"
   ]
  },
  {
   "cell_type": "code",
   "execution_count": 360,
   "metadata": {},
   "outputs": [
    {
     "name": "stderr",
     "output_type": "stream",
     "text": [
      "/Users/kazuki/.pyenv/versions/anaconda3-2020.02/lib/python3.8/site-packages/sklearn/linear_model/_logistic.py:762: ConvergenceWarning: lbfgs failed to converge (status=1):\n",
      "STOP: TOTAL NO. of ITERATIONS REACHED LIMIT.\n",
      "\n",
      "Increase the number of iterations (max_iter) or scale the data as shown in:\n",
      "    https://scikit-learn.org/stable/modules/preprocessing.html\n",
      "Please also refer to the documentation for alternative solver options:\n",
      "    https://scikit-learn.org/stable/modules/linear_model.html#logistic-regression\n",
      "  n_iter_i = _check_optimize_result(\n"
     ]
    }
   ],
   "source": [
    "# ロジスティック回帰\n",
    "clf = LogisticRegression(random_state=0)\n",
    "\n",
    "clf.fit(X_train_scd, y_train)\n",
    "\n",
    "y_pred = clf.predict_proba(X_test_scd)[:,1]"
   ]
  },
  {
   "cell_type": "code",
   "execution_count": 361,
   "metadata": {},
   "outputs": [
    {
     "data": {
      "text/html": [
       "<div>\n",
       "<style scoped>\n",
       "    .dataframe tbody tr th:only-of-type {\n",
       "        vertical-align: middle;\n",
       "    }\n",
       "\n",
       "    .dataframe tbody tr th {\n",
       "        vertical-align: top;\n",
       "    }\n",
       "\n",
       "    .dataframe thead th {\n",
       "        text-align: right;\n",
       "    }\n",
       "</style>\n",
       "<table border=\"1\" class=\"dataframe\">\n",
       "  <thead>\n",
       "    <tr style=\"text-align: right;\">\n",
       "      <th></th>\n",
       "      <th>SK_ID_CURR</th>\n",
       "      <th>TARGET</th>\n",
       "    </tr>\n",
       "  </thead>\n",
       "  <tbody>\n",
       "    <tr>\n",
       "      <th>0</th>\n",
       "      <td>100001</td>\n",
       "      <td>0.061611</td>\n",
       "    </tr>\n",
       "    <tr>\n",
       "      <th>1</th>\n",
       "      <td>100005</td>\n",
       "      <td>0.202831</td>\n",
       "    </tr>\n",
       "    <tr>\n",
       "      <th>2</th>\n",
       "      <td>100013</td>\n",
       "      <td>0.043517</td>\n",
       "    </tr>\n",
       "    <tr>\n",
       "      <th>3</th>\n",
       "      <td>100028</td>\n",
       "      <td>0.026030</td>\n",
       "    </tr>\n",
       "    <tr>\n",
       "      <th>4</th>\n",
       "      <td>100038</td>\n",
       "      <td>0.128016</td>\n",
       "    </tr>\n",
       "  </tbody>\n",
       "</table>\n",
       "</div>"
      ],
      "text/plain": [
       "   SK_ID_CURR    TARGET\n",
       "0      100001  0.061611\n",
       "1      100005  0.202831\n",
       "2      100013  0.043517\n",
       "3      100028  0.026030\n",
       "4      100038  0.128016"
      ]
     },
     "execution_count": 361,
     "metadata": {},
     "output_type": "execute_result"
    }
   ],
   "source": [
    "# Submission dataframe\n",
    "submit = pd.DataFrame(app_test['SK_ID_CURR'])\n",
    "submit['TARGET'] = y_pred\n",
    "\n",
    "submit.head()"
   ]
  },
  {
   "cell_type": "code",
   "execution_count": 362,
   "metadata": {},
   "outputs": [],
   "source": [
    "# Save the submission dataframe\n",
    "submit.to_csv('./home_credit_default_risk/work_submission_revised.csv', index = False)"
   ]
  },
  {
   "cell_type": "markdown",
   "metadata": {},
   "source": [
    "* モデル改良後の結果（0.61→0.74 20%改善）\n",
    "<img src=\"2020-10-30 17.21.09.png\" />"
   ]
  }
 ],
 "metadata": {
  "kernelspec": {
   "display_name": "Python 3",
   "language": "python",
   "name": "python3"
  },
  "language_info": {
   "codemirror_mode": {
    "name": "ipython",
    "version": 3
   },
   "file_extension": ".py",
   "mimetype": "text/x-python",
   "name": "python",
   "nbconvert_exporter": "python",
   "pygments_lexer": "ipython3",
   "version": "3.8.5"
  },
  "toc": {
   "base_numbering": "1",
   "nav_menu": {},
   "number_sections": true,
   "sideBar": true,
   "skip_h1_title": true,
   "title_cell": "目次",
   "title_sidebar": "Contents",
   "toc_cell": true,
   "toc_position": {},
   "toc_section_display": true,
   "toc_window_display": true
  }
 },
 "nbformat": 4,
 "nbformat_minor": 4
}
