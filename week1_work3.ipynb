{
 "cells": [
  {
   "cell_type": "markdown",
   "metadata": {},
   "source": [
    "テキストの目的\n",
    "・基礎的なプログラミング力を確認する\n",
    "・誘導なしにプログラムを書いてみる\n",
    "・有名な問題をプログラミングによって解いてみる"
   ]
  },
  {
   "cell_type": "markdown",
   "metadata": {},
   "source": [
    "<導入>\n",
    "2.栗まんじゅう問題\n",
    "漫画ドラえもんには「バイバイン」という道具が登場する、2のn乗に関する有名なエピソードがあります。(藤子・Ｆ・不二雄(1979)『ドラえもん（１７）』小学館.)\n",
    "\n",
    "「バイバイン」は薬品で、これを振掛けるとその物体は5分ごとに倍に増えるという働きがあります。作中では栗まんじゅうを増やしますが、食べきれなくなったためロケットを使い宇宙に捨てました。\n",
    "\n",
    "ここで度々話題になるのが、栗まんじゅうはその後宇宙でどのように増えていくのかについてです。様々な議論がされていますが、今回は単純に栗まんじゅうの体積がどう増えるかを計算してみましょう。"
   ]
  },
  {
   "cell_type": "markdown",
   "metadata": {},
   "source": [
    " "
   ]
  },
  {
   "cell_type": "markdown",
   "metadata": {},
   "source": [
    "【問題】栗まんじゅうが太陽系を覆う日\n",
    "1個の栗まんじゅうにバイバインを振りかけた場合、太陽系が栗まんじゅうで覆われるのは何分後でしょうか。これを計算するプログラムを作成してください。\n",
    "\n",
    "栗まんじゅうや太陽系の体積を調査した上で仮定して計算してください。栗まんじゅうの隙間や重力などは考えず、問題を単純化して構いません。\n",
    "\n",
    "ボールにバイバインを振りかけた時、東京ドームが一杯になる時間など他の状況にも適用できるような汎用的なプログラムを作成してください。また、グラフを表示するなど分かりやすいノートブックを作成してください。"
   ]
  },
  {
   "cell_type": "code",
   "execution_count": 7,
   "metadata": {},
   "outputs": [
    {
     "name": "stdout",
     "output_type": "stream",
     "text": [
      "栗饅頭が太陽系を覆うのは、バイバインをふりかけてから 1100 分後\n"
     ]
    }
   ],
   "source": [
    "import math\n",
    "\n",
    "# 栗饅頭の大きさ（半径r = 2cmの球とする。）\n",
    "# 太陽系の大きさ (半径r = 25,000光年 の球とする。\n",
    "# ここで、1光年 = 9460730472580800 m\n",
    "\n",
    "kuri_r = 2/100\n",
    "taiyo_r = 25000*9460730472580800\n",
    "\n",
    "kuri_v = 4*math.pi*kuri_r**3/3\n",
    "taiyo_v = 4*math.pi*taiyo_r**3/3\n",
    "\n",
    "time = 0\n",
    "while kuri_v < taiyo_v:\n",
    "    time += 5\n",
    "    kuri_v *= 2\n",
    "\n",
    "print(\"栗饅頭が太陽系を覆うのは、バイバインをふりかけてから\",time,\"分後\")"
   ]
  },
  {
   "cell_type": "code",
   "execution_count": 31,
   "metadata": {},
   "outputs": [
    {
     "name": "stdout",
     "output_type": "stream",
     "text": [
      "大きさ0.000034m3の栗饅頭にバイバインをかけると、1100分後に目標サイズ5.542205759874307e+61m3を上回る\n"
     ]
    },
    {
     "data": {
      "image/png": "[encoded data removed]",
      "text/plain": [
       "<Figure size 432x288 with 1 Axes>"
      ]
     },
     "metadata": {
      "needs_background": "light"
     },
     "output_type": "display_data"
    }
   ],
   "source": [
    "import math\n",
    "import matplotlib.pyplot as plt\n",
    "%matplotlib inline\n",
    "\n",
    "def cal_v(bai_bain_r,target_r):\n",
    "    \n",
    "    bai_bain_v = 4*math.pi*bai_bain_r**3/3\n",
    "    target_v = 4*math.pi*target_r**3/3\n",
    "    \n",
    "    time = 0\n",
    "    initial_v = bai_bain_v\n",
    "    \n",
    "    xplot = [time]\n",
    "    yplot = [bai_bain_v]\n",
    "\n",
    "    while  bai_bain_v < target_v:\n",
    "        time += 5\n",
    "        bai_bain_v *= 2\n",
    "        \n",
    "        xplot.append(time)\n",
    "        yplot.append(bai_bain_v)\n",
    "        \n",
    "    return initial_v, time, target_v, xplot, yplot\n",
    "\n",
    "k = 9460730472580800\n",
    "\n",
    "bai_bain_r = 2/100\n",
    "target_r = 25000*k\n",
    "\n",
    "initial_v, time, target_v, xplot, yplot = cal_v(bai_bai_r,target_r)\n",
    "\n",
    "print(\"大きさ{0:1f}m3の栗饅頭にバイバインをかけると、{1:}分後に目標サイズ{2:}m3を上回る\"\n",
    "      .format(initial_v, time, target_v))\n",
    "\n",
    "import matplotlib.pyplot as plt\n",
    "%matplotlib inline\n",
    "\n",
    "plt.title(\"バイバインをふりかけた栗饅頭が太陽系を覆うとき\",\n",
    "          fontname = \"Hiragino Maru Gothic Pro\")\n",
    "plt.xlabel(\"経過時間\",fontname = \"Hiragino Maru Gothic Pro\")\n",
    "plt.ylabel(\"栗饅頭の体積\",fontname = \"Hiragino Maru Gothic Pro\")\n",
    "plt.plot(xplot[-30:],yplot[-30:],\"rd--\")\n",
    "plt.axhline(target_v)\n",
    "plt.show()"
   ]
  },
  {
   "cell_type": "markdown",
   "metadata": {},
   "source": [
    "\n",
    "検算"
   ]
  },
  {
   "cell_type": "code",
   "execution_count": 11,
   "metadata": {},
   "outputs": [
    {
     "name": "stdout",
     "output_type": "stream",
     "text": [
      "栗饅頭の体積 4.1887902047863905 m3\n",
      "太陽系の体積 523.5987755982989 m3\n",
      "5 8.377580409572781\n",
      "10 16.755160819145562\n",
      "15 33.510321638291124\n",
      "20 67.02064327658225\n",
      "25 134.0412865531645\n",
      "30 268.082573106329\n",
      "35 536.165146212658\n",
      "35 分\n"
     ]
    }
   ],
   "source": [
    "kuri_r = 1\n",
    "\n",
    "taiyo_r = 5\n",
    "\n",
    "kuri_v = 4*math.pi*kuri_r**3/3\n",
    "taiyo_v = 4*math.pi*taiyo_r**3/3\n",
    "print(\"栗饅頭の体積\",kuri_v,\"m3\")\n",
    "print(\"太陽系の体積\",taiyo_v,\"m3\")\n",
    "time = 0\n",
    "while kuri_v < taiyo_v:\n",
    "    time += 5\n",
    "    kuri_v *= 2\n",
    "    print(time,kuri_v)\n",
    "\n",
    "print(time,\"分\")"
   ]
  }
 ],
 "metadata": {
  "kernelspec": {
   "display_name": "Python 3",
   "language": "python",
   "name": "python3"
  },
  "language_info": {
   "codemirror_mode": {
    "name": "ipython",
    "version": 3
   },
   "file_extension": ".py",
   "mimetype": "text/x-python",
   "name": "python",
   "nbconvert_exporter": "python",
   "pygments_lexer": "ipython3",
   "version": "3.8.5"
  }
 },
 "nbformat": 4,
 "nbformat_minor": 4
}
