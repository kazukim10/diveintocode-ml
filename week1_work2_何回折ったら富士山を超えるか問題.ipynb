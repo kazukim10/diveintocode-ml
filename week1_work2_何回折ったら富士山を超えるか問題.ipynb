{
 "cells": [
  {
   "cell_type": "markdown",
   "metadata": {},
   "source": [
    "目的\n",
    "・基礎的なプログラミング力を確認する\n",
    "・数式をプログラムに落とし込めるようにする"
   ]
  },
  {
   "cell_type": "markdown",
   "metadata": {},
   "source": [
    " "
   ]
  },
  {
   "cell_type": "markdown",
   "metadata": {},
   "source": [
    "【問題1】富士山を超える最小の折る回数\n",
    "厚さが「富士山(3776m)」を超えるのは何回紙を折った時か,\n",
    "計算するプログラムを作成してください。"
   ]
  },
  {
   "cell_type": "code",
   "execution_count": 43,
   "metadata": {},
   "outputs": [
    {
     "name": "stdout",
     "output_type": "stream",
     "text": [
      "3776mを超えるのは、26回追ったときに、厚さ:5368.70912mとなる。\n"
     ]
    }
   ],
   "source": [
    "# mt.Fuji hight = 3776m\n",
    "Fuji = 3776\n",
    "\n",
    "# thickness of paper = 0.00008m\n",
    "T = 0.00008\n",
    "\n",
    "# 折った数 = 0\n",
    "folded = 0\n",
    "\n",
    "folded_thickness = T * 2**folded\n",
    "\n",
    "while folded_thickness < Fuji:\n",
    "    folded += 1\n",
    "    folded_thickness = T * 2**folded\n",
    "    \n",
    "print(\"{}mを超えるのは、{}回追ったときに、厚さ:{}mとなる。\"\n",
    "      .format(Fuji,folded,folded_thickness))"
   ]
  },
  {
   "cell_type": "markdown",
   "metadata": {},
   "source": [
    "【問題2】任意の厚さに対応した関数を作成\n",
    "距離を入力すると、何回折った時に超えるかを出力する関数を作成してください。\n",
    "引数として、折る前の厚さt0も設定できるようにしましょう。\n",
    "\n",
    "この関数を利用して、「最も近い太陽以外の恒星」に到達するには紙を何回折る必要があるか\n",
    "計算してください。「最も近い太陽以外の恒星」の距離は調査してください。"
   ]
  },
  {
   "cell_type": "code",
   "execution_count": 44,
   "metadata": {},
   "outputs": [
    {
     "name": "stdout",
     "output_type": "stream",
     "text": [
      "4.014188e+16mを超えるのは、69回折ったときに、厚さ:4.722366e+16mとなる。\n"
     ]
    }
   ],
   "source": [
    "def cal_folded_thickness(t,target):\n",
    "    target = target\n",
    "    T = t\n",
    "\n",
    "    # 折った数 = 0\n",
    "    folded = 0\n",
    "\n",
    "    folded_thickness = T * 2**folded\n",
    "\n",
    "    while folded_thickness < target:\n",
    "        folded += 1\n",
    "        folded_thickness = T * 2**folded\n",
    "        \n",
    "    \n",
    "    return folded,folded_thickness\n",
    "\n",
    "# 折る前の厚さ:t、目標距離:target\n",
    "# 目標距離は、最も近い太陽以外の恒星「ケンタウルス座V645星」の4.243光年とする。\n",
    "# 引用元　＞＞＞　https://ja.wikipedia.org/wiki/近い恒星の一覧\n",
    "\n",
    "t = 0.00008\n",
    "target = 4.243*9460730472580800\n",
    "\n",
    "folded,folded_thickness = cal_folded_thickness(t,target)\n",
    "    \n",
    "print(\"{:1e}mを超えるのは、{}回折ったときに、厚さ:{:1e}mとなる。\"\n",
    "      .format(target,folded,folded_thickness))"
   ]
  },
  {
   "cell_type": "markdown",
   "metadata": {},
   "source": [
    "【問題3】必要な紙の長さ\n",
    "実際のところ身近にある紙は43回はおろか10回も折れません。\n",
    "しかし、大きな紙ほどたくさん折ることができ、トイレットペーパーのような長い紙を一方向に折ることを考えた時の折れる回数を求める公式が存在します。\n",
    "\n",
    "この公式を利用して、実際に紙を折り任意の厚さに到達するために必要な紙の長さを求める関数を作成してください。\n",
    "そしてこれを使って「月」「富士山」「最も近い太陽以外の恒星」に届くために必要な紙の長さを求めてください。"
   ]
  },
  {
   "cell_type": "code",
   "execution_count": 45,
   "metadata": {},
   "outputs": [
    {
     "name": "stdout",
     "output_type": "stream",
     "text": [
      "4.014187939516034e+16mを超えるのは、69回折ったときに、厚さ:4.7223664828696456e+16mとなる。\n",
      "このとき、69回折るのに必要な紙の長さは、1.4595803601100348e+37mとなる。\n"
     ]
    }
   ],
   "source": [
    "import math\n",
    "\n",
    "def cal_paper_l(t,target):\n",
    "    target = target\n",
    "    T = t\n",
    "\n",
    "    # 折った数 = 0\n",
    "    folded = 0\n",
    "\n",
    "    folded_thickness = T * 2**folded\n",
    "\n",
    "    while folded_thickness < target:\n",
    "        folded += 1\n",
    "        folded_thickness = T * 2**folded\n",
    "    \n",
    "    paper_l = (math.pi*T/6)*(2**folded+4)*(2**folded-1)\n",
    "    \n",
    "    return folded, folded_thickness, paper_l\n",
    "\n",
    "\n",
    "t = 0.00008\n",
    "target = 4.243*9460730472580800\n",
    "\n",
    "folded, folded_thickness, paper_l = cal_paper_l(t,target)\n",
    "    \n",
    "print(\"{}mを超えるのは、{}回折ったときに、厚さ:{}mとなる。\"\n",
    "      .format(target,folded,folded_thickness))\n",
    "print(\"このとき、{}回折るのに必要な紙の長さは、{}mとなる。\"\n",
    "      .format(folded,paper_l))"
   ]
  },
  {
   "cell_type": "code",
   "execution_count": 46,
   "metadata": {},
   "outputs": [
    {
     "name": "stdout",
     "output_type": "stream",
     "text": [
      "3776mを超えるのは、26回折ったときに、厚さ:5368.70912mとなる。\n",
      "このとき、26回折るのに必要な紙の長さは、188646348487.24017mとなる。\n"
     ]
    }
   ],
   "source": [
    "t = 0.00008\n",
    "target = 3776\n",
    "\n",
    "folded, folded_thickness, paper_l = cal_paper_l(t,target)\n",
    "    \n",
    "print(\"{}mを超えるのは、{}回折ったときに、厚さ:{}mとなる。\"\n",
    "      .format(target,folded,folded_thickness))\n",
    "print(\"このとき、{}回折るのに必要な紙の長さは、{}mとなる。\"\n",
    "      .format(folded,paper_l))"
   ]
  },
  {
   "cell_type": "code",
   "execution_count": 47,
   "metadata": {},
   "outputs": [
    {
     "name": "stdout",
     "output_type": "stream",
     "text": [
      "384400000mを超えるのは、43回折ったときに、厚さ:703687441.77664mとなる。\n",
      "このとき、43回折るのに必要な紙の長さは、3.240919444170781e+21mとなる。\n"
     ]
    }
   ],
   "source": [
    "t = 0.00008\n",
    "target = 384400*1000\n",
    "\n",
    "folded, folded_thickness, paper_l = cal_paper_l(t,target)\n",
    "    \n",
    "print(\"{}mを超えるのは、{}回折ったときに、厚さ:{}mとなる。\"\n",
    "      .format(target,folded,folded_thickness))\n",
    "print(\"このとき、{}回折るのに必要な紙の長さは、{}mとなる。\"\n",
    "      .format(folded,paper_l))"
   ]
  },
  {
   "cell_type": "markdown",
   "metadata": {},
   "source": [
    " "
   ]
  },
  {
   "cell_type": "markdown",
   "metadata": {},
   "source": [
    "検算"
   ]
  },
  {
   "cell_type": "code",
   "execution_count": 48,
   "metadata": {},
   "outputs": [
    {
     "name": "stdout",
     "output_type": "stream",
     "text": [
      "1 2 3.141592653589793\n",
      "2 4 12.566370614359172\n",
      "3 8 43.982297150257104\n",
      "4 16 157.07963267948963\n",
      "5 32 584.3362335677015\n",
      "6 64 2243.097154663112\n",
      "7 128 8777.609874129881\n",
      "8 256 34714.598822167216\n",
      "9 512 138060.43075465705\n",
      "10 1024 550639.5107652973\n",
      "11 2048 2199347.335369221\n",
      "12 4096 8790961.642907638\n"
     ]
    }
   ],
   "source": [
    "Fuji = 3776\n",
    "\n",
    "# thickness of paper = 0.00008m\n",
    "T = 1\n",
    "\n",
    "# 折った数 = 0\n",
    "folded = 0\n",
    "\n",
    "folded_thickness = T * 2**folded\n",
    "\n",
    "while folded_thickness < Fuji:\n",
    "    folded += 1\n",
    "    folded_thickness = T * 2**folded\n",
    "    paper_l = (math.pi*T/6)*(2**folded+4)*(2**folded-1)\n",
    "    \n",
    "    print(folded, folded_thickness, paper_l)\n",
    "    "
   ]
  }
 ],
 "metadata": {
  "kernelspec": {
   "display_name": "Python 3",
   "language": "python",
   "name": "python3"
  },
  "language_info": {
   "codemirror_mode": {
    "name": "ipython",
    "version": 3
   },
   "file_extension": ".py",
   "mimetype": "text/x-python",
   "name": "python",
   "nbconvert_exporter": "python",
   "pygments_lexer": "ipython3",
   "version": "3.8.5"
  }
 },
 "nbformat": 4,
 "nbformat_minor": 4
}
