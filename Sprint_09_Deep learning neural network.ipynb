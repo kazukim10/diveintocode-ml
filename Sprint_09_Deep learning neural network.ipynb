{
 "cells": [
  {
   "cell_type": "markdown",
   "metadata": {},
   "source": [
    "# Sprint 深層学習スクラッチ ニューラルネットワーク"
   ]
  },
  {
   "cell_type": "markdown",
   "metadata": {
    "toc": true
   },
   "source": [
    "<h1>目次<span class=\"tocSkip\"></span></h1>\n",
    "<div class=\"toc\"><ul class=\"toc-item\"><li><span><a href=\"#このSprintについて\" data-toc-modified-id=\"このSprintについて-1\"><span class=\"toc-item-num\">1&nbsp;&nbsp;</span>このSprintについて</a></span><ul class=\"toc-item\"><li><span><a href=\"#Sprintの目的\" data-toc-modified-id=\"Sprintの目的-1.1\"><span class=\"toc-item-num\">1.1&nbsp;&nbsp;</span>Sprintの目的</a></span></li><li><span><a href=\"#どのように学ぶか\" data-toc-modified-id=\"どのように学ぶか-1.2\"><span class=\"toc-item-num\">1.2&nbsp;&nbsp;</span>どのように学ぶか</a></span></li></ul></li><li><span><a href=\"#MNISTデータセット\" data-toc-modified-id=\"MNISTデータセット-2\"><span class=\"toc-item-num\">2&nbsp;&nbsp;</span>MNISTデータセット</a></span><ul class=\"toc-item\"><li><span><a href=\"#データセットの確認\" data-toc-modified-id=\"データセットの確認-2.1\"><span class=\"toc-item-num\">2.1&nbsp;&nbsp;</span>データセットの確認</a></span></li><li><span><a href=\"#平滑化\" data-toc-modified-id=\"平滑化-2.2\"><span class=\"toc-item-num\">2.2&nbsp;&nbsp;</span>平滑化</a></span></li><li><span><a href=\"#画像データの可視化\" data-toc-modified-id=\"画像データの可視化-2.3\"><span class=\"toc-item-num\">2.3&nbsp;&nbsp;</span>画像データの可視化</a></span></li><li><span><a href=\"#前処理\" data-toc-modified-id=\"前処理-2.4\"><span class=\"toc-item-num\">2.4&nbsp;&nbsp;</span>前処理</a></span></li></ul></li><li><span><a href=\"#ニューラルネットワークスクラッチ\" data-toc-modified-id=\"ニューラルネットワークスクラッチ-3\"><span class=\"toc-item-num\">3&nbsp;&nbsp;</span>ニューラルネットワークスクラッチ</a></span><ul class=\"toc-item\"><li><span><a href=\"#ミニバッチ処理\" data-toc-modified-id=\"ミニバッチ処理-3.1\"><span class=\"toc-item-num\">3.1&nbsp;&nbsp;</span>ミニバッチ処理</a></span></li><li><span><a href=\"#学習\" data-toc-modified-id=\"学習-3.2\"><span class=\"toc-item-num\">3.2&nbsp;&nbsp;</span>学習</a></span></li><li><span><a href=\"#【問題1】重みの初期値を決めるコードの作成\" data-toc-modified-id=\"【問題1】重みの初期値を決めるコードの作成-3.3\"><span class=\"toc-item-num\">3.3&nbsp;&nbsp;</span>【問題1】重みの初期値を決めるコードの作成</a></span></li><li><span><a href=\"#【問題2】フォワードプロパゲーションの実装\" data-toc-modified-id=\"【問題2】フォワードプロパゲーションの実装-3.4\"><span class=\"toc-item-num\">3.4&nbsp;&nbsp;</span>【問題2】フォワードプロパゲーションの実装</a></span></li><li><span><a href=\"#活性化関数（フォワードプロバゲーション）\" data-toc-modified-id=\"活性化関数（フォワードプロバゲーション）-3.5\"><span class=\"toc-item-num\">3.5&nbsp;&nbsp;</span>活性化関数（フォワードプロバゲーション）</a></span><ul class=\"toc-item\"><li><span><a href=\"#「シグモイド関数」\" data-toc-modified-id=\"「シグモイド関数」-3.5.1\"><span class=\"toc-item-num\">3.5.1&nbsp;&nbsp;</span>「シグモイド関数」</a></span></li><li><span><a href=\"#「ハイパボリックタンジェント関数」\" data-toc-modified-id=\"「ハイパボリックタンジェント関数」-3.5.2\"><span class=\"toc-item-num\">3.5.2&nbsp;&nbsp;</span>「ハイパボリックタンジェント関数」</a></span></li></ul></li><li><span><a href=\"#ソフトマックス関数\" data-toc-modified-id=\"ソフトマックス関数-3.6\"><span class=\"toc-item-num\">3.6&nbsp;&nbsp;</span>ソフトマックス関数</a></span></li><li><span><a href=\"#【問題3】交差エントロピー誤差の実装\" data-toc-modified-id=\"【問題3】交差エントロピー誤差の実装-3.7\"><span class=\"toc-item-num\">3.7&nbsp;&nbsp;</span>【問題3】交差エントロピー誤差の実装</a></span></li><li><span><a href=\"#【問題4】バックプロパゲーションの実装\" data-toc-modified-id=\"【問題4】バックプロパゲーションの実装-3.8\"><span class=\"toc-item-num\">3.8&nbsp;&nbsp;</span>【問題4】バックプロパゲーションの実装</a></span></li><li><span><a href=\"#【問題5】推定\" data-toc-modified-id=\"【問題5】推定-3.9\"><span class=\"toc-item-num\">3.9&nbsp;&nbsp;</span>【問題5】推定</a></span></li><li><span><a href=\"#【問題6】学習と推定\" data-toc-modified-id=\"【問題6】学習と推定-3.10\"><span class=\"toc-item-num\">3.10&nbsp;&nbsp;</span>【問題6】学習と推定</a></span></li><li><span><a href=\"#【問題7】学習曲線のプロット\" data-toc-modified-id=\"【問題7】学習曲線のプロット-3.11\"><span class=\"toc-item-num\">3.11&nbsp;&nbsp;</span>【問題7】学習曲線のプロット</a></span></li><li><span><a href=\"#【問題8】（アドバンス課題）誤分類の確認\" data-toc-modified-id=\"【問題8】（アドバンス課題）誤分類の確認-3.12\"><span class=\"toc-item-num\">3.12&nbsp;&nbsp;</span>【問題8】（アドバンス課題）誤分類の確認</a></span></li></ul></li></ul></div>"
   ]
  },
  {
   "cell_type": "markdown",
   "metadata": {},
   "source": [
    "## このSprintについて\n",
    "### Sprintの目的\n",
    "* スクラッチを通してニューラルネットワークの基礎を理解する\n",
    "* 画像データの扱い方を知る\n",
    "\n",
    "### どのように学ぶか\n",
    "スクラッチで単純なニューラルネットワークを実装した後、学習と検証を行なっていきます。"
   ]
  },
  {
   "cell_type": "code",
   "execution_count": 1,
   "metadata": {},
   "outputs": [],
   "source": [
    "# ライブラリーインポート\n",
    "import numpy as np\n",
    "import matplotlib.pyplot as plt"
   ]
  },
  {
   "cell_type": "code",
   "execution_count": 2,
   "metadata": {},
   "outputs": [],
   "source": [
    "# 評価指標\n",
    "from sklearn.metrics import accuracy_score\n",
    "from sklearn.metrics import precision_score\n",
    "from sklearn.metrics import recall_score\n",
    "from sklearn.metrics import f1_score"
   ]
  },
  {
   "cell_type": "markdown",
   "metadata": {},
   "source": [
    "## MNISTデータセット\n",
    "ニューラルネットワークスクラッチの検証にはMNISTデータセットを使用します。  \n",
    "各種ライブラリやサイトからダウンロードできますが、ここでは深層学習フレームワークのKerasを用います。  \n",
    "以下のコードを実行すればデータセットをダウンロードし、展開まで行えます。"
   ]
  },
  {
   "cell_type": "markdown",
   "metadata": {},
   "source": [
    "《MNISTとは？》  \n",
    "画像分類のための定番データセットで、手書き数字認識を行います。  \n",
    "このデータセットには訓練用6万枚、テスト用1万枚の28×28ピクセルの白黒画像、およびそれらが0〜9のどの数字であるかというラベルが含まれています。"
   ]
  },
  {
   "cell_type": "markdown",
   "metadata": {},
   "source": [
    "《画像データとは？》  \n",
    "デジタル画像は点の集合で、これをピクセルと呼びます。  \n",
    "一般的に白黒画像であればピクセルには0〜255の値が含まれます。  \n",
    "一方、カラー画像であればR（赤）、G（緑）、B（青）それぞれに対応する0〜255の値が含まれます。  \n",
    "機械学習をする上では、この0〜255の値一つひとつが特徴量として扱われます。  \n",
    "0〜255は符号なしの8ビット整数で表せる範囲になるため、  \n",
    "NumPyであれば「uint8」型の変数として保持できます。"
   ]
  },
  {
   "cell_type": "code",
   "execution_count": 3,
   "metadata": {},
   "outputs": [],
   "source": [
    "# データセットをダウンロードするコード\n",
    "from keras.datasets import mnist\n",
    "(X_train, y_train), (X_test, y_test) = mnist.load_data()"
   ]
  },
  {
   "cell_type": "markdown",
   "metadata": {},
   "source": [
    "### データセットの確認\n",
    "どういったデータなのかを見てみます。"
   ]
  },
  {
   "cell_type": "code",
   "execution_count": 4,
   "metadata": {},
   "outputs": [
    {
     "name": "stdout",
     "output_type": "stream",
     "text": [
      "(60000, 28, 28)\n",
      "(10000, 28, 28)\n",
      "uint8\n"
     ]
    }
   ],
   "source": [
    "print(X_train.shape) # (60000, 28, 28)\n",
    "print(X_test.shape) # (10000, 28, 28)\n",
    "print(X_train[0].dtype) # uint8\n",
    "# print(X_train[0])"
   ]
  },
  {
   "cell_type": "markdown",
   "metadata": {},
   "source": [
    "### 平滑化\n",
    "(1, 28, 28)の各画像を、(1, 784)に変換します。  \n",
    "これまで学んできた機械学習手法や、今回扱う全結合層のみのニューラルネットワークではこの形で扱います。  \n",
    "全てのピクセルが一列になっていることを、平滑化（flatten）してあるという風に表現します。"
   ]
  },
  {
   "cell_type": "code",
   "execution_count": 5,
   "metadata": {},
   "outputs": [
    {
     "name": "stdout",
     "output_type": "stream",
     "text": [
      "(60000, 784)\n",
      "(10000, 784)\n"
     ]
    }
   ],
   "source": [
    "X_train = X_train.reshape(-1, 784)\n",
    "X_test = X_test.reshape(-1, 784)\n",
    "print(X_train.shape)\n",
    "print(X_test.shape)"
   ]
  },
  {
   "cell_type": "markdown",
   "metadata": {},
   "source": [
    "《補足》  \n",
    "ここまで機械学習を学んでくる中で、特徴量の数を「次元」と呼んできました。  \n",
    "その視点ではMNISTは784次元のデータです。  \n",
    "  \n",
    "一方で、NumPyのshapeが(784,)の状態を1次元配列とも呼びます。  \n",
    "画像としての縦横の情報を持つ（28, 28)の状態であれば、2次元配列です。  \n",
    "この視点では2次元のデータです。  \n",
    "さらに、もしもカラー画像であれば(28, 28, 3)ということになり、3次元配列です。  \n",
    "先ほどの視点では3次元のデータになります。  \n",
    "  \n",
    "しかし、白黒でもカラーでも平面画像であり、立体データではないという視点で、2次元のデータです。  \n",
    "画像データを扱う際にはこのように「次元」という言葉が複数の意味合いで使われることに注意してください。"
   ]
  },
  {
   "cell_type": "markdown",
   "metadata": {},
   "source": [
    "### 画像データの可視化\n",
    "画像データを可視化します。plt.imshowに渡します。\n",
    "https://matplotlib.org/api/_as_gen/matplotlib.pyplot.imshow.html"
   ]
  },
  {
   "cell_type": "code",
   "execution_count": 6,
   "metadata": {},
   "outputs": [
    {
     "data": {
      "image/png": "[encoded data removed]",
      "text/plain": [
       "<Figure size 432x288 with 1 Axes>"
      ]
     },
     "metadata": {
      "needs_background": "light"
     },
     "output_type": "display_data"
    }
   ],
   "source": [
    "import matplotlib.pyplot as plt\n",
    "%matplotlib inline\n",
    "\n",
    "index = 0\n",
    "image = X_train[index].reshape(28,28)\n",
    "# X_train[index]: (784,)\n",
    "# image: (28, 28)\n",
    "plt.imshow(image, 'gray')\n",
    "plt.title('label : {}'.format(y_train[index]))\n",
    "plt.show()"
   ]
  },
  {
   "cell_type": "markdown",
   "metadata": {},
   "source": [
    "《発展的話題》\n",
    "\n",
    "画像データは符号なし8ビット整数のuint8型で保持されることが一般的ですが、plt.imshowはより自由な配列を画像として表示することが可能です。例えば、以下のようにマイナスの値を持ったfloat64型の浮動小数点であってもエラーにはならないし、先ほどと全く同じ風に表示されます。\n",
    "  \n",
    "これは、自動的に値を0〜255の整数に変換して処理するように作られているからです。uint8型であっても最小値が0、最大値が255でない場合には色合いがおかしくなります。それを防ぐためには次のように引数を入れてください。\n",
    "  \n",
    "画像関係のライブラリではこの自動的なスケーリングが思わぬ結果を生むことがあるので、新しいメソッドを使うときには確認しておきましょう。"
   ]
  },
  {
   "cell_type": "markdown",
   "metadata": {},
   "source": [
    "### 前処理\n",
    "画像は0から255のuint8型で表されますが、機械学習をする上では0から1のfloat型で扱うことになります。\n",
    "以下のコードで変換可能です。"
   ]
  },
  {
   "cell_type": "code",
   "execution_count": 7,
   "metadata": {},
   "outputs": [
    {
     "name": "stdout",
     "output_type": "stream",
     "text": [
      "1.0\n",
      "0.0\n"
     ]
    }
   ],
   "source": [
    "# 型変換、正規化\n",
    "X_train = X_train.astype(np.float)\n",
    "X_test = X_test.astype(np.float)\n",
    "X_train /= 255\n",
    "X_test /= 255\n",
    "print(X_train.max()) # 1.0\n",
    "print(X_train.min()) # 0.0"
   ]
  },
  {
   "cell_type": "code",
   "execution_count": 8,
   "metadata": {},
   "outputs": [
    {
     "name": "stdout",
     "output_type": "stream",
     "text": [
      "(48000, 784)\n",
      "(12000, 784)\n"
     ]
    }
   ],
   "source": [
    "# 訓練データと、検証データに分割\n",
    "from sklearn.model_selection import train_test_split\n",
    "\n",
    "X_train, X_val, y_train, y_val = train_test_split(X_train, y_train, test_size=0.2)\n",
    "print(X_train.shape)\n",
    "print(X_val.shape)"
   ]
  },
  {
   "cell_type": "markdown",
   "metadata": {},
   "source": [
    "また、正解ラベルは0から9の整数ですが、ニューラルネットワークで多クラス分類を行う際にはone-hot表現に変換します。scikit-learnのOneHotEncoderを使用したコードが以下です。このone-hot表現による値はそのラベルである確率を示していることになるため、float型で扱います。\n",
    "\n",
    "https://scikit-learn.org/stable/modules/generated/sklearn.preprocessing.OneHotEncoder.html"
   ]
  },
  {
   "cell_type": "code",
   "execution_count": 9,
   "metadata": {},
   "outputs": [
    {
     "name": "stdout",
     "output_type": "stream",
     "text": [
      "(48000,)\n",
      "(48000, 10)\n",
      "float64\n"
     ]
    }
   ],
   "source": [
    "# 正解ラベル値をone-hotエンコーディング\n",
    "from sklearn.preprocessing import OneHotEncoder\n",
    "\n",
    "enc = OneHotEncoder(handle_unknown='ignore', sparse=False)\n",
    "y_train_one_hot = enc.fit_transform(y_train[:, np.newaxis])\n",
    "y_val_one_hot = enc.transform(y_val[:, np.newaxis])\n",
    "print(y_train.shape) # (60000,)\n",
    "print(y_train_one_hot.shape) # (60000, 10)\n",
    "print(y_train_one_hot.dtype) # float64"
   ]
  },
  {
   "cell_type": "markdown",
   "metadata": {},
   "source": [
    "## ニューラルネットワークスクラッチ"
   ]
  },
  {
   "cell_type": "markdown",
   "metadata": {},
   "source": [
    "ニューラルネットワークのクラスをスクラッチで作成していきます。  \n",
    "NumPyなど最低限のライブラリのみを使いアルゴリズムを実装していきます。  \n",
    "  \n",
    "今回は多クラス分類を行う3層のニューラルネットワークを作成します。  \n",
    "層の数などは固定した上でニューラルネットワークの基本を学びます。  \n",
    "次のSprintで層を自由に変えられる設計にしていきます。\n",
    "\n",
    "以下に雛形を用意してあります。  \n",
    "このScratchSimpleNeuralNetrowkClassifierクラスにコードを書き加えていってください。"
   ]
  },
  {
   "cell_type": "markdown",
   "metadata": {},
   "source": [
    "### ミニバッチ処理\n",
    "これまでの機械学習スクラッチでは、全てのサンプルを一度に計算していました。  \n",
    "しかし、ニューラルネットワークではデータを分割して入力する確率的勾配降下法が一般的です。  \n",
    "分割した際のひとかたまりをミニバッチ、そのサンプル数をバッチサイズと呼びます。\n",
    "  \n",
    "今回はバッチサイズを20とします。  \n",
    "今回使う訓練データは48000枚ですから、48000÷20で2400回の更新を繰り返すことになります。  \n",
    "ニューラルネットワークではこれを2400回 イテレーション（iteration） すると呼びます。  \n",
    "訓練データを一度全て見ると1回のエポック（epoch）が終わったことになります。  \n",
    "このエポックを複数回繰り返し、学習が完了します。\n",
    "\n",
    "これを実現するための簡素なイテレータを用意しました。for文で呼び出すと、ミニバッチを取得できます。"
   ]
  },
  {
   "cell_type": "code",
   "execution_count": 10,
   "metadata": {},
   "outputs": [],
   "source": [
    "# ミニバッチ処理のクラス\n",
    "class GetMiniBatch:\n",
    "    \"\"\"\n",
    "    ミニバッチを取得するイテレータ\n",
    "\n",
    "    Parameters\n",
    "    ----------\n",
    "    X : 次の形のndarray, shape (n_samples, n_features)\n",
    "      訓練データ\n",
    "    y : 次の形のndarray, shape (n_samples, 1)\n",
    "      正解値\n",
    "    batch_size : int\n",
    "      バッチサイズ\n",
    "    seed : int\n",
    "      NumPyの乱数のシード\n",
    "    \"\"\"\n",
    "    def __init__(self, X, y, batch_size = 20, seed=None):\n",
    "        self.batch_size = batch_size\n",
    "        np.random.seed(seed)\n",
    "        shuffle_index = np.random.permutation(np.arange(X.shape[0]))\n",
    "        self._X = X[shuffle_index]\n",
    "        self._y = y[shuffle_index]\n",
    "        self._stop = np.ceil(X.shape[0]/self.batch_size).astype(np.int)\n",
    "    def __len__(self):\n",
    "        return self._stop\n",
    "    def __getitem__(self,item):\n",
    "        p0 = item*self.batch_size\n",
    "        p1 = item*self.batch_size + self.batch_size\n",
    "        return self._X[p0:p1], self._y[p0:p1]        \n",
    "    def __iter__(self):\n",
    "        self._counter = 0\n",
    "        return self\n",
    "    def __next__(self):\n",
    "        if self._counter >= self._stop:\n",
    "            raise StopIteration()\n",
    "        p0 = self._counter*self.batch_size\n",
    "        p1 = self._counter*self.batch_size + self.batch_size\n",
    "        self._counter += 1\n",
    "        return self._X[p0:p1], self._y[p0:p1]"
   ]
  },
  {
   "cell_type": "code",
   "execution_count": 11,
   "metadata": {},
   "outputs": [
    {
     "name": "stdout",
     "output_type": "stream",
     "text": [
      "2400\n",
      "(array([[0., 0., 0., ..., 0., 0., 0.],\n",
      "       [0., 0., 0., ..., 0., 0., 0.],\n",
      "       [0., 0., 0., ..., 0., 0., 0.],\n",
      "       ...,\n",
      "       [0., 0., 0., ..., 0., 0., 0.],\n",
      "       [0., 0., 0., ..., 0., 0., 0.],\n",
      "       [0., 0., 0., ..., 0., 0., 0.]]), array([8, 6, 1, 1, 1, 4, 6, 3, 1, 7, 1, 2, 4, 8, 6, 2, 3, 2, 3, 9],\n",
      "      dtype=uint8))\n"
     ]
    }
   ],
   "source": [
    "# ミニバッチ処理\n",
    "get_mini_batch = GetMiniBatch(X_train, y_train, batch_size=20)\n",
    "print(len(get_mini_batch)) # 2400\n",
    "print(get_mini_batch[5]) # 5番目のミニバッチが取得できる\n",
    "\n",
    "for mini_X_train, mini_y_train in get_mini_batch:\n",
    "    # このfor文内でミニバッチが使える\n",
    "    pass"
   ]
  },
  {
   "cell_type": "code",
   "execution_count": 13,
   "metadata": {},
   "outputs": [],
   "source": [
    "# スクラッチ　ニューラルネットワーク\n",
    "class ScratchSimpleNeuralNetrowkClassifier():\n",
    "    \"\"\"\n",
    "    シンプルな三層ニューラルネットワーク分類器\n",
    "    Parameters\n",
    "    ----------\n",
    "\n",
    "    Attributes\n",
    "    ----------\n",
    "    \"\"\"\n",
    "    def __init__(self, n_epoch=50, n_features=784, n_nodes1=400, n_nodes2=200, \n",
    "                 n_output=10, sigma=0.01, n_batch=20, \n",
    "                 activate_function_key='tanh', lr = 0.01, verbose = False):\n",
    "        \n",
    "        self.n_epoch = n_epoch\n",
    "        self.n_features = n_features\n",
    "        self.n_nodes1 = n_nodes1\n",
    "        self.n_nodes2 = n_nodes2\n",
    "        self.n_output = n_output\n",
    "        self.sigma = sigma\n",
    "        self.n_batch = n_batch\n",
    "        self.activate_function_key = activate_function_key\n",
    "        self.lr = lr\n",
    "        self.verbose = verbose\n",
    "        \n",
    "    def initial_weight(self):\n",
    "        self.W1 = self.sigma * np.random.randn(self.n_features, self.n_nodes1)\n",
    "        self.b1 = np.zeros(self.n_nodes1)\n",
    "        self.W2 = self.sigma * np.random.randn(self.n_nodes1, self.n_nodes2)\n",
    "        self.b2 = np.zeros(self.n_nodes2)\n",
    "        self.W3 = self.sigma * np.random.randn(self.n_nodes2, self.n_output)\n",
    "        self.b3 = np.zeros(self.n_output)\n",
    "        \n",
    "    def activation_function(self,X):\n",
    "        if self.activate_function_key == 'sigmoid':\n",
    "            return 1/(1+np.exp(-X))\n",
    "        \n",
    "        elif self.activate_function_key == 'tanh':\n",
    "            return np.tanh(X)\n",
    "    \n",
    "    def softmax(self,X):\n",
    "        \n",
    "        return np.exp(X-np.max(X))/np.sum(np.exp(X-np.max(X)),axis=1,keepdims=True)\n",
    "    \n",
    "    def loss_function(self,y,yt):\n",
    "        delta = 1e-7\n",
    "        return -np.mean(yt*np.log(y+delta))\n",
    "    \n",
    "    def gradient_descent(self,X,y,yt):\n",
    "        \n",
    "            # 3層目\n",
    "            delta_a3 = (y-yt)/self.n_batch\n",
    "            delta_b3 = np.sum(delta_a3,axis=0)\n",
    "            delta_W3 = np.dot(self.z2.T,delta_a3)\n",
    "            delta_z2 = np.dot(delta_a3,self.W3.T)\n",
    "        \n",
    "            self.W3 -= self.lr*delta_W3\n",
    "            self.b3 -= self.lr*delta_b3\n",
    "        \n",
    "            # 2層目\n",
    "            if self.activate_function_key == 'sigmoid':\n",
    "                delta_a2 = delta_z2*(1-self.activation_function(self.z2))*self.activation_function(self.z2)\n",
    "            \n",
    "            elif self.activate_function_key == 'tanh':\n",
    "                delta_a2 = delta_z2*(1-np.tanh(self.z2)**2)\n",
    "            \n",
    "            delta_b2 = np.sum(delta_a2,axis=0)\n",
    "            delta_W2 = np.dot(self.z1.T,delta_a2)\n",
    "            delta_z1 = np.dot(delta_a2,self.W2.T)\n",
    "        \n",
    "            self.W2 -= self.lr*delta_W2\n",
    "            self.b2 -= self.lr*delta_b2\n",
    "        \n",
    "            # 1層目\n",
    "            if self.activate_function_key == 'sigmoid':\n",
    "                delta_a1 = delta_z1*(1-self.activation_function(self.z1))*self.activation_function(self.z1)\n",
    "            \n",
    "            elif self.activate_function_key == 'tanh':\n",
    "                delta_a1 = delta_z1*(1-np.tanh(self.z1)**2)\n",
    "                \n",
    "            delta_b1 = np.sum(delta_a1,axis=0)\n",
    "            delta_W1 = np.dot(X.T,delta_a1)\n",
    "        \n",
    "            self.W1 -= self.lr*delta_W1\n",
    "            self.b1 -= self.lr*delta_b1\n",
    "                \n",
    "    def fit(self, X, y, X_val=False, y_val=False):\n",
    "        \"\"\"\n",
    "        ニューラルネットワーク分類器を学習する。\n",
    "\n",
    "        Parameters\n",
    "        ----------\n",
    "        X : 次の形のndarray, shape (n_samples, n_features)\n",
    "            訓練データの特徴量\n",
    "        y : 次の形のndarray, shape (n_samples, )\n",
    "            訓練データの正解値\n",
    "        X_val : 次の形のndarray, shape (n_samples, n_features)\n",
    "            検証データの特徴量\n",
    "        y_val : 次の形のndarray, shape (n_samples, )\n",
    "            検証データの正解値\n",
    "        \"\"\"\n",
    "        # 重みの初期化\n",
    "        self.initial_weight()\n",
    "        \n",
    "        # エポックごとのloss_functionを記録するリスト\n",
    "        self.log_loss = []\n",
    "        self.log_loss_val = []\n",
    "        \n",
    "        # エポックごとのTrainデータの推定を評価：Accuracy\n",
    "        self.log_acc = []\n",
    "        self.log_acc_val = []\n",
    "        \n",
    "        for epoch in range(self.n_epoch):\n",
    "            # ミニバッチ処理\n",
    "            get_mini_batch = GetMiniBatch(X, y, batch_size=self.n_batch)\n",
    "            \n",
    "            self.loss = 0\n",
    "            self.true_y = np.array([])\n",
    "            self.pred_y = np.array([])\n",
    "            \n",
    "            for mini_X_train, mini_y_train in get_mini_batch:\n",
    "            \n",
    "                # 1層目\n",
    "                self.z1 = self.activation_function(np.dot(mini_X_train,self.W1) + self.b1)\n",
    "            \n",
    "                # 2層目\n",
    "                self.z2 = self.activation_function(np.dot(self.z1,self.W2) + self.b2)\n",
    "            \n",
    "                # 3層目（ソフトマックス関数）\n",
    "                yhat = self.softmax(np.dot(self.z2,self.W3) + self.b3)\n",
    "                \n",
    "                # バックプロパゲーション（確率的勾配降下法）\n",
    "                self.gradient_descent(mini_X_train,yhat,mini_y_train)\n",
    "                \n",
    "                # ミニバッチデータの正解値、推定値を記録\n",
    "                self.true_y = np.concatenate([self.true_y,np.argmax(mini_y_train,axis=1)])\n",
    "                self.pred_y = np.concatenate([self.pred_y,np.argmax(yhat,axis=1)])\n",
    "                \n",
    "                # 損失関数\n",
    "                self.loss += self.loss_function(yhat,mini_y_train)\n",
    "            \n",
    "            # epochごとに損失関数を記録\n",
    "            self.log_loss.append(self.loss/len(get_mini_batch))\n",
    "            \n",
    "            # Accuracy\n",
    "            acc = accuracy_score(self.true_y, self.pred_y)\n",
    "            self.log_acc.append(acc)\n",
    "            \n",
    "            # Valデータが入力されたら計算\n",
    "            if (type(X_val) != bool):\n",
    "                # 1層目\n",
    "                self.z1_val = self.activation_function(np.dot(X_val,self.W1) + self.b1)\n",
    "            \n",
    "                # 2層目\n",
    "                self.z2_val = self.activation_function(np.dot(self.z1_val,self.W2) + self.b2)\n",
    "            \n",
    "                # 3層目（ソフトマックス関数）\n",
    "                yhat_val = self.softmax(np.dot(self.z2_val,self.W3) + self.b3)\n",
    "                \n",
    "                # 損失関数\n",
    "                self.loss_val = self.loss_function(yhat_val,y_val)\n",
    "                self.log_loss_val.append(self.loss_val)\n",
    "                \n",
    "                # Accuracy\n",
    "                \n",
    "                acc_val = accuracy_score(np.argmax(y_val,axis=1), np.argmax(yhat_val,axis=1))\n",
    "                self.log_acc_val.append(acc_val)\n",
    "            \n",
    "            #verboseをTrueにした際は学習過程などを出力する\n",
    "            if self.verbose:\n",
    "                print('epoch:{:>3} loss:{:>8,.3f} acc:{:>5,.3f}'.format(epoch,self.loss/self.n_batch,acc))\n",
    "            \n",
    "    def predict(self, X):\n",
    "        \"\"\"\n",
    "        ニューラルネットワーク分類器を使い推定する。\n",
    "\n",
    "        Parameters\n",
    "        ----------\n",
    "        X : 次の形のndarray, shape (n_samples, n_features)\n",
    "            サンプル\n",
    "\n",
    "        Returns\n",
    "        -------\n",
    "            次の形のndarray, shape (n_samples, 1)\n",
    "            推定結果\n",
    "        \"\"\"\n",
    "        # 1層目\n",
    "        self.pred_z1 = self.activation_function(np.dot(X,self.W1) + self.b1)\n",
    "            \n",
    "        # 2層目\n",
    "        self.pred_z2 = self.activation_function(np.dot(self.pred_z1,self.W2) + self.b2)\n",
    "        \n",
    "        return np.argmax(np.dot(self.pred_z2,self.W3) + self.b3, axis=1)"
   ]
  },
  {
   "cell_type": "markdown",
   "metadata": {},
   "source": [
    "### 学習\n",
    "ニューラルネットワークの学習はフォワードプロパゲーションとバックプロパゲションの繰り返しになります。"
   ]
  },
  {
   "cell_type": "markdown",
   "metadata": {},
   "source": [
    "### 【問題1】重みの初期値を決めるコードの作成\n",
    "ニューラルネットワークの各層の重みの初期値を決めるコードを作成してください。\n",
    "  \n",
    "重みの初期値は様々な方法が提案されていますが、今回はガウス分布による単純な初期化を行います。  \n",
    "バイアスに関しても同様です。  \n",
    "  \n",
    "以下のコードを参考にしてください。  \n",
    "標準偏差の値sigmaはハイパーパラメータです。発展的な重みの初期化方法については次のSprintで扱います。"
   ]
  },
  {
   "cell_type": "code",
   "execution_count": 14,
   "metadata": {},
   "outputs": [
    {
     "name": "stdout",
     "output_type": "stream",
     "text": [
      "W1 (784, 400)\n"
     ]
    }
   ],
   "source": [
    "# 重みの初期値\n",
    "n_features = 784\n",
    "n_nodes1 = 400\n",
    "n_nodes2 = 200\n",
    "n_output =10\n",
    "\n",
    "# ガウス分布の標準偏差\n",
    "sigma = 0.01 \n",
    "W1 = sigma * np.random.randn(n_features, n_nodes1)\n",
    "print('W1',W1.shape)"
   ]
  },
  {
   "cell_type": "code",
   "execution_count": 15,
   "metadata": {},
   "outputs": [
    {
     "name": "stdout",
     "output_type": "stream",
     "text": [
      "W1 (784, 400)\n",
      "W2 (400, 200)\n",
      "W3 (200, 10)\n",
      "b1 (400,)\n",
      "b2 (200,)\n",
      "b3 (10,)\n"
     ]
    }
   ],
   "source": [
    "W1 = sigma * np.random.randn(n_features, n_nodes1)\n",
    "b1 = sigma * np.random.randn(n_nodes1)\n",
    "W2 = sigma * np.random.randn(n_nodes1, n_nodes2)\n",
    "b2 = sigma * np.random.randn(n_nodes2)\n",
    "W3 = sigma * np.random.randn(n_nodes2, n_output)\n",
    "b3 = sigma * np.random.randn(n_output)\n",
    "\n",
    "print('W1',W1.shape)\n",
    "print('W2',W2.shape)\n",
    "print('W3',W3.shape)\n",
    "print('b1',b1.shape)\n",
    "print('b2',b2.shape)\n",
    "print('b3',b3.shape)"
   ]
  },
  {
   "cell_type": "markdown",
   "metadata": {},
   "source": [
    "### 【問題2】フォワードプロパゲーションの実装\n",
    "三層のニューラルネットワークの フォワードプロパゲーションを作成してください。\n",
    "以下の説明ではノード数は1層目は400、2層目は200としますが、変更しても構いません。  \n",
    "  \n",
    "各層の数式を以下に示します。  \n",
    "今回はそれぞれの記号が表す配列が、実装上どのようなndarrayのshapeになるかを併記してあります。"
   ]
  },
  {
   "cell_type": "markdown",
   "metadata": {},
   "source": [
    "### 活性化関数（フォワードプロバゲーション）\n",
    "活性化関数を作成し、フォワードプロパゲーションの中で使用します。  \n",
    "切り替えられるように実装することを推奨しますが、片方でも構いません。\n",
    "  \n",
    "#### 「シグモイド関数」\n",
    "https://docs.scipy.org/doc/numpy-1.15.1/reference/generated/numpy.exp.html  \n",
    "  \n",
    "#### 「ハイパボリックタンジェント関数」\n",
    "https://docs.scipy.org/doc/numpy-1.15.1/reference/generated/numpy.tanh.html  "
   ]
  },
  {
   "cell_type": "markdown",
   "metadata": {},
   "source": [
    "### ソフトマックス関数\n",
    "ソフトマックス関数を作成し、フォワードプロパゲーションの中で使用します。  \n",
    "これも活性化関数の一種ですが、多クラス分類の出力層で使われる特性上、区別して扱われることが多いです。"
   ]
  },
  {
   "cell_type": "code",
   "execution_count": 16,
   "metadata": {},
   "outputs": [],
   "source": [
    "X = X_train[0:20]"
   ]
  },
  {
   "cell_type": "code",
   "execution_count": 17,
   "metadata": {},
   "outputs": [
    {
     "name": "stdout",
     "output_type": "stream",
     "text": [
      "z1.shape: (20, 400)\n",
      "[[-0.03207184  0.07645872 -0.13610022 ... -0.03688762  0.0098203\n",
      "   0.13187627]\n",
      " [ 0.05332896  0.06009726 -0.02528003 ... -0.02391149  0.02592633\n",
      "   0.0081854 ]\n",
      " [ 0.01998863  0.07267673 -0.07607643 ... -0.0380581   0.09408694\n",
      "   0.08664746]\n",
      " ...\n",
      " [ 0.05786618  0.09429539 -0.14202552 ...  0.05026453  0.01787043\n",
      "  -0.02887521]\n",
      " [ 0.08976393 -0.02546778 -0.10016511 ...  0.02172099  0.0295355\n",
      "   0.0318431 ]\n",
      " [ 0.15609086  0.04013289 -0.11860961 ...  0.0458973  -0.00745502\n",
      "   0.11503215]]\n"
     ]
    }
   ],
   "source": [
    "# 1層目の線形結合\n",
    "z1 = np.dot(X,W1)# + b1\n",
    "print('z1.shape:',z1.shape)\n",
    "print(z1)"
   ]
  },
  {
   "cell_type": "code",
   "execution_count": 18,
   "metadata": {},
   "outputs": [
    {
     "name": "stdout",
     "output_type": "stream",
     "text": [
      "sig1.shape: (20, 400)\n",
      "[[0.49198273 0.51910537 0.46602737 ... 0.49077914 0.50245506 0.53292137]\n",
      " [0.51332908 0.5150198  0.49368033 ... 0.49402241 0.50648122 0.50204634]\n",
      " [0.50499699 0.51816119 0.48099006 ... 0.49048662 0.5235044  0.52164832]\n",
      " ...\n",
      " [0.51446251 0.5235564  0.46455318 ... 0.51256349 0.50446749 0.4927817 ]\n",
      " [0.52242593 0.4936334  0.47497964 ... 0.50543003 0.50738334 0.5079601 ]\n",
      " [0.53894368 0.51003188 0.47038231 ... 0.51147231 0.49813625 0.52872637]]\n"
     ]
    }
   ],
   "source": [
    "# 1層目の活性化関数\n",
    "sig1 = 1/(1+np.exp(-z1))\n",
    "print('sig1.shape:',sig1.shape)\n",
    "print(sig1)"
   ]
  },
  {
   "cell_type": "code",
   "execution_count": 19,
   "metadata": {},
   "outputs": [
    {
     "name": "stdout",
     "output_type": "stream",
     "text": [
      "z2.shape: (20, 200)\n",
      "[[-0.14540322 -0.14815377  0.01859819 ... -0.14173271 -0.03930136\n",
      "  -0.05145055]\n",
      " [-0.14200497 -0.14094052  0.0184724  ... -0.14763702 -0.03956831\n",
      "  -0.0549705 ]\n",
      " [-0.14973836 -0.14200801  0.02249417 ... -0.14410427 -0.04604016\n",
      "  -0.05261035]\n",
      " ...\n",
      " [-0.14297118 -0.14388997  0.02413954 ... -0.14757616 -0.04363615\n",
      "  -0.05183033]\n",
      " [-0.14861912 -0.14010915  0.02173829 ... -0.14078014 -0.03318982\n",
      "  -0.05670632]\n",
      " [-0.14840535 -0.14088077  0.02297447 ... -0.14377944 -0.0392783\n",
      "  -0.05392352]]\n"
     ]
    }
   ],
   "source": [
    "# 2層目の線形結合\n",
    "z2 = np.dot(sig1,W2) + b2\n",
    "print('z2.shape:',z2.shape)\n",
    "print(z2)"
   ]
  },
  {
   "cell_type": "code",
   "execution_count": 20,
   "metadata": {},
   "outputs": [
    {
     "name": "stdout",
     "output_type": "stream",
     "text": [
      "sig2.shape: (20, 200)\n",
      "[[0.4637131  0.46302916 0.50464941 ... 0.46462602 0.49017592 0.4871402 ]\n",
      " [0.4645583  0.46482308 0.50461797 ... 0.46315764 0.49010921 0.48626084]\n",
      " [0.4626352  0.46455754 0.50562331 ... 0.46403615 0.48849199 0.48685044]\n",
      " ...\n",
      " [0.46431797 0.46408945 0.50603459 ... 0.46317277 0.48909269 0.48704532]\n",
      " [0.46291346 0.4650299  0.50543436 ... 0.46486298 0.49170331 0.48582722]\n",
      " [0.46296661 0.46483794 0.50574336 ... 0.46411693 0.49018169 0.48652239]]\n"
     ]
    }
   ],
   "source": [
    "# 2層目の活性化関数\n",
    "sig2 = 1/(1+np.exp(-z2))\n",
    "print('sig2.shape:',sig2.shape)\n",
    "print(sig2)"
   ]
  },
  {
   "cell_type": "code",
   "execution_count": 21,
   "metadata": {},
   "outputs": [
    {
     "name": "stdout",
     "output_type": "stream",
     "text": [
      "z3.shape: (20, 10)\n",
      "[[ 0.01003956 -0.01726739  0.08682092 -0.0315611  -0.10233415  0.0731922\n",
      "  -0.00937947  0.03545274 -0.10042102 -0.13502943]\n",
      " [ 0.00992707 -0.01708007  0.08685377 -0.03154387 -0.10246228  0.07316367\n",
      "  -0.00942844  0.03537906 -0.10035031 -0.13486103]\n",
      " [ 0.00992593 -0.01704943  0.08686541 -0.03148483 -0.10224652  0.07324432\n",
      "  -0.00948605  0.03560685 -0.10045046 -0.13487535]\n",
      " [ 0.00970262 -0.01713852  0.08677785 -0.03153002 -0.10229795  0.07326433\n",
      "  -0.00938298  0.03555408 -0.10063397 -0.13476314]\n",
      " [ 0.00995053 -0.01706101  0.08684721 -0.03155338 -0.10244612  0.07331076\n",
      "  -0.00956911  0.03546798 -0.10022484 -0.13497595]\n",
      " [ 0.00980216 -0.01717608  0.08680047 -0.03132971 -0.10244812  0.07313508\n",
      "  -0.00948109  0.03536951 -0.10026786 -0.13510624]\n",
      " [ 0.01004844 -0.01713897  0.08684442 -0.03151129 -0.10255779  0.07317709\n",
      "  -0.00942655  0.03533643 -0.10057994 -0.13509509]\n",
      " [ 0.00995018 -0.01711457  0.08668843 -0.03137801 -0.10248885  0.07339202\n",
      "  -0.00942232  0.03544788 -0.10026009 -0.13497613]\n",
      " [ 0.00947415 -0.01727701  0.08688004 -0.03127016 -0.10251322  0.07324299\n",
      "  -0.00956668  0.03553525 -0.10032136 -0.13476099]\n",
      " [ 0.00978757 -0.0170668   0.08669775 -0.03149705 -0.10255737  0.07334816\n",
      "  -0.00958522  0.03552943 -0.10031778 -0.13493377]\n",
      " [ 0.00983901 -0.01715014  0.08661865 -0.03142637 -0.10233468  0.07335065\n",
      "  -0.00965983  0.03559923 -0.10028057 -0.13511793]\n",
      " [ 0.0100755  -0.01722488  0.08679468 -0.03154504 -0.10229269  0.07326761\n",
      "  -0.00946008  0.03536004 -0.10035155 -0.13501235]\n",
      " [ 0.01015664 -0.01719736  0.08709612 -0.03148132 -0.10224882  0.07332912\n",
      "  -0.00928214  0.03554346 -0.10048921 -0.13493541]\n",
      " [ 0.01004162 -0.0170278   0.08675889 -0.03154654 -0.10248155  0.07325845\n",
      "  -0.00963931  0.03539818 -0.10058396 -0.13506957]\n",
      " [ 0.00997047 -0.01685917  0.08682585 -0.03120961 -0.10245518  0.07339283\n",
      "  -0.0094726   0.03533662 -0.10020264 -0.13539249]\n",
      " [ 0.00995977 -0.01709374  0.08683056 -0.03144497 -0.10252252  0.07343173\n",
      "  -0.00951223  0.03529617 -0.10040714 -0.1350165 ]\n",
      " [ 0.00996608 -0.01718857  0.08688261 -0.03139791 -0.10226753  0.07330766\n",
      "  -0.00937724  0.03540442 -0.10024341 -0.1349332 ]\n",
      " [ 0.00988251 -0.01711606  0.08682645 -0.03147288 -0.10248564  0.07335687\n",
      "  -0.00943168  0.03553874 -0.10012589 -0.13489007]\n",
      " [ 0.01004705 -0.01708763  0.08669675 -0.03137727 -0.10243884  0.07335508\n",
      "  -0.00935355  0.03538066 -0.10019318 -0.13503432]\n",
      " [ 0.00975726 -0.01719655  0.08676899 -0.03147754 -0.10244171  0.07328432\n",
      "  -0.00954933  0.03552848 -0.10033919 -0.13491894]]\n"
     ]
    }
   ],
   "source": [
    "# 3層目の線形結合\n",
    "z3 = np.dot(sig2,W3) + b3\n",
    "print('z3.shape:',z3.shape)\n",
    "print(z3)"
   ]
  },
  {
   "cell_type": "code",
   "execution_count": 22,
   "metadata": {
    "scrolled": false
   },
   "outputs": [
    {
     "name": "stdout",
     "output_type": "stream",
     "text": [
      "sfmax.shape: (20, 10)\n",
      "[[0.10269142 0.09992517 0.1108868  0.09850703 0.09177637 0.10938581\n",
      "  0.10071649 0.10533457 0.09195211 0.08882424]\n",
      " [0.10267921 0.09994325 0.11088974 0.09850809 0.09176402 0.10938199\n",
      "  0.10071091 0.10532614 0.09195803 0.08883863]\n",
      " [0.10267433 0.09994167 0.11088588 0.09850934 0.09177956 0.10938574\n",
      "  0.10070044 0.10534525 0.09194455 0.08883323]\n",
      " [0.1026566  0.09993783 0.11088179 0.09850987 0.09177949 0.10939346\n",
      "  0.10071591 0.10534502 0.09193233 0.0888477 ]\n",
      " [0.1026799  0.09994348 0.11088715 0.09850551 0.09176397 0.10939625\n",
      "  0.10069506 0.10533374 0.09196803 0.08882693]\n",
      " [0.10266942 0.09993661 0.1108871  0.0985321  0.09176803 0.1093821\n",
      "  0.10070859 0.10532825 0.09196833 0.08881947]\n",
      " [0.10269627 0.09994183 0.11089366 0.09851571 0.09175936 0.10938835\n",
      "  0.10071561 0.10532636 0.09194103 0.08882181]\n",
      " [0.10267897 0.09993726 0.11086859 0.09852193 0.09175925 0.10940419\n",
      "  0.10070897 0.10533071 0.09196399 0.08882614]\n",
      " [0.10263458 0.09992539 0.11089467 0.09853685 0.09176102 0.10939266\n",
      "  0.10069882 0.10534451 0.09196237 0.08884913]\n",
      " [0.1026667  0.09994634 0.11087439 0.09851444 0.09175691 0.1094041\n",
      "  0.1006969  0.10534384 0.09196264 0.08883373]\n",
      " [0.1026717  0.09993773 0.11086532 0.09852113 0.0917771  0.10940407\n",
      "  0.10068911 0.1053509  0.09196581 0.08881713]\n",
      " [0.10269421 0.09992855 0.11088293 0.09850775 0.09177937 0.10939311\n",
      "  0.10070749 0.1053239  0.0919577  0.08882498]\n",
      " [0.102693   0.09992201 0.11090605 0.09850487 0.09177487 0.10938967\n",
      "  0.10071605 0.10533342 0.0919365  0.08882356]\n",
      " [0.10269553 0.09995291 0.11088414 0.09851221 0.09176633 0.10939722\n",
      "  0.10069415 0.10533283 0.09194063 0.08882405]\n",
      " [0.1026796  0.09996137 0.11088225 0.09853713 0.09176104 0.10940273\n",
      "  0.10070248 0.1053175  0.09196797 0.08878791]\n",
      " [0.1026829  0.09994221 0.11088752 0.09851816 0.09175879 0.10941167\n",
      "  0.1007028  0.10531775 0.0919531  0.0888251 ]\n",
      " [0.1026775  0.09992685 0.11088677 0.09851699 0.09177679 0.10939166\n",
      "  0.10071047 0.10532295 0.09196275 0.08882728]\n",
      " [0.10266957 0.09993472 0.11088124 0.09851023 0.09175735 0.10939773\n",
      "  0.10070562 0.10533776 0.09197413 0.08883166]\n",
      " [0.10268738 0.09993845 0.11086784 0.09852052 0.09176246 0.1093985\n",
      "  0.10071438 0.10532205 0.09196876 0.08881964]\n",
      " [0.10266356 0.09993335 0.11088227 0.09851634 0.09176751 0.10939709\n",
      "  0.10070049 0.10534371 0.09196065 0.08883503]]\n",
      "20.0\n"
     ]
    }
   ],
   "source": [
    "# 3層目の活性化関数（ソフトマックス関数）\n",
    "sfmax = np.zeros([len(X),10])\n",
    "for i in range(20):\n",
    "    sfmax[i] = np.exp(z3[i])/np.sum(np.exp(z3[i]),axis=0)\n",
    "print('sfmax.shape:',sfmax.shape)\n",
    "print(sfmax)\n",
    "print(np.sum(sfmax))"
   ]
  },
  {
   "cell_type": "code",
   "execution_count": 23,
   "metadata": {},
   "outputs": [
    {
     "name": "stdout",
     "output_type": "stream",
     "text": [
      "softmax.shape: (10, 20)\n",
      "[[0.10269142 0.09992517 0.1108868  0.09850703 0.09177637 0.10938581\n",
      "  0.10071649 0.10533457 0.09195211 0.08882424]\n",
      " [0.10267921 0.09994325 0.11088974 0.09850809 0.09176402 0.10938199\n",
      "  0.10071091 0.10532614 0.09195803 0.08883863]\n",
      " [0.10267433 0.09994167 0.11088588 0.09850934 0.09177956 0.10938574\n",
      "  0.10070044 0.10534525 0.09194455 0.08883323]\n",
      " [0.1026566  0.09993783 0.11088179 0.09850987 0.09177949 0.10939346\n",
      "  0.10071591 0.10534502 0.09193233 0.0888477 ]\n",
      " [0.1026799  0.09994348 0.11088715 0.09850551 0.09176397 0.10939625\n",
      "  0.10069506 0.10533374 0.09196803 0.08882693]\n",
      " [0.10266942 0.09993661 0.1108871  0.0985321  0.09176803 0.1093821\n",
      "  0.10070859 0.10532825 0.09196833 0.08881947]\n",
      " [0.10269627 0.09994183 0.11089366 0.09851571 0.09175936 0.10938835\n",
      "  0.10071561 0.10532636 0.09194103 0.08882181]\n",
      " [0.10267897 0.09993726 0.11086859 0.09852193 0.09175925 0.10940419\n",
      "  0.10070897 0.10533071 0.09196399 0.08882614]\n",
      " [0.10263458 0.09992539 0.11089467 0.09853685 0.09176102 0.10939266\n",
      "  0.10069882 0.10534451 0.09196237 0.08884913]\n",
      " [0.1026667  0.09994634 0.11087439 0.09851444 0.09175691 0.1094041\n",
      "  0.1006969  0.10534384 0.09196264 0.08883373]\n",
      " [0.1026717  0.09993773 0.11086532 0.09852113 0.0917771  0.10940407\n",
      "  0.10068911 0.1053509  0.09196581 0.08881713]\n",
      " [0.10269421 0.09992855 0.11088293 0.09850775 0.09177937 0.10939311\n",
      "  0.10070749 0.1053239  0.0919577  0.08882498]\n",
      " [0.102693   0.09992201 0.11090605 0.09850487 0.09177487 0.10938967\n",
      "  0.10071605 0.10533342 0.0919365  0.08882356]\n",
      " [0.10269553 0.09995291 0.11088414 0.09851221 0.09176633 0.10939722\n",
      "  0.10069415 0.10533283 0.09194063 0.08882405]\n",
      " [0.1026796  0.09996137 0.11088225 0.09853713 0.09176104 0.10940273\n",
      "  0.10070248 0.1053175  0.09196797 0.08878791]\n",
      " [0.1026829  0.09994221 0.11088752 0.09851816 0.09175879 0.10941167\n",
      "  0.1007028  0.10531775 0.0919531  0.0888251 ]\n",
      " [0.1026775  0.09992685 0.11088677 0.09851699 0.09177679 0.10939166\n",
      "  0.10071047 0.10532295 0.09196275 0.08882728]\n",
      " [0.10266957 0.09993472 0.11088124 0.09851023 0.09175735 0.10939773\n",
      "  0.10070562 0.10533776 0.09197413 0.08883166]\n",
      " [0.10268738 0.09993845 0.11086784 0.09852052 0.09176246 0.1093985\n",
      "  0.10071438 0.10532205 0.09196876 0.08881964]\n",
      " [0.10266356 0.09993335 0.11088227 0.09851634 0.09176751 0.10939709\n",
      "  0.10070049 0.10534371 0.09196065 0.08883503]]\n",
      "20.0\n"
     ]
    }
   ],
   "source": [
    "# for文無しで計算\n",
    "softmax = np.exp(z3).T/np.sum(np.exp(z3),axis=1)\n",
    "print('softmax.shape:',softmax.shape)\n",
    "print(softmax.T)\n",
    "print(np.sum(softmax))"
   ]
  },
  {
   "cell_type": "code",
   "execution_count": 24,
   "metadata": {},
   "outputs": [
    {
     "name": "stdout",
     "output_type": "stream",
     "text": [
      "softmax.shape: (20, 10)\n",
      "[[0.10269142 0.09992517 0.1108868  0.09850703 0.09177637 0.10938581\n",
      "  0.10071649 0.10533457 0.09195211 0.08882424]\n",
      " [0.10267921 0.09994325 0.11088974 0.09850809 0.09176402 0.10938199\n",
      "  0.10071091 0.10532614 0.09195803 0.08883863]\n",
      " [0.10267433 0.09994167 0.11088588 0.09850934 0.09177956 0.10938574\n",
      "  0.10070044 0.10534525 0.09194455 0.08883323]\n",
      " [0.1026566  0.09993783 0.11088179 0.09850987 0.09177949 0.10939346\n",
      "  0.10071591 0.10534502 0.09193233 0.0888477 ]\n",
      " [0.1026799  0.09994348 0.11088715 0.09850551 0.09176397 0.10939625\n",
      "  0.10069506 0.10533374 0.09196803 0.08882693]\n",
      " [0.10266942 0.09993661 0.1108871  0.0985321  0.09176803 0.1093821\n",
      "  0.10070859 0.10532825 0.09196833 0.08881947]\n",
      " [0.10269627 0.09994183 0.11089366 0.09851571 0.09175936 0.10938835\n",
      "  0.10071561 0.10532636 0.09194103 0.08882181]\n",
      " [0.10267897 0.09993726 0.11086859 0.09852193 0.09175925 0.10940419\n",
      "  0.10070897 0.10533071 0.09196399 0.08882614]\n",
      " [0.10263458 0.09992539 0.11089467 0.09853685 0.09176102 0.10939266\n",
      "  0.10069882 0.10534451 0.09196237 0.08884913]\n",
      " [0.1026667  0.09994634 0.11087439 0.09851444 0.09175691 0.1094041\n",
      "  0.1006969  0.10534384 0.09196264 0.08883373]\n",
      " [0.1026717  0.09993773 0.11086532 0.09852113 0.0917771  0.10940407\n",
      "  0.10068911 0.1053509  0.09196581 0.08881713]\n",
      " [0.10269421 0.09992855 0.11088293 0.09850775 0.09177937 0.10939311\n",
      "  0.10070749 0.1053239  0.0919577  0.08882498]\n",
      " [0.102693   0.09992201 0.11090605 0.09850487 0.09177487 0.10938967\n",
      "  0.10071605 0.10533342 0.0919365  0.08882356]\n",
      " [0.10269553 0.09995291 0.11088414 0.09851221 0.09176633 0.10939722\n",
      "  0.10069415 0.10533283 0.09194063 0.08882405]\n",
      " [0.1026796  0.09996137 0.11088225 0.09853713 0.09176104 0.10940273\n",
      "  0.10070248 0.1053175  0.09196797 0.08878791]\n",
      " [0.1026829  0.09994221 0.11088752 0.09851816 0.09175879 0.10941167\n",
      "  0.1007028  0.10531775 0.0919531  0.0888251 ]\n",
      " [0.1026775  0.09992685 0.11088677 0.09851699 0.09177679 0.10939166\n",
      "  0.10071047 0.10532295 0.09196275 0.08882728]\n",
      " [0.10266957 0.09993472 0.11088124 0.09851023 0.09175735 0.10939773\n",
      "  0.10070562 0.10533776 0.09197413 0.08883166]\n",
      " [0.10268738 0.09993845 0.11086784 0.09852052 0.09176246 0.1093985\n",
      "  0.10071438 0.10532205 0.09196876 0.08881964]\n",
      " [0.10266356 0.09993335 0.11088227 0.09851634 0.09176751 0.10939709\n",
      "  0.10070049 0.10534371 0.09196065 0.08883503]]\n",
      "20.0\n"
     ]
    }
   ],
   "source": [
    "# for無しpart2\n",
    "softmax = np.exp(z3)/np.sum(np.exp(z3),axis=1,keepdims=True)\n",
    "print('softmax.shape:',softmax.shape)\n",
    "print(softmax)\n",
    "print(np.sum(softmax))"
   ]
  },
  {
   "cell_type": "code",
   "execution_count": 25,
   "metadata": {},
   "outputs": [
    {
     "data": {
      "text/plain": [
       "array([[-0.03206085,  0.07631008, -0.13526606, ..., -0.03687089,\n",
       "         0.00981999,  0.13111704],\n",
       "       [ 0.05327846,  0.06002502, -0.02527465, ..., -0.02390694,\n",
       "         0.02592052,  0.00818522],\n",
       "       [ 0.01998597,  0.07254904, -0.07593   , ..., -0.03803973,\n",
       "         0.09381029,  0.08643127],\n",
       "       ...,\n",
       "       [ 0.05780168,  0.0940169 , -0.14107822, ...,  0.05022224,\n",
       "         0.01786853, -0.02886718],\n",
       "       [ 0.08952362, -0.02546228, -0.09983146, ...,  0.02171757,\n",
       "         0.02952692,  0.03183234],\n",
       "       [ 0.15483541,  0.04011136, -0.11805652, ...,  0.0458651 ,\n",
       "        -0.00745488,  0.11452744]])"
      ]
     },
     "execution_count": 25,
     "metadata": {},
     "output_type": "execute_result"
    }
   ],
   "source": [
    "# ハイパラボリックタンジェント\n",
    "np.tanh(z1)"
   ]
  },
  {
   "cell_type": "code",
   "execution_count": 26,
   "metadata": {},
   "outputs": [
    {
     "data": {
      "text/plain": [
       "array([[-0.03206085,  0.07631008, -0.13526606, ..., -0.03687089,\n",
       "         0.00981999,  0.13111704],\n",
       "       [ 0.05327846,  0.06002502, -0.02527465, ..., -0.02390694,\n",
       "         0.02592052,  0.00818522],\n",
       "       [ 0.01998597,  0.07254904, -0.07593   , ..., -0.03803973,\n",
       "         0.09381029,  0.08643127],\n",
       "       ...,\n",
       "       [ 0.05780168,  0.0940169 , -0.14107822, ...,  0.05022224,\n",
       "         0.01786853, -0.02886718],\n",
       "       [ 0.08952362, -0.02546228, -0.09983146, ...,  0.02171757,\n",
       "         0.02952692,  0.03183234],\n",
       "       [ 0.15483541,  0.04011136, -0.11805652, ...,  0.0458651 ,\n",
       "        -0.00745488,  0.11452744]])"
      ]
     },
     "execution_count": 26,
     "metadata": {},
     "output_type": "execute_result"
    }
   ],
   "source": [
    "# ハイパラボリックタンジェント（検証）\n",
    "(np.exp(z1)-np.exp(-z1))/(np.exp(z1)+np.exp(-z1))"
   ]
  },
  {
   "cell_type": "markdown",
   "metadata": {},
   "source": [
    "### 【問題3】交差エントロピー誤差の実装\n",
    "目的関数（損失関数）を作成します。  \n",
    "多クラス分類の目的関数である交差エントロピー誤差Lは次の数式です。"
   ]
  },
  {
   "cell_type": "code",
   "execution_count": 27,
   "metadata": {},
   "outputs": [
    {
     "name": "stdout",
     "output_type": "stream",
     "text": [
      "shape:\n",
      " (20, 10)\n",
      "[[0.         0.11516668 0.         0.         0.         0.\n",
      "  0.         0.         0.         0.        ]\n",
      " [0.         0.         0.         0.         0.         0.\n",
      "  0.         0.         0.11932115 0.        ]\n",
      " [0.         0.         0.         0.         0.         0.\n",
      "  0.         0.         0.11932848 0.        ]\n",
      " [0.         0.         0.10996453 0.         0.         0.\n",
      "  0.         0.         0.         0.        ]\n",
      " [0.         0.         0.10996211 0.         0.         0.\n",
      "  0.         0.         0.         0.        ]\n",
      " [0.         0.         0.         0.         0.         0.\n",
      "  0.11477621 0.         0.         0.        ]\n",
      " [0.         0.         0.         0.11587696 0.         0.\n",
      "  0.         0.         0.         0.        ]\n",
      " [0.         0.         0.         0.         0.         0.\n",
      "  0.         0.         0.         0.12105371]\n",
      " [0.         0.         0.         0.         0.         0.\n",
      "  0.         0.         0.11931879 0.        ]\n",
      " [0.         0.         0.10996787 0.         0.         0.\n",
      "  0.         0.         0.         0.        ]\n",
      " [0.         0.         0.         0.         0.         0.\n",
      "  0.         0.11252293 0.         0.        ]\n",
      " [0.         0.11516499 0.         0.         0.         0.\n",
      "  0.         0.         0.         0.        ]\n",
      " [0.         0.         0.         0.         0.         0.11064194\n",
      "  0.         0.         0.         0.        ]\n",
      " [0.         0.         0.         0.11587874 0.         0.\n",
      "  0.         0.         0.         0.        ]\n",
      " [0.11380709 0.         0.         0.         0.         0.\n",
      "  0.         0.         0.         0.        ]\n",
      " [0.         0.         0.         0.         0.         0.11063189\n",
      "  0.         0.         0.         0.        ]\n",
      " [0.         0.11516584 0.         0.         0.         0.\n",
      "  0.         0.         0.         0.        ]\n",
      " [0.         0.         0.         0.         0.11943038 0.\n",
      "  0.         0.         0.         0.        ]\n",
      " [0.         0.         0.         0.         0.         0.\n",
      "  0.         0.11253662 0.         0.        ]\n",
      " [0.         0.         0.         0.         0.         0.\n",
      "  0.11478023 0.         0.         0.        ]]\n"
     ]
    }
   ],
   "source": [
    "y = y_train_one_hot[0:20]\n",
    "loss = -y*np.log(sfmax)/len(y)\n",
    "print('shape:\\n',loss.shape)\n",
    "print(loss)"
   ]
  },
  {
   "cell_type": "markdown",
   "metadata": {},
   "source": [
    "### 【問題4】バックプロパゲーションの実装\n",
    "三層のニューラルネットワークのバックプロパゲーションを作成してください。  \n",
    "確率的勾配降下法を行う部分です。"
   ]
  },
  {
   "cell_type": "code",
   "execution_count": 28,
   "metadata": {},
   "outputs": [],
   "source": [
    "# 3層目\n",
    "delta_a3 = sfmax-y\n",
    "delta_b3 = np.sum(delta_a3,axis=0)\n",
    "delta_W3 = np.dot(z2.T,delta_a3)\n",
    "delta_z2 = np.dot(delta_a3,W3.T)"
   ]
  },
  {
   "cell_type": "code",
   "execution_count": 29,
   "metadata": {},
   "outputs": [
    {
     "name": "stdout",
     "output_type": "stream",
     "text": [
      "(20, 10)\n",
      "(10,)\n",
      "(200, 10)\n",
      "(20, 200)\n"
     ]
    }
   ],
   "source": [
    "print(delta_a3.shape)\n",
    "print(delta_b3.shape)\n",
    "print(delta_W3.shape)\n",
    "print(delta_z2.shape)"
   ]
  },
  {
   "cell_type": "code",
   "execution_count": 30,
   "metadata": {},
   "outputs": [],
   "source": [
    "# 2層目\n",
    "delta_a2 = delta_z2*(1-np.tanh(z2)**2)\n",
    "delta_b2 = np.sum(delta_a2,axis=0)\n",
    "delta_W2 = np.dot(z1.T,delta_a2)\n",
    "delta_z1 = np.dot(delta_a2,W2.T)"
   ]
  },
  {
   "cell_type": "code",
   "execution_count": 31,
   "metadata": {},
   "outputs": [
    {
     "name": "stdout",
     "output_type": "stream",
     "text": [
      "(20, 200)\n",
      "(200,)\n",
      "(400, 200)\n",
      "(20, 400)\n"
     ]
    }
   ],
   "source": [
    "print(delta_a2.shape)\n",
    "print(delta_b2.shape)\n",
    "print(delta_W2.shape)\n",
    "print(delta_z1.shape)"
   ]
  },
  {
   "cell_type": "code",
   "execution_count": 32,
   "metadata": {},
   "outputs": [],
   "source": [
    "# 1層目\n",
    "delta_a1 = delta_z1*(1-np.tanh(z1)**2)\n",
    "delta_b1 = np.sum(delta_a1,axis=0)\n",
    "delta_W1 = np.dot(X.T,delta_a1)"
   ]
  },
  {
   "cell_type": "code",
   "execution_count": 33,
   "metadata": {},
   "outputs": [
    {
     "name": "stdout",
     "output_type": "stream",
     "text": [
      "(20, 400)\n",
      "(400,)\n",
      "(784, 400)\n"
     ]
    }
   ],
   "source": [
    "print(delta_a1.shape)\n",
    "print(delta_b1.shape)\n",
    "print(delta_W1.shape)"
   ]
  },
  {
   "cell_type": "markdown",
   "metadata": {},
   "source": [
    "### 【問題5】推定\n",
    "推定を行うメソッドを作成してください。\n",
    "フォワードプロパゲーションによって出力された10個の確率の中で、最も高いものはどれかを判定します。"
   ]
  },
  {
   "cell_type": "code",
   "execution_count": 34,
   "metadata": {
    "scrolled": false
   },
   "outputs": [
    {
     "name": "stdout",
     "output_type": "stream",
     "text": [
      "epoch:  0 loss:   1.101 acc:0.222\n",
      "epoch:  1 loss:   1.075 acc:0.339\n",
      "epoch:  2 loss:   0.842 acc:0.441\n",
      "epoch:  3 loss:   0.496 acc:0.679\n",
      "epoch:  4 loss:   0.358 acc:0.777\n",
      "epoch:  5 loss:   0.296 acc:0.818\n",
      "epoch:  6 loss:   0.257 acc:0.843\n",
      "epoch:  7 loss:   0.232 acc:0.861\n",
      "epoch:  8 loss:   0.215 acc:0.872\n",
      "epoch:  9 loss:   0.203 acc:0.878\n",
      "epoch: 10 loss:   0.194 acc:0.884\n",
      "epoch: 11 loss:   0.187 acc:0.889\n",
      "epoch: 12 loss:   0.180 acc:0.893\n",
      "epoch: 13 loss:   0.175 acc:0.896\n",
      "epoch: 14 loss:   0.170 acc:0.899\n",
      "epoch: 15 loss:   0.166 acc:0.901\n",
      "epoch: 16 loss:   0.162 acc:0.904\n",
      "epoch: 17 loss:   0.158 acc:0.906\n",
      "epoch: 18 loss:   0.155 acc:0.908\n",
      "epoch: 19 loss:   0.152 acc:0.910\n",
      "epoch: 20 loss:   0.149 acc:0.911\n",
      "epoch: 21 loss:   0.146 acc:0.913\n",
      "epoch: 22 loss:   0.144 acc:0.915\n",
      "epoch: 23 loss:   0.141 acc:0.916\n",
      "epoch: 24 loss:   0.139 acc:0.917\n",
      "epoch: 25 loss:   0.137 acc:0.918\n",
      "epoch: 26 loss:   0.135 acc:0.920\n",
      "epoch: 27 loss:   0.133 acc:0.920\n",
      "epoch: 28 loss:   0.131 acc:0.922\n",
      "epoch: 29 loss:   0.129 acc:0.923\n"
     ]
    }
   ],
   "source": [
    "clf = ScratchSimpleNeuralNetrowkClassifier(n_epoch=30, n_features=784,\n",
    "                                           n_nodes1=400, n_nodes2=200, n_output=10,\n",
    "                                           sigma=0.01, n_batch=100,\n",
    "                                           activate_function_key='tanh',\n",
    "                                           lr = 0.01, verbose = True)\n",
    "\n",
    "clf.fit(X_train,y_train_one_hot,X_val,y_val_one_hot)\n",
    "y_pred = clf.predict(X_val)"
   ]
  },
  {
   "cell_type": "code",
   "execution_count": 35,
   "metadata": {
    "scrolled": false
   },
   "outputs": [
    {
     "name": "stdout",
     "output_type": "stream",
     "text": [
      "[0 2 6 ... 2 3 1]\n"
     ]
    }
   ],
   "source": [
    "print(y_pred)"
   ]
  },
  {
   "cell_type": "markdown",
   "metadata": {},
   "source": [
    "### 【問題6】学習と推定\n",
    "MNISTのデータを学習・推定し、Accuracyを計算してください。"
   ]
  },
  {
   "cell_type": "code",
   "execution_count": 36,
   "metadata": {},
   "outputs": [
    {
     "name": "stdout",
     "output_type": "stream",
     "text": [
      "accuracy:0.922\n"
     ]
    }
   ],
   "source": [
    "accuracy = accuracy_score(y_val, y_pred)\n",
    "#precision = precision_score(y_val, y_pred)\n",
    "#recall = recall_score(y_val, y_pred)\n",
    "#f1 = f1_score(y_val, y_pred)\n",
    "\n",
    "print('accuracy:{:.3f}'.format(accuracy))\n",
    "#print('precision',precision)\n",
    "#print('recall',recall)\n",
    "#print('f1',f1)"
   ]
  },
  {
   "cell_type": "markdown",
   "metadata": {},
   "source": [
    "### 【問題7】学習曲線のプロット\n",
    "学習曲線をプロットしてください。\n",
    "\n",
    "ニューラルネットワークは過学習が発生しやすいため、学習曲線の確認が重要です。訓練データと検証データに対するエポックごとの損失（交差エントロピー誤差）を記録できるようにする必要があります。"
   ]
  },
  {
   "cell_type": "code",
   "execution_count": 37,
   "metadata": {
    "scrolled": false
   },
   "outputs": [
    {
     "data": {
      "image/png": "[encoded data removed]",
      "text/plain": [
       "<Figure size 864x576 with 1 Axes>"
      ]
     },
     "metadata": {
      "needs_background": "light"
     },
     "output_type": "display_data"
    }
   ],
   "source": [
    "# epochごとの損失関数の可視化\n",
    "fig = plt.subplots(figsize=(12,8))\n",
    "plt.rcParams[\"font.size\"] = 20\n",
    "\n",
    "plt.plot(clf.log_loss,'rs--')\n",
    "plt.plot(clf.log_loss_val,'bo--');"
   ]
  },
  {
   "cell_type": "code",
   "execution_count": 38,
   "metadata": {},
   "outputs": [
    {
     "data": {
      "image/png": "[encoded data removed]",
      "text/plain": [
       "<Figure size 864x576 with 1 Axes>"
      ]
     },
     "metadata": {
      "needs_background": "light"
     },
     "output_type": "display_data"
    }
   ],
   "source": [
    "# epochごとの正解率の可視化\n",
    "fig = plt.subplots(figsize=(12,8))\n",
    "plt.rcParams[\"font.size\"] = 20\n",
    "\n",
    "plt.plot(clf.log_acc,'rs--')\n",
    "plt.plot(clf.log_acc_val,'bo--');"
   ]
  },
  {
   "cell_type": "markdown",
   "metadata": {},
   "source": [
    "### 【問題8】（アドバンス課題）誤分類の確認\n",
    "誤分類した画像はどのようなものだったかを確認してください。  \n",
    "推定値を用意し、以下のコードを実行してください。"
   ]
  },
  {
   "cell_type": "code",
   "execution_count": 39,
   "metadata": {},
   "outputs": [
    {
     "name": "stdout",
     "output_type": "stream",
     "text": [
      "推定結果/正解\n"
     ]
    },
    {
     "data": {
      "image/png": "[encoded data removed]",
      "text/plain": [
       "<Figure size 432x432 with 5 Axes>"
      ]
     },
     "metadata": {},
     "output_type": "display_data"
    }
   ],
   "source": [
    "\"\"\"\n",
    "語分類結果を並べて表示する。画像の上の表示は「推定結果/正解」である。\n",
    "\n",
    "Parameters:\n",
    "----------\n",
    "y_pred : 推定値のndarray (n_samples,)\n",
    "y_val : 検証データの正解ラベル(n_samples,)\n",
    "X_val : 検証データの特徴量（n_samples, n_features)\n",
    "\"\"\"\n",
    "import numpy as np\n",
    "import matplotlib.pyplot as plt\n",
    "\n",
    "num = 5 # いくつ表示するか\n",
    "print('推定結果/正解')\n",
    "\n",
    "true_false = y_pred==y_val\n",
    "false_list = np.where(true_false==False)[0].astype(np.int)\n",
    "if false_list.shape[0] < num:\n",
    "    num = false_list.shape[0]\n",
    "fig = plt.figure(figsize=(6, 6))\n",
    "fig.subplots_adjust(left=0, right=0.8,  bottom=0, top=0.8, hspace=1, wspace=0.5)\n",
    "for i in range(num):\n",
    "    ax = fig.add_subplot(6, 6, i + 1, xticks=[], yticks=[])\n",
    "    ax.set_title(\"{} / {}\".format(y_pred[false_list[i]],y_val[false_list[i]]))\n",
    "    ax.imshow(X_val.reshape(-1,28,28)[false_list[i]], cmap='gray')"
   ]
  }
 ],
 "metadata": {
  "kernelspec": {
   "display_name": "Python 3",
   "language": "python",
   "name": "python3"
  },
  "language_info": {
   "codemirror_mode": {
    "name": "ipython",
    "version": 3
   },
   "file_extension": ".py",
   "mimetype": "text/x-python",
   "name": "python",
   "nbconvert_exporter": "python",
   "pygments_lexer": "ipython3",
   "version": "3.8.2"
  },
  "toc": {
   "base_numbering": 1,
   "nav_menu": {},
   "number_sections": true,
   "sideBar": true,
   "skip_h1_title": true,
   "title_cell": "目次",
   "title_sidebar": "Contents",
   "toc_cell": true,
   "toc_position": {
    "height": "calc(100% - 180px)",
    "left": "10px",
    "top": "150px",
    "width": "427.59375px"
   },
   "toc_section_display": true,
   "toc_window_display": true
  }
 },
 "nbformat": 4,
 "nbformat_minor": 4
}
