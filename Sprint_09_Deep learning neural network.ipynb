{
 "cells": [
  {
   "cell_type": "markdown",
   "metadata": {},
   "source": [
    "# Sprint 深層学習スクラッチ ニューラルネットワーク"
   ]
  },
  {
   "cell_type": "markdown",
   "metadata": {
    "toc": true
   },
   "source": [
    "<h1>目次<span class=\"tocSkip\"></span></h1>\n",
    "<div class=\"toc\"><ul class=\"toc-item\"><li><span><a href=\"#このSprintについて\" data-toc-modified-id=\"このSprintについて-1\"><span class=\"toc-item-num\">1&nbsp;&nbsp;</span>このSprintについて</a></span><ul class=\"toc-item\"><li><span><a href=\"#Sprintの目的\" data-toc-modified-id=\"Sprintの目的-1.1\"><span class=\"toc-item-num\">1.1&nbsp;&nbsp;</span>Sprintの目的</a></span></li><li><span><a href=\"#どのように学ぶか\" data-toc-modified-id=\"どのように学ぶか-1.2\"><span class=\"toc-item-num\">1.2&nbsp;&nbsp;</span>どのように学ぶか</a></span></li></ul></li><li><span><a href=\"#MNISTデータセット\" data-toc-modified-id=\"MNISTデータセット-2\"><span class=\"toc-item-num\">2&nbsp;&nbsp;</span>MNISTデータセット</a></span><ul class=\"toc-item\"><li><span><a href=\"#データセットの確認\" data-toc-modified-id=\"データセットの確認-2.1\"><span class=\"toc-item-num\">2.1&nbsp;&nbsp;</span>データセットの確認</a></span></li><li><span><a href=\"#平滑化\" data-toc-modified-id=\"平滑化-2.2\"><span class=\"toc-item-num\">2.2&nbsp;&nbsp;</span>平滑化</a></span></li><li><span><a href=\"#画像データの可視化\" data-toc-modified-id=\"画像データの可視化-2.3\"><span class=\"toc-item-num\">2.3&nbsp;&nbsp;</span>画像データの可視化</a></span></li><li><span><a href=\"#前処理\" data-toc-modified-id=\"前処理-2.4\"><span class=\"toc-item-num\">2.4&nbsp;&nbsp;</span>前処理</a></span></li></ul></li><li><span><a href=\"#ニューラルネットワークスクラッチ\" data-toc-modified-id=\"ニューラルネットワークスクラッチ-3\"><span class=\"toc-item-num\">3&nbsp;&nbsp;</span>ニューラルネットワークスクラッチ</a></span><ul class=\"toc-item\"><li><span><a href=\"#ミニバッチ処理\" data-toc-modified-id=\"ミニバッチ処理-3.1\"><span class=\"toc-item-num\">3.1&nbsp;&nbsp;</span>ミニバッチ処理</a></span></li><li><span><a href=\"#学習\" data-toc-modified-id=\"学習-3.2\"><span class=\"toc-item-num\">3.2&nbsp;&nbsp;</span>学習</a></span></li><li><span><a href=\"#【問題1】重みの初期値を決めるコードの作成\" data-toc-modified-id=\"【問題1】重みの初期値を決めるコードの作成-3.3\"><span class=\"toc-item-num\">3.3&nbsp;&nbsp;</span>【問題1】重みの初期値を決めるコードの作成</a></span></li><li><span><a href=\"#【問題2】フォワードプロパゲーションの実装\" data-toc-modified-id=\"【問題2】フォワードプロパゲーションの実装-3.4\"><span class=\"toc-item-num\">3.4&nbsp;&nbsp;</span>【問題2】フォワードプロパゲーションの実装</a></span></li><li><span><a href=\"#活性化関数（フォワードプロバゲーション）\" data-toc-modified-id=\"活性化関数（フォワードプロバゲーション）-3.5\"><span class=\"toc-item-num\">3.5&nbsp;&nbsp;</span>活性化関数（フォワードプロバゲーション）</a></span><ul class=\"toc-item\"><li><span><a href=\"#「シグモイド関数」\" data-toc-modified-id=\"「シグモイド関数」-3.5.1\"><span class=\"toc-item-num\">3.5.1&nbsp;&nbsp;</span>「シグモイド関数」</a></span></li><li><span><a href=\"#「ハイパボリックタンジェント関数」\" data-toc-modified-id=\"「ハイパボリックタンジェント関数」-3.5.2\"><span class=\"toc-item-num\">3.5.2&nbsp;&nbsp;</span>「ハイパボリックタンジェント関数」</a></span></li></ul></li><li><span><a href=\"#ソフトマックス関数\" data-toc-modified-id=\"ソフトマックス関数-3.6\"><span class=\"toc-item-num\">3.6&nbsp;&nbsp;</span>ソフトマックス関数</a></span></li><li><span><a href=\"#【問題3】交差エントロピー誤差の実装\" data-toc-modified-id=\"【問題3】交差エントロピー誤差の実装-3.7\"><span class=\"toc-item-num\">3.7&nbsp;&nbsp;</span>【問題3】交差エントロピー誤差の実装</a></span></li><li><span><a href=\"#【問題4】バックプロパゲーションの実装\" data-toc-modified-id=\"【問題4】バックプロパゲーションの実装-3.8\"><span class=\"toc-item-num\">3.8&nbsp;&nbsp;</span>【問題4】バックプロパゲーションの実装</a></span></li><li><span><a href=\"#【問題5】推定\" data-toc-modified-id=\"【問題5】推定-3.9\"><span class=\"toc-item-num\">3.9&nbsp;&nbsp;</span>【問題5】推定</a></span></li><li><span><a href=\"#【問題6】学習と推定\" data-toc-modified-id=\"【問題6】学習と推定-3.10\"><span class=\"toc-item-num\">3.10&nbsp;&nbsp;</span>【問題6】学習と推定</a></span></li><li><span><a href=\"#【問題7】学習曲線のプロット\" data-toc-modified-id=\"【問題7】学習曲線のプロット-3.11\"><span class=\"toc-item-num\">3.11&nbsp;&nbsp;</span>【問題7】学習曲線のプロット</a></span></li><li><span><a href=\"#【問題8】（アドバンス課題）誤分類の確認\" data-toc-modified-id=\"【問題8】（アドバンス課題）誤分類の確認-3.12\"><span class=\"toc-item-num\">3.12&nbsp;&nbsp;</span>【問題8】（アドバンス課題）誤分類の確認</a></span></li></ul></li></ul></div>"
   ]
  },
  {
   "cell_type": "markdown",
   "metadata": {},
   "source": [
    "## このSprintについて\n",
    "### Sprintの目的\n",
    "* スクラッチを通してニューラルネットワークの基礎を理解する\n",
    "* 画像データの扱い方を知る\n",
    "\n",
    "### どのように学ぶか\n",
    "スクラッチで単純なニューラルネットワークを実装した後、学習と検証を行なっていきます。"
   ]
  },
  {
   "cell_type": "code",
   "execution_count": 1,
   "metadata": {},
   "outputs": [],
   "source": [
    "# ライブラリーインポート\n",
    "import numpy as np\n",
    "import matplotlib.pyplot as plt"
   ]
  },
  {
   "cell_type": "code",
   "execution_count": 34,
   "metadata": {},
   "outputs": [],
   "source": [
    "# 評価指標\n",
    "from sklearn.metrics import accuracy_score\n",
    "from sklearn.metrics import precision_score\n",
    "from sklearn.metrics import recall_score\n",
    "from sklearn.metrics import f1_score"
   ]
  },
  {
   "cell_type": "markdown",
   "metadata": {},
   "source": [
    "## MNISTデータセット\n",
    "ニューラルネットワークスクラッチの検証にはMNISTデータセットを使用します。  \n",
    "各種ライブラリやサイトからダウンロードできますが、ここでは深層学習フレームワークのKerasを用います。  \n",
    "以下のコードを実行すればデータセットをダウンロードし、展開まで行えます。"
   ]
  },
  {
   "cell_type": "markdown",
   "metadata": {},
   "source": [
    "《MNISTとは？》  \n",
    "画像分類のための定番データセットで、手書き数字認識を行います。  \n",
    "このデータセットには訓練用6万枚、テスト用1万枚の28×28ピクセルの白黒画像、およびそれらが0〜9のどの数字であるかというラベルが含まれています。"
   ]
  },
  {
   "cell_type": "markdown",
   "metadata": {},
   "source": [
    "《画像データとは？》  \n",
    "デジタル画像は点の集合で、これをピクセルと呼びます。  \n",
    "一般的に白黒画像であればピクセルには0〜255の値が含まれます。  \n",
    "一方、カラー画像であればR（赤）、G（緑）、B（青）それぞれに対応する0〜255の値が含まれます。  \n",
    "機械学習をする上では、この0〜255の値一つひとつが特徴量として扱われます。  \n",
    "0〜255は符号なしの8ビット整数で表せる範囲になるため、  \n",
    "NumPyであれば「uint8」型の変数として保持できます。"
   ]
  },
  {
   "cell_type": "code",
   "execution_count": 2,
   "metadata": {},
   "outputs": [],
   "source": [
    "# データセットをダウンロードするコード\n",
    "from keras.datasets import mnist\n",
    "(X_train, y_train), (X_test, y_test) = mnist.load_data()"
   ]
  },
  {
   "cell_type": "markdown",
   "metadata": {},
   "source": [
    "### データセットの確認\n",
    "どういったデータなのかを見てみます。"
   ]
  },
  {
   "cell_type": "code",
   "execution_count": 3,
   "metadata": {},
   "outputs": [
    {
     "name": "stdout",
     "output_type": "stream",
     "text": [
      "(60000, 28, 28)\n",
      "(10000, 28, 28)\n",
      "uint8\n"
     ]
    }
   ],
   "source": [
    "print(X_train.shape) # (60000, 28, 28)\n",
    "print(X_test.shape) # (10000, 28, 28)\n",
    "print(X_train[0].dtype) # uint8\n",
    "# print(X_train[0])"
   ]
  },
  {
   "cell_type": "markdown",
   "metadata": {},
   "source": [
    "### 平滑化\n",
    "(1, 28, 28)の各画像を、(1, 784)に変換します。  \n",
    "これまで学んできた機械学習手法や、今回扱う全結合層のみのニューラルネットワークではこの形で扱います。  \n",
    "全てのピクセルが一列になっていることを、平滑化（flatten）してあるという風に表現します。"
   ]
  },
  {
   "cell_type": "code",
   "execution_count": 4,
   "metadata": {},
   "outputs": [
    {
     "name": "stdout",
     "output_type": "stream",
     "text": [
      "(60000, 784)\n",
      "(10000, 784)\n"
     ]
    }
   ],
   "source": [
    "X_train = X_train.reshape(-1, 784)\n",
    "X_test = X_test.reshape(-1, 784)\n",
    "print(X_train.shape)\n",
    "print(X_test.shape)"
   ]
  },
  {
   "cell_type": "markdown",
   "metadata": {},
   "source": [
    "《補足》  \n",
    "ここまで機械学習を学んでくる中で、特徴量の数を「次元」と呼んできました。  \n",
    "その視点ではMNISTは784次元のデータです。  \n",
    "  \n",
    "一方で、NumPyのshapeが(784,)の状態を1次元配列とも呼びます。  \n",
    "画像としての縦横の情報を持つ（28, 28)の状態であれば、2次元配列です。  \n",
    "この視点では2次元のデータです。  \n",
    "さらに、もしもカラー画像であれば(28, 28, 3)ということになり、3次元配列です。  \n",
    "先ほどの視点では3次元のデータになります。  \n",
    "  \n",
    "しかし、白黒でもカラーでも平面画像であり、立体データではないという視点で、2次元のデータです。  \n",
    "画像データを扱う際にはこのように「次元」という言葉が複数の意味合いで使われることに注意してください。"
   ]
  },
  {
   "cell_type": "markdown",
   "metadata": {},
   "source": [
    "### 画像データの可視化\n",
    "画像データを可視化します。plt.imshowに渡します。\n",
    "https://matplotlib.org/api/_as_gen/matplotlib.pyplot.imshow.html"
   ]
  },
  {
   "cell_type": "code",
   "execution_count": 5,
   "metadata": {},
   "outputs": [
    {
     "data": {
      "image/png": "[encoded data removed]",
      "text/plain": [
       "<Figure size 432x288 with 1 Axes>"
      ]
     },
     "metadata": {
      "needs_background": "light"
     },
     "output_type": "display_data"
    }
   ],
   "source": [
    "import matplotlib.pyplot as plt\n",
    "%matplotlib inline\n",
    "\n",
    "index = 0\n",
    "image = X_train[index].reshape(28,28)\n",
    "# X_train[index]: (784,)\n",
    "# image: (28, 28)\n",
    "plt.imshow(image, 'gray')\n",
    "plt.title('label : {}'.format(y_train[index]))\n",
    "plt.show()"
   ]
  },
  {
   "cell_type": "markdown",
   "metadata": {},
   "source": [
    "《発展的話題》\n",
    "\n",
    "画像データは符号なし8ビット整数のuint8型で保持されることが一般的ですが、plt.imshowはより自由な配列を画像として表示することが可能です。例えば、以下のようにマイナスの値を持ったfloat64型の浮動小数点であってもエラーにはならないし、先ほどと全く同じ風に表示されます。\n",
    "  \n",
    "これは、自動的に値を0〜255の整数に変換して処理するように作られているからです。uint8型であっても最小値が0、最大値が255でない場合には色合いがおかしくなります。それを防ぐためには次のように引数を入れてください。\n",
    "  \n",
    "画像関係のライブラリではこの自動的なスケーリングが思わぬ結果を生むことがあるので、新しいメソッドを使うときには確認しておきましょう。"
   ]
  },
  {
   "cell_type": "markdown",
   "metadata": {},
   "source": [
    "### 前処理\n",
    "画像は0から255のuint8型で表されますが、機械学習をする上では0から1のfloat型で扱うことになります。\n",
    "以下のコードで変換可能です。"
   ]
  },
  {
   "cell_type": "code",
   "execution_count": 6,
   "metadata": {},
   "outputs": [
    {
     "name": "stdout",
     "output_type": "stream",
     "text": [
      "1.0\n",
      "0.0\n"
     ]
    }
   ],
   "source": [
    "# 型変換、正規化\n",
    "X_train = X_train.astype(np.float)\n",
    "X_test = X_test.astype(np.float)\n",
    "X_train /= 255\n",
    "X_test /= 255\n",
    "print(X_train.max()) # 1.0\n",
    "print(X_train.min()) # 0.0"
   ]
  },
  {
   "cell_type": "code",
   "execution_count": 7,
   "metadata": {},
   "outputs": [
    {
     "name": "stdout",
     "output_type": "stream",
     "text": [
      "(48000, 784)\n",
      "(12000, 784)\n"
     ]
    }
   ],
   "source": [
    "# 訓練データと、検証データに分割\n",
    "from sklearn.model_selection import train_test_split\n",
    "\n",
    "X_train, X_val, y_train, y_val = train_test_split(X_train, y_train, test_size=0.2)\n",
    "print(X_train.shape)\n",
    "print(X_val.shape)"
   ]
  },
  {
   "cell_type": "markdown",
   "metadata": {},
   "source": [
    "また、正解ラベルは0から9の整数ですが、ニューラルネットワークで多クラス分類を行う際にはone-hot表現に変換します。scikit-learnのOneHotEncoderを使用したコードが以下です。このone-hot表現による値はそのラベルである確率を示していることになるため、float型で扱います。\n",
    "\n",
    "https://scikit-learn.org/stable/modules/generated/sklearn.preprocessing.OneHotEncoder.html"
   ]
  },
  {
   "cell_type": "code",
   "execution_count": 8,
   "metadata": {},
   "outputs": [
    {
     "name": "stdout",
     "output_type": "stream",
     "text": [
      "(48000,)\n",
      "(48000, 10)\n",
      "float64\n"
     ]
    }
   ],
   "source": [
    "# 正解ラベル値をone-hotエンコーディング\n",
    "from sklearn.preprocessing import OneHotEncoder\n",
    "\n",
    "enc = OneHotEncoder(handle_unknown='ignore', sparse=False)\n",
    "y_train_one_hot = enc.fit_transform(y_train[:, np.newaxis])\n",
    "y_val_one_hot = enc.transform(y_val[:, np.newaxis])\n",
    "print(y_train.shape) # (60000,)\n",
    "print(y_train_one_hot.shape) # (60000, 10)\n",
    "print(y_train_one_hot.dtype) # float64"
   ]
  },
  {
   "cell_type": "markdown",
   "metadata": {},
   "source": [
    "## ニューラルネットワークスクラッチ"
   ]
  },
  {
   "cell_type": "markdown",
   "metadata": {},
   "source": [
    "ニューラルネットワークのクラスをスクラッチで作成していきます。  \n",
    "NumPyなど最低限のライブラリのみを使いアルゴリズムを実装していきます。  \n",
    "  \n",
    "今回は多クラス分類を行う3層のニューラルネットワークを作成します。  \n",
    "層の数などは固定した上でニューラルネットワークの基本を学びます。  \n",
    "次のSprintで層を自由に変えられる設計にしていきます。\n",
    "\n",
    "以下に雛形を用意してあります。  \n",
    "このScratchSimpleNeuralNetrowkClassifierクラスにコードを書き加えていってください。"
   ]
  },
  {
   "cell_type": "markdown",
   "metadata": {},
   "source": [
    "### ミニバッチ処理\n",
    "これまでの機械学習スクラッチでは、全てのサンプルを一度に計算していました。  \n",
    "しかし、ニューラルネットワークではデータを分割して入力する確率的勾配降下法が一般的です。  \n",
    "分割した際のひとかたまりをミニバッチ、そのサンプル数をバッチサイズと呼びます。\n",
    "  \n",
    "今回はバッチサイズを20とします。  \n",
    "今回使う訓練データは48000枚ですから、48000÷20で2400回の更新を繰り返すことになります。  \n",
    "ニューラルネットワークではこれを2400回 イテレーション（iteration） すると呼びます。  \n",
    "訓練データを一度全て見ると1回のエポック（epoch）が終わったことになります。  \n",
    "このエポックを複数回繰り返し、学習が完了します。\n",
    "\n",
    "これを実現するための簡素なイテレータを用意しました。for文で呼び出すと、ミニバッチを取得できます。"
   ]
  },
  {
   "cell_type": "code",
   "execution_count": 71,
   "metadata": {},
   "outputs": [],
   "source": [
    "# ミニバッチ処理のクラス\n",
    "class GetMiniBatch:\n",
    "    \"\"\"\n",
    "    ミニバッチを取得するイテレータ\n",
    "\n",
    "    Parameters\n",
    "    ----------\n",
    "    X : 次の形のndarray, shape (n_samples, n_features)\n",
    "      訓練データ\n",
    "    y : 次の形のndarray, shape (n_samples, 1)\n",
    "      正解値\n",
    "    batch_size : int\n",
    "      バッチサイズ\n",
    "    seed : int\n",
    "      NumPyの乱数のシード\n",
    "    \"\"\"\n",
    "    def __init__(self, X, y, batch_size = 20, seed=None):\n",
    "        self.batch_size = batch_size\n",
    "        np.random.seed(seed)\n",
    "        shuffle_index = np.random.permutation(np.arange(X.shape[0]))\n",
    "        self._X = X[shuffle_index]\n",
    "        self._y = y[shuffle_index]\n",
    "        self._stop = np.ceil(X.shape[0]/self.batch_size).astype(np.int)\n",
    "    def __len__(self):\n",
    "        return self._stop\n",
    "    def __getitem__(self,item):\n",
    "        p0 = item*self.batch_size\n",
    "        p1 = item*self.batch_size + self.batch_size\n",
    "        return self._X[p0:p1], self._y[p0:p1]        \n",
    "    def __iter__(self):\n",
    "        self._counter = 0\n",
    "        return self\n",
    "    def __next__(self):\n",
    "        if self._counter >= self._stop:\n",
    "            raise StopIteration()\n",
    "        p0 = self._counter*self.batch_size\n",
    "        p1 = self._counter*self.batch_size + self.batch_size\n",
    "        self._counter += 1\n",
    "        return self._X[p0:p1], self._y[p0:p1]"
   ]
  },
  {
   "cell_type": "code",
   "execution_count": 10,
   "metadata": {},
   "outputs": [
    {
     "name": "stdout",
     "output_type": "stream",
     "text": [
      "2400\n",
      "(array([[0., 0., 0., ..., 0., 0., 0.],\n",
      "       [0., 0., 0., ..., 0., 0., 0.],\n",
      "       [0., 0., 0., ..., 0., 0., 0.],\n",
      "       ...,\n",
      "       [0., 0., 0., ..., 0., 0., 0.],\n",
      "       [0., 0., 0., ..., 0., 0., 0.],\n",
      "       [0., 0., 0., ..., 0., 0., 0.]]), array([0, 5, 8, 7, 4, 1, 6, 9, 3, 5, 0, 2, 8, 8, 4, 1, 8, 5, 3, 2],\n",
      "      dtype=uint8))\n"
     ]
    }
   ],
   "source": [
    "# ミニバッチ処理\n",
    "get_mini_batch = GetMiniBatch(X_train, y_train, batch_size=20)\n",
    "print(len(get_mini_batch)) # 2400\n",
    "print(get_mini_batch[5]) # 5番目のミニバッチが取得できる\n",
    "\n",
    "for mini_X_train, mini_y_train in get_mini_batch:\n",
    "    # このfor文内でミニバッチが使える\n",
    "    pass"
   ]
  },
  {
   "cell_type": "code",
   "execution_count": 88,
   "metadata": {},
   "outputs": [],
   "source": [
    "# スクラッチ　ニューラルネットワーク\n",
    "class ScratchSimpleNeuralNetrowkClassifier():\n",
    "    \"\"\"\n",
    "    シンプルな三層ニューラルネットワーク分類器\n",
    "    Parameters\n",
    "    ----------\n",
    "\n",
    "    Attributes\n",
    "    ----------\n",
    "    \"\"\"\n",
    "    def __init__(self, n_epoch=50, n_features=784, n_nodes1=400, n_nodes2=200, \n",
    "                 n_output=10, sigma=0.01, n_batch=20, \n",
    "                 activate_function_key='tanh', lr = 0.01, verbose = False):\n",
    "        \n",
    "        self.n_epoch = n_epoch\n",
    "        self.n_features = n_features\n",
    "        self.n_nodes1 = n_nodes1\n",
    "        self.n_nodes2 = n_nodes2\n",
    "        self.n_output = n_output\n",
    "        self.sigma = sigma\n",
    "        self.n_batch = n_batch\n",
    "        self.activate_function_key = activate_function_key\n",
    "        self.lr = lr\n",
    "        self.verbose = verbose\n",
    "        \n",
    "    def initial_weight(self):\n",
    "        self.W1 = self.sigma * np.random.randn(self.n_features, self.n_nodes1)\n",
    "        self.b1 = np.zeros(self.n_nodes1)\n",
    "        self.W2 = self.sigma * np.random.randn(self.n_nodes1, self.n_nodes2)\n",
    "        self.b2 = np.zeros(self.n_nodes2)\n",
    "        self.W3 = self.sigma * np.random.randn(self.n_nodes2, self.n_output)\n",
    "        self.b3 = np.zeros(self.n_output)\n",
    "        \n",
    "    def activation_function(self,X):\n",
    "        if self.activate_function_key == 'sigmoid':\n",
    "            return 1/(1+np.exp(-X))\n",
    "        \n",
    "        elif self.activate_function_key == 'tanh':\n",
    "            return np.tanh(X)\n",
    "    \n",
    "    def softmax(self,X):\n",
    "        \n",
    "        return (np.exp(X-np.max(X)).T/np.sum(np.exp(X-np.max(X)),axis=1)).T\n",
    "    \n",
    "    def loss_function(self,y,yt):\n",
    "        delta = 1e-7\n",
    "        return -np.mean(yt*np.log(y+delta))\n",
    "    \n",
    "    def gradient_descent(self,X,y,yt):\n",
    "        \n",
    "            # 3層目\n",
    "            delta_a3 = y-yt\n",
    "            delta_b3 = np.sum(delta_a3,axis=0)\n",
    "            delta_W3 = np.dot(self.z2.T,delta_a3)\n",
    "            delta_z2 = np.dot(delta_a3,self.W3.T)\n",
    "        \n",
    "            self.W3 -= self.lr*delta_W3\n",
    "            self.b3 -= self.lr*delta_b3\n",
    "        \n",
    "            # 2層目\n",
    "            if self.activate_function_key == 'sigmoid':\n",
    "                delta_a2 = delta_z2*(1-self.activation_function(self.z2))*self.activation_function(self.z2)\n",
    "            \n",
    "            elif self.activate_function_key == 'tanh':\n",
    "                delta_a2 = delta_z2*(1-np.tanh(self.z2)**2)\n",
    "            \n",
    "            delta_b2 = np.sum(delta_a2,axis=0)\n",
    "            delta_W2 = np.dot(self.z1.T,delta_a2)\n",
    "            delta_z1 = np.dot(delta_a2,self.W2.T)\n",
    "        \n",
    "            self.W2 -= self.lr*delta_W2\n",
    "            self.b2 -= self.lr*delta_b2\n",
    "        \n",
    "            # 1層目\n",
    "            if self.activate_function_key == 'sigmoid':\n",
    "                delta_a1 = delta_z1*(1-self.activation_function(self.z1))*self.activation_function(self.z1)\n",
    "            \n",
    "            elif self.activate_function_key == 'tanh':\n",
    "                delta_a1 = delta_z1*(1-np.tanh(self.z1)**2)\n",
    "                \n",
    "            delta_b1 = np.sum(delta_a1,axis=0)\n",
    "            delta_W1 = np.dot(X.T,delta_a1)\n",
    "        \n",
    "            self.W1 -= self.lr*delta_W1\n",
    "            self.b1 -= self.lr*delta_b1\n",
    "                \n",
    "    def fit(self, X, y, X_val=False, y_val=False):\n",
    "        \"\"\"\n",
    "        ニューラルネットワーク分類器を学習する。\n",
    "\n",
    "        Parameters\n",
    "        ----------\n",
    "        X : 次の形のndarray, shape (n_samples, n_features)\n",
    "            訓練データの特徴量\n",
    "        y : 次の形のndarray, shape (n_samples, )\n",
    "            訓練データの正解値\n",
    "        X_val : 次の形のndarray, shape (n_samples, n_features)\n",
    "            検証データの特徴量\n",
    "        y_val : 次の形のndarray, shape (n_samples, )\n",
    "            検証データの正解値\n",
    "        \"\"\"\n",
    "        # 重みの初期化\n",
    "        self.initial_weight()\n",
    "        \n",
    "        # エポックごとのloss_functionを記録するリスト\n",
    "        self.log_loss = []\n",
    "        self.log_loss_val = []\n",
    "        \n",
    "        # エポックごとのTrainデータの推定を評価：Accuracy\n",
    "        self.log_acc = []\n",
    "        self.log_acc_val = []\n",
    "        \n",
    "        for epoch in range(self.n_epoch):\n",
    "            # ミニバッチ処理\n",
    "            get_mini_batch = GetMiniBatch(X, y, batch_size=self.n_batch)\n",
    "            \n",
    "            self.loss = 0\n",
    "            self.true_y = np.array([])\n",
    "            self.pred_y = np.array([])\n",
    "            \n",
    "            for mini_X_train, mini_y_train in get_mini_batch:\n",
    "            \n",
    "                # 1層目\n",
    "                self.z1 = self.activation_function(np.dot(mini_X_train,self.W1) + self.b1)\n",
    "            \n",
    "                # 2層目\n",
    "                self.z2 = self.activation_function(np.dot(self.z1,self.W2) + self.b2)\n",
    "            \n",
    "                # 3層目（ソフトマックス関数）\n",
    "                yhat = self.softmax(np.dot(self.z2,self.W3) + self.b3)\n",
    "                \n",
    "                # バックプロパゲーション（確率的勾配降下法）\n",
    "                self.gradient_descent(mini_X_train,yhat,mini_y_train)\n",
    "                \n",
    "                # ミニバッチデータの正解値、推定値を記録\n",
    "                self.true_y = np.concatenate([self.true_y,np.argmax(mini_y_train,axis=1)])\n",
    "                self.pred_y = np.concatenate([self.pred_y,np.argmax(yhat,axis=1)])\n",
    "                \n",
    "                # 損失関数\n",
    "                self.loss += self.loss_function(yhat,mini_y_train)\n",
    "            \n",
    "            # epochごとに損失関数を記録\n",
    "            self.log_loss.append(self.loss/self.n_batch)\n",
    "            \n",
    "            # Accuracy\n",
    "            acc = accuracy_score(self.true_y, self.pred_y)\n",
    "            self.log_acc.append(acc)\n",
    "            \n",
    "            # Valデータが入力されたら計算\n",
    "            if (type(X_val) != bool):\n",
    "                # 1層目\n",
    "                self.z1_val = self.activation_function(np.dot(X_val,self.W1) + self.b1)\n",
    "            \n",
    "                # 2層目\n",
    "                self.z2_val = self.activation_function(np.dot(self.z1_val,self.W2) + self.b2)\n",
    "            \n",
    "                # 3層目（ソフトマックス関数）\n",
    "                yhat_val = self.softmax(np.dot(self.z2_val,self.W3) + self.b3)\n",
    "                \n",
    "                # 損失関数\n",
    "                self.loss_val = self.loss_function(yhat_val,y_val)\n",
    "                self.log_loss_val.append(self.loss_val)\n",
    "                \n",
    "                # Accuracy\n",
    "                \n",
    "                acc_val = accuracy_score(np.argmax(y_val,axis=1), np.argmax(yhat_val,axis=1))\n",
    "                self.log_acc_val.append(acc_val)\n",
    "            \n",
    "            #verboseをTrueにした際は学習過程などを出力する\n",
    "            if self.verbose:\n",
    "                print('epoch:{:>3} loss:{:>8,.3f} acc:{:>5,.3f}'.format(epoch,self.loss/self.n_batch,acc))\n",
    "            \n",
    "    def predict(self, X):\n",
    "        \"\"\"\n",
    "        ニューラルネットワーク分類器を使い推定する。\n",
    "\n",
    "        Parameters\n",
    "        ----------\n",
    "        X : 次の形のndarray, shape (n_samples, n_features)\n",
    "            サンプル\n",
    "\n",
    "        Returns\n",
    "        -------\n",
    "            次の形のndarray, shape (n_samples, 1)\n",
    "            推定結果\n",
    "        \"\"\"\n",
    "        # 1層目\n",
    "        self.pred_z1 = self.activation_function(np.dot(X,self.W1) + self.b1)\n",
    "            \n",
    "        # 2層目\n",
    "        self.pred_z2 = self.activation_function(np.dot(self.pred_z1,self.W2) + self.b2)\n",
    "        \n",
    "        return np.argmax(np.dot(self.pred_z2,self.W3) + self.b3, axis=1)"
   ]
  },
  {
   "cell_type": "markdown",
   "metadata": {},
   "source": [
    "### 学習\n",
    "ニューラルネットワークの学習はフォワードプロパゲーションとバックプロパゲションの繰り返しになります。"
   ]
  },
  {
   "cell_type": "markdown",
   "metadata": {},
   "source": [
    "### 【問題1】重みの初期値を決めるコードの作成\n",
    "ニューラルネットワークの各層の重みの初期値を決めるコードを作成してください。\n",
    "  \n",
    "重みの初期値は様々な方法が提案されていますが、今回はガウス分布による単純な初期化を行います。  \n",
    "バイアスに関しても同様です。  \n",
    "  \n",
    "以下のコードを参考にしてください。  \n",
    "標準偏差の値sigmaはハイパーパラメータです。発展的な重みの初期化方法については次のSprintで扱います。"
   ]
  },
  {
   "cell_type": "code",
   "execution_count": 12,
   "metadata": {},
   "outputs": [
    {
     "name": "stdout",
     "output_type": "stream",
     "text": [
      "W1 (784, 400)\n"
     ]
    }
   ],
   "source": [
    "# 重みの初期値\n",
    "n_features = 784\n",
    "n_nodes1 = 400\n",
    "n_nodes2 = 200\n",
    "n_output =10\n",
    "\n",
    "# ガウス分布の標準偏差\n",
    "sigma = 0.01 \n",
    "W1 = sigma * np.random.randn(n_features, n_nodes1)\n",
    "print('W1',W1.shape)"
   ]
  },
  {
   "cell_type": "code",
   "execution_count": 13,
   "metadata": {},
   "outputs": [
    {
     "name": "stdout",
     "output_type": "stream",
     "text": [
      "W1 (784, 400)\n",
      "W2 (400, 200)\n",
      "W3 (200, 10)\n",
      "b1 (400,)\n",
      "b2 (200,)\n",
      "b3 (10,)\n"
     ]
    }
   ],
   "source": [
    "W1 = sigma * np.random.randn(n_features, n_nodes1)\n",
    "b1 = sigma * np.random.randn(n_nodes1)\n",
    "W2 = sigma * np.random.randn(n_nodes1, n_nodes2)\n",
    "b2 = sigma * np.random.randn(n_nodes2)\n",
    "W3 = sigma * np.random.randn(n_nodes2, n_output)\n",
    "b3 = sigma * np.random.randn(n_output)\n",
    "\n",
    "print('W1',W1.shape)\n",
    "print('W2',W2.shape)\n",
    "print('W3',W3.shape)\n",
    "print('b1',b1.shape)\n",
    "print('b2',b2.shape)\n",
    "print('b3',b3.shape)"
   ]
  },
  {
   "cell_type": "markdown",
   "metadata": {},
   "source": [
    "### 【問題2】フォワードプロパゲーションの実装\n",
    "三層のニューラルネットワークの フォワードプロパゲーションを作成してください。\n",
    "以下の説明ではノード数は1層目は400、2層目は200としますが、変更しても構いません。  \n",
    "  \n",
    "各層の数式を以下に示します。  \n",
    "今回はそれぞれの記号が表す配列が、実装上どのようなndarrayのshapeになるかを併記してあります。"
   ]
  },
  {
   "cell_type": "markdown",
   "metadata": {},
   "source": [
    "### 活性化関数（フォワードプロバゲーション）\n",
    "活性化関数を作成し、フォワードプロパゲーションの中で使用します。  \n",
    "切り替えられるように実装することを推奨しますが、片方でも構いません。\n",
    "  \n",
    "#### 「シグモイド関数」\n",
    "https://docs.scipy.org/doc/numpy-1.15.1/reference/generated/numpy.exp.html  \n",
    "  \n",
    "#### 「ハイパボリックタンジェント関数」\n",
    "https://docs.scipy.org/doc/numpy-1.15.1/reference/generated/numpy.tanh.html  "
   ]
  },
  {
   "cell_type": "markdown",
   "metadata": {},
   "source": [
    "### ソフトマックス関数\n",
    "ソフトマックス関数を作成し、フォワードプロパゲーションの中で使用します。  \n",
    "これも活性化関数の一種ですが、多クラス分類の出力層で使われる特性上、区別して扱われることが多いです。"
   ]
  },
  {
   "cell_type": "code",
   "execution_count": 14,
   "metadata": {},
   "outputs": [],
   "source": [
    "X = X_train[0:20]"
   ]
  },
  {
   "cell_type": "code",
   "execution_count": 15,
   "metadata": {},
   "outputs": [
    {
     "name": "stdout",
     "output_type": "stream",
     "text": [
      "z1.shape: (20, 400)\n",
      "[[ 0.02812451  0.15667788 -0.01362116 ...  0.07370417  0.19615857\n",
      "  -0.12585811]\n",
      " [ 0.14164142  0.10676623  0.01204119 ... -0.03421639 -0.12484074\n",
      "  -0.01917686]\n",
      " [-0.0620503   0.10002448 -0.08113418 ... -0.05596895  0.10510489\n",
      "  -0.08800074]\n",
      " ...\n",
      " [ 0.02183395  0.12181001  0.22668829 ... -0.00772422 -0.00262104\n",
      "  -0.06935649]\n",
      " [ 0.08155381  0.25331749 -0.03174363 ...  0.04633082 -0.03829877\n",
      "   0.10362066]\n",
      " [-0.02258232 -0.10400432  0.16578282 ... -0.01402108 -0.04445547\n",
      "  -0.08541545]]\n"
     ]
    }
   ],
   "source": [
    "# 1層目の線形結合\n",
    "z1 = np.dot(X,W1)# + b1\n",
    "print('z1.shape:',z1.shape)\n",
    "print(z1)"
   ]
  },
  {
   "cell_type": "code",
   "execution_count": 16,
   "metadata": {},
   "outputs": [
    {
     "name": "stdout",
     "output_type": "stream",
     "text": [
      "sig1.shape: (20, 400)\n",
      "[[0.50703066 0.53908954 0.49659476 ... 0.5184177  0.548883   0.46857694]\n",
      " [0.53535127 0.52666623 0.50301026 ... 0.49144674 0.46883029 0.49520593]\n",
      " [0.4844924  0.52498529 0.47972758 ... 0.48601142 0.52625206 0.478014  ]\n",
      " ...\n",
      " [0.50545827 0.5304149  0.55643063 ... 0.49806895 0.49934474 0.48266782]\n",
      " [0.52037716 0.56299288 0.49206476 ... 0.51158063 0.49042648 0.52588201]\n",
      " [0.49435466 0.47402233 0.54135104 ... 0.49649479 0.48888796 0.47865911]]\n"
     ]
    }
   ],
   "source": [
    "# 1層目の活性化関数\n",
    "sig1 = 1/(1+np.exp(-z1))\n",
    "print('sig1.shape:',sig1.shape)\n",
    "print(sig1)"
   ]
  },
  {
   "cell_type": "code",
   "execution_count": 17,
   "metadata": {},
   "outputs": [
    {
     "name": "stdout",
     "output_type": "stream",
     "text": [
      "z2.shape: (20, 200)\n",
      "[[-0.06289041  0.07517689 -0.05437943 ... -0.07147765  0.03410473\n",
      "   0.03705698]\n",
      " [-0.0644117   0.07738929 -0.05174169 ... -0.0626671   0.03402284\n",
      "   0.03183347]\n",
      " [-0.05955736  0.08260583 -0.05447198 ... -0.07211531  0.03544174\n",
      "   0.03812393]\n",
      " ...\n",
      " [-0.0595743   0.07925044 -0.05143584 ... -0.06683644  0.03599934\n",
      "   0.04052975]\n",
      " [-0.06695191  0.07184838 -0.04747132 ... -0.06767138  0.03410703\n",
      "   0.03370912]\n",
      " [-0.06254059  0.07438135 -0.05007396 ... -0.07075676  0.03930607\n",
      "   0.03528463]]\n"
     ]
    }
   ],
   "source": [
    "# 2層目の線形結合\n",
    "z2 = np.dot(sig1,W2) + b2\n",
    "print('z2.shape:',z2.shape)\n",
    "print(z2)"
   ]
  },
  {
   "cell_type": "code",
   "execution_count": 18,
   "metadata": {},
   "outputs": [
    {
     "name": "stdout",
     "output_type": "stream",
     "text": [
      "sig2.shape: (20, 200)\n",
      "[[0.48428258 0.51878538 0.48640849 ... 0.48213819 0.50852536 0.50926319]\n",
      " [0.48390264 0.51933767 0.48706746 ... 0.48433835 0.50850489 0.50795769]\n",
      " [0.48511506 0.52063972 0.48638537 ... 0.48197898 0.50885951 0.50952983]\n",
      " ...\n",
      " [0.48511083 0.51980225 0.48714387 ... 0.48329711 0.50899886 0.51013105]\n",
      " [0.48326827 0.51795437 0.4881344  ... 0.48308861 0.50852593 0.50842648]\n",
      " [0.48436995 0.51858677 0.48748412 ... 0.48231819 0.50982525 0.50882024]]\n"
     ]
    }
   ],
   "source": [
    "# 2層目の活性化関数\n",
    "sig2 = 1/(1+np.exp(-z2))\n",
    "print('sig2.shape:',sig2.shape)\n",
    "print(sig2)"
   ]
  },
  {
   "cell_type": "code",
   "execution_count": 19,
   "metadata": {},
   "outputs": [
    {
     "name": "stdout",
     "output_type": "stream",
     "text": [
      "z3.shape: (20, 10)\n",
      "[[-0.03828898 -0.07021635 -0.02103208  0.06676241  0.15796692 -0.22288435\n",
      "   0.00577704 -0.02615167  0.05385693 -0.13218171]\n",
      " [-0.03834688 -0.07058193 -0.02090707  0.06691775  0.15804703 -0.22298141\n",
      "   0.00610687 -0.02599271  0.05386561 -0.13224749]\n",
      " [-0.03841468 -0.07046148 -0.02092698  0.06666056  0.15817028 -0.22305283\n",
      "   0.00569127 -0.02619325  0.05382994 -0.13217284]\n",
      " [-0.0382945  -0.07050496 -0.02072121  0.06672207  0.15799125 -0.22307137\n",
      "   0.00596156 -0.02604227  0.0535831  -0.13205491]\n",
      " [-0.03824203 -0.07064366 -0.0206227   0.06672837  0.15827358 -0.22286949\n",
      "   0.00617588 -0.02608211  0.05354506 -0.13234324]\n",
      " [-0.03849384 -0.07043674 -0.02088527  0.06671835  0.15817625 -0.22291508\n",
      "   0.00587602 -0.02656777  0.05381156 -0.132128  ]\n",
      " [-0.03847225 -0.07055249 -0.02087735  0.06682037  0.15796627 -0.22304673\n",
      "   0.00595262 -0.02613208  0.05390141 -0.13215431]\n",
      " [-0.03847351 -0.070415   -0.02082822  0.06684351  0.15827506 -0.22301742\n",
      "   0.00594625 -0.02606241  0.05402319 -0.13223542]\n",
      " [-0.03834017 -0.07060906 -0.02075003  0.06670782  0.15799143 -0.22274652\n",
      "   0.00595731 -0.02642393  0.05373234 -0.13214016]\n",
      " [-0.03844872 -0.07045253 -0.02074058  0.06656498  0.15815977 -0.22308259\n",
      "   0.00615797 -0.0261862   0.05388453 -0.13222739]\n",
      " [-0.03840976 -0.07050656 -0.02068458  0.06676738  0.15806535 -0.22309911\n",
      "   0.00588618 -0.0261313   0.05366487 -0.13209087]\n",
      " [-0.03825599 -0.07044441 -0.02082521  0.0667301   0.15812856 -0.2230129\n",
      "   0.00573426 -0.02610677  0.05373297 -0.13222036]\n",
      " [-0.03828425 -0.0702089  -0.02086203  0.06675462  0.15811492 -0.22300037\n",
      "   0.00594335 -0.02628838  0.0539618  -0.13225536]\n",
      " [-0.03856236 -0.07060274 -0.0209756   0.06685282  0.15805929 -0.22323273\n",
      "   0.00594833 -0.02616694  0.05391842 -0.13226245]\n",
      " [-0.0383672  -0.07068002 -0.02065657  0.06678145  0.15807684 -0.22279209\n",
      "   0.00604787 -0.02602084  0.05403895 -0.13200905]\n",
      " [-0.03833518 -0.07077752 -0.02077733  0.0666883   0.15818262 -0.22276002\n",
      "   0.00599325 -0.02620135  0.05384427 -0.13195786]\n",
      " [-0.03825365 -0.07048937 -0.02088999  0.06673125  0.15810806 -0.22284384\n",
      "   0.00584218 -0.02614493  0.05368394 -0.13217687]\n",
      " [-0.03827187 -0.07044325 -0.02083     0.06673654  0.15817874 -0.22290873\n",
      "   0.00600928 -0.02605751  0.05385178 -0.13223665]\n",
      " [-0.03835544 -0.07059207 -0.02059241  0.0668335   0.15826509 -0.22277745\n",
      "   0.00603874 -0.02599698  0.05403094 -0.13227004]\n",
      " [-0.03826311 -0.07066846 -0.02063797  0.06676537  0.15814966 -0.22300093\n",
      "   0.00612776 -0.02610774  0.05356825 -0.13223718]]\n"
     ]
    }
   ],
   "source": [
    "# 3層目の線形結合\n",
    "z3 = np.dot(sig2,W3) + b3\n",
    "print('z3.shape:',z3.shape)\n",
    "print(z3)"
   ]
  },
  {
   "cell_type": "code",
   "execution_count": 20,
   "metadata": {
    "scrolled": false
   },
   "outputs": [
    {
     "name": "stdout",
     "output_type": "stream",
     "text": [
      "sfmax.shape: (20, 10)\n",
      "[[0.09795089 0.09487297 0.09965588 0.10880068 0.11919039 0.08144035\n",
      "  0.10236371 0.09914699 0.10740558 0.08917257]\n",
      " [0.09794176 0.09483495 0.09966483 0.10881375 0.11919573 0.08142957\n",
      "  0.10239387 0.09915926 0.10740272 0.08916356]\n",
      " [0.09794256 0.09485357 0.09967041 0.10879402 0.11921948 0.08142994\n",
      "  0.10235909 0.0991469  0.10740705 0.08917699]\n",
      " [0.09795054 0.09484578 0.09968707 0.10879651 0.11919353 0.08142528\n",
      "  0.1023828  0.09915804 0.10737639 0.08918406]\n",
      " [0.09795169 0.09482876 0.09969282 0.10879276 0.11922232 0.0814384\n",
      "  0.10240057 0.09915004 0.10736792 0.08915471]\n",
      " [0.09793473 0.09485585 0.09967449 0.10880023 0.11922009 0.08144109\n",
      "  0.10237792 0.0991097  0.10740499 0.08918092]\n",
      " [0.09793434 0.09484244 0.09967273 0.10880854 0.11919201 0.08142829\n",
      "  0.10238314 0.09915035 0.10741189 0.08917628]\n",
      " [0.0979272  0.09484868 0.09967049 0.10880326 0.11922028 0.08142484\n",
      "  0.10237516 0.09915015 0.10741727 0.08916267]\n",
      " [0.09794824 0.09483801 0.0996864  0.10879737 0.11919619 0.08145354\n",
      "  0.10238463 0.0991224  0.10739479 0.08917843]\n",
      " [0.09793418 0.09484954 0.09968386 0.10877802 0.11921208 0.08142332\n",
      "  0.1024016  0.09914249 0.10740738 0.08916753]\n",
      " [0.09793997 0.09484632 0.09969145 0.10880223 0.11920322 0.08142361\n",
      "  0.10237583 0.09914993 0.10738595 0.0891815 ]\n",
      " [0.09795502 0.09485221 0.09967742 0.10879817 0.11921075 0.08143063\n",
      "  0.10236027 0.09915235 0.10739325 0.08916994]\n",
      " [0.09794806 0.09487049 0.09966948 0.10879617 0.11920402 0.08142816\n",
      "  0.10237729 0.0991301  0.10741323 0.089163  ]\n",
      " [0.097929   0.09484105 0.09966649 0.10881595 0.11920734 0.08141604\n",
      "  0.10238635 0.09915042 0.10741754 0.08916982]\n",
      " [0.09793499 0.09482101 0.09968493 0.1087936  0.11919346 0.08144101\n",
      "  0.10238282 0.09915162 0.10741609 0.08918046]\n",
      " [0.0979433  0.09481678 0.09967816 0.10878922 0.11921238 0.08144793\n",
      "  0.10238264 0.09913897 0.10740086 0.08918975]\n",
      " [0.09795458 0.09484729 0.09967028 0.10879755 0.11920749 0.08144384\n",
      "  0.10237062 0.09914789 0.10738725 0.08917321]\n",
      " [0.09794782 0.09484685 0.0996712  0.1087926  0.11920987 0.08143442\n",
      "  0.10238253 0.09915153 0.10739983 0.08916335]\n",
      " [0.09793394 0.09482722 0.09968908 0.10879682 0.11921322 0.08144037\n",
      "  0.10237958 0.09915176 0.10741282 0.08915519]\n",
      " [0.09795187 0.09482858 0.09969359 0.10879928 0.11921028 0.08142956\n",
      "  0.10239799 0.09914977 0.10737287 0.08916621]]\n",
      "20.0\n"
     ]
    }
   ],
   "source": [
    "# 3層目の活性化関数（ソフトマックス関数）\n",
    "sfmax = np.zeros([len(X),10])\n",
    "for i in range(20):\n",
    "    sfmax[i] = np.exp(z3[i])/np.sum(np.exp(z3[i]),axis=0)\n",
    "print('sfmax.shape:',sfmax.shape)\n",
    "print(sfmax)\n",
    "print(np.sum(sfmax))"
   ]
  },
  {
   "cell_type": "code",
   "execution_count": 21,
   "metadata": {},
   "outputs": [
    {
     "name": "stdout",
     "output_type": "stream",
     "text": [
      "softmax.shape: (10, 20)\n",
      "[[0.09795089 0.09487297 0.09965588 0.10880068 0.11919039 0.08144035\n",
      "  0.10236371 0.09914699 0.10740558 0.08917257]\n",
      " [0.09794176 0.09483495 0.09966483 0.10881375 0.11919573 0.08142957\n",
      "  0.10239387 0.09915926 0.10740272 0.08916356]\n",
      " [0.09794256 0.09485357 0.09967041 0.10879402 0.11921948 0.08142994\n",
      "  0.10235909 0.0991469  0.10740705 0.08917699]\n",
      " [0.09795054 0.09484578 0.09968707 0.10879651 0.11919353 0.08142528\n",
      "  0.1023828  0.09915804 0.10737639 0.08918406]\n",
      " [0.09795169 0.09482876 0.09969282 0.10879276 0.11922232 0.0814384\n",
      "  0.10240057 0.09915004 0.10736792 0.08915471]\n",
      " [0.09793473 0.09485585 0.09967449 0.10880023 0.11922009 0.08144109\n",
      "  0.10237792 0.0991097  0.10740499 0.08918092]\n",
      " [0.09793434 0.09484244 0.09967273 0.10880854 0.11919201 0.08142829\n",
      "  0.10238314 0.09915035 0.10741189 0.08917628]\n",
      " [0.0979272  0.09484868 0.09967049 0.10880326 0.11922028 0.08142484\n",
      "  0.10237516 0.09915015 0.10741727 0.08916267]\n",
      " [0.09794824 0.09483801 0.0996864  0.10879737 0.11919619 0.08145354\n",
      "  0.10238463 0.0991224  0.10739479 0.08917843]\n",
      " [0.09793418 0.09484954 0.09968386 0.10877802 0.11921208 0.08142332\n",
      "  0.1024016  0.09914249 0.10740738 0.08916753]\n",
      " [0.09793997 0.09484632 0.09969145 0.10880223 0.11920322 0.08142361\n",
      "  0.10237583 0.09914993 0.10738595 0.0891815 ]\n",
      " [0.09795502 0.09485221 0.09967742 0.10879817 0.11921075 0.08143063\n",
      "  0.10236027 0.09915235 0.10739325 0.08916994]\n",
      " [0.09794806 0.09487049 0.09966948 0.10879617 0.11920402 0.08142816\n",
      "  0.10237729 0.0991301  0.10741323 0.089163  ]\n",
      " [0.097929   0.09484105 0.09966649 0.10881595 0.11920734 0.08141604\n",
      "  0.10238635 0.09915042 0.10741754 0.08916982]\n",
      " [0.09793499 0.09482101 0.09968493 0.1087936  0.11919346 0.08144101\n",
      "  0.10238282 0.09915162 0.10741609 0.08918046]\n",
      " [0.0979433  0.09481678 0.09967816 0.10878922 0.11921238 0.08144793\n",
      "  0.10238264 0.09913897 0.10740086 0.08918975]\n",
      " [0.09795458 0.09484729 0.09967028 0.10879755 0.11920749 0.08144384\n",
      "  0.10237062 0.09914789 0.10738725 0.08917321]\n",
      " [0.09794782 0.09484685 0.0996712  0.1087926  0.11920987 0.08143442\n",
      "  0.10238253 0.09915153 0.10739983 0.08916335]\n",
      " [0.09793394 0.09482722 0.09968908 0.10879682 0.11921322 0.08144037\n",
      "  0.10237958 0.09915176 0.10741282 0.08915519]\n",
      " [0.09795187 0.09482858 0.09969359 0.10879928 0.11921028 0.08142956\n",
      "  0.10239799 0.09914977 0.10737287 0.08916621]]\n",
      "20.0\n"
     ]
    }
   ],
   "source": [
    "# for文無しで計算\n",
    "softmax = np.exp(z3).T/np.sum(np.exp(z3),axis=1)\n",
    "print('softmax.shape:',softmax.shape)\n",
    "print(softmax.T)\n",
    "print(np.sum(softmax))"
   ]
  },
  {
   "cell_type": "code",
   "execution_count": 22,
   "metadata": {},
   "outputs": [
    {
     "data": {
      "text/plain": [
       "array([[ 0.02811709,  0.15540831, -0.01362032, ...,  0.073571  ,\n",
       "         0.19368076, -0.12519775],\n",
       "       [ 0.14070175,  0.10636239,  0.01204061, ..., -0.03420304,\n",
       "        -0.1241962 , -0.01917451],\n",
       "       [-0.06197079,  0.09969223, -0.08095662, ..., -0.05591058,\n",
       "         0.10471956, -0.08777428],\n",
       "       ...,\n",
       "       [ 0.02183048,  0.1212111 ,  0.22288349, ..., -0.00772407,\n",
       "        -0.00262103, -0.0692455 ],\n",
       "       [ 0.08137348,  0.24803461, -0.03173297, ...,  0.0462977 ,\n",
       "        -0.03828005,  0.10325138],\n",
       "       [-0.02257848, -0.10363093,  0.16428054, ..., -0.01402016,\n",
       "        -0.04442621, -0.08520833]])"
      ]
     },
     "execution_count": 22,
     "metadata": {},
     "output_type": "execute_result"
    }
   ],
   "source": [
    "# ハイパラボリックタンジェント\n",
    "np.tanh(z1)"
   ]
  },
  {
   "cell_type": "code",
   "execution_count": 23,
   "metadata": {},
   "outputs": [
    {
     "data": {
      "text/plain": [
       "array([[ 0.02811709,  0.15540831, -0.01362032, ...,  0.073571  ,\n",
       "         0.19368076, -0.12519775],\n",
       "       [ 0.14070175,  0.10636239,  0.01204061, ..., -0.03420304,\n",
       "        -0.1241962 , -0.01917451],\n",
       "       [-0.06197079,  0.09969223, -0.08095662, ..., -0.05591058,\n",
       "         0.10471956, -0.08777428],\n",
       "       ...,\n",
       "       [ 0.02183048,  0.1212111 ,  0.22288349, ..., -0.00772407,\n",
       "        -0.00262103, -0.0692455 ],\n",
       "       [ 0.08137348,  0.24803461, -0.03173297, ...,  0.0462977 ,\n",
       "        -0.03828005,  0.10325138],\n",
       "       [-0.02257848, -0.10363093,  0.16428054, ..., -0.01402016,\n",
       "        -0.04442621, -0.08520833]])"
      ]
     },
     "execution_count": 23,
     "metadata": {},
     "output_type": "execute_result"
    }
   ],
   "source": [
    "# ハイパラボリックタンジェント（検証）\n",
    "(np.exp(z1)-np.exp(-z1))/(np.exp(z1)+np.exp(-z1))"
   ]
  },
  {
   "cell_type": "markdown",
   "metadata": {},
   "source": [
    "### 【問題3】交差エントロピー誤差の実装\n",
    "目的関数（損失関数）を作成します。  \n",
    "多クラス分類の目的関数である交差エントロピー誤差Lは次の数式です。"
   ]
  },
  {
   "cell_type": "code",
   "execution_count": 24,
   "metadata": {},
   "outputs": [
    {
     "name": "stdout",
     "output_type": "stream",
     "text": [
      "shape:\n",
      " (20, 10)\n",
      "[[0.         0.         0.         0.         0.         0.\n",
      "  0.         0.         0.11155716 0.        ]\n",
      " [0.         0.         0.         0.         0.10634942 0.\n",
      "  0.         0.         0.         0.        ]\n",
      " [0.         0.         0.         0.11091494 0.         0.\n",
      "  0.         0.         0.         0.        ]\n",
      " [0.         0.         0.         0.         0.         0.\n",
      "  0.         0.         0.11157075 0.        ]\n",
      " [0.11616405 0.         0.         0.         0.         0.\n",
      "  0.         0.         0.         0.        ]\n",
      " [0.         0.         0.11529227 0.         0.         0.\n",
      "  0.         0.         0.         0.        ]\n",
      " [0.         0.         0.         0.         0.         0.\n",
      "  0.         0.         0.         0.12085701]\n",
      " [0.         0.         0.         0.         0.         0.\n",
      "  0.         0.         0.11155171 0.        ]\n",
      " [0.         0.         0.         0.         0.         0.\n",
      "  0.         0.         0.11156218 0.        ]\n",
      " [0.         0.         0.11528758 0.         0.         0.\n",
      "  0.         0.         0.         0.        ]\n",
      " [0.         0.         0.11528377 0.         0.         0.\n",
      "  0.         0.         0.         0.        ]\n",
      " [0.         0.         0.         0.         0.         0.12540019\n",
      "  0.         0.         0.         0.        ]\n",
      " [0.         0.         0.         0.         0.         0.\n",
      "  0.11395452 0.         0.         0.        ]\n",
      " [0.         0.         0.         0.         0.         0.\n",
      "  0.         0.         0.11155159 0.        ]\n",
      " [0.         0.         0.         0.         0.         0.\n",
      "  0.         0.         0.         0.12085466]\n",
      " [0.         0.         0.         0.         0.         0.\n",
      "  0.         0.         0.         0.12084946]\n",
      " [0.         0.         0.         0.         0.         0.12539208\n",
      "  0.         0.         0.         0.        ]\n",
      " [0.11616602 0.         0.         0.         0.         0.\n",
      "  0.         0.         0.         0.        ]\n",
      " [0.         0.         0.         0.         0.         0.\n",
      "  0.1139534  0.         0.         0.        ]\n",
      " [0.11616395 0.         0.         0.         0.         0.\n",
      "  0.         0.         0.         0.        ]]\n"
     ]
    }
   ],
   "source": [
    "y = y_train_one_hot[0:20]\n",
    "loss = -y*np.log(sfmax)/len(y)\n",
    "print('shape:\\n',loss.shape)\n",
    "print(loss)"
   ]
  },
  {
   "cell_type": "markdown",
   "metadata": {},
   "source": [
    "### 【問題4】バックプロパゲーションの実装\n",
    "三層のニューラルネットワークのバックプロパゲーションを作成してください。  \n",
    "確率的勾配降下法を行う部分です。"
   ]
  },
  {
   "cell_type": "code",
   "execution_count": 80,
   "metadata": {},
   "outputs": [],
   "source": [
    "# 3層目\n",
    "delta_a3 = sfmax-y\n",
    "delta_b3 = np.sum(delta_a3,axis=0)\n",
    "delta_W3 = np.dot(z2.T,delta_a3)\n",
    "delta_z2 = np.dot(delta_a3,W3.T)"
   ]
  },
  {
   "cell_type": "code",
   "execution_count": 83,
   "metadata": {},
   "outputs": [
    {
     "name": "stdout",
     "output_type": "stream",
     "text": [
      "(20, 10)\n",
      "(10,)\n",
      "(200, 10)\n",
      "(20, 200)\n"
     ]
    }
   ],
   "source": [
    "print(delta_a3.shape)\n",
    "print(delta_b3.shape)\n",
    "print(delta_W3.shape)\n",
    "print(delta_z2.shape)"
   ]
  },
  {
   "cell_type": "code",
   "execution_count": 84,
   "metadata": {},
   "outputs": [],
   "source": [
    "# 2層目\n",
    "delta_a2 = delta_z2*(1-np.tanh(z2)**2)\n",
    "delta_b2 = np.sum(delta_a2,axis=0)\n",
    "delta_W2 = np.dot(z1.T,delta_a2)\n",
    "delta_z1 = np.dot(delta_a2,W2.T)"
   ]
  },
  {
   "cell_type": "code",
   "execution_count": 85,
   "metadata": {},
   "outputs": [
    {
     "name": "stdout",
     "output_type": "stream",
     "text": [
      "(20, 200)\n",
      "(200,)\n",
      "(400, 200)\n",
      "(20, 400)\n"
     ]
    }
   ],
   "source": [
    "print(delta_a2.shape)\n",
    "print(delta_b2.shape)\n",
    "print(delta_W2.shape)\n",
    "print(delta_z1.shape)"
   ]
  },
  {
   "cell_type": "code",
   "execution_count": 86,
   "metadata": {},
   "outputs": [],
   "source": [
    "# 1層目\n",
    "delta_a1 = delta_z1*(1-np.tanh(z1)**2)\n",
    "delta_b1 = np.sum(delta_a1,axis=0)\n",
    "delta_W1 = np.dot(X.T,delta_a1)"
   ]
  },
  {
   "cell_type": "code",
   "execution_count": 87,
   "metadata": {},
   "outputs": [
    {
     "name": "stdout",
     "output_type": "stream",
     "text": [
      "(20, 400)\n",
      "(400,)\n",
      "(784, 400)\n"
     ]
    }
   ],
   "source": [
    "print(delta_a1.shape)\n",
    "print(delta_b1.shape)\n",
    "print(delta_W1.shape)"
   ]
  },
  {
   "cell_type": "markdown",
   "metadata": {},
   "source": [
    "### 【問題5】推定\n",
    "推定を行うメソッドを作成してください。\n",
    "フォワードプロパゲーションによって出力された10個の確率の中で、最も高いものはどれかを判定します。"
   ]
  },
  {
   "cell_type": "code",
   "execution_count": 89,
   "metadata": {
    "scrolled": false
   },
   "outputs": [
    {
     "name": "stdout",
     "output_type": "stream",
     "text": [
      "epoch:  0 loss:   0.824 acc:0.755\n",
      "epoch:  1 loss:   0.195 acc:0.887\n",
      "epoch:  2 loss:   0.167 acc:0.903\n",
      "epoch:  3 loss:   0.152 acc:0.912\n",
      "epoch:  4 loss:   0.138 acc:0.918\n",
      "epoch:  5 loss:   0.126 acc:0.925\n",
      "epoch:  6 loss:   0.116 acc:0.930\n",
      "epoch:  7 loss:   0.113 acc:0.932\n",
      "epoch:  8 loss:   0.105 acc:0.936\n",
      "epoch:  9 loss:   0.097 acc:0.941\n",
      "epoch: 10 loss:   0.096 acc:0.941\n",
      "epoch: 11 loss:   0.091 acc:0.944\n",
      "epoch: 12 loss:   0.086 acc:0.947\n",
      "epoch: 13 loss:   0.081 acc:0.948\n",
      "epoch: 14 loss:   0.079 acc:0.951\n",
      "epoch: 15 loss:   0.075 acc:0.953\n",
      "epoch: 16 loss:   0.069 acc:0.957\n",
      "epoch: 17 loss:   0.068 acc:0.957\n",
      "epoch: 18 loss:   0.064 acc:0.960\n",
      "epoch: 19 loss:   0.063 acc:0.959\n",
      "epoch: 20 loss:   0.060 acc:0.961\n",
      "epoch: 21 loss:   0.059 acc:0.963\n",
      "epoch: 22 loss:   0.055 acc:0.964\n",
      "epoch: 23 loss:   0.058 acc:0.963\n",
      "epoch: 24 loss:   0.051 acc:0.966\n",
      "epoch: 25 loss:   0.051 acc:0.967\n",
      "epoch: 26 loss:   0.050 acc:0.967\n",
      "epoch: 27 loss:   0.050 acc:0.968\n",
      "epoch: 28 loss:   0.047 acc:0.970\n",
      "epoch: 29 loss:   0.041 acc:0.972\n"
     ]
    }
   ],
   "source": [
    "clf = ScratchSimpleNeuralNetrowkClassifier(n_epoch=30, n_features=784,\n",
    "                                           n_nodes1=400, n_nodes2=200, n_output=10,\n",
    "                                           sigma=0.01, n_batch=100,\n",
    "                                           activate_function_key='tanh',\n",
    "                                           lr = 0.01, verbose = True)\n",
    "\n",
    "clf.fit(X_train,y_train_one_hot,X_val,y_val_one_hot)\n",
    "y_pred = clf.predict(X_val)"
   ]
  },
  {
   "cell_type": "code",
   "execution_count": 90,
   "metadata": {
    "scrolled": false
   },
   "outputs": [
    {
     "name": "stdout",
     "output_type": "stream",
     "text": [
      "[2 2 3 ... 6 2 4]\n"
     ]
    }
   ],
   "source": [
    "print(y_pred)"
   ]
  },
  {
   "cell_type": "markdown",
   "metadata": {},
   "source": [
    "### 【問題6】学習と推定\n",
    "MNISTのデータを学習・推定し、Accuracyを計算してください。"
   ]
  },
  {
   "cell_type": "code",
   "execution_count": 91,
   "metadata": {},
   "outputs": [
    {
     "name": "stdout",
     "output_type": "stream",
     "text": [
      "accuracy:0.936\n"
     ]
    }
   ],
   "source": [
    "accuracy = accuracy_score(y_val, y_pred)\n",
    "#precision = precision_score(y_val, y_pred)\n",
    "#recall = recall_score(y_val, y_pred)\n",
    "#f1 = f1_score(y_val, y_pred)\n",
    "\n",
    "print('accuracy:{:.3f}'.format(accuracy))\n",
    "#print('precision',precision)\n",
    "#print('recall',recall)\n",
    "#print('f1',f1)"
   ]
  },
  {
   "cell_type": "markdown",
   "metadata": {},
   "source": [
    "### 【問題7】学習曲線のプロット\n",
    "学習曲線をプロットしてください。\n",
    "\n",
    "ニューラルネットワークは過学習が発生しやすいため、学習曲線の確認が重要です。訓練データと検証データに対するエポックごとの損失（交差エントロピー誤差）を記録できるようにする必要があります。"
   ]
  },
  {
   "cell_type": "code",
   "execution_count": 92,
   "metadata": {
    "scrolled": false
   },
   "outputs": [
    {
     "data": {
      "image/png": "[encoded data removed]",
      "text/plain": [
       "<Figure size 864x576 with 1 Axes>"
      ]
     },
     "metadata": {
      "needs_background": "light"
     },
     "output_type": "display_data"
    }
   ],
   "source": [
    "# epochごとの損失関数の可視化\n",
    "fig = plt.subplots(figsize=(12,8))\n",
    "plt.rcParams[\"font.size\"] = 20\n",
    "\n",
    "plt.plot(clf.log_loss,'rs--')\n",
    "plt.plot(clf.log_loss_val,'bo--');"
   ]
  },
  {
   "cell_type": "code",
   "execution_count": 93,
   "metadata": {},
   "outputs": [
    {
     "data": {
      "image/png": "[encoded data removed]",
      "text/plain": [
       "<Figure size 864x576 with 1 Axes>"
      ]
     },
     "metadata": {
      "needs_background": "light"
     },
     "output_type": "display_data"
    }
   ],
   "source": [
    "# epochごとの正解率の可視化\n",
    "fig = plt.subplots(figsize=(12,8))\n",
    "plt.rcParams[\"font.size\"] = 20\n",
    "\n",
    "plt.plot(clf.log_acc,'rs--')\n",
    "plt.plot(clf.log_acc_val,'bo--');"
   ]
  },
  {
   "cell_type": "markdown",
   "metadata": {},
   "source": [
    "### 【問題8】（アドバンス課題）誤分類の確認\n",
    "誤分類した画像はどのようなものだったかを確認してください。  \n",
    "推定値を用意し、以下のコードを実行してください。"
   ]
  },
  {
   "cell_type": "code",
   "execution_count": 94,
   "metadata": {},
   "outputs": [
    {
     "name": "stdout",
     "output_type": "stream",
     "text": [
      "推定結果/正解\n"
     ]
    },
    {
     "data": {
      "image/png": "[encoded data removed]",
      "text/plain": [
       "<Figure size 432x432 with 5 Axes>"
      ]
     },
     "metadata": {},
     "output_type": "display_data"
    }
   ],
   "source": [
    "\"\"\"\n",
    "語分類結果を並べて表示する。画像の上の表示は「推定結果/正解」である。\n",
    "\n",
    "Parameters:\n",
    "----------\n",
    "y_pred : 推定値のndarray (n_samples,)\n",
    "y_val : 検証データの正解ラベル(n_samples,)\n",
    "X_val : 検証データの特徴量（n_samples, n_features)\n",
    "\"\"\"\n",
    "import numpy as np\n",
    "import matplotlib.pyplot as plt\n",
    "\n",
    "num = 5 # いくつ表示するか\n",
    "print('推定結果/正解')\n",
    "\n",
    "true_false = y_pred==y_val\n",
    "false_list = np.where(true_false==False)[0].astype(np.int)\n",
    "if false_list.shape[0] < num:\n",
    "    num = false_list.shape[0]\n",
    "fig = plt.figure(figsize=(6, 6))\n",
    "fig.subplots_adjust(left=0, right=0.8,  bottom=0, top=0.8, hspace=1, wspace=0.5)\n",
    "for i in range(num):\n",
    "    ax = fig.add_subplot(6, 6, i + 1, xticks=[], yticks=[])\n",
    "    ax.set_title(\"{} / {}\".format(y_pred[false_list[i]],y_val[false_list[i]]))\n",
    "    ax.imshow(X_val.reshape(-1,28,28)[false_list[i]], cmap='gray')"
   ]
  }
 ],
 "metadata": {
  "kernelspec": {
   "display_name": "Python 3",
   "language": "python",
   "name": "python3"
  },
  "language_info": {
   "codemirror_mode": {
    "name": "ipython",
    "version": 3
   },
   "file_extension": ".py",
   "mimetype": "text/x-python",
   "name": "python",
   "nbconvert_exporter": "python",
   "pygments_lexer": "ipython3",
   "version": "3.8.2"
  },
  "toc": {
   "base_numbering": 1,
   "nav_menu": {},
   "number_sections": true,
   "sideBar": true,
   "skip_h1_title": true,
   "title_cell": "目次",
   "title_sidebar": "Contents",
   "toc_cell": true,
   "toc_position": {
    "height": "calc(100% - 180px)",
    "left": "10px",
    "top": "150px",
    "width": "427.59375px"
   },
   "toc_section_display": true,
   "toc_window_display": true
  }
 },
 "nbformat": 4,
 "nbformat_minor": 4
}
